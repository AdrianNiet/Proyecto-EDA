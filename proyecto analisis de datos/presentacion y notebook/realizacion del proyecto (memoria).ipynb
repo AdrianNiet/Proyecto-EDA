{
 "cells": [
  {
   "cell_type": "code",
   "execution_count": 69,
   "metadata": {},
   "outputs": [],
   "source": [
    "\"\"\"\n",
    "En este jupyter notebook dejate las databases que voy a usar en mi presentacion (hare capturas) y mas o menos el orden que he seguido para la realizacion del EDA.\n",
    "La primera dificultad ha sido encontrar la informacion relacionada, encontrar las bases de datos de las ventas me llevo alguna que otra busqueda en Kaggle hasta que la encontre.\n",
    "Como es hasta 2016, me sirve perfecto para ver las ventas ANTES del lanzamiento de Monster Hunter World.\n",
    "Tambien esta la saga souls, por lo que me sirve como aprox para lo que ha sido el lanzamiento de Elden Ring.\n",
    "\n",
    "La parte dificil ha sido encontrar los datos, Kaggle me dio un .csv con las ventas de muchos juegos hasta 2016 que me vino bien para obtener los anteriores Monster Hunter y Dark Souls.\n",
    "Otra parte de los datos, los he podido sacar de la pagina STEAMDB, ya que, los ark salio dia 1 en steam.\n",
    "Los jugadores actuales y a lo largo de su salida, tambien vienen de STEAMDB, utilize selenium para sacar algunos datos, mas que nada, demostrar que podria hacerlo.\n",
    "\n",
    "Nota: Todos los DF limpiados y filtrados estan en \"proyecto analisis de datos\\Datos procesados\"\n",
    "\"\"\";"
   ]
  },
  {
   "cell_type": "code",
   "execution_count": 70,
   "metadata": {},
   "outputs": [],
   "source": [
    "#Primero hablaremos sobre monster Hunter, para ello, vamos a importar las bases de datos filtradas.\n",
    "#las originales y el proceso de limpieza y filtrado estan en \"proyecto analisis de datos\\codigo\\base de datos/datos juegos Monster Hunter\""
   ]
  },
  {
   "cell_type": "code",
   "execution_count": 71,
   "metadata": {},
   "outputs": [
    {
     "data": {
      "text/html": [
       "        <script type=\"text/javascript\">\n",
       "        window.PlotlyConfig = {MathJaxConfig: 'local'};\n",
       "        if (window.MathJax && window.MathJax.Hub && window.MathJax.Hub.Config) {window.MathJax.Hub.Config({SVG: {font: \"STIX-Web\"}});}\n",
       "        if (typeof require !== 'undefined') {\n",
       "        require.undef(\"plotly\");\n",
       "        requirejs.config({\n",
       "            paths: {\n",
       "                'plotly': ['https://cdn.plot.ly/plotly-2.26.0.min']\n",
       "            }\n",
       "        });\n",
       "        require(['plotly'], function(Plotly) {\n",
       "            window._Plotly = Plotly;\n",
       "        });\n",
       "        }\n",
       "        </script>\n",
       "        "
      ]
     },
     "metadata": {},
     "output_type": "display_data"
    }
   ],
   "source": [
    "#usaremos estas dos librerias\n",
    "import numpy as np\n",
    "import pandas as pd\n",
    "import matplotlib.pyplot as plt\n",
    "import seaborn as sns\n",
    "from plotly.offline import init_notebook_mode, iplot, plot\n",
    "init_notebook_mode(connected=True)\n",
    "import plotly.graph_objs as go\n",
    "from wordcloud import WordCloud\n",
    "import os\n",
    "import warnings\n",
    "warnings.filterwarnings(\"ignore\")"
   ]
  },
  {
   "cell_type": "code",
   "execution_count": 72,
   "metadata": {},
   "outputs": [],
   "source": [
    "#importamos\n",
    "MH_df = pd.read_csv(\"../Datos procesados/Ventas Monster Hunter todas plataformas.csv\")\n",
    "MH3DS_df = pd.read_csv(\"../Datos procesados/Ventas Monster 3DS.csv\")\n",
    "MHX360_df = pd.read_csv(\"../Datos procesados/Ventas Monster X360.csv\")\n",
    "MHPSP_df = pd.read_csv(\"../Datos procesados/Ventas Monster PSP.csv\")\n",
    "MHPS2_df = pd.read_csv(\"../Datos procesados/Ventas Monster PS2.csv\")\n",
    "MHWii_df = pd.read_csv(\"../Datos procesados/Ventas Monster Wii.csv\")\n",
    "MHPS3_df = pd.read_csv(\"../Datos procesados/Ventas Monster PS3.csv\")\n",
    "MHWiiU_df = pd.read_csv(\"../Datos procesados/Ventas Monster WiiU.csv\")\n",
    "ventas_globales = pd.read_csv(\"../Datos procesados/Ventas globales por plataforma Monster Hunter.csv\")"
   ]
  },
  {
   "cell_type": "code",
   "execution_count": 73,
   "metadata": {},
   "outputs": [
    {
     "data": {
      "text/html": [
       "<div>\n",
       "<style scoped>\n",
       "    .dataframe tbody tr th:only-of-type {\n",
       "        vertical-align: middle;\n",
       "    }\n",
       "\n",
       "    .dataframe tbody tr th {\n",
       "        vertical-align: top;\n",
       "    }\n",
       "\n",
       "    .dataframe thead th {\n",
       "        text-align: right;\n",
       "    }\n",
       "</style>\n",
       "<table border=\"1\" class=\"dataframe\">\n",
       "  <thead>\n",
       "    <tr style=\"text-align: right;\">\n",
       "      <th></th>\n",
       "      <th>Plataforma</th>\n",
       "      <th>Ventas_Globales</th>\n",
       "    </tr>\n",
       "  </thead>\n",
       "  <tbody>\n",
       "    <tr>\n",
       "      <th>0</th>\n",
       "      <td>3DS</td>\n",
       "      <td>13.72</td>\n",
       "    </tr>\n",
       "    <tr>\n",
       "      <th>1</th>\n",
       "      <td>X360</td>\n",
       "      <td>0.26</td>\n",
       "    </tr>\n",
       "    <tr>\n",
       "      <th>2</th>\n",
       "      <td>PSP</td>\n",
       "      <td>14.26</td>\n",
       "    </tr>\n",
       "    <tr>\n",
       "      <th>3</th>\n",
       "      <td>PS2</td>\n",
       "      <td>1.36</td>\n",
       "    </tr>\n",
       "    <tr>\n",
       "      <th>4</th>\n",
       "      <td>Wii</td>\n",
       "      <td>2.47</td>\n",
       "    </tr>\n",
       "    <tr>\n",
       "      <th>5</th>\n",
       "      <td>PS3</td>\n",
       "      <td>0.55</td>\n",
       "    </tr>\n",
       "    <tr>\n",
       "      <th>6</th>\n",
       "      <td>WiiU</td>\n",
       "      <td>0.69</td>\n",
       "    </tr>\n",
       "  </tbody>\n",
       "</table>\n",
       "</div>"
      ],
      "text/plain": [
       "  Plataforma  Ventas_Globales\n",
       "0        3DS            13.72\n",
       "1       X360             0.26\n",
       "2        PSP            14.26\n",
       "3        PS2             1.36\n",
       "4        Wii             2.47\n",
       "5        PS3             0.55\n",
       "6       WiiU             0.69"
      ]
     },
     "execution_count": 73,
     "metadata": {},
     "output_type": "execute_result"
    }
   ],
   "source": [
    "#Coloco el sum de cada una, lo guardamos en un diccionario por comodidad.\n",
    "#Este proceso esta en el notebook correspondiente.\n",
    "\n",
    "lista_ventas = {}\n",
    "lista_ventas[\"3DS\"] = MH3DS_df[\"Global_Sales\"].sum()\n",
    "lista_ventas[\"X360\"] = MHX360_df[\"Global_Sales\"].sum()\n",
    "lista_ventas[\"PSP\"] = round(MHPSP_df[\"Global_Sales\"].sum(),2)\n",
    "lista_ventas[\"PS2\"] = round(MHPS2_df[\"Global_Sales\"].sum(),2)\n",
    "lista_ventas[\"Wii\"] = MHWii_df[\"Global_Sales\"].sum()\n",
    "lista_ventas[\"PS3\"] = MHPS3_df[\"Global_Sales\"].sum()\n",
    "lista_ventas[\"WiiU\"] = MHWiiU_df[\"Global_Sales\"].sum()\n",
    "lista_ventas\n",
    "\n",
    "#Lo paso a un dataframe para \n",
    "ventas_globales = pd.DataFrame(lista_ventas.items(),columns=[\"Plataforma\",\"Ventas_Globales\"])\n",
    "ventas_globales"
   ]
  },
  {
   "cell_type": "code",
   "execution_count": 74,
   "metadata": {},
   "outputs": [],
   "source": [
    "\"\"\"Comentada, usaremos la que he visto en clase con plotly\n",
    "\n",
    "usamos en este caso PLT para mostrar los datos en un grafico de barras.\n",
    "fig, ax = plt.subplots()\n",
    "\n",
    "plt.rcParams[\"figure.figsize\"] = (10, 4)\n",
    "\n",
    "ventas = lista_ventas.values()\n",
    "plataformas = lista_ventas.keys()\n",
    "bar_labels = ['3DS', 'X360', 'PSP', 'PS2', \"Wii\",\"PS3\",\"WiiU\"]\n",
    "bar_colors = ['tab:red', 'tab:blue', 'tab:green', 'tab:orange','tab:purple','tab:cyan','tab:brown']\n",
    "\n",
    "\n",
    "ax.bar(plataformas, ventas, label=bar_labels, color=bar_colors,zorder=2,edgecolor=None)\n",
    "\n",
    "ax.set_ylabel('Ventas Globales')\n",
    "ax.set_xlabel(\"Plataforma\")\n",
    "ax.set_title('Ventas por consola (Millones)')\n",
    "ax.grid(zorder=3)\n",
    "\n",
    "plt.show()\"\"\";"
   ]
  },
  {
   "cell_type": "code",
   "execution_count": 75,
   "metadata": {},
   "outputs": [
    {
     "data": {
      "application/vnd.plotly.v1+json": {
       "config": {
        "linkText": "Export to plot.ly",
        "plotlyServerURL": "https://plot.ly",
        "showLink": false
       },
       "data": [
        {
         "marker": {
          "color": [
           "crimson",
           "blue",
           "green",
           "orange",
           "purple",
           "cyan",
           "brown"
          ]
         },
         "name": "Ventas por consola (Millones)",
         "type": "bar",
         "x": [
          "3DS",
          "X360",
          "PSP",
          "PS2",
          "Wii",
          "PS3",
          "WiiU"
         ],
         "y": [
          13.72,
          0.26,
          14.26,
          1.36,
          2.47,
          0.55,
          0.69
         ]
        }
       ],
       "layout": {
        "barmode": "group",
        "template": {
         "data": {
          "bar": [
           {
            "error_x": {
             "color": "#2a3f5f"
            },
            "error_y": {
             "color": "#2a3f5f"
            },
            "marker": {
             "line": {
              "color": "#E5ECF6",
              "width": 0.5
             },
             "pattern": {
              "fillmode": "overlay",
              "size": 10,
              "solidity": 0.2
             }
            },
            "type": "bar"
           }
          ],
          "barpolar": [
           {
            "marker": {
             "line": {
              "color": "#E5ECF6",
              "width": 0.5
             },
             "pattern": {
              "fillmode": "overlay",
              "size": 10,
              "solidity": 0.2
             }
            },
            "type": "barpolar"
           }
          ],
          "carpet": [
           {
            "aaxis": {
             "endlinecolor": "#2a3f5f",
             "gridcolor": "white",
             "linecolor": "white",
             "minorgridcolor": "white",
             "startlinecolor": "#2a3f5f"
            },
            "baxis": {
             "endlinecolor": "#2a3f5f",
             "gridcolor": "white",
             "linecolor": "white",
             "minorgridcolor": "white",
             "startlinecolor": "#2a3f5f"
            },
            "type": "carpet"
           }
          ],
          "choropleth": [
           {
            "colorbar": {
             "outlinewidth": 0,
             "ticks": ""
            },
            "type": "choropleth"
           }
          ],
          "contour": [
           {
            "colorbar": {
             "outlinewidth": 0,
             "ticks": ""
            },
            "colorscale": [
             [
              0,
              "#0d0887"
             ],
             [
              0.1111111111111111,
              "#46039f"
             ],
             [
              0.2222222222222222,
              "#7201a8"
             ],
             [
              0.3333333333333333,
              "#9c179e"
             ],
             [
              0.4444444444444444,
              "#bd3786"
             ],
             [
              0.5555555555555556,
              "#d8576b"
             ],
             [
              0.6666666666666666,
              "#ed7953"
             ],
             [
              0.7777777777777778,
              "#fb9f3a"
             ],
             [
              0.8888888888888888,
              "#fdca26"
             ],
             [
              1,
              "#f0f921"
             ]
            ],
            "type": "contour"
           }
          ],
          "contourcarpet": [
           {
            "colorbar": {
             "outlinewidth": 0,
             "ticks": ""
            },
            "type": "contourcarpet"
           }
          ],
          "heatmap": [
           {
            "colorbar": {
             "outlinewidth": 0,
             "ticks": ""
            },
            "colorscale": [
             [
              0,
              "#0d0887"
             ],
             [
              0.1111111111111111,
              "#46039f"
             ],
             [
              0.2222222222222222,
              "#7201a8"
             ],
             [
              0.3333333333333333,
              "#9c179e"
             ],
             [
              0.4444444444444444,
              "#bd3786"
             ],
             [
              0.5555555555555556,
              "#d8576b"
             ],
             [
              0.6666666666666666,
              "#ed7953"
             ],
             [
              0.7777777777777778,
              "#fb9f3a"
             ],
             [
              0.8888888888888888,
              "#fdca26"
             ],
             [
              1,
              "#f0f921"
             ]
            ],
            "type": "heatmap"
           }
          ],
          "heatmapgl": [
           {
            "colorbar": {
             "outlinewidth": 0,
             "ticks": ""
            },
            "colorscale": [
             [
              0,
              "#0d0887"
             ],
             [
              0.1111111111111111,
              "#46039f"
             ],
             [
              0.2222222222222222,
              "#7201a8"
             ],
             [
              0.3333333333333333,
              "#9c179e"
             ],
             [
              0.4444444444444444,
              "#bd3786"
             ],
             [
              0.5555555555555556,
              "#d8576b"
             ],
             [
              0.6666666666666666,
              "#ed7953"
             ],
             [
              0.7777777777777778,
              "#fb9f3a"
             ],
             [
              0.8888888888888888,
              "#fdca26"
             ],
             [
              1,
              "#f0f921"
             ]
            ],
            "type": "heatmapgl"
           }
          ],
          "histogram": [
           {
            "marker": {
             "pattern": {
              "fillmode": "overlay",
              "size": 10,
              "solidity": 0.2
             }
            },
            "type": "histogram"
           }
          ],
          "histogram2d": [
           {
            "colorbar": {
             "outlinewidth": 0,
             "ticks": ""
            },
            "colorscale": [
             [
              0,
              "#0d0887"
             ],
             [
              0.1111111111111111,
              "#46039f"
             ],
             [
              0.2222222222222222,
              "#7201a8"
             ],
             [
              0.3333333333333333,
              "#9c179e"
             ],
             [
              0.4444444444444444,
              "#bd3786"
             ],
             [
              0.5555555555555556,
              "#d8576b"
             ],
             [
              0.6666666666666666,
              "#ed7953"
             ],
             [
              0.7777777777777778,
              "#fb9f3a"
             ],
             [
              0.8888888888888888,
              "#fdca26"
             ],
             [
              1,
              "#f0f921"
             ]
            ],
            "type": "histogram2d"
           }
          ],
          "histogram2dcontour": [
           {
            "colorbar": {
             "outlinewidth": 0,
             "ticks": ""
            },
            "colorscale": [
             [
              0,
              "#0d0887"
             ],
             [
              0.1111111111111111,
              "#46039f"
             ],
             [
              0.2222222222222222,
              "#7201a8"
             ],
             [
              0.3333333333333333,
              "#9c179e"
             ],
             [
              0.4444444444444444,
              "#bd3786"
             ],
             [
              0.5555555555555556,
              "#d8576b"
             ],
             [
              0.6666666666666666,
              "#ed7953"
             ],
             [
              0.7777777777777778,
              "#fb9f3a"
             ],
             [
              0.8888888888888888,
              "#fdca26"
             ],
             [
              1,
              "#f0f921"
             ]
            ],
            "type": "histogram2dcontour"
           }
          ],
          "mesh3d": [
           {
            "colorbar": {
             "outlinewidth": 0,
             "ticks": ""
            },
            "type": "mesh3d"
           }
          ],
          "parcoords": [
           {
            "line": {
             "colorbar": {
              "outlinewidth": 0,
              "ticks": ""
             }
            },
            "type": "parcoords"
           }
          ],
          "pie": [
           {
            "automargin": true,
            "type": "pie"
           }
          ],
          "scatter": [
           {
            "fillpattern": {
             "fillmode": "overlay",
             "size": 10,
             "solidity": 0.2
            },
            "type": "scatter"
           }
          ],
          "scatter3d": [
           {
            "line": {
             "colorbar": {
              "outlinewidth": 0,
              "ticks": ""
             }
            },
            "marker": {
             "colorbar": {
              "outlinewidth": 0,
              "ticks": ""
             }
            },
            "type": "scatter3d"
           }
          ],
          "scattercarpet": [
           {
            "marker": {
             "colorbar": {
              "outlinewidth": 0,
              "ticks": ""
             }
            },
            "type": "scattercarpet"
           }
          ],
          "scattergeo": [
           {
            "marker": {
             "colorbar": {
              "outlinewidth": 0,
              "ticks": ""
             }
            },
            "type": "scattergeo"
           }
          ],
          "scattergl": [
           {
            "marker": {
             "colorbar": {
              "outlinewidth": 0,
              "ticks": ""
             }
            },
            "type": "scattergl"
           }
          ],
          "scattermapbox": [
           {
            "marker": {
             "colorbar": {
              "outlinewidth": 0,
              "ticks": ""
             }
            },
            "type": "scattermapbox"
           }
          ],
          "scatterpolar": [
           {
            "marker": {
             "colorbar": {
              "outlinewidth": 0,
              "ticks": ""
             }
            },
            "type": "scatterpolar"
           }
          ],
          "scatterpolargl": [
           {
            "marker": {
             "colorbar": {
              "outlinewidth": 0,
              "ticks": ""
             }
            },
            "type": "scatterpolargl"
           }
          ],
          "scatterternary": [
           {
            "marker": {
             "colorbar": {
              "outlinewidth": 0,
              "ticks": ""
             }
            },
            "type": "scatterternary"
           }
          ],
          "surface": [
           {
            "colorbar": {
             "outlinewidth": 0,
             "ticks": ""
            },
            "colorscale": [
             [
              0,
              "#0d0887"
             ],
             [
              0.1111111111111111,
              "#46039f"
             ],
             [
              0.2222222222222222,
              "#7201a8"
             ],
             [
              0.3333333333333333,
              "#9c179e"
             ],
             [
              0.4444444444444444,
              "#bd3786"
             ],
             [
              0.5555555555555556,
              "#d8576b"
             ],
             [
              0.6666666666666666,
              "#ed7953"
             ],
             [
              0.7777777777777778,
              "#fb9f3a"
             ],
             [
              0.8888888888888888,
              "#fdca26"
             ],
             [
              1,
              "#f0f921"
             ]
            ],
            "type": "surface"
           }
          ],
          "table": [
           {
            "cells": {
             "fill": {
              "color": "#EBF0F8"
             },
             "line": {
              "color": "white"
             }
            },
            "header": {
             "fill": {
              "color": "#C8D4E3"
             },
             "line": {
              "color": "white"
             }
            },
            "type": "table"
           }
          ]
         },
         "layout": {
          "annotationdefaults": {
           "arrowcolor": "#2a3f5f",
           "arrowhead": 0,
           "arrowwidth": 1
          },
          "autotypenumbers": "strict",
          "coloraxis": {
           "colorbar": {
            "outlinewidth": 0,
            "ticks": ""
           }
          },
          "colorscale": {
           "diverging": [
            [
             0,
             "#8e0152"
            ],
            [
             0.1,
             "#c51b7d"
            ],
            [
             0.2,
             "#de77ae"
            ],
            [
             0.3,
             "#f1b6da"
            ],
            [
             0.4,
             "#fde0ef"
            ],
            [
             0.5,
             "#f7f7f7"
            ],
            [
             0.6,
             "#e6f5d0"
            ],
            [
             0.7,
             "#b8e186"
            ],
            [
             0.8,
             "#7fbc41"
            ],
            [
             0.9,
             "#4d9221"
            ],
            [
             1,
             "#276419"
            ]
           ],
           "sequential": [
            [
             0,
             "#0d0887"
            ],
            [
             0.1111111111111111,
             "#46039f"
            ],
            [
             0.2222222222222222,
             "#7201a8"
            ],
            [
             0.3333333333333333,
             "#9c179e"
            ],
            [
             0.4444444444444444,
             "#bd3786"
            ],
            [
             0.5555555555555556,
             "#d8576b"
            ],
            [
             0.6666666666666666,
             "#ed7953"
            ],
            [
             0.7777777777777778,
             "#fb9f3a"
            ],
            [
             0.8888888888888888,
             "#fdca26"
            ],
            [
             1,
             "#f0f921"
            ]
           ],
           "sequentialminus": [
            [
             0,
             "#0d0887"
            ],
            [
             0.1111111111111111,
             "#46039f"
            ],
            [
             0.2222222222222222,
             "#7201a8"
            ],
            [
             0.3333333333333333,
             "#9c179e"
            ],
            [
             0.4444444444444444,
             "#bd3786"
            ],
            [
             0.5555555555555556,
             "#d8576b"
            ],
            [
             0.6666666666666666,
             "#ed7953"
            ],
            [
             0.7777777777777778,
             "#fb9f3a"
            ],
            [
             0.8888888888888888,
             "#fdca26"
            ],
            [
             1,
             "#f0f921"
            ]
           ]
          },
          "colorway": [
           "#636efa",
           "#EF553B",
           "#00cc96",
           "#ab63fa",
           "#FFA15A",
           "#19d3f3",
           "#FF6692",
           "#B6E880",
           "#FF97FF",
           "#FECB52"
          ],
          "font": {
           "color": "#2a3f5f"
          },
          "geo": {
           "bgcolor": "white",
           "lakecolor": "white",
           "landcolor": "#E5ECF6",
           "showlakes": true,
           "showland": true,
           "subunitcolor": "white"
          },
          "hoverlabel": {
           "align": "left"
          },
          "hovermode": "closest",
          "mapbox": {
           "style": "light"
          },
          "paper_bgcolor": "white",
          "plot_bgcolor": "#E5ECF6",
          "polar": {
           "angularaxis": {
            "gridcolor": "white",
            "linecolor": "white",
            "ticks": ""
           },
           "bgcolor": "#E5ECF6",
           "radialaxis": {
            "gridcolor": "white",
            "linecolor": "white",
            "ticks": ""
           }
          },
          "scene": {
           "xaxis": {
            "backgroundcolor": "#E5ECF6",
            "gridcolor": "white",
            "gridwidth": 2,
            "linecolor": "white",
            "showbackground": true,
            "ticks": "",
            "zerolinecolor": "white"
           },
           "yaxis": {
            "backgroundcolor": "#E5ECF6",
            "gridcolor": "white",
            "gridwidth": 2,
            "linecolor": "white",
            "showbackground": true,
            "ticks": "",
            "zerolinecolor": "white"
           },
           "zaxis": {
            "backgroundcolor": "#E5ECF6",
            "gridcolor": "white",
            "gridwidth": 2,
            "linecolor": "white",
            "showbackground": true,
            "ticks": "",
            "zerolinecolor": "white"
           }
          },
          "shapedefaults": {
           "line": {
            "color": "#2a3f5f"
           }
          },
          "ternary": {
           "aaxis": {
            "gridcolor": "white",
            "linecolor": "white",
            "ticks": ""
           },
           "baxis": {
            "gridcolor": "white",
            "linecolor": "white",
            "ticks": ""
           },
           "bgcolor": "#E5ECF6",
           "caxis": {
            "gridcolor": "white",
            "linecolor": "white",
            "ticks": ""
           }
          },
          "title": {
           "x": 0.05
          },
          "xaxis": {
           "automargin": true,
           "gridcolor": "white",
           "linecolor": "white",
           "ticks": "",
           "title": {
            "standoff": 15
           },
           "zerolinecolor": "white",
           "zerolinewidth": 2
          },
          "yaxis": {
           "automargin": true,
           "gridcolor": "white",
           "linecolor": "white",
           "ticks": "",
           "title": {
            "standoff": 15
           },
           "zerolinecolor": "white",
           "zerolinewidth": 2
          }
         }
        },
        "title": {
         "text": "Ventas por plataforma (Millones)"
        }
       }
      },
      "text/html": [
       "<div>                            <div id=\"2a0e568e-a440-4348-a302-d57a8d8d2664\" class=\"plotly-graph-div\" style=\"height:525px; width:100%;\"></div>            <script type=\"text/javascript\">                require([\"plotly\"], function(Plotly) {                    window.PLOTLYENV=window.PLOTLYENV || {};                                    if (document.getElementById(\"2a0e568e-a440-4348-a302-d57a8d8d2664\")) {                    Plotly.newPlot(                        \"2a0e568e-a440-4348-a302-d57a8d8d2664\",                        [{\"marker\":{\"color\":[\"crimson\",\"blue\",\"green\",\"orange\",\"purple\",\"cyan\",\"brown\"]},\"name\":\"Ventas por consola (Millones)\",\"x\":[\"3DS\",\"X360\",\"PSP\",\"PS2\",\"Wii\",\"PS3\",\"WiiU\"],\"y\":[13.72,0.26,14.26,1.36,2.47,0.55,0.69],\"type\":\"bar\"}],                        {\"barmode\":\"group\",\"template\":{\"data\":{\"barpolar\":[{\"marker\":{\"line\":{\"color\":\"#E5ECF6\",\"width\":0.5},\"pattern\":{\"fillmode\":\"overlay\",\"size\":10,\"solidity\":0.2}},\"type\":\"barpolar\"}],\"bar\":[{\"error_x\":{\"color\":\"#2a3f5f\"},\"error_y\":{\"color\":\"#2a3f5f\"},\"marker\":{\"line\":{\"color\":\"#E5ECF6\",\"width\":0.5},\"pattern\":{\"fillmode\":\"overlay\",\"size\":10,\"solidity\":0.2}},\"type\":\"bar\"}],\"carpet\":[{\"aaxis\":{\"endlinecolor\":\"#2a3f5f\",\"gridcolor\":\"white\",\"linecolor\":\"white\",\"minorgridcolor\":\"white\",\"startlinecolor\":\"#2a3f5f\"},\"baxis\":{\"endlinecolor\":\"#2a3f5f\",\"gridcolor\":\"white\",\"linecolor\":\"white\",\"minorgridcolor\":\"white\",\"startlinecolor\":\"#2a3f5f\"},\"type\":\"carpet\"}],\"choropleth\":[{\"colorbar\":{\"outlinewidth\":0,\"ticks\":\"\"},\"type\":\"choropleth\"}],\"contourcarpet\":[{\"colorbar\":{\"outlinewidth\":0,\"ticks\":\"\"},\"type\":\"contourcarpet\"}],\"contour\":[{\"colorbar\":{\"outlinewidth\":0,\"ticks\":\"\"},\"colorscale\":[[0.0,\"#0d0887\"],[0.1111111111111111,\"#46039f\"],[0.2222222222222222,\"#7201a8\"],[0.3333333333333333,\"#9c179e\"],[0.4444444444444444,\"#bd3786\"],[0.5555555555555556,\"#d8576b\"],[0.6666666666666666,\"#ed7953\"],[0.7777777777777778,\"#fb9f3a\"],[0.8888888888888888,\"#fdca26\"],[1.0,\"#f0f921\"]],\"type\":\"contour\"}],\"heatmapgl\":[{\"colorbar\":{\"outlinewidth\":0,\"ticks\":\"\"},\"colorscale\":[[0.0,\"#0d0887\"],[0.1111111111111111,\"#46039f\"],[0.2222222222222222,\"#7201a8\"],[0.3333333333333333,\"#9c179e\"],[0.4444444444444444,\"#bd3786\"],[0.5555555555555556,\"#d8576b\"],[0.6666666666666666,\"#ed7953\"],[0.7777777777777778,\"#fb9f3a\"],[0.8888888888888888,\"#fdca26\"],[1.0,\"#f0f921\"]],\"type\":\"heatmapgl\"}],\"heatmap\":[{\"colorbar\":{\"outlinewidth\":0,\"ticks\":\"\"},\"colorscale\":[[0.0,\"#0d0887\"],[0.1111111111111111,\"#46039f\"],[0.2222222222222222,\"#7201a8\"],[0.3333333333333333,\"#9c179e\"],[0.4444444444444444,\"#bd3786\"],[0.5555555555555556,\"#d8576b\"],[0.6666666666666666,\"#ed7953\"],[0.7777777777777778,\"#fb9f3a\"],[0.8888888888888888,\"#fdca26\"],[1.0,\"#f0f921\"]],\"type\":\"heatmap\"}],\"histogram2dcontour\":[{\"colorbar\":{\"outlinewidth\":0,\"ticks\":\"\"},\"colorscale\":[[0.0,\"#0d0887\"],[0.1111111111111111,\"#46039f\"],[0.2222222222222222,\"#7201a8\"],[0.3333333333333333,\"#9c179e\"],[0.4444444444444444,\"#bd3786\"],[0.5555555555555556,\"#d8576b\"],[0.6666666666666666,\"#ed7953\"],[0.7777777777777778,\"#fb9f3a\"],[0.8888888888888888,\"#fdca26\"],[1.0,\"#f0f921\"]],\"type\":\"histogram2dcontour\"}],\"histogram2d\":[{\"colorbar\":{\"outlinewidth\":0,\"ticks\":\"\"},\"colorscale\":[[0.0,\"#0d0887\"],[0.1111111111111111,\"#46039f\"],[0.2222222222222222,\"#7201a8\"],[0.3333333333333333,\"#9c179e\"],[0.4444444444444444,\"#bd3786\"],[0.5555555555555556,\"#d8576b\"],[0.6666666666666666,\"#ed7953\"],[0.7777777777777778,\"#fb9f3a\"],[0.8888888888888888,\"#fdca26\"],[1.0,\"#f0f921\"]],\"type\":\"histogram2d\"}],\"histogram\":[{\"marker\":{\"pattern\":{\"fillmode\":\"overlay\",\"size\":10,\"solidity\":0.2}},\"type\":\"histogram\"}],\"mesh3d\":[{\"colorbar\":{\"outlinewidth\":0,\"ticks\":\"\"},\"type\":\"mesh3d\"}],\"parcoords\":[{\"line\":{\"colorbar\":{\"outlinewidth\":0,\"ticks\":\"\"}},\"type\":\"parcoords\"}],\"pie\":[{\"automargin\":true,\"type\":\"pie\"}],\"scatter3d\":[{\"line\":{\"colorbar\":{\"outlinewidth\":0,\"ticks\":\"\"}},\"marker\":{\"colorbar\":{\"outlinewidth\":0,\"ticks\":\"\"}},\"type\":\"scatter3d\"}],\"scattercarpet\":[{\"marker\":{\"colorbar\":{\"outlinewidth\":0,\"ticks\":\"\"}},\"type\":\"scattercarpet\"}],\"scattergeo\":[{\"marker\":{\"colorbar\":{\"outlinewidth\":0,\"ticks\":\"\"}},\"type\":\"scattergeo\"}],\"scattergl\":[{\"marker\":{\"colorbar\":{\"outlinewidth\":0,\"ticks\":\"\"}},\"type\":\"scattergl\"}],\"scattermapbox\":[{\"marker\":{\"colorbar\":{\"outlinewidth\":0,\"ticks\":\"\"}},\"type\":\"scattermapbox\"}],\"scatterpolargl\":[{\"marker\":{\"colorbar\":{\"outlinewidth\":0,\"ticks\":\"\"}},\"type\":\"scatterpolargl\"}],\"scatterpolar\":[{\"marker\":{\"colorbar\":{\"outlinewidth\":0,\"ticks\":\"\"}},\"type\":\"scatterpolar\"}],\"scatter\":[{\"fillpattern\":{\"fillmode\":\"overlay\",\"size\":10,\"solidity\":0.2},\"type\":\"scatter\"}],\"scatterternary\":[{\"marker\":{\"colorbar\":{\"outlinewidth\":0,\"ticks\":\"\"}},\"type\":\"scatterternary\"}],\"surface\":[{\"colorbar\":{\"outlinewidth\":0,\"ticks\":\"\"},\"colorscale\":[[0.0,\"#0d0887\"],[0.1111111111111111,\"#46039f\"],[0.2222222222222222,\"#7201a8\"],[0.3333333333333333,\"#9c179e\"],[0.4444444444444444,\"#bd3786\"],[0.5555555555555556,\"#d8576b\"],[0.6666666666666666,\"#ed7953\"],[0.7777777777777778,\"#fb9f3a\"],[0.8888888888888888,\"#fdca26\"],[1.0,\"#f0f921\"]],\"type\":\"surface\"}],\"table\":[{\"cells\":{\"fill\":{\"color\":\"#EBF0F8\"},\"line\":{\"color\":\"white\"}},\"header\":{\"fill\":{\"color\":\"#C8D4E3\"},\"line\":{\"color\":\"white\"}},\"type\":\"table\"}]},\"layout\":{\"annotationdefaults\":{\"arrowcolor\":\"#2a3f5f\",\"arrowhead\":0,\"arrowwidth\":1},\"autotypenumbers\":\"strict\",\"coloraxis\":{\"colorbar\":{\"outlinewidth\":0,\"ticks\":\"\"}},\"colorscale\":{\"diverging\":[[0,\"#8e0152\"],[0.1,\"#c51b7d\"],[0.2,\"#de77ae\"],[0.3,\"#f1b6da\"],[0.4,\"#fde0ef\"],[0.5,\"#f7f7f7\"],[0.6,\"#e6f5d0\"],[0.7,\"#b8e186\"],[0.8,\"#7fbc41\"],[0.9,\"#4d9221\"],[1,\"#276419\"]],\"sequential\":[[0.0,\"#0d0887\"],[0.1111111111111111,\"#46039f\"],[0.2222222222222222,\"#7201a8\"],[0.3333333333333333,\"#9c179e\"],[0.4444444444444444,\"#bd3786\"],[0.5555555555555556,\"#d8576b\"],[0.6666666666666666,\"#ed7953\"],[0.7777777777777778,\"#fb9f3a\"],[0.8888888888888888,\"#fdca26\"],[1.0,\"#f0f921\"]],\"sequentialminus\":[[0.0,\"#0d0887\"],[0.1111111111111111,\"#46039f\"],[0.2222222222222222,\"#7201a8\"],[0.3333333333333333,\"#9c179e\"],[0.4444444444444444,\"#bd3786\"],[0.5555555555555556,\"#d8576b\"],[0.6666666666666666,\"#ed7953\"],[0.7777777777777778,\"#fb9f3a\"],[0.8888888888888888,\"#fdca26\"],[1.0,\"#f0f921\"]]},\"colorway\":[\"#636efa\",\"#EF553B\",\"#00cc96\",\"#ab63fa\",\"#FFA15A\",\"#19d3f3\",\"#FF6692\",\"#B6E880\",\"#FF97FF\",\"#FECB52\"],\"font\":{\"color\":\"#2a3f5f\"},\"geo\":{\"bgcolor\":\"white\",\"lakecolor\":\"white\",\"landcolor\":\"#E5ECF6\",\"showlakes\":true,\"showland\":true,\"subunitcolor\":\"white\"},\"hoverlabel\":{\"align\":\"left\"},\"hovermode\":\"closest\",\"mapbox\":{\"style\":\"light\"},\"paper_bgcolor\":\"white\",\"plot_bgcolor\":\"#E5ECF6\",\"polar\":{\"angularaxis\":{\"gridcolor\":\"white\",\"linecolor\":\"white\",\"ticks\":\"\"},\"bgcolor\":\"#E5ECF6\",\"radialaxis\":{\"gridcolor\":\"white\",\"linecolor\":\"white\",\"ticks\":\"\"}},\"scene\":{\"xaxis\":{\"backgroundcolor\":\"#E5ECF6\",\"gridcolor\":\"white\",\"gridwidth\":2,\"linecolor\":\"white\",\"showbackground\":true,\"ticks\":\"\",\"zerolinecolor\":\"white\"},\"yaxis\":{\"backgroundcolor\":\"#E5ECF6\",\"gridcolor\":\"white\",\"gridwidth\":2,\"linecolor\":\"white\",\"showbackground\":true,\"ticks\":\"\",\"zerolinecolor\":\"white\"},\"zaxis\":{\"backgroundcolor\":\"#E5ECF6\",\"gridcolor\":\"white\",\"gridwidth\":2,\"linecolor\":\"white\",\"showbackground\":true,\"ticks\":\"\",\"zerolinecolor\":\"white\"}},\"shapedefaults\":{\"line\":{\"color\":\"#2a3f5f\"}},\"ternary\":{\"aaxis\":{\"gridcolor\":\"white\",\"linecolor\":\"white\",\"ticks\":\"\"},\"baxis\":{\"gridcolor\":\"white\",\"linecolor\":\"white\",\"ticks\":\"\"},\"bgcolor\":\"#E5ECF6\",\"caxis\":{\"gridcolor\":\"white\",\"linecolor\":\"white\",\"ticks\":\"\"}},\"title\":{\"x\":0.05},\"xaxis\":{\"automargin\":true,\"gridcolor\":\"white\",\"linecolor\":\"white\",\"ticks\":\"\",\"title\":{\"standoff\":15},\"zerolinecolor\":\"white\",\"zerolinewidth\":2},\"yaxis\":{\"automargin\":true,\"gridcolor\":\"white\",\"linecolor\":\"white\",\"ticks\":\"\",\"title\":{\"standoff\":15},\"zerolinecolor\":\"white\",\"zerolinewidth\":2}}},\"title\":{\"text\":\"Ventas por plataforma (Millones)\"}},                        {\"responsive\": true}                    ).then(function(){\n",
       "                            \n",
       "var gd = document.getElementById('2a0e568e-a440-4348-a302-d57a8d8d2664');\n",
       "var x = new MutationObserver(function (mutations, observer) {{\n",
       "        var display = window.getComputedStyle(gd).display;\n",
       "        if (!display || display === 'none') {{\n",
       "            console.log([gd, 'removed!']);\n",
       "            Plotly.purge(gd);\n",
       "            observer.disconnect();\n",
       "        }}\n",
       "}});\n",
       "\n",
       "// Listen for the removal of the full notebook cells\n",
       "var notebookContainer = gd.closest('#notebook-container');\n",
       "if (notebookContainer) {{\n",
       "    x.observe(notebookContainer, {childList: true});\n",
       "}}\n",
       "\n",
       "// Listen for the clearing of the current output cell\n",
       "var outputEl = gd.closest('.output');\n",
       "if (outputEl) {{\n",
       "    x.observe(outputEl, {childList: true});\n",
       "}}\n",
       "\n",
       "                        })                };                });            </script>        </div>"
      ]
     },
     "metadata": {},
     "output_type": "display_data"
    }
   ],
   "source": [
    "# create trace1\n",
    "\n",
    "ventas = lista_ventas.values()\n",
    "plataformas = lista_ventas.keys()\n",
    "\n",
    "colors = ['crimson',\"blue\",\"green\",\"orange\",\"purple\",\"cyan\",\"brown\"]\n",
    "trace1 = go.Bar(x = tuple(plataformas),\n",
    "               y = tuple(ventas),\n",
    "               name = 'Ventas por consola (Millones)',\n",
    "               marker_color = colors)\n",
    "\n",
    "\n",
    "data = [trace1]\n",
    "\n",
    "layout = go.Layout(barmode = \"group\", title=\"Ventas por plataforma (Millones)\")\n",
    "\n",
    "fig = go.Figure(data = data, layout = layout)\n",
    "\n",
    "iplot(fig)"
   ]
  },
  {
   "cell_type": "code",
   "execution_count": 76,
   "metadata": {},
   "outputs": [
    {
     "data": {
      "text/plain": [
       "'\\nAqui podemos ver que el principal publico se agrupa en las consolas portatiles, normalmente, las consolas portatiles suelen tener un publico casual.\\nEste publico casual solo busca pasar el rato y divertirse, esto afectara a Monster Hunter World.\\nEn la presentacion, expondre el caso de Monster Hunter Frontier, que fue un MMO con una gran dificultad en su contenido y que acabo cerrando por falta de jugadores.\\nMostrare un par de escenas, para que se vea la comparacion.\\n'"
      ]
     },
     "execution_count": 76,
     "metadata": {},
     "output_type": "execute_result"
    }
   ],
   "source": [
    "\"\"\"\n",
    "Aqui podemos ver que el principal publico se agrupa en las consolas portatiles, normalmente, las consolas portatiles suelen tener un publico casual.\n",
    "Este publico casual solo busca pasar el rato y divertirse, esto afectara a Monster Hunter World.\n",
    "En la presentacion, expondre el caso de Monster Hunter Frontier, que fue un MMO con una gran dificultad en su contenido y que acabo cerrando por falta de jugadores.\n",
    "Mostrare un par de escenas, para que se vea la comparacion.\n",
    "\"\"\"\n"
   ]
  },
  {
   "cell_type": "code",
   "execution_count": 77,
   "metadata": {},
   "outputs": [],
   "source": [
    "#Con esto visto, ya podemos irnos a la vida de jugadores de world, aqui dejare la grafica hecha, en la presentacion habra mas comentarios sobre el juego.\n",
    "#la limpieza del original esta en \"proyecto analisis de datos\\codigo\\STEAMDB\""
   ]
  },
  {
   "cell_type": "code",
   "execution_count": 78,
   "metadata": {},
   "outputs": [],
   "source": [
    "jugadores_MHW = pd.read_csv(\"../Datos procesados/Ventas Monster vida jugadores.csv\")"
   ]
  },
  {
   "cell_type": "code",
   "execution_count": 79,
   "metadata": {},
   "outputs": [],
   "source": [
    "#Se nos ha colado el anterior index, lo borro y listo\n",
    "jugadores_MHW = jugadores_MHW.drop([\"Unnamed: 0\"], axis=1)"
   ]
  },
  {
   "cell_type": "code",
   "execution_count": 80,
   "metadata": {},
   "outputs": [],
   "source": [
    "\"\"\"jugadores_MHW.plot(legend=False, title=\"Vida de Jugadores del juego\", ylabel=\"Jugadores\", xlabel=\"Indice\", grid=\"seaborn-white\")\"\"\";"
   ]
  },
  {
   "cell_type": "code",
   "execution_count": 81,
   "metadata": {},
   "outputs": [
    {
     "data": {
      "application/vnd.plotly.v1+json": {
       "config": {
        "linkText": "Export to plot.ly",
        "plotlyServerURL": "https://plot.ly",
        "showLink": false
       },
       "data": [
        {
         "marker": {
          "color": "rgba(16, 112, 2, 0.8)"
         },
         "mode": "lines",
         "name": "citations",
         "type": "scatter",
         "x": [
          "2018-08-09 00:00:00",
          "2018-08-10 00:00:00",
          "2018-08-11 00:00:00",
          "2018-08-12 00:00:00",
          "2018-08-13 00:00:00",
          "2018-08-14 00:00:00",
          "2018-08-15 00:00:00",
          "2018-08-16 00:00:00",
          "2018-08-17 00:00:00",
          "2018-08-18 00:00:00",
          "2018-08-19 00:00:00",
          "2018-08-20 00:00:00",
          "2018-08-21 00:00:00",
          "2018-08-22 00:00:00",
          "2018-08-23 00:00:00",
          "2018-08-24 00:00:00",
          "2018-08-25 00:00:00",
          "2018-08-26 00:00:00",
          "2018-08-27 00:00:00",
          "2018-08-28 00:00:00",
          "2018-08-29 00:00:00",
          "2018-08-30 00:00:00",
          "2018-08-31 00:00:00",
          "2018-09-01 00:00:00",
          "2018-09-02 00:00:00",
          "2018-09-03 00:00:00",
          "2018-09-04 00:00:00",
          "2018-09-05 00:00:00",
          "2018-09-06 00:00:00",
          "2018-09-07 00:00:00",
          "2018-09-08 00:00:00",
          "2018-09-09 00:00:00",
          "2018-09-10 00:00:00",
          "2018-09-11 00:00:00",
          "2018-09-12 00:00:00",
          "2018-09-13 00:00:00",
          "2018-09-14 00:00:00",
          "2018-09-15 00:00:00",
          "2018-09-16 00:00:00",
          "2018-09-17 00:00:00",
          "2018-09-18 00:00:00",
          "2018-09-19 00:00:00",
          "2018-09-20 00:00:00",
          "2018-09-21 00:00:00",
          "2018-09-22 00:00:00",
          "2018-09-23 00:00:00",
          "2018-09-24 00:00:00",
          "2018-09-25 00:00:00",
          "2018-09-26 00:00:00",
          "2018-09-27 00:00:00",
          "2018-09-28 00:00:00",
          "2018-09-29 00:00:00",
          "2018-09-30 00:00:00",
          "2018-10-01 00:00:00",
          "2018-10-02 00:00:00",
          "2018-10-03 00:00:00",
          "2018-10-04 00:00:00",
          "2018-10-05 00:00:00",
          "2018-10-06 00:00:00",
          "2018-10-07 00:00:00",
          "2018-10-08 00:00:00",
          "2018-10-09 00:00:00",
          "2018-10-10 00:00:00",
          "2018-10-11 00:00:00",
          "2018-10-12 00:00:00",
          "2018-10-13 00:00:00",
          "2018-10-14 00:00:00",
          "2018-10-15 00:00:00",
          "2018-10-16 00:00:00",
          "2018-10-17 00:00:00",
          "2018-10-18 00:00:00",
          "2018-10-19 00:00:00",
          "2018-10-20 00:00:00",
          "2018-10-21 00:00:00",
          "2018-10-22 00:00:00",
          "2018-10-23 00:00:00",
          "2018-10-24 00:00:00",
          "2018-10-25 00:00:00",
          "2018-10-26 00:00:00",
          "2018-10-27 00:00:00",
          "2018-10-28 00:00:00",
          "2018-10-29 00:00:00",
          "2018-10-30 00:00:00",
          "2018-10-31 00:00:00",
          "2018-11-01 00:00:00",
          "2018-11-02 00:00:00",
          "2018-11-03 00:00:00",
          "2018-11-04 00:00:00",
          "2018-11-05 00:00:00",
          "2018-11-06 00:00:00",
          "2018-11-07 00:00:00",
          "2018-11-08 00:00:00",
          "2018-11-09 00:00:00",
          "2018-11-10 00:00:00",
          "2018-11-11 00:00:00",
          "2018-11-12 00:00:00",
          "2018-11-13 00:00:00",
          "2018-11-14 00:00:00",
          "2018-11-15 00:00:00",
          "2018-11-16 00:00:00",
          "2018-11-17 00:00:00",
          "2018-11-18 00:00:00",
          "2018-11-19 00:00:00",
          "2018-11-20 00:00:00",
          "2018-11-21 00:00:00",
          "2018-11-22 00:00:00",
          "2018-11-23 00:00:00",
          "2018-11-24 00:00:00",
          "2018-11-25 00:00:00",
          "2018-11-26 00:00:00",
          "2018-11-27 00:00:00",
          "2018-11-28 00:00:00",
          "2018-11-29 00:00:00",
          "2018-11-30 00:00:00",
          "2018-12-01 00:00:00",
          "2018-12-02 00:00:00",
          "2018-12-03 00:00:00",
          "2018-12-04 00:00:00",
          "2018-12-05 00:00:00",
          "2018-12-06 00:00:00",
          "2018-12-07 00:00:00",
          "2018-12-08 00:00:00",
          "2018-12-09 00:00:00",
          "2018-12-10 00:00:00",
          "2018-12-11 00:00:00",
          "2018-12-12 00:00:00",
          "2018-12-13 00:00:00",
          "2018-12-14 00:00:00",
          "2018-12-15 00:00:00",
          "2018-12-16 00:00:00",
          "2018-12-17 00:00:00",
          "2018-12-18 00:00:00",
          "2018-12-19 00:00:00",
          "2018-12-20 00:00:00",
          "2018-12-21 00:00:00",
          "2018-12-22 00:00:00",
          "2018-12-23 00:00:00",
          "2018-12-24 00:00:00",
          "2018-12-25 00:00:00",
          "2018-12-26 00:00:00",
          "2018-12-27 00:00:00",
          "2018-12-28 00:00:00",
          "2018-12-29 00:00:00",
          "2018-12-30 00:00:00",
          "2018-12-31 00:00:00",
          "2019-01-01 00:00:00",
          "2019-01-02 00:00:00",
          "2019-01-03 00:00:00",
          "2019-01-04 00:00:00",
          "2019-01-05 00:00:00",
          "2019-01-06 00:00:00",
          "2019-01-07 00:00:00",
          "2019-01-08 00:00:00",
          "2019-01-09 00:00:00",
          "2019-01-10 00:00:00",
          "2019-01-11 00:00:00",
          "2019-01-12 00:00:00",
          "2019-01-13 00:00:00",
          "2019-01-14 00:00:00",
          "2019-01-15 00:00:00",
          "2019-01-16 00:00:00",
          "2019-01-17 00:00:00",
          "2019-01-18 00:00:00",
          "2019-01-19 00:00:00",
          "2019-01-20 00:00:00",
          "2019-01-21 00:00:00",
          "2019-01-22 00:00:00",
          "2019-01-23 00:00:00",
          "2019-01-24 00:00:00",
          "2019-01-25 00:00:00",
          "2019-01-26 00:00:00",
          "2019-01-27 00:00:00",
          "2019-01-28 00:00:00",
          "2019-01-29 00:00:00",
          "2019-01-30 00:00:00",
          "2019-01-31 00:00:00",
          "2019-02-01 00:00:00",
          "2019-02-02 00:00:00",
          "2019-02-03 00:00:00",
          "2019-02-04 00:00:00",
          "2019-02-05 00:00:00",
          "2019-02-06 00:00:00",
          "2019-02-07 00:00:00",
          "2019-02-08 00:00:00",
          "2019-02-09 00:00:00",
          "2019-02-10 00:00:00",
          "2019-02-11 00:00:00",
          "2019-02-12 00:00:00",
          "2019-02-13 00:00:00",
          "2019-02-14 00:00:00",
          "2019-02-15 00:00:00",
          "2019-02-16 00:00:00",
          "2019-02-17 00:00:00",
          "2019-02-18 00:00:00",
          "2019-02-19 00:00:00",
          "2019-02-20 00:00:00",
          "2019-02-21 00:00:00",
          "2019-02-22 00:00:00",
          "2019-02-23 00:00:00",
          "2019-02-24 00:00:00",
          "2019-02-25 00:00:00",
          "2019-02-26 00:00:00",
          "2019-02-27 00:00:00",
          "2019-02-28 00:00:00",
          "2019-03-01 00:00:00",
          "2019-03-02 00:00:00",
          "2019-03-03 00:00:00",
          "2019-03-04 00:00:00",
          "2019-03-05 00:00:00",
          "2019-03-06 00:00:00",
          "2019-03-07 00:00:00",
          "2019-03-08 00:00:00",
          "2019-03-09 00:00:00",
          "2019-03-10 00:00:00",
          "2019-03-11 00:00:00",
          "2019-03-12 00:00:00",
          "2019-03-13 00:00:00",
          "2019-03-14 00:00:00",
          "2019-03-15 00:00:00",
          "2019-03-16 00:00:00",
          "2019-03-17 00:00:00",
          "2019-03-18 00:00:00",
          "2019-03-19 00:00:00",
          "2019-03-20 00:00:00",
          "2019-03-21 00:00:00",
          "2019-03-22 00:00:00",
          "2019-03-23 00:00:00",
          "2019-03-24 00:00:00",
          "2019-03-25 00:00:00",
          "2019-03-26 00:00:00",
          "2019-03-27 00:00:00",
          "2019-03-28 00:00:00",
          "2019-03-29 00:00:00",
          "2019-03-30 00:00:00",
          "2019-03-31 00:00:00",
          "2019-04-01 00:00:00",
          "2019-04-02 00:00:00",
          "2019-04-03 00:00:00",
          "2019-04-04 00:00:00",
          "2019-04-05 00:00:00",
          "2019-04-06 00:00:00",
          "2019-04-07 00:00:00",
          "2019-04-08 00:00:00",
          "2019-04-09 00:00:00",
          "2019-04-10 00:00:00",
          "2019-04-11 00:00:00",
          "2019-04-12 00:00:00",
          "2019-04-13 00:00:00",
          "2019-04-14 00:00:00",
          "2019-04-15 00:00:00",
          "2019-04-16 00:00:00",
          "2019-04-17 00:00:00",
          "2019-04-18 00:00:00",
          "2019-04-19 00:00:00",
          "2019-04-20 00:00:00",
          "2019-04-21 00:00:00",
          "2019-04-22 00:00:00",
          "2019-04-23 00:00:00",
          "2019-04-24 00:00:00",
          "2019-04-25 00:00:00",
          "2019-04-26 00:00:00",
          "2019-04-27 00:00:00",
          "2019-04-28 00:00:00",
          "2019-04-29 00:00:00",
          "2019-04-30 00:00:00",
          "2019-05-01 00:00:00",
          "2019-05-02 00:00:00",
          "2019-05-03 00:00:00",
          "2019-05-04 00:00:00",
          "2019-05-05 00:00:00",
          "2019-05-06 00:00:00",
          "2019-05-07 00:00:00",
          "2019-05-08 00:00:00",
          "2019-05-09 00:00:00",
          "2019-05-10 00:00:00",
          "2019-05-11 00:00:00",
          "2019-05-12 00:00:00",
          "2019-05-13 00:00:00",
          "2019-05-14 00:00:00",
          "2019-05-15 00:00:00",
          "2019-05-16 00:00:00",
          "2019-05-17 00:00:00",
          "2019-05-18 00:00:00",
          "2019-05-19 00:00:00",
          "2019-05-20 00:00:00",
          "2019-05-21 00:00:00",
          "2019-05-22 00:00:00",
          "2019-05-23 00:00:00",
          "2019-05-24 00:00:00",
          "2019-05-25 00:00:00",
          "2019-05-26 00:00:00",
          "2019-05-27 00:00:00",
          "2019-05-28 00:00:00",
          "2019-05-29 00:00:00",
          "2019-05-30 00:00:00",
          "2019-05-31 00:00:00",
          "2019-06-01 00:00:00",
          "2019-06-02 00:00:00",
          "2019-06-03 00:00:00",
          "2019-06-04 00:00:00",
          "2019-06-05 00:00:00",
          "2019-06-06 00:00:00",
          "2019-06-07 00:00:00",
          "2019-06-08 00:00:00",
          "2019-06-09 00:00:00",
          "2019-06-10 00:00:00",
          "2019-06-11 00:00:00",
          "2019-06-12 00:00:00",
          "2019-06-13 00:00:00",
          "2019-06-14 00:00:00",
          "2019-06-15 00:00:00",
          "2019-06-16 00:00:00",
          "2019-06-17 00:00:00",
          "2019-06-18 00:00:00",
          "2019-06-19 00:00:00",
          "2019-06-20 00:00:00",
          "2019-06-21 00:00:00",
          "2019-06-22 00:00:00",
          "2019-06-23 00:00:00",
          "2019-06-24 00:00:00",
          "2019-06-25 00:00:00",
          "2019-06-26 00:00:00",
          "2019-06-27 00:00:00",
          "2019-06-28 00:00:00",
          "2019-06-29 00:00:00",
          "2019-06-30 00:00:00",
          "2019-07-01 00:00:00",
          "2019-07-02 00:00:00",
          "2019-07-03 00:00:00",
          "2019-07-04 00:00:00",
          "2019-07-05 00:00:00",
          "2019-07-06 00:00:00",
          "2019-07-07 00:00:00",
          "2019-07-08 00:00:00",
          "2019-07-09 00:00:00",
          "2019-07-10 00:00:00",
          "2019-07-11 00:00:00",
          "2019-07-12 00:00:00",
          "2019-07-13 00:00:00",
          "2019-07-14 00:00:00",
          "2019-07-15 00:00:00",
          "2019-07-16 00:00:00",
          "2019-07-17 00:00:00",
          "2019-07-18 00:00:00",
          "2019-07-19 00:00:00",
          "2019-07-20 00:00:00",
          "2019-07-21 00:00:00",
          "2019-07-22 00:00:00",
          "2019-07-23 00:00:00",
          "2019-07-24 00:00:00",
          "2019-07-25 00:00:00",
          "2019-07-26 00:00:00",
          "2019-07-27 00:00:00",
          "2019-07-28 00:00:00",
          "2019-07-29 00:00:00",
          "2019-07-30 00:00:00",
          "2019-07-31 00:00:00",
          "2019-08-01 00:00:00",
          "2019-08-02 00:00:00",
          "2019-08-03 00:00:00",
          "2019-08-04 00:00:00",
          "2019-08-05 00:00:00",
          "2019-08-06 00:00:00",
          "2019-08-07 00:00:00",
          "2019-08-08 00:00:00",
          "2019-08-09 00:00:00",
          "2019-08-10 00:00:00",
          "2019-08-11 00:00:00",
          "2019-08-12 00:00:00",
          "2019-08-13 00:00:00",
          "2019-08-14 00:00:00",
          "2019-08-15 00:00:00",
          "2019-08-16 00:00:00",
          "2019-08-17 00:00:00",
          "2019-08-18 00:00:00",
          "2019-08-19 00:00:00",
          "2019-08-20 00:00:00",
          "2019-08-21 00:00:00",
          "2019-08-22 00:00:00",
          "2019-08-23 00:00:00",
          "2019-08-24 00:00:00",
          "2019-08-25 00:00:00",
          "2019-08-26 00:00:00",
          "2019-08-27 00:00:00",
          "2019-08-28 00:00:00",
          "2019-08-29 00:00:00",
          "2019-08-30 00:00:00",
          "2019-08-31 00:00:00",
          "2019-09-01 00:00:00",
          "2019-09-02 00:00:00",
          "2019-09-03 00:00:00",
          "2019-09-04 00:00:00",
          "2019-09-05 00:00:00",
          "2019-09-06 00:00:00",
          "2019-09-07 00:00:00",
          "2019-09-08 00:00:00",
          "2019-09-09 00:00:00",
          "2019-09-10 00:00:00",
          "2019-09-11 00:00:00",
          "2019-09-12 00:00:00",
          "2019-09-13 00:00:00",
          "2019-09-14 00:00:00",
          "2019-09-15 00:00:00",
          "2019-09-16 00:00:00",
          "2019-09-17 00:00:00",
          "2019-09-18 00:00:00",
          "2019-09-19 00:00:00",
          "2019-09-20 00:00:00",
          "2019-09-21 00:00:00",
          "2019-09-22 00:00:00",
          "2019-09-23 00:00:00",
          "2019-09-24 00:00:00",
          "2019-09-25 00:00:00",
          "2019-09-26 00:00:00",
          "2019-09-27 00:00:00",
          "2019-09-28 00:00:00",
          "2019-09-29 00:00:00",
          "2019-09-30 00:00:00",
          "2019-10-01 00:00:00",
          "2019-10-02 00:00:00",
          "2019-10-03 00:00:00",
          "2019-10-04 00:00:00",
          "2019-10-05 00:00:00",
          "2019-10-06 00:00:00",
          "2019-10-07 00:00:00",
          "2019-10-08 00:00:00",
          "2019-10-09 00:00:00",
          "2019-10-10 00:00:00",
          "2019-10-11 00:00:00",
          "2019-10-12 00:00:00",
          "2019-10-13 00:00:00",
          "2019-10-14 00:00:00",
          "2019-10-15 00:00:00",
          "2019-10-16 00:00:00",
          "2019-10-17 00:00:00",
          "2019-10-18 00:00:00",
          "2019-10-19 00:00:00",
          "2019-10-20 00:00:00",
          "2019-10-21 00:00:00",
          "2019-10-22 00:00:00",
          "2019-10-23 00:00:00",
          "2019-10-24 00:00:00",
          "2019-10-25 00:00:00",
          "2019-10-26 00:00:00",
          "2019-10-27 00:00:00",
          "2019-10-28 00:00:00",
          "2019-10-29 00:00:00",
          "2019-10-30 00:00:00",
          "2019-10-31 00:00:00",
          "2019-11-01 00:00:00",
          "2019-11-02 00:00:00",
          "2019-11-03 00:00:00",
          "2019-11-04 00:00:00",
          "2019-11-05 00:00:00",
          "2019-11-06 00:00:00",
          "2019-11-07 00:00:00",
          "2019-11-08 00:00:00",
          "2019-11-09 00:00:00",
          "2019-11-10 00:00:00",
          "2019-11-11 00:00:00",
          "2019-11-12 00:00:00",
          "2019-11-13 00:00:00",
          "2019-11-14 00:00:00",
          "2019-11-15 00:00:00",
          "2019-11-16 00:00:00",
          "2019-11-17 00:00:00",
          "2019-11-18 00:00:00",
          "2019-11-19 00:00:00",
          "2019-11-20 00:00:00",
          "2019-11-21 00:00:00",
          "2019-11-22 00:00:00",
          "2019-11-23 00:00:00",
          "2019-11-24 00:00:00",
          "2019-11-25 00:00:00",
          "2019-11-26 00:00:00",
          "2019-11-27 00:00:00",
          "2019-11-28 00:00:00",
          "2019-11-29 00:00:00",
          "2019-11-30 00:00:00",
          "2019-12-01 00:00:00",
          "2019-12-02 00:00:00",
          "2019-12-03 00:00:00",
          "2019-12-04 00:00:00",
          "2019-12-05 00:00:00",
          "2019-12-06 00:00:00",
          "2019-12-07 00:00:00",
          "2019-12-08 00:00:00",
          "2019-12-09 00:00:00",
          "2019-12-10 00:00:00",
          "2019-12-11 00:00:00",
          "2019-12-12 00:00:00",
          "2019-12-13 00:00:00",
          "2019-12-14 00:00:00",
          "2019-12-15 00:00:00",
          "2019-12-16 00:00:00",
          "2019-12-17 00:00:00",
          "2019-12-18 00:00:00",
          "2019-12-19 00:00:00",
          "2019-12-20 00:00:00",
          "2019-12-21 00:00:00",
          "2019-12-22 00:00:00",
          "2019-12-23 00:00:00",
          "2019-12-24 00:00:00",
          "2019-12-25 00:00:00",
          "2019-12-26 00:00:00",
          "2019-12-27 00:00:00",
          "2019-12-28 00:00:00",
          "2019-12-29 00:00:00",
          "2019-12-30 00:00:00",
          "2019-12-31 00:00:00",
          "2020-01-01 00:00:00",
          "2020-01-02 00:00:00",
          "2020-01-03 00:00:00",
          "2020-01-04 00:00:00",
          "2020-01-05 00:00:00",
          "2020-01-06 00:00:00",
          "2020-01-07 00:00:00",
          "2020-01-08 00:00:00",
          "2020-01-09 00:00:00",
          "2020-01-10 00:00:00",
          "2020-01-11 00:00:00",
          "2020-01-12 00:00:00",
          "2020-01-13 00:00:00",
          "2020-01-14 00:00:00",
          "2020-01-15 00:00:00",
          "2020-01-16 00:00:00",
          "2020-01-17 00:00:00",
          "2020-01-18 00:00:00",
          "2020-01-19 00:00:00",
          "2020-01-20 00:00:00",
          "2020-01-21 00:00:00",
          "2020-01-22 00:00:00",
          "2020-01-23 00:00:00",
          "2020-01-24 00:00:00",
          "2020-01-25 00:00:00",
          "2020-01-26 00:00:00",
          "2020-01-27 00:00:00",
          "2020-01-28 00:00:00",
          "2020-01-29 00:00:00",
          "2020-01-30 00:00:00",
          "2020-01-31 00:00:00",
          "2020-02-01 00:00:00",
          "2020-02-02 00:00:00",
          "2020-02-03 00:00:00",
          "2020-02-04 00:00:00",
          "2020-02-05 00:00:00",
          "2020-02-06 00:00:00",
          "2020-02-07 00:00:00",
          "2020-02-08 00:00:00",
          "2020-02-09 00:00:00",
          "2020-02-10 00:00:00",
          "2020-02-11 00:00:00",
          "2020-02-12 00:00:00",
          "2020-02-13 00:00:00",
          "2020-02-14 00:00:00",
          "2020-02-15 00:00:00",
          "2020-02-16 00:00:00",
          "2020-02-17 00:00:00",
          "2020-02-18 00:00:00",
          "2020-02-19 00:00:00",
          "2020-02-20 00:00:00",
          "2020-02-21 00:00:00",
          "2020-02-22 00:00:00",
          "2020-02-23 00:00:00",
          "2020-02-24 00:00:00",
          "2020-02-25 00:00:00",
          "2020-02-26 00:00:00",
          "2020-02-27 00:00:00",
          "2020-02-28 00:00:00",
          "2020-02-29 00:00:00",
          "2020-03-01 00:00:00",
          "2020-03-02 00:00:00",
          "2020-03-03 00:00:00",
          "2020-03-04 00:00:00",
          "2020-03-05 00:00:00",
          "2020-03-06 00:00:00",
          "2020-03-07 00:00:00",
          "2020-03-08 00:00:00",
          "2020-03-09 00:00:00",
          "2020-03-10 00:00:00",
          "2020-03-11 00:00:00",
          "2020-03-12 00:00:00",
          "2020-03-13 00:00:00",
          "2020-03-14 00:00:00",
          "2020-03-15 00:00:00",
          "2020-03-16 00:00:00",
          "2020-03-17 00:00:00",
          "2020-03-18 00:00:00",
          "2020-03-19 00:00:00",
          "2020-03-20 00:00:00",
          "2020-03-21 00:00:00",
          "2020-03-22 00:00:00",
          "2020-03-23 00:00:00",
          "2020-03-24 00:00:00",
          "2020-03-25 00:00:00",
          "2020-03-26 00:00:00",
          "2020-03-27 00:00:00",
          "2020-03-28 00:00:00",
          "2020-03-29 00:00:00",
          "2020-03-30 00:00:00",
          "2020-03-31 00:00:00",
          "2020-04-01 00:00:00",
          "2020-04-02 00:00:00",
          "2020-04-03 00:00:00",
          "2020-04-04 00:00:00",
          "2020-04-05 00:00:00",
          "2020-04-06 00:00:00",
          "2020-04-07 00:00:00",
          "2020-04-08 00:00:00",
          "2020-04-09 00:00:00",
          "2020-04-10 00:00:00",
          "2020-04-11 00:00:00",
          "2020-04-12 00:00:00",
          "2020-04-13 00:00:00",
          "2020-04-14 00:00:00",
          "2020-04-15 00:00:00",
          "2020-04-16 00:00:00",
          "2020-04-17 00:00:00",
          "2020-04-18 00:00:00",
          "2020-04-19 00:00:00",
          "2020-04-20 00:00:00",
          "2020-04-21 00:00:00",
          "2020-04-22 00:00:00",
          "2020-04-23 00:00:00",
          "2020-04-24 00:00:00",
          "2020-04-25 00:00:00",
          "2020-04-26 00:00:00",
          "2020-04-27 00:00:00",
          "2020-04-28 00:00:00",
          "2020-04-29 00:00:00",
          "2020-04-30 00:00:00",
          "2020-05-01 00:00:00",
          "2020-05-02 00:00:00",
          "2020-05-03 00:00:00",
          "2020-05-04 00:00:00",
          "2020-05-05 00:00:00",
          "2020-05-06 00:00:00",
          "2020-05-07 00:00:00",
          "2020-05-08 00:00:00",
          "2020-05-09 00:00:00",
          "2020-05-10 00:00:00",
          "2020-05-11 00:00:00",
          "2020-05-12 00:00:00",
          "2020-05-13 00:00:00",
          "2020-05-14 00:00:00",
          "2020-05-15 00:00:00",
          "2020-05-16 00:00:00",
          "2020-05-17 00:00:00",
          "2020-05-18 00:00:00",
          "2020-05-19 00:00:00",
          "2020-05-20 00:00:00",
          "2020-05-21 00:00:00",
          "2020-05-22 00:00:00",
          "2020-05-23 00:00:00",
          "2020-05-24 00:00:00",
          "2020-05-25 00:00:00",
          "2020-05-26 00:00:00",
          "2020-05-27 00:00:00",
          "2020-05-28 00:00:00",
          "2020-05-29 00:00:00",
          "2020-05-30 00:00:00",
          "2020-05-31 00:00:00",
          "2020-06-01 00:00:00",
          "2020-06-02 00:00:00",
          "2020-06-03 00:00:00",
          "2020-06-04 00:00:00",
          "2020-06-05 00:00:00",
          "2020-06-06 00:00:00",
          "2020-06-07 00:00:00",
          "2020-06-08 00:00:00",
          "2020-06-09 00:00:00",
          "2020-06-10 00:00:00",
          "2020-06-11 00:00:00",
          "2020-06-12 00:00:00",
          "2020-06-13 00:00:00",
          "2020-06-14 00:00:00",
          "2020-06-15 00:00:00",
          "2020-06-16 00:00:00",
          "2020-06-17 00:00:00",
          "2020-06-18 00:00:00",
          "2020-06-19 00:00:00",
          "2020-06-20 00:00:00",
          "2020-06-21 00:00:00",
          "2020-06-22 00:00:00",
          "2020-06-23 00:00:00",
          "2020-06-24 00:00:00",
          "2020-06-25 00:00:00",
          "2020-06-26 00:00:00",
          "2020-06-27 00:00:00",
          "2020-06-28 00:00:00",
          "2020-06-29 00:00:00",
          "2020-06-30 00:00:00",
          "2020-07-01 00:00:00",
          "2020-07-02 00:00:00",
          "2020-07-03 00:00:00",
          "2020-07-04 00:00:00",
          "2020-07-05 00:00:00",
          "2020-07-06 00:00:00",
          "2020-07-07 00:00:00",
          "2020-07-08 00:00:00",
          "2020-07-09 00:00:00",
          "2020-07-10 00:00:00",
          "2020-07-11 00:00:00",
          "2020-07-12 00:00:00",
          "2020-07-13 00:00:00",
          "2020-07-14 00:00:00",
          "2020-07-15 00:00:00",
          "2020-07-16 00:00:00",
          "2020-07-17 00:00:00",
          "2020-07-18 00:00:00",
          "2020-07-19 00:00:00",
          "2020-07-20 00:00:00",
          "2020-07-21 00:00:00",
          "2020-07-22 00:00:00",
          "2020-07-23 00:00:00",
          "2020-07-24 00:00:00",
          "2020-07-25 00:00:00",
          "2020-07-26 00:00:00",
          "2020-07-27 00:00:00",
          "2020-07-28 00:00:00",
          "2020-07-29 00:00:00",
          "2020-07-30 00:00:00",
          "2020-07-31 00:00:00",
          "2020-08-01 00:00:00",
          "2020-08-02 00:00:00",
          "2020-08-03 00:00:00",
          "2020-08-04 00:00:00",
          "2020-08-05 00:00:00",
          "2020-08-06 00:00:00",
          "2020-08-07 00:00:00",
          "2020-08-08 00:00:00",
          "2020-08-09 00:00:00",
          "2020-08-10 00:00:00",
          "2020-08-11 00:00:00",
          "2020-08-12 00:00:00",
          "2020-08-13 00:00:00",
          "2020-08-14 00:00:00",
          "2020-08-15 00:00:00",
          "2020-08-16 00:00:00",
          "2020-08-17 00:00:00",
          "2020-08-18 00:00:00",
          "2020-08-19 00:00:00",
          "2020-08-20 00:00:00",
          "2020-08-21 00:00:00",
          "2020-08-22 00:00:00",
          "2020-08-23 00:00:00",
          "2020-08-24 00:00:00",
          "2020-08-25 00:00:00",
          "2020-08-26 00:00:00",
          "2020-08-27 00:00:00",
          "2020-08-28 00:00:00",
          "2020-08-29 00:00:00",
          "2020-08-30 00:00:00",
          "2020-08-31 00:00:00",
          "2020-09-01 00:00:00",
          "2020-09-02 00:00:00",
          "2020-09-03 00:00:00",
          "2020-09-04 00:00:00",
          "2020-09-05 00:00:00",
          "2020-09-06 00:00:00",
          "2020-09-07 00:00:00",
          "2020-09-08 00:00:00",
          "2020-09-09 00:00:00",
          "2020-09-10 00:00:00",
          "2020-09-11 00:00:00",
          "2020-09-12 00:00:00",
          "2020-09-13 00:00:00",
          "2020-09-14 00:00:00",
          "2020-09-15 00:00:00",
          "2020-09-16 00:00:00",
          "2020-09-17 00:00:00",
          "2020-09-18 00:00:00",
          "2020-09-19 00:00:00",
          "2020-09-20 00:00:00",
          "2020-09-21 00:00:00",
          "2020-09-22 00:00:00",
          "2020-09-23 00:00:00",
          "2020-09-24 00:00:00",
          "2020-09-25 00:00:00",
          "2020-09-26 00:00:00",
          "2020-09-27 00:00:00",
          "2020-09-28 00:00:00",
          "2020-09-29 00:00:00",
          "2020-09-30 00:00:00",
          "2020-10-01 00:00:00",
          "2020-10-02 00:00:00",
          "2020-10-03 00:00:00",
          "2020-10-04 00:00:00",
          "2020-10-05 00:00:00",
          "2020-10-06 00:00:00",
          "2020-10-07 00:00:00",
          "2020-10-08 00:00:00",
          "2020-10-09 00:00:00",
          "2020-10-10 00:00:00",
          "2020-10-11 00:00:00",
          "2020-10-12 00:00:00",
          "2020-10-13 00:00:00",
          "2020-10-14 00:00:00",
          "2020-10-15 00:00:00",
          "2020-10-16 00:00:00",
          "2020-10-17 00:00:00",
          "2020-10-18 00:00:00",
          "2020-10-19 00:00:00",
          "2020-10-20 00:00:00",
          "2020-10-21 00:00:00",
          "2020-10-22 00:00:00",
          "2020-10-23 00:00:00",
          "2020-10-24 00:00:00",
          "2020-10-25 00:00:00",
          "2020-10-26 00:00:00",
          "2020-10-27 00:00:00",
          "2020-10-28 00:00:00",
          "2020-10-29 00:00:00",
          "2020-10-30 00:00:00",
          "2020-10-31 00:00:00",
          "2020-11-01 00:00:00",
          "2020-11-02 00:00:00",
          "2020-11-03 00:00:00",
          "2020-11-04 00:00:00",
          "2020-11-05 00:00:00",
          "2020-11-06 00:00:00",
          "2020-11-07 00:00:00",
          "2020-11-08 00:00:00",
          "2020-11-09 00:00:00",
          "2020-11-10 00:00:00",
          "2020-11-11 00:00:00",
          "2020-11-12 00:00:00",
          "2020-11-13 00:00:00",
          "2020-11-14 00:00:00",
          "2020-11-15 00:00:00",
          "2020-11-16 00:00:00",
          "2020-11-17 00:00:00",
          "2020-11-18 00:00:00",
          "2020-11-19 00:00:00",
          "2020-11-20 00:00:00",
          "2020-11-21 00:00:00",
          "2020-11-22 00:00:00",
          "2020-11-23 00:00:00",
          "2020-11-24 00:00:00",
          "2020-11-25 00:00:00",
          "2020-11-26 00:00:00",
          "2020-11-27 00:00:00",
          "2020-11-28 00:00:00",
          "2020-11-29 00:00:00",
          "2020-11-30 00:00:00",
          "2020-12-01 00:00:00",
          "2020-12-02 00:00:00",
          "2020-12-03 00:00:00",
          "2020-12-04 00:00:00",
          "2020-12-05 00:00:00",
          "2020-12-06 00:00:00",
          "2020-12-07 00:00:00",
          "2020-12-08 00:00:00",
          "2020-12-09 00:00:00",
          "2020-12-10 00:00:00",
          "2020-12-11 00:00:00",
          "2020-12-12 00:00:00",
          "2020-12-13 00:00:00",
          "2020-12-14 00:00:00",
          "2020-12-15 00:00:00",
          "2020-12-16 00:00:00",
          "2020-12-17 00:00:00",
          "2020-12-18 00:00:00",
          "2020-12-19 00:00:00",
          "2020-12-20 00:00:00",
          "2020-12-21 00:00:00",
          "2020-12-22 00:00:00",
          "2020-12-23 00:00:00",
          "2020-12-24 00:00:00",
          "2020-12-25 00:00:00",
          "2020-12-26 00:00:00",
          "2020-12-27 00:00:00",
          "2020-12-28 00:00:00",
          "2020-12-29 00:00:00",
          "2020-12-30 00:00:00",
          "2020-12-31 00:00:00",
          "2021-01-01 00:00:00",
          "2021-01-02 00:00:00",
          "2021-01-03 00:00:00",
          "2021-01-04 00:00:00",
          "2021-01-05 00:00:00",
          "2021-01-06 00:00:00",
          "2021-01-07 00:00:00",
          "2021-01-08 00:00:00",
          "2021-01-09 00:00:00",
          "2021-01-10 00:00:00",
          "2021-01-11 00:00:00",
          "2021-01-12 00:00:00",
          "2021-01-13 00:00:00",
          "2021-01-14 00:00:00",
          "2021-01-15 00:00:00",
          "2021-01-16 00:00:00",
          "2021-01-17 00:00:00",
          "2021-01-18 00:00:00",
          "2021-01-19 00:00:00",
          "2021-01-20 00:00:00",
          "2021-01-21 00:00:00",
          "2021-01-22 00:00:00",
          "2021-01-23 00:00:00",
          "2021-01-24 00:00:00",
          "2021-01-25 00:00:00",
          "2021-01-26 00:00:00",
          "2021-01-27 00:00:00",
          "2021-01-28 00:00:00",
          "2021-01-29 00:00:00",
          "2021-01-30 00:00:00",
          "2021-01-31 00:00:00",
          "2021-02-01 00:00:00",
          "2021-02-02 00:00:00",
          "2021-02-03 00:00:00",
          "2021-02-04 00:00:00",
          "2021-02-05 00:00:00",
          "2021-02-06 00:00:00",
          "2021-02-07 00:00:00",
          "2021-02-08 00:00:00",
          "2021-02-09 00:00:00",
          "2021-02-10 00:00:00",
          "2021-02-11 00:00:00",
          "2021-02-12 00:00:00",
          "2021-02-13 00:00:00",
          "2021-02-14 00:00:00",
          "2021-02-15 00:00:00",
          "2021-02-16 00:00:00",
          "2021-02-17 00:00:00",
          "2021-02-18 00:00:00",
          "2021-02-19 00:00:00",
          "2021-02-20 00:00:00",
          "2021-02-21 00:00:00",
          "2021-02-22 00:00:00",
          "2021-02-23 00:00:00",
          "2021-02-24 00:00:00",
          "2021-02-25 00:00:00",
          "2021-02-26 00:00:00",
          "2021-02-27 00:00:00",
          "2021-02-28 00:00:00",
          "2021-03-01 00:00:00",
          "2021-03-02 00:00:00",
          "2021-03-03 00:00:00",
          "2021-03-04 00:00:00",
          "2021-03-05 00:00:00",
          "2021-03-06 00:00:00",
          "2021-03-07 00:00:00",
          "2021-03-08 00:00:00",
          "2021-03-09 00:00:00",
          "2021-03-10 00:00:00",
          "2021-03-11 00:00:00",
          "2021-03-12 00:00:00",
          "2021-03-13 00:00:00",
          "2021-03-14 00:00:00",
          "2021-03-15 00:00:00",
          "2021-03-16 00:00:00",
          "2021-03-17 00:00:00",
          "2021-03-18 00:00:00",
          "2021-03-19 00:00:00",
          "2021-03-20 00:00:00",
          "2021-03-21 00:00:00",
          "2021-03-22 00:00:00",
          "2021-03-23 00:00:00",
          "2021-03-24 00:00:00",
          "2021-03-25 00:00:00",
          "2021-03-26 00:00:00",
          "2021-03-27 00:00:00",
          "2021-03-28 00:00:00",
          "2021-03-29 00:00:00",
          "2021-03-30 00:00:00",
          "2021-03-31 00:00:00",
          "2021-04-01 00:00:00",
          "2021-04-02 00:00:00",
          "2021-04-03 00:00:00",
          "2021-04-04 00:00:00",
          "2021-04-05 00:00:00",
          "2021-04-06 00:00:00",
          "2021-04-07 00:00:00",
          "2021-04-08 00:00:00",
          "2021-04-09 00:00:00",
          "2021-04-10 00:00:00",
          "2021-04-11 00:00:00",
          "2021-04-12 00:00:00",
          "2021-04-13 00:00:00",
          "2021-04-14 00:00:00",
          "2021-04-15 00:00:00",
          "2021-04-16 00:00:00",
          "2021-04-17 00:00:00",
          "2021-04-18 00:00:00",
          "2021-04-19 00:00:00",
          "2021-04-20 00:00:00",
          "2021-04-21 00:00:00",
          "2021-04-22 00:00:00",
          "2021-04-23 00:00:00",
          "2021-04-24 00:00:00",
          "2021-04-25 00:00:00",
          "2021-04-26 00:00:00",
          "2021-04-27 00:00:00",
          "2021-04-28 00:00:00",
          "2021-04-29 00:00:00",
          "2021-04-30 00:00:00",
          "2021-05-01 00:00:00",
          "2021-05-02 00:00:00",
          "2021-05-03 00:00:00",
          "2021-05-04 00:00:00",
          "2021-05-05 00:00:00",
          "2021-05-06 00:00:00",
          "2021-05-07 00:00:00",
          "2021-05-08 00:00:00",
          "2021-05-09 00:00:00",
          "2021-05-10 00:00:00",
          "2021-05-11 00:00:00",
          "2021-05-12 00:00:00",
          "2021-05-13 00:00:00",
          "2021-05-14 00:00:00",
          "2021-05-15 00:00:00",
          "2021-05-16 00:00:00",
          "2021-05-17 00:00:00",
          "2021-05-18 00:00:00",
          "2021-05-19 00:00:00",
          "2021-05-20 00:00:00",
          "2021-05-21 00:00:00",
          "2021-05-22 00:00:00",
          "2021-05-23 00:00:00",
          "2021-05-24 00:00:00",
          "2021-05-25 00:00:00",
          "2021-05-26 00:00:00",
          "2021-05-27 00:00:00",
          "2021-05-28 00:00:00",
          "2021-05-29 00:00:00",
          "2021-05-30 00:00:00",
          "2021-05-31 00:00:00",
          "2021-06-01 00:00:00",
          "2021-06-02 00:00:00",
          "2021-06-03 00:00:00",
          "2021-06-04 00:00:00",
          "2021-06-05 00:00:00",
          "2021-06-06 00:00:00",
          "2021-06-07 00:00:00",
          "2021-06-08 00:00:00",
          "2021-06-09 00:00:00",
          "2021-06-10 00:00:00",
          "2021-06-11 00:00:00",
          "2021-06-12 00:00:00",
          "2021-06-13 00:00:00",
          "2021-06-14 00:00:00",
          "2021-06-15 00:00:00",
          "2021-06-16 00:00:00",
          "2021-06-17 00:00:00",
          "2021-06-18 00:00:00",
          "2021-06-19 00:00:00",
          "2021-06-20 00:00:00",
          "2021-06-21 00:00:00",
          "2021-06-22 00:00:00",
          "2021-06-23 00:00:00",
          "2021-06-24 00:00:00",
          "2021-06-25 00:00:00",
          "2021-06-26 00:00:00",
          "2021-06-27 00:00:00",
          "2021-06-28 00:00:00",
          "2021-06-29 00:00:00",
          "2021-06-30 00:00:00",
          "2021-07-01 00:00:00",
          "2021-07-02 00:00:00",
          "2021-07-03 00:00:00",
          "2021-07-04 00:00:00",
          "2021-07-05 00:00:00",
          "2021-07-06 00:00:00",
          "2021-07-07 00:00:00",
          "2021-07-08 00:00:00",
          "2021-07-09 00:00:00",
          "2021-07-10 00:00:00",
          "2021-07-11 00:00:00",
          "2021-07-12 00:00:00",
          "2021-07-13 00:00:00",
          "2021-07-14 00:00:00",
          "2021-07-15 00:00:00",
          "2021-07-16 00:00:00",
          "2021-07-17 00:00:00",
          "2021-07-18 00:00:00",
          "2021-07-19 00:00:00",
          "2021-07-20 00:00:00",
          "2021-07-21 00:00:00",
          "2021-07-22 00:00:00",
          "2021-07-23 00:00:00",
          "2021-07-24 00:00:00",
          "2021-07-25 00:00:00",
          "2021-07-26 00:00:00",
          "2021-07-27 00:00:00",
          "2021-07-28 00:00:00",
          "2021-07-29 00:00:00",
          "2021-07-30 00:00:00",
          "2021-07-31 00:00:00",
          "2021-08-01 00:00:00",
          "2021-08-02 00:00:00",
          "2021-08-03 00:00:00",
          "2021-08-04 00:00:00",
          "2021-08-05 00:00:00",
          "2021-08-06 00:00:00",
          "2021-08-07 00:00:00",
          "2021-08-08 00:00:00",
          "2021-08-09 00:00:00",
          "2021-08-10 00:00:00",
          "2021-08-11 00:00:00",
          "2021-08-12 00:00:00",
          "2021-08-13 00:00:00",
          "2021-08-14 00:00:00",
          "2021-08-15 00:00:00",
          "2021-08-16 00:00:00",
          "2021-08-17 00:00:00",
          "2021-08-18 00:00:00",
          "2021-08-19 00:00:00",
          "2021-08-20 00:00:00",
          "2021-08-21 00:00:00",
          "2021-08-22 00:00:00",
          "2021-08-23 00:00:00",
          "2021-08-24 00:00:00",
          "2021-08-25 00:00:00",
          "2021-08-26 00:00:00",
          "2021-08-27 00:00:00",
          "2021-08-28 00:00:00",
          "2021-08-29 00:00:00",
          "2021-08-30 00:00:00",
          "2021-08-31 00:00:00",
          "2021-09-01 00:00:00",
          "2021-09-02 00:00:00",
          "2021-09-03 00:00:00",
          "2021-09-04 00:00:00",
          "2021-09-05 00:00:00",
          "2021-09-06 00:00:00",
          "2021-09-07 00:00:00",
          "2021-09-08 00:00:00",
          "2021-09-09 00:00:00",
          "2021-09-10 00:00:00",
          "2021-09-11 00:00:00",
          "2021-09-12 00:00:00",
          "2021-09-13 00:00:00",
          "2021-09-14 00:00:00",
          "2021-09-15 00:00:00",
          "2021-09-16 00:00:00",
          "2021-09-17 00:00:00",
          "2021-09-18 00:00:00",
          "2021-09-19 00:00:00",
          "2021-09-20 00:00:00",
          "2021-09-21 00:00:00",
          "2021-09-22 00:00:00",
          "2021-09-23 00:00:00",
          "2021-09-24 00:00:00",
          "2021-09-25 00:00:00",
          "2021-09-26 00:00:00",
          "2021-09-27 00:00:00",
          "2021-09-28 00:00:00",
          "2021-09-29 00:00:00",
          "2021-09-30 00:00:00",
          "2021-10-01 00:00:00",
          "2021-10-02 00:00:00",
          "2021-10-03 00:00:00",
          "2021-10-04 00:00:00",
          "2021-10-05 00:00:00",
          "2021-10-06 00:00:00",
          "2021-10-07 00:00:00",
          "2021-10-08 00:00:00",
          "2021-10-09 00:00:00",
          "2021-10-10 00:00:00",
          "2021-10-11 00:00:00",
          "2021-10-12 00:00:00",
          "2021-10-13 00:00:00",
          "2021-10-14 00:00:00",
          "2021-10-15 00:00:00",
          "2021-10-16 00:00:00",
          "2021-10-17 00:00:00",
          "2021-10-18 00:00:00",
          "2021-10-19 00:00:00",
          "2021-10-20 00:00:00",
          "2021-10-21 00:00:00",
          "2021-10-22 00:00:00",
          "2021-10-23 00:00:00",
          "2021-10-24 00:00:00",
          "2021-10-25 00:00:00",
          "2021-10-26 00:00:00",
          "2021-10-27 00:00:00",
          "2021-10-28 00:00:00",
          "2021-10-29 00:00:00",
          "2021-10-30 00:00:00",
          "2021-10-31 00:00:00",
          "2021-11-01 00:00:00",
          "2021-11-02 00:00:00",
          "2021-11-03 00:00:00",
          "2021-11-04 00:00:00",
          "2021-11-05 00:00:00",
          "2021-11-06 00:00:00",
          "2021-11-07 00:00:00",
          "2021-11-08 00:00:00",
          "2021-11-09 00:00:00",
          "2021-11-10 00:00:00",
          "2021-11-11 00:00:00",
          "2021-11-12 00:00:00",
          "2021-11-13 00:00:00",
          "2021-11-14 00:00:00",
          "2021-11-15 00:00:00",
          "2021-11-16 00:00:00",
          "2021-11-17 00:00:00",
          "2021-11-18 00:00:00",
          "2021-11-19 00:00:00",
          "2021-11-20 00:00:00",
          "2021-11-21 00:00:00",
          "2021-11-22 00:00:00",
          "2021-11-23 00:00:00",
          "2021-11-24 00:00:00",
          "2021-11-25 00:00:00",
          "2021-11-26 00:00:00",
          "2021-11-27 00:00:00",
          "2021-11-28 00:00:00",
          "2021-11-29 00:00:00",
          "2021-11-30 00:00:00",
          "2021-12-01 00:00:00",
          "2021-12-02 00:00:00",
          "2021-12-03 00:00:00",
          "2021-12-04 00:00:00",
          "2021-12-05 00:00:00",
          "2021-12-06 00:00:00",
          "2021-12-07 00:00:00",
          "2021-12-08 00:00:00",
          "2021-12-09 00:00:00",
          "2021-12-10 00:00:00",
          "2021-12-11 00:00:00",
          "2021-12-12 00:00:00",
          "2021-12-13 00:00:00",
          "2021-12-14 00:00:00",
          "2021-12-15 00:00:00",
          "2021-12-16 00:00:00",
          "2021-12-17 00:00:00",
          "2021-12-18 00:00:00",
          "2021-12-19 00:00:00",
          "2021-12-20 00:00:00",
          "2021-12-21 00:00:00",
          "2021-12-22 00:00:00",
          "2021-12-23 00:00:00",
          "2021-12-24 00:00:00",
          "2021-12-25 00:00:00",
          "2021-12-26 00:00:00",
          "2021-12-27 00:00:00",
          "2021-12-28 00:00:00",
          "2021-12-29 00:00:00",
          "2021-12-30 00:00:00",
          "2021-12-31 00:00:00",
          "2022-01-01 00:00:00",
          "2022-01-02 00:00:00",
          "2022-01-03 00:00:00",
          "2022-01-04 00:00:00",
          "2022-01-05 00:00:00",
          "2022-01-06 00:00:00",
          "2022-01-07 00:00:00",
          "2022-01-08 00:00:00",
          "2022-01-09 00:00:00",
          "2022-01-10 00:00:00",
          "2022-01-11 00:00:00",
          "2022-01-12 00:00:00",
          "2022-01-13 00:00:00",
          "2022-01-14 00:00:00",
          "2022-01-15 00:00:00",
          "2022-01-16 00:00:00",
          "2022-01-17 00:00:00",
          "2022-01-18 00:00:00",
          "2022-01-19 00:00:00",
          "2022-01-20 00:00:00",
          "2022-01-21 00:00:00",
          "2022-01-22 00:00:00",
          "2022-01-23 00:00:00",
          "2022-01-24 00:00:00",
          "2022-01-25 00:00:00",
          "2022-01-26 00:00:00",
          "2022-01-27 00:00:00",
          "2022-01-28 00:00:00",
          "2022-01-29 00:00:00",
          "2022-01-30 00:00:00",
          "2022-01-31 00:00:00",
          "2022-02-01 00:00:00",
          "2022-02-02 00:00:00",
          "2022-02-03 00:00:00",
          "2022-02-04 00:00:00",
          "2022-02-05 00:00:00",
          "2022-02-06 00:00:00",
          "2022-02-07 00:00:00",
          "2022-02-08 00:00:00",
          "2022-02-09 00:00:00",
          "2022-02-10 00:00:00",
          "2022-02-11 00:00:00",
          "2022-02-12 00:00:00",
          "2022-02-13 00:00:00",
          "2022-02-14 00:00:00",
          "2022-02-15 00:00:00",
          "2022-02-16 00:00:00",
          "2022-02-17 00:00:00",
          "2022-02-18 00:00:00",
          "2022-02-19 00:00:00",
          "2022-02-20 00:00:00",
          "2022-02-21 00:00:00",
          "2022-02-22 00:00:00",
          "2022-02-23 00:00:00",
          "2022-02-24 00:00:00",
          "2022-02-25 00:00:00",
          "2022-02-26 00:00:00",
          "2022-02-27 00:00:00",
          "2022-02-28 00:00:00",
          "2022-03-01 00:00:00",
          "2022-03-02 00:00:00",
          "2022-03-03 00:00:00",
          "2022-03-04 00:00:00",
          "2022-03-05 00:00:00",
          "2022-03-06 00:00:00",
          "2022-03-07 00:00:00",
          "2022-03-08 00:00:00",
          "2022-03-09 00:00:00",
          "2022-03-10 00:00:00",
          "2022-03-11 00:00:00",
          "2022-03-12 00:00:00",
          "2022-03-13 00:00:00",
          "2022-03-14 00:00:00",
          "2022-03-15 00:00:00",
          "2022-03-16 00:00:00",
          "2022-03-17 00:00:00",
          "2022-03-18 00:00:00",
          "2022-03-19 00:00:00",
          "2022-03-20 00:00:00",
          "2022-03-21 00:00:00",
          "2022-03-22 00:00:00",
          "2022-03-23 00:00:00",
          "2022-03-24 00:00:00",
          "2022-03-25 00:00:00",
          "2022-03-26 00:00:00",
          "2022-03-27 00:00:00",
          "2022-03-28 00:00:00",
          "2022-03-29 00:00:00",
          "2022-03-30 00:00:00",
          "2022-03-31 00:00:00",
          "2022-04-01 00:00:00",
          "2022-04-02 00:00:00",
          "2022-04-03 00:00:00",
          "2022-04-04 00:00:00",
          "2022-04-05 00:00:00",
          "2022-04-06 00:00:00",
          "2022-04-07 00:00:00",
          "2022-04-08 00:00:00",
          "2022-04-09 00:00:00",
          "2022-04-10 00:00:00",
          "2022-04-11 00:00:00",
          "2022-04-12 00:00:00",
          "2022-04-13 00:00:00",
          "2022-04-14 00:00:00",
          "2022-04-15 00:00:00",
          "2022-04-16 00:00:00",
          "2022-04-17 00:00:00",
          "2022-04-18 00:00:00",
          "2022-04-19 00:00:00",
          "2022-04-20 00:00:00",
          "2022-04-21 00:00:00",
          "2022-04-22 00:00:00",
          "2022-04-23 00:00:00",
          "2022-04-24 00:00:00",
          "2022-04-25 00:00:00",
          "2022-04-26 00:00:00",
          "2022-04-27 00:00:00",
          "2022-04-28 00:00:00",
          "2022-04-29 00:00:00",
          "2022-04-30 00:00:00",
          "2022-05-01 00:00:00",
          "2022-05-02 00:00:00",
          "2022-05-03 00:00:00",
          "2022-05-04 00:00:00",
          "2022-05-05 00:00:00",
          "2022-05-06 00:00:00",
          "2022-05-07 00:00:00",
          "2022-05-08 00:00:00",
          "2022-05-09 00:00:00",
          "2022-05-10 00:00:00",
          "2022-05-11 00:00:00",
          "2022-05-12 00:00:00",
          "2022-05-13 00:00:00",
          "2022-05-14 00:00:00",
          "2022-05-15 00:00:00",
          "2022-05-16 00:00:00",
          "2022-05-17 00:00:00",
          "2022-05-18 00:00:00",
          "2022-05-19 00:00:00",
          "2022-05-20 00:00:00",
          "2022-05-21 00:00:00",
          "2022-05-22 00:00:00",
          "2022-05-23 00:00:00",
          "2022-05-24 00:00:00",
          "2022-05-25 00:00:00",
          "2022-05-26 00:00:00",
          "2022-05-27 00:00:00",
          "2022-05-28 00:00:00",
          "2022-05-29 00:00:00",
          "2022-05-30 00:00:00",
          "2022-05-31 00:00:00",
          "2022-06-01 00:00:00",
          "2022-06-02 00:00:00",
          "2022-06-03 00:00:00",
          "2022-06-04 00:00:00",
          "2022-06-05 00:00:00",
          "2022-06-06 00:00:00",
          "2022-06-07 00:00:00",
          "2022-06-08 00:00:00",
          "2022-06-09 00:00:00",
          "2022-06-10 00:00:00",
          "2022-06-11 00:00:00",
          "2022-06-12 00:00:00",
          "2022-06-13 00:00:00",
          "2022-06-14 00:00:00",
          "2022-06-15 00:00:00",
          "2022-06-16 00:00:00",
          "2022-06-17 00:00:00",
          "2022-06-18 00:00:00",
          "2022-06-19 00:00:00",
          "2022-06-20 00:00:00",
          "2022-06-21 00:00:00",
          "2022-06-22 00:00:00",
          "2022-06-23 00:00:00",
          "2022-06-24 00:00:00",
          "2022-06-25 00:00:00",
          "2022-06-26 00:00:00",
          "2022-06-27 00:00:00",
          "2022-06-28 00:00:00",
          "2022-06-29 00:00:00",
          "2022-06-30 00:00:00",
          "2022-07-01 00:00:00",
          "2022-07-02 00:00:00",
          "2022-07-03 00:00:00",
          "2022-07-04 00:00:00",
          "2022-07-05 00:00:00",
          "2022-07-06 00:00:00",
          "2022-07-07 00:00:00",
          "2022-07-08 00:00:00",
          "2022-07-09 00:00:00",
          "2022-07-10 00:00:00",
          "2022-07-11 00:00:00",
          "2022-07-12 00:00:00",
          "2022-07-13 00:00:00",
          "2022-07-14 00:00:00",
          "2022-07-15 00:00:00",
          "2022-07-16 00:00:00",
          "2022-07-17 00:00:00",
          "2022-07-18 00:00:00",
          "2022-07-19 00:00:00",
          "2022-07-20 00:00:00",
          "2022-07-21 00:00:00",
          "2022-07-22 00:00:00",
          "2022-07-23 00:00:00",
          "2022-07-24 00:00:00",
          "2022-07-25 00:00:00",
          "2022-07-26 00:00:00",
          "2022-07-27 00:00:00",
          "2022-07-28 00:00:00",
          "2022-07-29 00:00:00",
          "2022-07-30 00:00:00",
          "2022-07-31 00:00:00",
          "2022-08-01 00:00:00",
          "2022-08-02 00:00:00",
          "2022-08-03 00:00:00",
          "2022-08-04 00:00:00",
          "2022-08-05 00:00:00",
          "2022-08-06 00:00:00",
          "2022-08-07 00:00:00",
          "2022-08-08 00:00:00",
          "2022-08-09 00:00:00",
          "2022-08-10 00:00:00",
          "2022-08-11 00:00:00",
          "2022-08-12 00:00:00",
          "2022-08-13 00:00:00",
          "2022-08-14 00:00:00",
          "2022-08-15 00:00:00",
          "2022-08-16 00:00:00",
          "2022-08-17 00:00:00",
          "2022-08-18 00:00:00",
          "2022-08-19 00:00:00",
          "2022-08-20 00:00:00",
          "2022-08-21 00:00:00",
          "2022-08-22 00:00:00",
          "2022-08-23 00:00:00",
          "2022-08-24 00:00:00",
          "2022-08-25 00:00:00",
          "2022-08-26 00:00:00",
          "2022-08-27 00:00:00",
          "2022-08-28 00:00:00",
          "2022-08-29 00:00:00",
          "2022-08-30 00:00:00",
          "2022-08-31 00:00:00",
          "2022-09-01 00:00:00",
          "2022-09-02 00:00:00",
          "2022-09-03 00:00:00",
          "2022-09-04 00:00:00",
          "2022-09-05 00:00:00",
          "2022-09-06 00:00:00",
          "2022-09-07 00:00:00",
          "2022-09-08 00:00:00",
          "2022-09-09 00:00:00",
          "2022-09-10 00:00:00",
          "2022-09-11 00:00:00",
          "2022-09-12 00:00:00",
          "2022-09-13 00:00:00",
          "2022-09-14 00:00:00",
          "2022-09-15 00:00:00",
          "2022-09-16 00:00:00",
          "2022-09-17 00:00:00",
          "2022-09-18 00:00:00",
          "2022-09-19 00:00:00",
          "2022-09-20 00:00:00",
          "2022-09-21 00:00:00",
          "2022-09-22 00:00:00",
          "2022-09-23 00:00:00",
          "2022-09-24 00:00:00",
          "2022-09-25 00:00:00",
          "2022-09-26 00:00:00",
          "2022-09-27 00:00:00",
          "2022-09-28 00:00:00",
          "2022-09-29 00:00:00",
          "2022-09-30 00:00:00",
          "2022-10-01 00:00:00",
          "2022-10-02 00:00:00",
          "2022-10-03 00:00:00",
          "2022-10-04 00:00:00",
          "2022-10-05 00:00:00",
          "2022-10-06 00:00:00",
          "2022-10-07 00:00:00",
          "2022-10-08 00:00:00",
          "2022-10-09 00:00:00",
          "2022-10-10 00:00:00",
          "2022-10-11 00:00:00",
          "2022-10-12 00:00:00",
          "2022-10-13 00:00:00",
          "2022-10-14 00:00:00",
          "2022-10-15 00:00:00",
          "2022-10-16 00:00:00",
          "2022-10-17 00:00:00",
          "2022-10-18 00:00:00",
          "2022-10-19 00:00:00",
          "2022-10-20 00:00:00",
          "2022-10-21 00:00:00",
          "2022-10-22 00:00:00",
          "2022-10-23 00:00:00",
          "2022-10-24 00:00:00",
          "2022-10-25 00:00:00",
          "2022-10-26 00:00:00",
          "2022-10-27 00:00:00",
          "2022-10-28 00:00:00",
          "2022-10-29 00:00:00",
          "2022-10-30 00:00:00",
          "2022-10-31 00:00:00",
          "2022-11-01 00:00:00",
          "2022-11-02 00:00:00",
          "2022-11-03 00:00:00",
          "2022-11-04 00:00:00",
          "2022-11-05 00:00:00",
          "2022-11-06 00:00:00",
          "2022-11-07 00:00:00",
          "2022-11-08 00:00:00",
          "2022-11-09 00:00:00",
          "2022-11-10 00:00:00",
          "2022-11-11 00:00:00",
          "2022-11-12 00:00:00",
          "2022-11-13 00:00:00",
          "2022-11-14 00:00:00",
          "2022-11-15 00:00:00",
          "2022-11-16 00:00:00",
          "2022-11-17 00:00:00",
          "2022-11-18 00:00:00",
          "2022-11-19 00:00:00",
          "2022-11-20 00:00:00",
          "2022-11-21 00:00:00",
          "2022-11-22 00:00:00",
          "2022-11-23 00:00:00",
          "2022-11-24 00:00:00",
          "2022-11-25 00:00:00",
          "2022-11-26 00:00:00",
          "2022-11-27 00:00:00",
          "2022-11-28 00:00:00",
          "2022-11-29 00:00:00",
          "2022-11-30 00:00:00",
          "2022-12-01 00:00:00",
          "2022-12-02 00:00:00",
          "2022-12-03 00:00:00",
          "2022-12-04 00:00:00",
          "2022-12-05 00:00:00",
          "2022-12-06 00:00:00",
          "2022-12-07 00:00:00",
          "2022-12-08 00:00:00",
          "2022-12-09 00:00:00",
          "2022-12-10 00:00:00",
          "2022-12-11 00:00:00",
          "2022-12-12 00:00:00",
          "2022-12-13 00:00:00",
          "2022-12-14 00:00:00",
          "2022-12-15 00:00:00",
          "2022-12-16 00:00:00",
          "2022-12-17 00:00:00",
          "2022-12-18 00:00:00",
          "2022-12-19 00:00:00",
          "2022-12-20 00:00:00",
          "2022-12-21 00:00:00",
          "2022-12-22 00:00:00",
          "2022-12-23 00:00:00",
          "2022-12-24 00:00:00",
          "2022-12-25 00:00:00",
          "2022-12-26 00:00:00",
          "2022-12-27 00:00:00",
          "2022-12-28 00:00:00",
          "2022-12-29 00:00:00",
          "2022-12-30 00:00:00",
          "2022-12-31 00:00:00",
          "2023-01-01 00:00:00",
          "2023-01-02 00:00:00",
          "2023-01-03 00:00:00",
          "2023-01-04 00:00:00",
          "2023-01-05 00:00:00",
          "2023-01-06 00:00:00",
          "2023-01-07 00:00:00",
          "2023-01-08 00:00:00",
          "2023-01-09 00:00:00",
          "2023-01-10 00:00:00",
          "2023-01-11 00:00:00",
          "2023-01-12 00:00:00",
          "2023-01-13 00:00:00",
          "2023-01-14 00:00:00",
          "2023-01-15 00:00:00",
          "2023-01-16 00:00:00",
          "2023-01-17 00:00:00",
          "2023-01-18 00:00:00",
          "2023-01-19 00:00:00",
          "2023-01-20 00:00:00",
          "2023-01-21 00:00:00",
          "2023-01-22 00:00:00",
          "2023-01-23 00:00:00",
          "2023-01-24 00:00:00",
          "2023-01-25 00:00:00",
          "2023-01-26 00:00:00",
          "2023-01-27 00:00:00",
          "2023-01-28 00:00:00",
          "2023-01-29 00:00:00",
          "2023-01-30 00:00:00",
          "2023-01-31 00:00:00",
          "2023-02-01 00:00:00",
          "2023-02-02 00:00:00",
          "2023-02-03 00:00:00",
          "2023-02-04 00:00:00",
          "2023-02-05 00:00:00",
          "2023-02-06 00:00:00",
          "2023-02-07 00:00:00",
          "2023-02-08 00:00:00",
          "2023-02-09 00:00:00",
          "2023-02-10 00:00:00",
          "2023-02-11 00:00:00",
          "2023-02-12 00:00:00",
          "2023-02-13 00:00:00",
          "2023-02-14 00:00:00",
          "2023-02-15 00:00:00",
          "2023-02-16 00:00:00",
          "2023-02-17 00:00:00",
          "2023-02-18 00:00:00",
          "2023-02-19 00:00:00",
          "2023-02-20 00:00:00",
          "2023-02-21 00:00:00",
          "2023-02-22 00:00:00",
          "2023-02-23 00:00:00",
          "2023-02-24 00:00:00",
          "2023-02-25 00:00:00",
          "2023-02-26 00:00:00",
          "2023-02-27 00:00:00",
          "2023-02-28 00:00:00",
          "2023-03-01 00:00:00",
          "2023-03-02 00:00:00",
          "2023-03-03 00:00:00",
          "2023-03-04 00:00:00",
          "2023-03-05 00:00:00",
          "2023-03-06 00:00:00",
          "2023-03-07 00:00:00",
          "2023-03-08 00:00:00",
          "2023-03-09 00:00:00",
          "2023-03-10 00:00:00",
          "2023-03-11 00:00:00",
          "2023-03-12 00:00:00",
          "2023-03-13 00:00:00",
          "2023-03-14 00:00:00",
          "2023-03-15 00:00:00",
          "2023-03-16 00:00:00",
          "2023-03-17 00:00:00",
          "2023-03-18 00:00:00",
          "2023-03-19 00:00:00",
          "2023-03-20 00:00:00",
          "2023-03-21 00:00:00",
          "2023-03-22 00:00:00",
          "2023-03-23 00:00:00",
          "2023-03-24 00:00:00",
          "2023-03-25 00:00:00",
          "2023-03-26 00:00:00",
          "2023-03-27 00:00:00",
          "2023-03-28 00:00:00",
          "2023-03-29 00:00:00",
          "2023-03-30 00:00:00",
          "2023-03-31 00:00:00",
          "2023-04-01 00:00:00",
          "2023-04-02 00:00:00",
          "2023-04-03 00:00:00",
          "2023-04-04 00:00:00",
          "2023-04-05 00:00:00",
          "2023-04-06 00:00:00",
          "2023-04-07 00:00:00",
          "2023-04-08 00:00:00",
          "2023-04-09 00:00:00",
          "2023-04-10 00:00:00",
          "2023-04-11 00:00:00",
          "2023-04-12 00:00:00",
          "2023-04-13 00:00:00",
          "2023-04-14 00:00:00",
          "2023-04-15 00:00:00",
          "2023-04-16 00:00:00",
          "2023-04-17 00:00:00",
          "2023-04-18 00:00:00",
          "2023-04-19 00:00:00",
          "2023-04-20 00:00:00",
          "2023-04-21 00:00:00",
          "2023-04-22 00:00:00",
          "2023-04-23 00:00:00",
          "2023-04-24 00:00:00",
          "2023-04-25 00:00:00",
          "2023-04-26 00:00:00",
          "2023-04-27 00:00:00",
          "2023-04-28 00:00:00",
          "2023-04-29 00:00:00",
          "2023-04-30 00:00:00",
          "2023-05-01 00:00:00",
          "2023-05-02 00:00:00",
          "2023-05-03 00:00:00",
          "2023-05-04 00:00:00",
          "2023-05-05 00:00:00",
          "2023-05-06 00:00:00",
          "2023-05-07 00:00:00",
          "2023-05-08 00:00:00",
          "2023-05-09 00:00:00",
          "2023-05-10 00:00:00",
          "2023-05-11 00:00:00",
          "2023-05-12 00:00:00",
          "2023-05-13 00:00:00",
          "2023-05-14 00:00:00",
          "2023-05-15 00:00:00",
          "2023-05-16 00:00:00",
          "2023-05-17 00:00:00",
          "2023-05-18 00:00:00",
          "2023-05-19 00:00:00",
          "2023-05-20 00:00:00",
          "2023-05-21 00:00:00",
          "2023-05-22 00:00:00",
          "2023-05-23 00:00:00",
          "2023-05-24 00:00:00",
          "2023-05-25 00:00:00",
          "2023-05-26 00:00:00",
          "2023-05-27 00:00:00",
          "2023-05-28 00:00:00",
          "2023-05-29 00:00:00",
          "2023-05-30 00:00:00",
          "2023-05-31 00:00:00",
          "2023-06-01 00:00:00",
          "2023-06-02 00:00:00",
          "2023-06-03 00:00:00",
          "2023-06-04 00:00:00",
          "2023-06-05 00:00:00",
          "2023-06-06 00:00:00",
          "2023-06-07 00:00:00",
          "2023-06-08 00:00:00",
          "2023-06-09 00:00:00",
          "2023-06-10 00:00:00",
          "2023-06-11 00:00:00",
          "2023-06-12 00:00:00",
          "2023-06-13 00:00:00",
          "2023-06-14 00:00:00",
          "2023-06-15 00:00:00",
          "2023-06-16 00:00:00",
          "2023-06-17 00:00:00",
          "2023-06-18 00:00:00",
          "2023-06-19 00:00:00",
          "2023-06-20 00:00:00",
          "2023-06-21 00:00:00",
          "2023-06-22 00:00:00",
          "2023-06-23 00:00:00",
          "2023-06-24 00:00:00",
          "2023-06-25 00:00:00",
          "2023-06-26 00:00:00",
          "2023-06-27 00:00:00",
          "2023-06-28 00:00:00",
          "2023-06-29 00:00:00",
          "2023-06-30 00:00:00",
          "2023-07-01 00:00:00",
          "2023-07-02 00:00:00",
          "2023-07-03 00:00:00",
          "2023-07-04 00:00:00",
          "2023-07-05 00:00:00",
          "2023-07-06 00:00:00",
          "2023-07-07 00:00:00",
          "2023-07-08 00:00:00",
          "2023-07-09 00:00:00",
          "2023-07-10 00:00:00",
          "2023-07-11 00:00:00",
          "2023-07-12 00:00:00",
          "2023-07-13 00:00:00",
          "2023-07-14 00:00:00",
          "2023-07-15 00:00:00",
          "2023-07-16 00:00:00",
          "2023-07-17 00:00:00",
          "2023-07-18 00:00:00",
          "2023-07-19 00:00:00",
          "2023-07-20 00:00:00",
          "2023-07-21 00:00:00",
          "2023-07-22 00:00:00",
          "2023-07-23 00:00:00",
          "2023-07-24 00:00:00",
          "2023-07-25 00:00:00",
          "2023-07-26 00:00:00",
          "2023-07-27 00:00:00",
          "2023-07-28 00:00:00",
          "2023-07-29 00:00:00",
          "2023-07-30 00:00:00",
          "2023-07-31 00:00:00",
          "2023-08-01 00:00:00",
          "2023-08-02 00:00:00",
          "2023-08-03 00:00:00",
          "2023-08-04 00:00:00",
          "2023-08-05 00:00:00",
          "2023-08-06 00:00:00",
          "2023-08-07 00:00:00",
          "2023-08-08 00:00:00",
          "2023-08-09 00:00:00",
          "2023-08-10 00:00:00",
          "2023-08-11 00:00:00",
          "2023-08-12 00:00:00",
          "2023-08-13 00:00:00",
          "2023-08-14 00:00:00",
          "2023-08-15 00:00:00",
          "2023-08-16 00:00:00",
          "2023-08-17 00:00:00",
          "2023-08-18 00:00:00",
          "2023-08-19 00:00:00",
          "2023-08-20 00:00:00",
          "2023-08-21 00:00:00",
          "2023-08-22 00:00:00",
          "2023-08-23 00:00:00",
          "2023-08-24 00:00:00",
          "2023-08-25 00:00:00",
          "2023-08-26 00:00:00",
          "2023-08-27 00:00:00",
          "2023-08-28 00:00:00",
          "2023-08-29 00:00:00",
          "2023-08-30 00:00:00",
          "2023-08-31 00:00:00",
          "2023-09-01 00:00:00",
          "2023-09-02 00:00:00",
          "2023-09-03 00:00:00",
          "2023-09-04 00:00:00",
          "2023-09-05 00:00:00",
          "2023-09-06 00:00:00",
          "2023-09-07 00:00:00",
          "2023-09-08 00:00:00",
          "2023-09-09 00:00:00",
          "2023-09-10 00:00:00",
          "2023-09-11 00:00:00",
          "2023-09-12 00:00:00",
          "2023-09-13 00:00:00",
          "2023-09-14 00:00:00",
          "2023-09-15 00:00:00",
          "2023-09-16 00:00:00",
          "2023-09-17 00:00:00",
          "2023-09-18 00:00:00",
          "2023-09-19 00:00:00",
          "2023-09-20 00:00:00",
          "2023-09-21 00:00:00",
          "2023-09-22 00:00:00",
          "2023-09-23 00:00:00",
          "2023-09-24 00:00:00",
          "2023-09-25 00:00:00",
          "2023-09-26 00:00:00",
          "2023-09-27 00:00:00",
          "2023-09-28 00:00:00",
          "2023-09-29 00:00:00",
          "2023-09-30 00:00:00",
          "2023-10-01 00:00:00",
          "2023-10-02 00:00:00",
          "2023-10-03 00:00:00",
          "2023-10-04 00:00:00",
          "2023-10-05 00:00:00",
          "2023-10-06 00:00:00",
          "2023-10-07 00:00:00",
          "2023-10-08 00:00:00",
          "2023-10-09 00:00:00",
          "2023-10-10 00:00:00",
          "2023-10-11 00:00:00",
          "2023-10-12 00:00:00",
          "2023-10-13 00:00:00",
          "2023-10-14 00:00:00",
          "2023-10-15 00:00:00",
          "2023-10-16 00:00:00",
          "2023-10-17 00:00:00"
         ],
         "y": [
          240872,
          289952,
          318440,
          334684,
          320909,
          316020,
          317607,
          298697,
          291192,
          308606,
          307985,
          273255,
          263038,
          249687,
          262726,
          266711,
          279116,
          276164,
          246957,
          236542,
          226487,
          219524,
          219034,
          231448,
          229337,
          205412,
          193102,
          184411,
          212901,
          203540,
          213778,
          204645,
          176369,
          170452,
          162885,
          157923,
          161502,
          166982,
          160239,
          135011,
          129060,
          124025,
          119436,
          132048,
          128598,
          125912,
          105539,
          105906,
          101263,
          98332,
          100650,
          107440,
          104046,
          87237,
          84363,
          82697,
          80762,
          122588,
          120506,
          114646,
          101778,
          95751,
          88576,
          85054,
          89992,
          93228,
          82251,
          73954,
          71358,
          67006,
          68342,
          75560,
          74404,
          68385,
          59415,
          57197,
          54715,
          52809,
          54611,
          56892,
          53145,
          46400,
          44894,
          51300,
          52334,
          122565,
          107612,
          95955,
          79920,
          73063,
          64726,
          60277,
          59263,
          61493,
          54562,
          47688,
          46535,
          45110,
          43282,
          60365,
          57294,
          51704,
          43652,
          40884,
          41220,
          70379,
          64115,
          65946,
          63057,
          55090,
          53860,
          53302,
          51687,
          79051,
          76826,
          71226,
          60492,
          57846,
          54307,
          53858,
          54965,
          59585,
          56848,
          49599,
          52550,
          50475,
          49539,
          64385,
          63955,
          61070,
          52696,
          47654,
          45516,
          45489,
          93807,
          88027,
          83449,
          77168,
          72039,
          74830,
          73653,
          74903,
          76141,
          75200,
          65359,
          68428,
          68731,
          68812,
          97343,
          95520,
          86085,
          74593,
          70744,
          67649,
          67288,
          63220,
          68826,
          65988,
          54237,
          52914,
          51325,
          50992,
          62100,
          65447,
          63217,
          51343,
          52921,
          54341,
          52630,
          53559,
          94397,
          89874,
          75045,
          67345,
          65191,
          60648,
          59440,
          62572,
          61721,
          45109,
          47566,
          48389,
          48333,
          54136,
          60941,
          62495,
          54202,
          53445,
          51505,
          47471,
          48886,
          52745,
          52206,
          46119,
          44199,
          43668,
          44053,
          45293,
          46045,
          42261,
          36574,
          35072,
          34224,
          34021,
          36315,
          38457,
          35912,
          31351,
          31307,
          30741,
          30306,
          35740,
          37516,
          34115,
          28926,
          28116,
          27912,
          27499,
          36936,
          38254,
          35174,
          29754,
          28964,
          27808,
          28220,
          33718,
          32913,
          29390,
          24018,
          23847,
          23499,
          23229,
          23865,
          25640,
          24194,
          20380,
          20399,
          20337,
          25121,
          37056,
          36674,
          38070,
          33757,
          34417,
          32781,
          32409,
          34915,
          37362,
          35114,
          30674,
          30065,
          28619,
          29139,
          51707,
          48689,
          43383,
          41037,
          35768,
          32665,
          32800,
          49794,
          51871,
          51942,
          45792,
          46130,
          46198,
          41039,
          45899,
          48400,
          49323,
          41555,
          40384,
          40852,
          52616,
          54453,
          59550,
          57132,
          47823,
          48033,
          47078,
          46700,
          52765,
          52482,
          47390,
          37826,
          36307,
          34312,
          32411,
          34483,
          37732,
          35454,
          31133,
          30487,
          30526,
          34023,
          39419,
          41438,
          39985,
          34377,
          33729,
          36256,
          36724,
          44992,
          45036,
          42960,
          38863,
          34851,
          33920,
          33184,
          34594,
          37913,
          36210,
          31047,
          29982,
          29965,
          31366,
          36438,
          39574,
          38389,
          32601,
          32650,
          41827,
          47269,
          51308,
          58116,
          59400,
          60198,
          61740,
          62860,
          64361,
          68446,
          72684,
          72353,
          68556,
          70776,
          68905,
          68367,
          72677,
          74119,
          73941,
          67556,
          66160,
          63641,
          63353,
          65645,
          68872,
          66311,
          61835,
          59349,
          57922,
          58440,
          91108,
          89350,
          85691,
          79987,
          75733,
          72636,
          69724,
          71241,
          72860,
          70863,
          65103,
          63041,
          60333,
          61533,
          62661,
          67588,
          70782,
          67683,
          69370,
          69115,
          68513,
          67765,
          69855,
          68633,
          62744,
          60925,
          62042,
          61097,
          65063,
          70454,
          69449,
          64053,
          60278,
          61301,
          59297,
          51713,
          53849,
          51570,
          47257,
          46424,
          45896,
          45811,
          53664,
          61823,
          62162,
          56060,
          57542,
          58242,
          62302,
          67639,
          78848,
          83542,
          80173,
          82129,
          82813,
          85069,
          93183,
          98197,
          94776,
          83840,
          81430,
          77767,
          76444,
          91009,
          89972,
          87100,
          76348,
          70227,
          66972,
          67785,
          63813,
          67284,
          66643,
          57328,
          58670,
          57492,
          57005,
          62485,
          65806,
          61629,
          54635,
          51093,
          50116,
          49753,
          74824,
          74611,
          69642,
          61468,
          58741,
          54954,
          52861,
          55080,
          62871,
          62713,
          60696,
          57367,
          59258,
          60716,
          60377,
          59648,
          55798,
          52981,
          51549,
          50467,
          48754,
          51610,
          54451,
          43046,
          43390,
          42012,
          41303,
          40245,
          42783,
          44546,
          41777,
          37291,
          35736,
          35209,
          34502,
          39437,
          41376,
          39608,
          35293,
          34247,
          35756,
          37946,
          58004,
          61093,
          60566,
          56260,
          57304,
          55414,
          55188,
          64934,
          67802,
          63152,
          56638,
          55381,
          51106,
          47113,
          51623,
          56421,
          53841,
          48122,
          46816,
          44748,
          43957,
          50208,
          55668,
          58863,
          58515,
          57765,
          58485,
          61686,
          66691,
          69697,
          69511,
          68685,
          64922,
          67925,
          70810,
          71218,
          72595,
          69423,
          63854,
          62381,
          63606,
          101350,
          232598,
          274114,
          284524,
          250113,
          241828,
          233438,
          215939,
          219524,
          237784,
          237494,
          202450,
          194057,
          185431,
          178578,
          185441,
          217164,
          227398,
          206565,
          209476,
          207812,
          204878,
          206373,
          224116,
          225235,
          197388,
          191504,
          190134,
          222799,
          212030,
          221567,
          218278,
          188946,
          181501,
          174021,
          180705,
          169802,
          187052,
          188261,
          168889,
          161456,
          154258,
          145633,
          152605,
          161200,
          158404,
          141340,
          135773,
          131086,
          126145,
          166220,
          164297,
          155780,
          137520,
          132257,
          128078,
          123298,
          125266,
          132794,
          127974,
          112697,
          111745,
          107483,
          149477,
          134799,
          131574,
          123044,
          108458,
          104371,
          102006,
          103372,
          219730,
          205296,
          189899,
          166259,
          154125,
          144309,
          138000,
          142219,
          146795,
          140038,
          126334,
          120934,
          113459,
          111354,
          113225,
          143037,
          113925,
          103450,
          100154,
          96939,
          144420,
          150258,
          142522,
          129522,
          122439,
          114511,
          108037,
          101572,
          100827,
          106077,
          99845,
          90256,
          90161,
          91953,
          135041,
          122598,
          117349,
          109683,
          96574,
          93077,
          88503,
          87985,
          107426,
          99856,
          99479,
          89960,
          88529,
          86541,
          85360,
          92309,
          95152,
          88807,
          78944,
          76964,
          73229,
          71440,
          71026,
          75581,
          69410,
          60969,
          59864,
          57087,
          58805,
          62430,
          65101,
          61098,
          55862,
          52316,
          51162,
          49058,
          50510,
          54589,
          50669,
          47049,
          43113,
          42157,
          40888,
          47953,
          51506,
          48595,
          42854,
          41957,
          41230,
          41464,
          42054,
          44607,
          43117,
          37627,
          37798,
          37230,
          36038,
          38267,
          39912,
          37684,
          34511,
          33880,
          34970,
          33694,
          38952,
          43261,
          44504,
          42297,
          44825,
          48016,
          51165,
          65137,
          67938,
          68179,
          65749,
          66952,
          69637,
          144376,
          129770,
          122135,
          110914,
          97665,
          91520,
          82782,
          78613,
          83667,
          84885,
          80135,
          70867,
          68019,
          99731,
          87716,
          83000,
          83120,
          79638,
          72246,
          71152,
          68671,
          66096,
          70428,
          73208,
          71859,
          65708,
          66229,
          61402,
          61221,
          74289,
          66343,
          63420,
          58431,
          55320,
          52241,
          52250,
          54695,
          55559,
          54676,
          49614,
          47721,
          46555,
          45070,
          53940,
          56600,
          55835,
          50632,
          48113,
          48097,
          46093,
          54409,
          57887,
          56757,
          51281,
          50129,
          50110,
          48884,
          51729,
          62787,
          61913,
          56682,
          49951,
          48534,
          48509,
          54727,
          57934,
          54771,
          47656,
          43321,
          42535,
          40390,
          46454,
          49785,
          47143,
          41081,
          39985,
          39761,
          37895,
          45853,
          50799,
          52034,
          46599,
          47948,
          49319,
          109591,
          117938,
          123163,
          119292,
          105241,
          101466,
          94692,
          87070,
          89718,
          92907,
          82953,
          70188,
          69485,
          65869,
          63921,
          103238,
          97549,
          91577,
          78128,
          73527,
          70317,
          67995,
          74718,
          75147,
          67170,
          59342,
          56912,
          54354,
          51244,
          55236,
          58175,
          57419,
          51505,
          50361,
          49916,
          48149,
          50056,
          53746,
          50302,
          41683,
          40578,
          38646,
          36721,
          39386,
          43203,
          40502,
          34357,
          33714,
          33367,
          33221,
          41087,
          44668,
          43333,
          36226,
          34729,
          35541,
          38567,
          44383,
          51634,
          52681,
          47748,
          48811,
          48371,
          47923,
          54404,
          56350,
          53699,
          47461,
          44994,
          42431,
          37028,
          39963,
          44324,
          43202,
          39052,
          38676,
          37904,
          37084,
          40727,
          44025,
          42490,
          39962,
          38782,
          39987,
          41804,
          42884,
          48495,
          49928,
          48337,
          49515,
          49451,
          47069,
          51796,
          54777,
          55130,
          50738,
          51496,
          51260,
          49467,
          51376,
          56260,
          56758,
          49132,
          48122,
          47875,
          46685,
          49644,
          54203,
          54011,
          46615,
          46321,
          45770,
          44681,
          46022,
          50248,
          50305,
          43922,
          43388,
          43081,
          42229,
          43046,
          46798,
          45857,
          40033,
          39108,
          37373,
          36500,
          35453,
          39443,
          38711,
          33952,
          33196,
          32925,
          29668,
          35241,
          40818,
          42333,
          40717,
          41312,
          37667,
          39562,
          40198,
          42693,
          42202,
          38096,
          37516,
          36552,
          35587,
          36755,
          39377,
          39090,
          33964,
          33240,
          33117,
          32464,
          34552,
          38522,
          37578,
          32208,
          31779,
          32275,
          32293,
          35405,
          40499,
          38917,
          33858,
          33565,
          32646,
          32703,
          34231,
          38304,
          37620,
          31258,
          31180,
          31442,
          30265,
          32222,
          36714,
          37332,
          32996,
          32888,
          32262,
          32944,
          36205,
          37879,
          38677,
          37742,
          34116,
          33618,
          33064,
          36164,
          40668,
          40281,
          33708,
          33278,
          34841,
          36207,
          40117,
          47099,
          47859,
          42232,
          42731,
          42665,
          41063,
          43513,
          44610,
          44216,
          38348,
          36844,
          35079,
          34349,
          35615,
          38943,
          40156,
          36162,
          36475,
          35175,
          34861,
          36618,
          40474,
          38171,
          33438,
          33025,
          32830,
          33828,
          33904,
          36202,
          35416,
          30574,
          30201,
          29672,
          28757,
          30193,
          32565,
          30138,
          29431,
          26830,
          25675,
          25418,
          29429,
          34742,
          35614,
          34320,
          33037,
          32471,
          32279,
          34528,
          37212,
          35772,
          31877,
          30934,
          29554,
          28671,
          29150,
          31153,
          31216,
          26993,
          26261,
          25570,
          25301,
          26518,
          28074,
          26801,
          24149,
          23841,
          22878,
          22972,
          26249,
          29862,
          30424,
          28954,
          29786,
          29664,
          29773,
          32783,
          36081,
          35974,
          34185,
          34114,
          33575,
          33427,
          32760,
          34770,
          34340,
          30786,
          30716,
          30652,
          29932,
          31044,
          32867,
          32777,
          30565,
          30006,
          28005,
          27845,
          28277,
          30366,
          30029,
          27702,
          27594,
          27083,
          26823,
          28383,
          29992,
          29843,
          28043,
          27463,
          27216,
          26671,
          27316,
          29287,
          29478,
          27209,
          26626,
          26522,
          26329,
          29020,
          32968,
          36205,
          34222,
          35394,
          35634,
          35590,
          36053,
          38546,
          38769,
          34365,
          33620,
          32176,
          31448,
          33168,
          35418,
          35603,
          31878,
          30710,
          28777,
          28347,
          29443,
          32026,
          31712,
          28436,
          28159,
          26972,
          26309,
          27528,
          29676,
          28595,
          25007,
          25150,
          24500,
          24333,
          25485,
          28065,
          29106,
          25381,
          24382,
          23620,
          23289,
          26128,
          27707,
          27116,
          23688,
          23065,
          22943,
          24788,
          27756,
          31731,
          32784,
          29439,
          28126,
          28025,
          26987,
          27539,
          30326,
          29659,
          25125,
          24461,
          23464,
          22361,
          24478,
          27419,
          26165,
          22978,
          23148,
          23187,
          22503,
          24734,
          27180,
          26412,
          23136,
          22924,
          22710,
          22146,
          24645,
          27253,
          27032,
          26361,
          25862,
          23978,
          23747,
          25830,
          25053,
          26077,
          22234,
          21981,
          21416,
          21508,
          22528,
          25052,
          23567,
          21120,
          20853,
          20476,
          20384,
          21724,
          23863,
          23200,
          20389,
          20386,
          19736,
          20569,
          22874,
          26433,
          26674,
          24204,
          25031,
          24450,
          24977,
          25597,
          27632,
          26376,
          23687,
          23383,
          22853,
          22923,
          24941,
          27649,
          27051,
          24308,
          24040,
          23006,
          22782,
          24150,
          25973,
          25102,
          22740,
          22260,
          22442,
          23087,
          24557,
          25961,
          26563,
          26623,
          26670,
          27126,
          27312,
          26334,
          28600,
          30490,
          28102,
          28040,
          27328,
          27653,
          28870,
          31132,
          30647,
          26614,
          26866,
          26008,
          24551,
          26781,
          29410,
          29977,
          26921,
          26497,
          26373,
          25330,
          25749,
          28872,
          29592,
          25451,
          24849,
          25055,
          23966,
          24834,
          27047,
          27184,
          21938,
          23157,
          23702,
          24012,
          24111,
          26517,
          27185,
          24048,
          24004,
          23256,
          23114,
          24272,
          25983,
          25961,
          22365,
          22341,
          21194,
          20672,
          21916,
          24187,
          23600,
          21085,
          21293,
          20974,
          19406,
          18363,
          19726,
          19323,
          17572,
          17006,
          16781,
          16728,
          17540,
          18967,
          17934,
          16086,
          16026,
          16012,
          15920,
          17483,
          19230,
          18484,
          16067,
          19495,
          23192,
          25181,
          28237,
          32403,
          33413,
          31641,
          31696,
          30385,
          29835,
          30427,
          31665,
          30646,
          27346,
          27112,
          25965,
          25334,
          25546,
          27406,
          27524,
          25018,
          24655,
          23887,
          23260,
          25342,
          27167,
          26089,
          24235,
          24279,
          23997,
          23953,
          26549,
          27537,
          26144,
          25509,
          24284,
          23813,
          23343,
          24561,
          25086,
          24567,
          22450,
          22071,
          21617,
          22660,
          25032,
          28815,
          29492,
          29298,
          29660,
          27997,
          29922,
          29891,
          33249,
          33375,
          30576,
          30494,
          31841,
          30664,
          30608,
          32109,
          29986,
          29066,
          28937,
          28530,
          26853,
          26230,
          27842,
          26793,
          25195,
          24041,
          24353,
          25218,
          26493,
          27360,
          25870,
          24119,
          23379,
          22745,
          23164,
          24402,
          25593,
          25319,
          24051,
          23139,
          23092,
          22891,
          25400,
          28537,
          27890,
          26103,
          27389,
          27569,
          28841,
          31232,
          32818,
          33205,
          32125,
          32150,
          31263,
          30710,
          31606,
          32625,
          31907,
          30179,
          29891,
          28855,
          28011,
          29609,
          31680,
          31595,
          30252,
          29815,
          29857,
          30288,
          30592,
          32118,
          32523,
          29819,
          29763,
          28559,
          28437,
          27838,
          28948,
          29043,
          26745,
          26721,
          26126,
          25702,
          25941,
          27541,
          27347,
          24867,
          24718,
          24430,
          24323,
          25162,
          26120,
          25985,
          24048,
          24081,
          23301,
          23829,
          26356,
          27973,
          29435,
          28750,
          28975,
          26481,
          25994,
          27119,
          28352,
          28714,
          28255,
          28448,
          27785,
          27203,
          26771,
          28363,
          27695,
          25436,
          25397,
          23135,
          22538,
          23228,
          24333,
          24558,
          22441,
          22492,
          21686,
          20908,
          22351,
          24237,
          23406,
          22047,
          21367,
          20748,
          20619,
          21147,
          22166,
          22699,
          20228,
          19701,
          19718,
          18796,
          19438,
          21306,
          21121,
          18733,
          19395,
          19362,
          19553,
          21754,
          24170,
          23686,
          21532,
          21530,
          21051,
          20602,
          22329,
          24421,
          25438,
          23542,
          22721,
          21452,
          20609,
          20952,
          21897,
          22109,
          19518,
          19074,
          18982,
          18556,
          19436,
          20981,
          20261,
          17954,
          18209,
          17994,
          17973,
          19282,
          20657,
          20009,
          18177,
          18262,
          17687,
          17110,
          18407,
          19609,
          18624,
          17190,
          17162,
          16062,
          16168,
          17406,
          18677,
          17649,
          15917,
          16223,
          16126,
          16110,
          18688,
          21474,
          22111,
          20920,
          21272,
          21493,
          21117,
          22434,
          24931,
          24954,
          22970,
          24381,
          22713,
          22047,
          23976,
          26192,
          26042,
          23728,
          23907,
          24073,
          23229,
          24333,
          25802,
          25201,
          22801,
          28159,
          20798,
          19949,
          20214,
          21813,
          20668,
          19099,
          19111,
          18452,
          17412,
          18318,
          19996,
          19355,
          17714,
          17401,
          17338,
          16994,
          18709,
          19199,
          19410,
          20745,
          21043,
          21998,
          22136,
          23256,
          22720,
          23912,
          25064,
          24893,
          25237,
          25391,
          26066,
          27155,
          27781,
          24911,
          24791,
          24534,
          23477,
          24415,
          26460,
          27071,
          23805,
          23341,
          22404,
          21802,
          22155,
          24027,
          26281,
          24138,
          25235,
          26111,
          26707,
          27855,
          31045,
          31861,
          29520,
          30124,
          29633,
          29623,
          30143,
          32195,
          32371,
          28537,
          26397,
          25820,
          25797,
          26821,
          28486,
          28449,
          25794,
          25036,
          25140,
          25158,
          26531,
          29234,
          29446,
          27528,
          27142,
          27326,
          27107,
          26670,
          29051,
          29007,
          26553,
          26810,
          25785,
          25513,
          26788,
          31039,
          32626,
          31524,
          33394,
          35237,
          36804,
          40814,
          45218,
          46756,
          45754,
          46419,
          47164,
          47262,
          49514,
          52911,
          52620,
          51566,
          50621,
          50894,
          50813,
          51264,
          52616,
          51181,
          49076,
          47938,
          46746,
          45871,
          46108,
          46382,
          45345,
          44782,
          47089,
          43201,
          42082,
          45603,
          45263,
          42618,
          41653,
          40545,
          39107,
          37637,
          39895,
          40292,
          37923,
          35664,
          36036,
          34688,
          32439,
          35876,
          35166,
          35486,
          33155,
          33740,
          29701,
          29343,
          29538,
          29972,
          30150,
          29373,
          27945,
          28472,
          30958,
          32672,
          36623,
          35659,
          33552,
          32390,
          31615,
          30303,
          31737,
          32506,
          31093,
          28726,
          28611,
          28276,
          27947,
          29228,
          29504,
          28335,
          26905,
          26459,
          26432,
          25602,
          27116,
          28339,
          27448,
          26743,
          25386,
          24824,
          23683,
          25929,
          26424,
          26128,
          24832,
          24733,
          25245,
          26572,
          28824,
          30900,
          31081,
          29921,
          30486,
          29708,
          28949,
          30384,
          32413,
          31471,
          30059,
          30536,
          30671,
          29574,
          29518,
          29502,
          29432,
          27882,
          27005,
          25960,
          25533,
          27027,
          28841,
          29294,
          27806,
          28228,
          27758,
          27179,
          28721,
          30465,
          30711,
          29090,
          29518,
          29153,
          29123,
          29211,
          29953,
          30047,
          28334,
          28116,
          26475,
          25471,
          25509,
          26612,
          26474,
          24963,
          24941,
          25269,
          25775,
          27185,
          28964,
          29029,
          27898,
          27412,
          27189,
          26926,
          26749,
          27920,
          28978,
          27797,
          26977,
          26246,
          25421,
          25366,
          25951,
          26404,
          25494,
          25034,
          23342,
          23061,
          22941,
          24145,
          24301,
          23071,
          23090,
          23077,
          22722,
          22991,
          24342,
          24682,
          23419,
          23381,
          22650,
          21819,
          22960,
          24518,
          24515,
          23388,
          22832,
          22340,
          22464,
          23717,
          25482,
          24936,
          23083,
          24217,
          25185,
          25737,
          27531,
          31281,
          32315,
          31408,
          31561,
          31298,
          31525,
          34886,
          38481,
          39301,
          36168,
          35766,
          34271,
          31885,
          31948,
          35386,
          36485,
          33211,
          33184,
          33322,
          33909,
          35237,
          39551,
          40442,
          36720,
          36170,
          34770,
          35065,
          36211,
          39775,
          37860,
          33902,
          31340
         ]
        }
       ],
       "layout": {
        "barmode": "group",
        "template": {
         "data": {
          "bar": [
           {
            "error_x": {
             "color": "#2a3f5f"
            },
            "error_y": {
             "color": "#2a3f5f"
            },
            "marker": {
             "line": {
              "color": "#E5ECF6",
              "width": 0.5
             },
             "pattern": {
              "fillmode": "overlay",
              "size": 10,
              "solidity": 0.2
             }
            },
            "type": "bar"
           }
          ],
          "barpolar": [
           {
            "marker": {
             "line": {
              "color": "#E5ECF6",
              "width": 0.5
             },
             "pattern": {
              "fillmode": "overlay",
              "size": 10,
              "solidity": 0.2
             }
            },
            "type": "barpolar"
           }
          ],
          "carpet": [
           {
            "aaxis": {
             "endlinecolor": "#2a3f5f",
             "gridcolor": "white",
             "linecolor": "white",
             "minorgridcolor": "white",
             "startlinecolor": "#2a3f5f"
            },
            "baxis": {
             "endlinecolor": "#2a3f5f",
             "gridcolor": "white",
             "linecolor": "white",
             "minorgridcolor": "white",
             "startlinecolor": "#2a3f5f"
            },
            "type": "carpet"
           }
          ],
          "choropleth": [
           {
            "colorbar": {
             "outlinewidth": 0,
             "ticks": ""
            },
            "type": "choropleth"
           }
          ],
          "contour": [
           {
            "colorbar": {
             "outlinewidth": 0,
             "ticks": ""
            },
            "colorscale": [
             [
              0,
              "#0d0887"
             ],
             [
              0.1111111111111111,
              "#46039f"
             ],
             [
              0.2222222222222222,
              "#7201a8"
             ],
             [
              0.3333333333333333,
              "#9c179e"
             ],
             [
              0.4444444444444444,
              "#bd3786"
             ],
             [
              0.5555555555555556,
              "#d8576b"
             ],
             [
              0.6666666666666666,
              "#ed7953"
             ],
             [
              0.7777777777777778,
              "#fb9f3a"
             ],
             [
              0.8888888888888888,
              "#fdca26"
             ],
             [
              1,
              "#f0f921"
             ]
            ],
            "type": "contour"
           }
          ],
          "contourcarpet": [
           {
            "colorbar": {
             "outlinewidth": 0,
             "ticks": ""
            },
            "type": "contourcarpet"
           }
          ],
          "heatmap": [
           {
            "colorbar": {
             "outlinewidth": 0,
             "ticks": ""
            },
            "colorscale": [
             [
              0,
              "#0d0887"
             ],
             [
              0.1111111111111111,
              "#46039f"
             ],
             [
              0.2222222222222222,
              "#7201a8"
             ],
             [
              0.3333333333333333,
              "#9c179e"
             ],
             [
              0.4444444444444444,
              "#bd3786"
             ],
             [
              0.5555555555555556,
              "#d8576b"
             ],
             [
              0.6666666666666666,
              "#ed7953"
             ],
             [
              0.7777777777777778,
              "#fb9f3a"
             ],
             [
              0.8888888888888888,
              "#fdca26"
             ],
             [
              1,
              "#f0f921"
             ]
            ],
            "type": "heatmap"
           }
          ],
          "heatmapgl": [
           {
            "colorbar": {
             "outlinewidth": 0,
             "ticks": ""
            },
            "colorscale": [
             [
              0,
              "#0d0887"
             ],
             [
              0.1111111111111111,
              "#46039f"
             ],
             [
              0.2222222222222222,
              "#7201a8"
             ],
             [
              0.3333333333333333,
              "#9c179e"
             ],
             [
              0.4444444444444444,
              "#bd3786"
             ],
             [
              0.5555555555555556,
              "#d8576b"
             ],
             [
              0.6666666666666666,
              "#ed7953"
             ],
             [
              0.7777777777777778,
              "#fb9f3a"
             ],
             [
              0.8888888888888888,
              "#fdca26"
             ],
             [
              1,
              "#f0f921"
             ]
            ],
            "type": "heatmapgl"
           }
          ],
          "histogram": [
           {
            "marker": {
             "pattern": {
              "fillmode": "overlay",
              "size": 10,
              "solidity": 0.2
             }
            },
            "type": "histogram"
           }
          ],
          "histogram2d": [
           {
            "colorbar": {
             "outlinewidth": 0,
             "ticks": ""
            },
            "colorscale": [
             [
              0,
              "#0d0887"
             ],
             [
              0.1111111111111111,
              "#46039f"
             ],
             [
              0.2222222222222222,
              "#7201a8"
             ],
             [
              0.3333333333333333,
              "#9c179e"
             ],
             [
              0.4444444444444444,
              "#bd3786"
             ],
             [
              0.5555555555555556,
              "#d8576b"
             ],
             [
              0.6666666666666666,
              "#ed7953"
             ],
             [
              0.7777777777777778,
              "#fb9f3a"
             ],
             [
              0.8888888888888888,
              "#fdca26"
             ],
             [
              1,
              "#f0f921"
             ]
            ],
            "type": "histogram2d"
           }
          ],
          "histogram2dcontour": [
           {
            "colorbar": {
             "outlinewidth": 0,
             "ticks": ""
            },
            "colorscale": [
             [
              0,
              "#0d0887"
             ],
             [
              0.1111111111111111,
              "#46039f"
             ],
             [
              0.2222222222222222,
              "#7201a8"
             ],
             [
              0.3333333333333333,
              "#9c179e"
             ],
             [
              0.4444444444444444,
              "#bd3786"
             ],
             [
              0.5555555555555556,
              "#d8576b"
             ],
             [
              0.6666666666666666,
              "#ed7953"
             ],
             [
              0.7777777777777778,
              "#fb9f3a"
             ],
             [
              0.8888888888888888,
              "#fdca26"
             ],
             [
              1,
              "#f0f921"
             ]
            ],
            "type": "histogram2dcontour"
           }
          ],
          "mesh3d": [
           {
            "colorbar": {
             "outlinewidth": 0,
             "ticks": ""
            },
            "type": "mesh3d"
           }
          ],
          "parcoords": [
           {
            "line": {
             "colorbar": {
              "outlinewidth": 0,
              "ticks": ""
             }
            },
            "type": "parcoords"
           }
          ],
          "pie": [
           {
            "automargin": true,
            "type": "pie"
           }
          ],
          "scatter": [
           {
            "fillpattern": {
             "fillmode": "overlay",
             "size": 10,
             "solidity": 0.2
            },
            "type": "scatter"
           }
          ],
          "scatter3d": [
           {
            "line": {
             "colorbar": {
              "outlinewidth": 0,
              "ticks": ""
             }
            },
            "marker": {
             "colorbar": {
              "outlinewidth": 0,
              "ticks": ""
             }
            },
            "type": "scatter3d"
           }
          ],
          "scattercarpet": [
           {
            "marker": {
             "colorbar": {
              "outlinewidth": 0,
              "ticks": ""
             }
            },
            "type": "scattercarpet"
           }
          ],
          "scattergeo": [
           {
            "marker": {
             "colorbar": {
              "outlinewidth": 0,
              "ticks": ""
             }
            },
            "type": "scattergeo"
           }
          ],
          "scattergl": [
           {
            "marker": {
             "colorbar": {
              "outlinewidth": 0,
              "ticks": ""
             }
            },
            "type": "scattergl"
           }
          ],
          "scattermapbox": [
           {
            "marker": {
             "colorbar": {
              "outlinewidth": 0,
              "ticks": ""
             }
            },
            "type": "scattermapbox"
           }
          ],
          "scatterpolar": [
           {
            "marker": {
             "colorbar": {
              "outlinewidth": 0,
              "ticks": ""
             }
            },
            "type": "scatterpolar"
           }
          ],
          "scatterpolargl": [
           {
            "marker": {
             "colorbar": {
              "outlinewidth": 0,
              "ticks": ""
             }
            },
            "type": "scatterpolargl"
           }
          ],
          "scatterternary": [
           {
            "marker": {
             "colorbar": {
              "outlinewidth": 0,
              "ticks": ""
             }
            },
            "type": "scatterternary"
           }
          ],
          "surface": [
           {
            "colorbar": {
             "outlinewidth": 0,
             "ticks": ""
            },
            "colorscale": [
             [
              0,
              "#0d0887"
             ],
             [
              0.1111111111111111,
              "#46039f"
             ],
             [
              0.2222222222222222,
              "#7201a8"
             ],
             [
              0.3333333333333333,
              "#9c179e"
             ],
             [
              0.4444444444444444,
              "#bd3786"
             ],
             [
              0.5555555555555556,
              "#d8576b"
             ],
             [
              0.6666666666666666,
              "#ed7953"
             ],
             [
              0.7777777777777778,
              "#fb9f3a"
             ],
             [
              0.8888888888888888,
              "#fdca26"
             ],
             [
              1,
              "#f0f921"
             ]
            ],
            "type": "surface"
           }
          ],
          "table": [
           {
            "cells": {
             "fill": {
              "color": "#EBF0F8"
             },
             "line": {
              "color": "white"
             }
            },
            "header": {
             "fill": {
              "color": "#C8D4E3"
             },
             "line": {
              "color": "white"
             }
            },
            "type": "table"
           }
          ]
         },
         "layout": {
          "annotationdefaults": {
           "arrowcolor": "#2a3f5f",
           "arrowhead": 0,
           "arrowwidth": 1
          },
          "autotypenumbers": "strict",
          "coloraxis": {
           "colorbar": {
            "outlinewidth": 0,
            "ticks": ""
           }
          },
          "colorscale": {
           "diverging": [
            [
             0,
             "#8e0152"
            ],
            [
             0.1,
             "#c51b7d"
            ],
            [
             0.2,
             "#de77ae"
            ],
            [
             0.3,
             "#f1b6da"
            ],
            [
             0.4,
             "#fde0ef"
            ],
            [
             0.5,
             "#f7f7f7"
            ],
            [
             0.6,
             "#e6f5d0"
            ],
            [
             0.7,
             "#b8e186"
            ],
            [
             0.8,
             "#7fbc41"
            ],
            [
             0.9,
             "#4d9221"
            ],
            [
             1,
             "#276419"
            ]
           ],
           "sequential": [
            [
             0,
             "#0d0887"
            ],
            [
             0.1111111111111111,
             "#46039f"
            ],
            [
             0.2222222222222222,
             "#7201a8"
            ],
            [
             0.3333333333333333,
             "#9c179e"
            ],
            [
             0.4444444444444444,
             "#bd3786"
            ],
            [
             0.5555555555555556,
             "#d8576b"
            ],
            [
             0.6666666666666666,
             "#ed7953"
            ],
            [
             0.7777777777777778,
             "#fb9f3a"
            ],
            [
             0.8888888888888888,
             "#fdca26"
            ],
            [
             1,
             "#f0f921"
            ]
           ],
           "sequentialminus": [
            [
             0,
             "#0d0887"
            ],
            [
             0.1111111111111111,
             "#46039f"
            ],
            [
             0.2222222222222222,
             "#7201a8"
            ],
            [
             0.3333333333333333,
             "#9c179e"
            ],
            [
             0.4444444444444444,
             "#bd3786"
            ],
            [
             0.5555555555555556,
             "#d8576b"
            ],
            [
             0.6666666666666666,
             "#ed7953"
            ],
            [
             0.7777777777777778,
             "#fb9f3a"
            ],
            [
             0.8888888888888888,
             "#fdca26"
            ],
            [
             1,
             "#f0f921"
            ]
           ]
          },
          "colorway": [
           "#636efa",
           "#EF553B",
           "#00cc96",
           "#ab63fa",
           "#FFA15A",
           "#19d3f3",
           "#FF6692",
           "#B6E880",
           "#FF97FF",
           "#FECB52"
          ],
          "font": {
           "color": "#2a3f5f"
          },
          "geo": {
           "bgcolor": "white",
           "lakecolor": "white",
           "landcolor": "#E5ECF6",
           "showlakes": true,
           "showland": true,
           "subunitcolor": "white"
          },
          "hoverlabel": {
           "align": "left"
          },
          "hovermode": "closest",
          "mapbox": {
           "style": "light"
          },
          "paper_bgcolor": "white",
          "plot_bgcolor": "#E5ECF6",
          "polar": {
           "angularaxis": {
            "gridcolor": "white",
            "linecolor": "white",
            "ticks": ""
           },
           "bgcolor": "#E5ECF6",
           "radialaxis": {
            "gridcolor": "white",
            "linecolor": "white",
            "ticks": ""
           }
          },
          "scene": {
           "xaxis": {
            "backgroundcolor": "#E5ECF6",
            "gridcolor": "white",
            "gridwidth": 2,
            "linecolor": "white",
            "showbackground": true,
            "ticks": "",
            "zerolinecolor": "white"
           },
           "yaxis": {
            "backgroundcolor": "#E5ECF6",
            "gridcolor": "white",
            "gridwidth": 2,
            "linecolor": "white",
            "showbackground": true,
            "ticks": "",
            "zerolinecolor": "white"
           },
           "zaxis": {
            "backgroundcolor": "#E5ECF6",
            "gridcolor": "white",
            "gridwidth": 2,
            "linecolor": "white",
            "showbackground": true,
            "ticks": "",
            "zerolinecolor": "white"
           }
          },
          "shapedefaults": {
           "line": {
            "color": "#2a3f5f"
           }
          },
          "ternary": {
           "aaxis": {
            "gridcolor": "white",
            "linecolor": "white",
            "ticks": ""
           },
           "baxis": {
            "gridcolor": "white",
            "linecolor": "white",
            "ticks": ""
           },
           "bgcolor": "#E5ECF6",
           "caxis": {
            "gridcolor": "white",
            "linecolor": "white",
            "ticks": ""
           }
          },
          "title": {
           "x": 0.05
          },
          "xaxis": {
           "automargin": true,
           "gridcolor": "white",
           "linecolor": "white",
           "ticks": "",
           "title": {
            "standoff": 15
           },
           "zerolinecolor": "white",
           "zerolinewidth": 2
          },
          "yaxis": {
           "automargin": true,
           "gridcolor": "white",
           "linecolor": "white",
           "ticks": "",
           "title": {
            "standoff": 15
           },
           "zerolinecolor": "white",
           "zerolinewidth": 2
          }
         }
        },
        "title": {
         "text": "Vida de Jugadores de Monster Hunter World"
        }
       }
      },
      "text/html": [
       "<div>                            <div id=\"b62a19fe-36a7-4289-ac56-73dbbb78944b\" class=\"plotly-graph-div\" style=\"height:525px; width:100%;\"></div>            <script type=\"text/javascript\">                require([\"plotly\"], function(Plotly) {                    window.PLOTLYENV=window.PLOTLYENV || {};                                    if (document.getElementById(\"b62a19fe-36a7-4289-ac56-73dbbb78944b\")) {                    Plotly.newPlot(                        \"b62a19fe-36a7-4289-ac56-73dbbb78944b\",                        [{\"marker\":{\"color\":\"rgba(16, 112, 2, 0.8)\"},\"mode\":\"lines\",\"name\":\"citations\",\"x\":[\"2018-08-09 00:00:00\",\"2018-08-10 00:00:00\",\"2018-08-11 00:00:00\",\"2018-08-12 00:00:00\",\"2018-08-13 00:00:00\",\"2018-08-14 00:00:00\",\"2018-08-15 00:00:00\",\"2018-08-16 00:00:00\",\"2018-08-17 00:00:00\",\"2018-08-18 00:00:00\",\"2018-08-19 00:00:00\",\"2018-08-20 00:00:00\",\"2018-08-21 00:00:00\",\"2018-08-22 00:00:00\",\"2018-08-23 00:00:00\",\"2018-08-24 00:00:00\",\"2018-08-25 00:00:00\",\"2018-08-26 00:00:00\",\"2018-08-27 00:00:00\",\"2018-08-28 00:00:00\",\"2018-08-29 00:00:00\",\"2018-08-30 00:00:00\",\"2018-08-31 00:00:00\",\"2018-09-01 00:00:00\",\"2018-09-02 00:00:00\",\"2018-09-03 00:00:00\",\"2018-09-04 00:00:00\",\"2018-09-05 00:00:00\",\"2018-09-06 00:00:00\",\"2018-09-07 00:00:00\",\"2018-09-08 00:00:00\",\"2018-09-09 00:00:00\",\"2018-09-10 00:00:00\",\"2018-09-11 00:00:00\",\"2018-09-12 00:00:00\",\"2018-09-13 00:00:00\",\"2018-09-14 00:00:00\",\"2018-09-15 00:00:00\",\"2018-09-16 00:00:00\",\"2018-09-17 00:00:00\",\"2018-09-18 00:00:00\",\"2018-09-19 00:00:00\",\"2018-09-20 00:00:00\",\"2018-09-21 00:00:00\",\"2018-09-22 00:00:00\",\"2018-09-23 00:00:00\",\"2018-09-24 00:00:00\",\"2018-09-25 00:00:00\",\"2018-09-26 00:00:00\",\"2018-09-27 00:00:00\",\"2018-09-28 00:00:00\",\"2018-09-29 00:00:00\",\"2018-09-30 00:00:00\",\"2018-10-01 00:00:00\",\"2018-10-02 00:00:00\",\"2018-10-03 00:00:00\",\"2018-10-04 00:00:00\",\"2018-10-05 00:00:00\",\"2018-10-06 00:00:00\",\"2018-10-07 00:00:00\",\"2018-10-08 00:00:00\",\"2018-10-09 00:00:00\",\"2018-10-10 00:00:00\",\"2018-10-11 00:00:00\",\"2018-10-12 00:00:00\",\"2018-10-13 00:00:00\",\"2018-10-14 00:00:00\",\"2018-10-15 00:00:00\",\"2018-10-16 00:00:00\",\"2018-10-17 00:00:00\",\"2018-10-18 00:00:00\",\"2018-10-19 00:00:00\",\"2018-10-20 00:00:00\",\"2018-10-21 00:00:00\",\"2018-10-22 00:00:00\",\"2018-10-23 00:00:00\",\"2018-10-24 00:00:00\",\"2018-10-25 00:00:00\",\"2018-10-26 00:00:00\",\"2018-10-27 00:00:00\",\"2018-10-28 00:00:00\",\"2018-10-29 00:00:00\",\"2018-10-30 00:00:00\",\"2018-10-31 00:00:00\",\"2018-11-01 00:00:00\",\"2018-11-02 00:00:00\",\"2018-11-03 00:00:00\",\"2018-11-04 00:00:00\",\"2018-11-05 00:00:00\",\"2018-11-06 00:00:00\",\"2018-11-07 00:00:00\",\"2018-11-08 00:00:00\",\"2018-11-09 00:00:00\",\"2018-11-10 00:00:00\",\"2018-11-11 00:00:00\",\"2018-11-12 00:00:00\",\"2018-11-13 00:00:00\",\"2018-11-14 00:00:00\",\"2018-11-15 00:00:00\",\"2018-11-16 00:00:00\",\"2018-11-17 00:00:00\",\"2018-11-18 00:00:00\",\"2018-11-19 00:00:00\",\"2018-11-20 00:00:00\",\"2018-11-21 00:00:00\",\"2018-11-22 00:00:00\",\"2018-11-23 00:00:00\",\"2018-11-24 00:00:00\",\"2018-11-25 00:00:00\",\"2018-11-26 00:00:00\",\"2018-11-27 00:00:00\",\"2018-11-28 00:00:00\",\"2018-11-29 00:00:00\",\"2018-11-30 00:00:00\",\"2018-12-01 00:00:00\",\"2018-12-02 00:00:00\",\"2018-12-03 00:00:00\",\"2018-12-04 00:00:00\",\"2018-12-05 00:00:00\",\"2018-12-06 00:00:00\",\"2018-12-07 00:00:00\",\"2018-12-08 00:00:00\",\"2018-12-09 00:00:00\",\"2018-12-10 00:00:00\",\"2018-12-11 00:00:00\",\"2018-12-12 00:00:00\",\"2018-12-13 00:00:00\",\"2018-12-14 00:00:00\",\"2018-12-15 00:00:00\",\"2018-12-16 00:00:00\",\"2018-12-17 00:00:00\",\"2018-12-18 00:00:00\",\"2018-12-19 00:00:00\",\"2018-12-20 00:00:00\",\"2018-12-21 00:00:00\",\"2018-12-22 00:00:00\",\"2018-12-23 00:00:00\",\"2018-12-24 00:00:00\",\"2018-12-25 00:00:00\",\"2018-12-26 00:00:00\",\"2018-12-27 00:00:00\",\"2018-12-28 00:00:00\",\"2018-12-29 00:00:00\",\"2018-12-30 00:00:00\",\"2018-12-31 00:00:00\",\"2019-01-01 00:00:00\",\"2019-01-02 00:00:00\",\"2019-01-03 00:00:00\",\"2019-01-04 00:00:00\",\"2019-01-05 00:00:00\",\"2019-01-06 00:00:00\",\"2019-01-07 00:00:00\",\"2019-01-08 00:00:00\",\"2019-01-09 00:00:00\",\"2019-01-10 00:00:00\",\"2019-01-11 00:00:00\",\"2019-01-12 00:00:00\",\"2019-01-13 00:00:00\",\"2019-01-14 00:00:00\",\"2019-01-15 00:00:00\",\"2019-01-16 00:00:00\",\"2019-01-17 00:00:00\",\"2019-01-18 00:00:00\",\"2019-01-19 00:00:00\",\"2019-01-20 00:00:00\",\"2019-01-21 00:00:00\",\"2019-01-22 00:00:00\",\"2019-01-23 00:00:00\",\"2019-01-24 00:00:00\",\"2019-01-25 00:00:00\",\"2019-01-26 00:00:00\",\"2019-01-27 00:00:00\",\"2019-01-28 00:00:00\",\"2019-01-29 00:00:00\",\"2019-01-30 00:00:00\",\"2019-01-31 00:00:00\",\"2019-02-01 00:00:00\",\"2019-02-02 00:00:00\",\"2019-02-03 00:00:00\",\"2019-02-04 00:00:00\",\"2019-02-05 00:00:00\",\"2019-02-06 00:00:00\",\"2019-02-07 00:00:00\",\"2019-02-08 00:00:00\",\"2019-02-09 00:00:00\",\"2019-02-10 00:00:00\",\"2019-02-11 00:00:00\",\"2019-02-12 00:00:00\",\"2019-02-13 00:00:00\",\"2019-02-14 00:00:00\",\"2019-02-15 00:00:00\",\"2019-02-16 00:00:00\",\"2019-02-17 00:00:00\",\"2019-02-18 00:00:00\",\"2019-02-19 00:00:00\",\"2019-02-20 00:00:00\",\"2019-02-21 00:00:00\",\"2019-02-22 00:00:00\",\"2019-02-23 00:00:00\",\"2019-02-24 00:00:00\",\"2019-02-25 00:00:00\",\"2019-02-26 00:00:00\",\"2019-02-27 00:00:00\",\"2019-02-28 00:00:00\",\"2019-03-01 00:00:00\",\"2019-03-02 00:00:00\",\"2019-03-03 00:00:00\",\"2019-03-04 00:00:00\",\"2019-03-05 00:00:00\",\"2019-03-06 00:00:00\",\"2019-03-07 00:00:00\",\"2019-03-08 00:00:00\",\"2019-03-09 00:00:00\",\"2019-03-10 00:00:00\",\"2019-03-11 00:00:00\",\"2019-03-12 00:00:00\",\"2019-03-13 00:00:00\",\"2019-03-14 00:00:00\",\"2019-03-15 00:00:00\",\"2019-03-16 00:00:00\",\"2019-03-17 00:00:00\",\"2019-03-18 00:00:00\",\"2019-03-19 00:00:00\",\"2019-03-20 00:00:00\",\"2019-03-21 00:00:00\",\"2019-03-22 00:00:00\",\"2019-03-23 00:00:00\",\"2019-03-24 00:00:00\",\"2019-03-25 00:00:00\",\"2019-03-26 00:00:00\",\"2019-03-27 00:00:00\",\"2019-03-28 00:00:00\",\"2019-03-29 00:00:00\",\"2019-03-30 00:00:00\",\"2019-03-31 00:00:00\",\"2019-04-01 00:00:00\",\"2019-04-02 00:00:00\",\"2019-04-03 00:00:00\",\"2019-04-04 00:00:00\",\"2019-04-05 00:00:00\",\"2019-04-06 00:00:00\",\"2019-04-07 00:00:00\",\"2019-04-08 00:00:00\",\"2019-04-09 00:00:00\",\"2019-04-10 00:00:00\",\"2019-04-11 00:00:00\",\"2019-04-12 00:00:00\",\"2019-04-13 00:00:00\",\"2019-04-14 00:00:00\",\"2019-04-15 00:00:00\",\"2019-04-16 00:00:00\",\"2019-04-17 00:00:00\",\"2019-04-18 00:00:00\",\"2019-04-19 00:00:00\",\"2019-04-20 00:00:00\",\"2019-04-21 00:00:00\",\"2019-04-22 00:00:00\",\"2019-04-23 00:00:00\",\"2019-04-24 00:00:00\",\"2019-04-25 00:00:00\",\"2019-04-26 00:00:00\",\"2019-04-27 00:00:00\",\"2019-04-28 00:00:00\",\"2019-04-29 00:00:00\",\"2019-04-30 00:00:00\",\"2019-05-01 00:00:00\",\"2019-05-02 00:00:00\",\"2019-05-03 00:00:00\",\"2019-05-04 00:00:00\",\"2019-05-05 00:00:00\",\"2019-05-06 00:00:00\",\"2019-05-07 00:00:00\",\"2019-05-08 00:00:00\",\"2019-05-09 00:00:00\",\"2019-05-10 00:00:00\",\"2019-05-11 00:00:00\",\"2019-05-12 00:00:00\",\"2019-05-13 00:00:00\",\"2019-05-14 00:00:00\",\"2019-05-15 00:00:00\",\"2019-05-16 00:00:00\",\"2019-05-17 00:00:00\",\"2019-05-18 00:00:00\",\"2019-05-19 00:00:00\",\"2019-05-20 00:00:00\",\"2019-05-21 00:00:00\",\"2019-05-22 00:00:00\",\"2019-05-23 00:00:00\",\"2019-05-24 00:00:00\",\"2019-05-25 00:00:00\",\"2019-05-26 00:00:00\",\"2019-05-27 00:00:00\",\"2019-05-28 00:00:00\",\"2019-05-29 00:00:00\",\"2019-05-30 00:00:00\",\"2019-05-31 00:00:00\",\"2019-06-01 00:00:00\",\"2019-06-02 00:00:00\",\"2019-06-03 00:00:00\",\"2019-06-04 00:00:00\",\"2019-06-05 00:00:00\",\"2019-06-06 00:00:00\",\"2019-06-07 00:00:00\",\"2019-06-08 00:00:00\",\"2019-06-09 00:00:00\",\"2019-06-10 00:00:00\",\"2019-06-11 00:00:00\",\"2019-06-12 00:00:00\",\"2019-06-13 00:00:00\",\"2019-06-14 00:00:00\",\"2019-06-15 00:00:00\",\"2019-06-16 00:00:00\",\"2019-06-17 00:00:00\",\"2019-06-18 00:00:00\",\"2019-06-19 00:00:00\",\"2019-06-20 00:00:00\",\"2019-06-21 00:00:00\",\"2019-06-22 00:00:00\",\"2019-06-23 00:00:00\",\"2019-06-24 00:00:00\",\"2019-06-25 00:00:00\",\"2019-06-26 00:00:00\",\"2019-06-27 00:00:00\",\"2019-06-28 00:00:00\",\"2019-06-29 00:00:00\",\"2019-06-30 00:00:00\",\"2019-07-01 00:00:00\",\"2019-07-02 00:00:00\",\"2019-07-03 00:00:00\",\"2019-07-04 00:00:00\",\"2019-07-05 00:00:00\",\"2019-07-06 00:00:00\",\"2019-07-07 00:00:00\",\"2019-07-08 00:00:00\",\"2019-07-09 00:00:00\",\"2019-07-10 00:00:00\",\"2019-07-11 00:00:00\",\"2019-07-12 00:00:00\",\"2019-07-13 00:00:00\",\"2019-07-14 00:00:00\",\"2019-07-15 00:00:00\",\"2019-07-16 00:00:00\",\"2019-07-17 00:00:00\",\"2019-07-18 00:00:00\",\"2019-07-19 00:00:00\",\"2019-07-20 00:00:00\",\"2019-07-21 00:00:00\",\"2019-07-22 00:00:00\",\"2019-07-23 00:00:00\",\"2019-07-24 00:00:00\",\"2019-07-25 00:00:00\",\"2019-07-26 00:00:00\",\"2019-07-27 00:00:00\",\"2019-07-28 00:00:00\",\"2019-07-29 00:00:00\",\"2019-07-30 00:00:00\",\"2019-07-31 00:00:00\",\"2019-08-01 00:00:00\",\"2019-08-02 00:00:00\",\"2019-08-03 00:00:00\",\"2019-08-04 00:00:00\",\"2019-08-05 00:00:00\",\"2019-08-06 00:00:00\",\"2019-08-07 00:00:00\",\"2019-08-08 00:00:00\",\"2019-08-09 00:00:00\",\"2019-08-10 00:00:00\",\"2019-08-11 00:00:00\",\"2019-08-12 00:00:00\",\"2019-08-13 00:00:00\",\"2019-08-14 00:00:00\",\"2019-08-15 00:00:00\",\"2019-08-16 00:00:00\",\"2019-08-17 00:00:00\",\"2019-08-18 00:00:00\",\"2019-08-19 00:00:00\",\"2019-08-20 00:00:00\",\"2019-08-21 00:00:00\",\"2019-08-22 00:00:00\",\"2019-08-23 00:00:00\",\"2019-08-24 00:00:00\",\"2019-08-25 00:00:00\",\"2019-08-26 00:00:00\",\"2019-08-27 00:00:00\",\"2019-08-28 00:00:00\",\"2019-08-29 00:00:00\",\"2019-08-30 00:00:00\",\"2019-08-31 00:00:00\",\"2019-09-01 00:00:00\",\"2019-09-02 00:00:00\",\"2019-09-03 00:00:00\",\"2019-09-04 00:00:00\",\"2019-09-05 00:00:00\",\"2019-09-06 00:00:00\",\"2019-09-07 00:00:00\",\"2019-09-08 00:00:00\",\"2019-09-09 00:00:00\",\"2019-09-10 00:00:00\",\"2019-09-11 00:00:00\",\"2019-09-12 00:00:00\",\"2019-09-13 00:00:00\",\"2019-09-14 00:00:00\",\"2019-09-15 00:00:00\",\"2019-09-16 00:00:00\",\"2019-09-17 00:00:00\",\"2019-09-18 00:00:00\",\"2019-09-19 00:00:00\",\"2019-09-20 00:00:00\",\"2019-09-21 00:00:00\",\"2019-09-22 00:00:00\",\"2019-09-23 00:00:00\",\"2019-09-24 00:00:00\",\"2019-09-25 00:00:00\",\"2019-09-26 00:00:00\",\"2019-09-27 00:00:00\",\"2019-09-28 00:00:00\",\"2019-09-29 00:00:00\",\"2019-09-30 00:00:00\",\"2019-10-01 00:00:00\",\"2019-10-02 00:00:00\",\"2019-10-03 00:00:00\",\"2019-10-04 00:00:00\",\"2019-10-05 00:00:00\",\"2019-10-06 00:00:00\",\"2019-10-07 00:00:00\",\"2019-10-08 00:00:00\",\"2019-10-09 00:00:00\",\"2019-10-10 00:00:00\",\"2019-10-11 00:00:00\",\"2019-10-12 00:00:00\",\"2019-10-13 00:00:00\",\"2019-10-14 00:00:00\",\"2019-10-15 00:00:00\",\"2019-10-16 00:00:00\",\"2019-10-17 00:00:00\",\"2019-10-18 00:00:00\",\"2019-10-19 00:00:00\",\"2019-10-20 00:00:00\",\"2019-10-21 00:00:00\",\"2019-10-22 00:00:00\",\"2019-10-23 00:00:00\",\"2019-10-24 00:00:00\",\"2019-10-25 00:00:00\",\"2019-10-26 00:00:00\",\"2019-10-27 00:00:00\",\"2019-10-28 00:00:00\",\"2019-10-29 00:00:00\",\"2019-10-30 00:00:00\",\"2019-10-31 00:00:00\",\"2019-11-01 00:00:00\",\"2019-11-02 00:00:00\",\"2019-11-03 00:00:00\",\"2019-11-04 00:00:00\",\"2019-11-05 00:00:00\",\"2019-11-06 00:00:00\",\"2019-11-07 00:00:00\",\"2019-11-08 00:00:00\",\"2019-11-09 00:00:00\",\"2019-11-10 00:00:00\",\"2019-11-11 00:00:00\",\"2019-11-12 00:00:00\",\"2019-11-13 00:00:00\",\"2019-11-14 00:00:00\",\"2019-11-15 00:00:00\",\"2019-11-16 00:00:00\",\"2019-11-17 00:00:00\",\"2019-11-18 00:00:00\",\"2019-11-19 00:00:00\",\"2019-11-20 00:00:00\",\"2019-11-21 00:00:00\",\"2019-11-22 00:00:00\",\"2019-11-23 00:00:00\",\"2019-11-24 00:00:00\",\"2019-11-25 00:00:00\",\"2019-11-26 00:00:00\",\"2019-11-27 00:00:00\",\"2019-11-28 00:00:00\",\"2019-11-29 00:00:00\",\"2019-11-30 00:00:00\",\"2019-12-01 00:00:00\",\"2019-12-02 00:00:00\",\"2019-12-03 00:00:00\",\"2019-12-04 00:00:00\",\"2019-12-05 00:00:00\",\"2019-12-06 00:00:00\",\"2019-12-07 00:00:00\",\"2019-12-08 00:00:00\",\"2019-12-09 00:00:00\",\"2019-12-10 00:00:00\",\"2019-12-11 00:00:00\",\"2019-12-12 00:00:00\",\"2019-12-13 00:00:00\",\"2019-12-14 00:00:00\",\"2019-12-15 00:00:00\",\"2019-12-16 00:00:00\",\"2019-12-17 00:00:00\",\"2019-12-18 00:00:00\",\"2019-12-19 00:00:00\",\"2019-12-20 00:00:00\",\"2019-12-21 00:00:00\",\"2019-12-22 00:00:00\",\"2019-12-23 00:00:00\",\"2019-12-24 00:00:00\",\"2019-12-25 00:00:00\",\"2019-12-26 00:00:00\",\"2019-12-27 00:00:00\",\"2019-12-28 00:00:00\",\"2019-12-29 00:00:00\",\"2019-12-30 00:00:00\",\"2019-12-31 00:00:00\",\"2020-01-01 00:00:00\",\"2020-01-02 00:00:00\",\"2020-01-03 00:00:00\",\"2020-01-04 00:00:00\",\"2020-01-05 00:00:00\",\"2020-01-06 00:00:00\",\"2020-01-07 00:00:00\",\"2020-01-08 00:00:00\",\"2020-01-09 00:00:00\",\"2020-01-10 00:00:00\",\"2020-01-11 00:00:00\",\"2020-01-12 00:00:00\",\"2020-01-13 00:00:00\",\"2020-01-14 00:00:00\",\"2020-01-15 00:00:00\",\"2020-01-16 00:00:00\",\"2020-01-17 00:00:00\",\"2020-01-18 00:00:00\",\"2020-01-19 00:00:00\",\"2020-01-20 00:00:00\",\"2020-01-21 00:00:00\",\"2020-01-22 00:00:00\",\"2020-01-23 00:00:00\",\"2020-01-24 00:00:00\",\"2020-01-25 00:00:00\",\"2020-01-26 00:00:00\",\"2020-01-27 00:00:00\",\"2020-01-28 00:00:00\",\"2020-01-29 00:00:00\",\"2020-01-30 00:00:00\",\"2020-01-31 00:00:00\",\"2020-02-01 00:00:00\",\"2020-02-02 00:00:00\",\"2020-02-03 00:00:00\",\"2020-02-04 00:00:00\",\"2020-02-05 00:00:00\",\"2020-02-06 00:00:00\",\"2020-02-07 00:00:00\",\"2020-02-08 00:00:00\",\"2020-02-09 00:00:00\",\"2020-02-10 00:00:00\",\"2020-02-11 00:00:00\",\"2020-02-12 00:00:00\",\"2020-02-13 00:00:00\",\"2020-02-14 00:00:00\",\"2020-02-15 00:00:00\",\"2020-02-16 00:00:00\",\"2020-02-17 00:00:00\",\"2020-02-18 00:00:00\",\"2020-02-19 00:00:00\",\"2020-02-20 00:00:00\",\"2020-02-21 00:00:00\",\"2020-02-22 00:00:00\",\"2020-02-23 00:00:00\",\"2020-02-24 00:00:00\",\"2020-02-25 00:00:00\",\"2020-02-26 00:00:00\",\"2020-02-27 00:00:00\",\"2020-02-28 00:00:00\",\"2020-02-29 00:00:00\",\"2020-03-01 00:00:00\",\"2020-03-02 00:00:00\",\"2020-03-03 00:00:00\",\"2020-03-04 00:00:00\",\"2020-03-05 00:00:00\",\"2020-03-06 00:00:00\",\"2020-03-07 00:00:00\",\"2020-03-08 00:00:00\",\"2020-03-09 00:00:00\",\"2020-03-10 00:00:00\",\"2020-03-11 00:00:00\",\"2020-03-12 00:00:00\",\"2020-03-13 00:00:00\",\"2020-03-14 00:00:00\",\"2020-03-15 00:00:00\",\"2020-03-16 00:00:00\",\"2020-03-17 00:00:00\",\"2020-03-18 00:00:00\",\"2020-03-19 00:00:00\",\"2020-03-20 00:00:00\",\"2020-03-21 00:00:00\",\"2020-03-22 00:00:00\",\"2020-03-23 00:00:00\",\"2020-03-24 00:00:00\",\"2020-03-25 00:00:00\",\"2020-03-26 00:00:00\",\"2020-03-27 00:00:00\",\"2020-03-28 00:00:00\",\"2020-03-29 00:00:00\",\"2020-03-30 00:00:00\",\"2020-03-31 00:00:00\",\"2020-04-01 00:00:00\",\"2020-04-02 00:00:00\",\"2020-04-03 00:00:00\",\"2020-04-04 00:00:00\",\"2020-04-05 00:00:00\",\"2020-04-06 00:00:00\",\"2020-04-07 00:00:00\",\"2020-04-08 00:00:00\",\"2020-04-09 00:00:00\",\"2020-04-10 00:00:00\",\"2020-04-11 00:00:00\",\"2020-04-12 00:00:00\",\"2020-04-13 00:00:00\",\"2020-04-14 00:00:00\",\"2020-04-15 00:00:00\",\"2020-04-16 00:00:00\",\"2020-04-17 00:00:00\",\"2020-04-18 00:00:00\",\"2020-04-19 00:00:00\",\"2020-04-20 00:00:00\",\"2020-04-21 00:00:00\",\"2020-04-22 00:00:00\",\"2020-04-23 00:00:00\",\"2020-04-24 00:00:00\",\"2020-04-25 00:00:00\",\"2020-04-26 00:00:00\",\"2020-04-27 00:00:00\",\"2020-04-28 00:00:00\",\"2020-04-29 00:00:00\",\"2020-04-30 00:00:00\",\"2020-05-01 00:00:00\",\"2020-05-02 00:00:00\",\"2020-05-03 00:00:00\",\"2020-05-04 00:00:00\",\"2020-05-05 00:00:00\",\"2020-05-06 00:00:00\",\"2020-05-07 00:00:00\",\"2020-05-08 00:00:00\",\"2020-05-09 00:00:00\",\"2020-05-10 00:00:00\",\"2020-05-11 00:00:00\",\"2020-05-12 00:00:00\",\"2020-05-13 00:00:00\",\"2020-05-14 00:00:00\",\"2020-05-15 00:00:00\",\"2020-05-16 00:00:00\",\"2020-05-17 00:00:00\",\"2020-05-18 00:00:00\",\"2020-05-19 00:00:00\",\"2020-05-20 00:00:00\",\"2020-05-21 00:00:00\",\"2020-05-22 00:00:00\",\"2020-05-23 00:00:00\",\"2020-05-24 00:00:00\",\"2020-05-25 00:00:00\",\"2020-05-26 00:00:00\",\"2020-05-27 00:00:00\",\"2020-05-28 00:00:00\",\"2020-05-29 00:00:00\",\"2020-05-30 00:00:00\",\"2020-05-31 00:00:00\",\"2020-06-01 00:00:00\",\"2020-06-02 00:00:00\",\"2020-06-03 00:00:00\",\"2020-06-04 00:00:00\",\"2020-06-05 00:00:00\",\"2020-06-06 00:00:00\",\"2020-06-07 00:00:00\",\"2020-06-08 00:00:00\",\"2020-06-09 00:00:00\",\"2020-06-10 00:00:00\",\"2020-06-11 00:00:00\",\"2020-06-12 00:00:00\",\"2020-06-13 00:00:00\",\"2020-06-14 00:00:00\",\"2020-06-15 00:00:00\",\"2020-06-16 00:00:00\",\"2020-06-17 00:00:00\",\"2020-06-18 00:00:00\",\"2020-06-19 00:00:00\",\"2020-06-20 00:00:00\",\"2020-06-21 00:00:00\",\"2020-06-22 00:00:00\",\"2020-06-23 00:00:00\",\"2020-06-24 00:00:00\",\"2020-06-25 00:00:00\",\"2020-06-26 00:00:00\",\"2020-06-27 00:00:00\",\"2020-06-28 00:00:00\",\"2020-06-29 00:00:00\",\"2020-06-30 00:00:00\",\"2020-07-01 00:00:00\",\"2020-07-02 00:00:00\",\"2020-07-03 00:00:00\",\"2020-07-04 00:00:00\",\"2020-07-05 00:00:00\",\"2020-07-06 00:00:00\",\"2020-07-07 00:00:00\",\"2020-07-08 00:00:00\",\"2020-07-09 00:00:00\",\"2020-07-10 00:00:00\",\"2020-07-11 00:00:00\",\"2020-07-12 00:00:00\",\"2020-07-13 00:00:00\",\"2020-07-14 00:00:00\",\"2020-07-15 00:00:00\",\"2020-07-16 00:00:00\",\"2020-07-17 00:00:00\",\"2020-07-18 00:00:00\",\"2020-07-19 00:00:00\",\"2020-07-20 00:00:00\",\"2020-07-21 00:00:00\",\"2020-07-22 00:00:00\",\"2020-07-23 00:00:00\",\"2020-07-24 00:00:00\",\"2020-07-25 00:00:00\",\"2020-07-26 00:00:00\",\"2020-07-27 00:00:00\",\"2020-07-28 00:00:00\",\"2020-07-29 00:00:00\",\"2020-07-30 00:00:00\",\"2020-07-31 00:00:00\",\"2020-08-01 00:00:00\",\"2020-08-02 00:00:00\",\"2020-08-03 00:00:00\",\"2020-08-04 00:00:00\",\"2020-08-05 00:00:00\",\"2020-08-06 00:00:00\",\"2020-08-07 00:00:00\",\"2020-08-08 00:00:00\",\"2020-08-09 00:00:00\",\"2020-08-10 00:00:00\",\"2020-08-11 00:00:00\",\"2020-08-12 00:00:00\",\"2020-08-13 00:00:00\",\"2020-08-14 00:00:00\",\"2020-08-15 00:00:00\",\"2020-08-16 00:00:00\",\"2020-08-17 00:00:00\",\"2020-08-18 00:00:00\",\"2020-08-19 00:00:00\",\"2020-08-20 00:00:00\",\"2020-08-21 00:00:00\",\"2020-08-22 00:00:00\",\"2020-08-23 00:00:00\",\"2020-08-24 00:00:00\",\"2020-08-25 00:00:00\",\"2020-08-26 00:00:00\",\"2020-08-27 00:00:00\",\"2020-08-28 00:00:00\",\"2020-08-29 00:00:00\",\"2020-08-30 00:00:00\",\"2020-08-31 00:00:00\",\"2020-09-01 00:00:00\",\"2020-09-02 00:00:00\",\"2020-09-03 00:00:00\",\"2020-09-04 00:00:00\",\"2020-09-05 00:00:00\",\"2020-09-06 00:00:00\",\"2020-09-07 00:00:00\",\"2020-09-08 00:00:00\",\"2020-09-09 00:00:00\",\"2020-09-10 00:00:00\",\"2020-09-11 00:00:00\",\"2020-09-12 00:00:00\",\"2020-09-13 00:00:00\",\"2020-09-14 00:00:00\",\"2020-09-15 00:00:00\",\"2020-09-16 00:00:00\",\"2020-09-17 00:00:00\",\"2020-09-18 00:00:00\",\"2020-09-19 00:00:00\",\"2020-09-20 00:00:00\",\"2020-09-21 00:00:00\",\"2020-09-22 00:00:00\",\"2020-09-23 00:00:00\",\"2020-09-24 00:00:00\",\"2020-09-25 00:00:00\",\"2020-09-26 00:00:00\",\"2020-09-27 00:00:00\",\"2020-09-28 00:00:00\",\"2020-09-29 00:00:00\",\"2020-09-30 00:00:00\",\"2020-10-01 00:00:00\",\"2020-10-02 00:00:00\",\"2020-10-03 00:00:00\",\"2020-10-04 00:00:00\",\"2020-10-05 00:00:00\",\"2020-10-06 00:00:00\",\"2020-10-07 00:00:00\",\"2020-10-08 00:00:00\",\"2020-10-09 00:00:00\",\"2020-10-10 00:00:00\",\"2020-10-11 00:00:00\",\"2020-10-12 00:00:00\",\"2020-10-13 00:00:00\",\"2020-10-14 00:00:00\",\"2020-10-15 00:00:00\",\"2020-10-16 00:00:00\",\"2020-10-17 00:00:00\",\"2020-10-18 00:00:00\",\"2020-10-19 00:00:00\",\"2020-10-20 00:00:00\",\"2020-10-21 00:00:00\",\"2020-10-22 00:00:00\",\"2020-10-23 00:00:00\",\"2020-10-24 00:00:00\",\"2020-10-25 00:00:00\",\"2020-10-26 00:00:00\",\"2020-10-27 00:00:00\",\"2020-10-28 00:00:00\",\"2020-10-29 00:00:00\",\"2020-10-30 00:00:00\",\"2020-10-31 00:00:00\",\"2020-11-01 00:00:00\",\"2020-11-02 00:00:00\",\"2020-11-03 00:00:00\",\"2020-11-04 00:00:00\",\"2020-11-05 00:00:00\",\"2020-11-06 00:00:00\",\"2020-11-07 00:00:00\",\"2020-11-08 00:00:00\",\"2020-11-09 00:00:00\",\"2020-11-10 00:00:00\",\"2020-11-11 00:00:00\",\"2020-11-12 00:00:00\",\"2020-11-13 00:00:00\",\"2020-11-14 00:00:00\",\"2020-11-15 00:00:00\",\"2020-11-16 00:00:00\",\"2020-11-17 00:00:00\",\"2020-11-18 00:00:00\",\"2020-11-19 00:00:00\",\"2020-11-20 00:00:00\",\"2020-11-21 00:00:00\",\"2020-11-22 00:00:00\",\"2020-11-23 00:00:00\",\"2020-11-24 00:00:00\",\"2020-11-25 00:00:00\",\"2020-11-26 00:00:00\",\"2020-11-27 00:00:00\",\"2020-11-28 00:00:00\",\"2020-11-29 00:00:00\",\"2020-11-30 00:00:00\",\"2020-12-01 00:00:00\",\"2020-12-02 00:00:00\",\"2020-12-03 00:00:00\",\"2020-12-04 00:00:00\",\"2020-12-05 00:00:00\",\"2020-12-06 00:00:00\",\"2020-12-07 00:00:00\",\"2020-12-08 00:00:00\",\"2020-12-09 00:00:00\",\"2020-12-10 00:00:00\",\"2020-12-11 00:00:00\",\"2020-12-12 00:00:00\",\"2020-12-13 00:00:00\",\"2020-12-14 00:00:00\",\"2020-12-15 00:00:00\",\"2020-12-16 00:00:00\",\"2020-12-17 00:00:00\",\"2020-12-18 00:00:00\",\"2020-12-19 00:00:00\",\"2020-12-20 00:00:00\",\"2020-12-21 00:00:00\",\"2020-12-22 00:00:00\",\"2020-12-23 00:00:00\",\"2020-12-24 00:00:00\",\"2020-12-25 00:00:00\",\"2020-12-26 00:00:00\",\"2020-12-27 00:00:00\",\"2020-12-28 00:00:00\",\"2020-12-29 00:00:00\",\"2020-12-30 00:00:00\",\"2020-12-31 00:00:00\",\"2021-01-01 00:00:00\",\"2021-01-02 00:00:00\",\"2021-01-03 00:00:00\",\"2021-01-04 00:00:00\",\"2021-01-05 00:00:00\",\"2021-01-06 00:00:00\",\"2021-01-07 00:00:00\",\"2021-01-08 00:00:00\",\"2021-01-09 00:00:00\",\"2021-01-10 00:00:00\",\"2021-01-11 00:00:00\",\"2021-01-12 00:00:00\",\"2021-01-13 00:00:00\",\"2021-01-14 00:00:00\",\"2021-01-15 00:00:00\",\"2021-01-16 00:00:00\",\"2021-01-17 00:00:00\",\"2021-01-18 00:00:00\",\"2021-01-19 00:00:00\",\"2021-01-20 00:00:00\",\"2021-01-21 00:00:00\",\"2021-01-22 00:00:00\",\"2021-01-23 00:00:00\",\"2021-01-24 00:00:00\",\"2021-01-25 00:00:00\",\"2021-01-26 00:00:00\",\"2021-01-27 00:00:00\",\"2021-01-28 00:00:00\",\"2021-01-29 00:00:00\",\"2021-01-30 00:00:00\",\"2021-01-31 00:00:00\",\"2021-02-01 00:00:00\",\"2021-02-02 00:00:00\",\"2021-02-03 00:00:00\",\"2021-02-04 00:00:00\",\"2021-02-05 00:00:00\",\"2021-02-06 00:00:00\",\"2021-02-07 00:00:00\",\"2021-02-08 00:00:00\",\"2021-02-09 00:00:00\",\"2021-02-10 00:00:00\",\"2021-02-11 00:00:00\",\"2021-02-12 00:00:00\",\"2021-02-13 00:00:00\",\"2021-02-14 00:00:00\",\"2021-02-15 00:00:00\",\"2021-02-16 00:00:00\",\"2021-02-17 00:00:00\",\"2021-02-18 00:00:00\",\"2021-02-19 00:00:00\",\"2021-02-20 00:00:00\",\"2021-02-21 00:00:00\",\"2021-02-22 00:00:00\",\"2021-02-23 00:00:00\",\"2021-02-24 00:00:00\",\"2021-02-25 00:00:00\",\"2021-02-26 00:00:00\",\"2021-02-27 00:00:00\",\"2021-02-28 00:00:00\",\"2021-03-01 00:00:00\",\"2021-03-02 00:00:00\",\"2021-03-03 00:00:00\",\"2021-03-04 00:00:00\",\"2021-03-05 00:00:00\",\"2021-03-06 00:00:00\",\"2021-03-07 00:00:00\",\"2021-03-08 00:00:00\",\"2021-03-09 00:00:00\",\"2021-03-10 00:00:00\",\"2021-03-11 00:00:00\",\"2021-03-12 00:00:00\",\"2021-03-13 00:00:00\",\"2021-03-14 00:00:00\",\"2021-03-15 00:00:00\",\"2021-03-16 00:00:00\",\"2021-03-17 00:00:00\",\"2021-03-18 00:00:00\",\"2021-03-19 00:00:00\",\"2021-03-20 00:00:00\",\"2021-03-21 00:00:00\",\"2021-03-22 00:00:00\",\"2021-03-23 00:00:00\",\"2021-03-24 00:00:00\",\"2021-03-25 00:00:00\",\"2021-03-26 00:00:00\",\"2021-03-27 00:00:00\",\"2021-03-28 00:00:00\",\"2021-03-29 00:00:00\",\"2021-03-30 00:00:00\",\"2021-03-31 00:00:00\",\"2021-04-01 00:00:00\",\"2021-04-02 00:00:00\",\"2021-04-03 00:00:00\",\"2021-04-04 00:00:00\",\"2021-04-05 00:00:00\",\"2021-04-06 00:00:00\",\"2021-04-07 00:00:00\",\"2021-04-08 00:00:00\",\"2021-04-09 00:00:00\",\"2021-04-10 00:00:00\",\"2021-04-11 00:00:00\",\"2021-04-12 00:00:00\",\"2021-04-13 00:00:00\",\"2021-04-14 00:00:00\",\"2021-04-15 00:00:00\",\"2021-04-16 00:00:00\",\"2021-04-17 00:00:00\",\"2021-04-18 00:00:00\",\"2021-04-19 00:00:00\",\"2021-04-20 00:00:00\",\"2021-04-21 00:00:00\",\"2021-04-22 00:00:00\",\"2021-04-23 00:00:00\",\"2021-04-24 00:00:00\",\"2021-04-25 00:00:00\",\"2021-04-26 00:00:00\",\"2021-04-27 00:00:00\",\"2021-04-28 00:00:00\",\"2021-04-29 00:00:00\",\"2021-04-30 00:00:00\",\"2021-05-01 00:00:00\",\"2021-05-02 00:00:00\",\"2021-05-03 00:00:00\",\"2021-05-04 00:00:00\",\"2021-05-05 00:00:00\",\"2021-05-06 00:00:00\",\"2021-05-07 00:00:00\",\"2021-05-08 00:00:00\",\"2021-05-09 00:00:00\",\"2021-05-10 00:00:00\",\"2021-05-11 00:00:00\",\"2021-05-12 00:00:00\",\"2021-05-13 00:00:00\",\"2021-05-14 00:00:00\",\"2021-05-15 00:00:00\",\"2021-05-16 00:00:00\",\"2021-05-17 00:00:00\",\"2021-05-18 00:00:00\",\"2021-05-19 00:00:00\",\"2021-05-20 00:00:00\",\"2021-05-21 00:00:00\",\"2021-05-22 00:00:00\",\"2021-05-23 00:00:00\",\"2021-05-24 00:00:00\",\"2021-05-25 00:00:00\",\"2021-05-26 00:00:00\",\"2021-05-27 00:00:00\",\"2021-05-28 00:00:00\",\"2021-05-29 00:00:00\",\"2021-05-30 00:00:00\",\"2021-05-31 00:00:00\",\"2021-06-01 00:00:00\",\"2021-06-02 00:00:00\",\"2021-06-03 00:00:00\",\"2021-06-04 00:00:00\",\"2021-06-05 00:00:00\",\"2021-06-06 00:00:00\",\"2021-06-07 00:00:00\",\"2021-06-08 00:00:00\",\"2021-06-09 00:00:00\",\"2021-06-10 00:00:00\",\"2021-06-11 00:00:00\",\"2021-06-12 00:00:00\",\"2021-06-13 00:00:00\",\"2021-06-14 00:00:00\",\"2021-06-15 00:00:00\",\"2021-06-16 00:00:00\",\"2021-06-17 00:00:00\",\"2021-06-18 00:00:00\",\"2021-06-19 00:00:00\",\"2021-06-20 00:00:00\",\"2021-06-21 00:00:00\",\"2021-06-22 00:00:00\",\"2021-06-23 00:00:00\",\"2021-06-24 00:00:00\",\"2021-06-25 00:00:00\",\"2021-06-26 00:00:00\",\"2021-06-27 00:00:00\",\"2021-06-28 00:00:00\",\"2021-06-29 00:00:00\",\"2021-06-30 00:00:00\",\"2021-07-01 00:00:00\",\"2021-07-02 00:00:00\",\"2021-07-03 00:00:00\",\"2021-07-04 00:00:00\",\"2021-07-05 00:00:00\",\"2021-07-06 00:00:00\",\"2021-07-07 00:00:00\",\"2021-07-08 00:00:00\",\"2021-07-09 00:00:00\",\"2021-07-10 00:00:00\",\"2021-07-11 00:00:00\",\"2021-07-12 00:00:00\",\"2021-07-13 00:00:00\",\"2021-07-14 00:00:00\",\"2021-07-15 00:00:00\",\"2021-07-16 00:00:00\",\"2021-07-17 00:00:00\",\"2021-07-18 00:00:00\",\"2021-07-19 00:00:00\",\"2021-07-20 00:00:00\",\"2021-07-21 00:00:00\",\"2021-07-22 00:00:00\",\"2021-07-23 00:00:00\",\"2021-07-24 00:00:00\",\"2021-07-25 00:00:00\",\"2021-07-26 00:00:00\",\"2021-07-27 00:00:00\",\"2021-07-28 00:00:00\",\"2021-07-29 00:00:00\",\"2021-07-30 00:00:00\",\"2021-07-31 00:00:00\",\"2021-08-01 00:00:00\",\"2021-08-02 00:00:00\",\"2021-08-03 00:00:00\",\"2021-08-04 00:00:00\",\"2021-08-05 00:00:00\",\"2021-08-06 00:00:00\",\"2021-08-07 00:00:00\",\"2021-08-08 00:00:00\",\"2021-08-09 00:00:00\",\"2021-08-10 00:00:00\",\"2021-08-11 00:00:00\",\"2021-08-12 00:00:00\",\"2021-08-13 00:00:00\",\"2021-08-14 00:00:00\",\"2021-08-15 00:00:00\",\"2021-08-16 00:00:00\",\"2021-08-17 00:00:00\",\"2021-08-18 00:00:00\",\"2021-08-19 00:00:00\",\"2021-08-20 00:00:00\",\"2021-08-21 00:00:00\",\"2021-08-22 00:00:00\",\"2021-08-23 00:00:00\",\"2021-08-24 00:00:00\",\"2021-08-25 00:00:00\",\"2021-08-26 00:00:00\",\"2021-08-27 00:00:00\",\"2021-08-28 00:00:00\",\"2021-08-29 00:00:00\",\"2021-08-30 00:00:00\",\"2021-08-31 00:00:00\",\"2021-09-01 00:00:00\",\"2021-09-02 00:00:00\",\"2021-09-03 00:00:00\",\"2021-09-04 00:00:00\",\"2021-09-05 00:00:00\",\"2021-09-06 00:00:00\",\"2021-09-07 00:00:00\",\"2021-09-08 00:00:00\",\"2021-09-09 00:00:00\",\"2021-09-10 00:00:00\",\"2021-09-11 00:00:00\",\"2021-09-12 00:00:00\",\"2021-09-13 00:00:00\",\"2021-09-14 00:00:00\",\"2021-09-15 00:00:00\",\"2021-09-16 00:00:00\",\"2021-09-17 00:00:00\",\"2021-09-18 00:00:00\",\"2021-09-19 00:00:00\",\"2021-09-20 00:00:00\",\"2021-09-21 00:00:00\",\"2021-09-22 00:00:00\",\"2021-09-23 00:00:00\",\"2021-09-24 00:00:00\",\"2021-09-25 00:00:00\",\"2021-09-26 00:00:00\",\"2021-09-27 00:00:00\",\"2021-09-28 00:00:00\",\"2021-09-29 00:00:00\",\"2021-09-30 00:00:00\",\"2021-10-01 00:00:00\",\"2021-10-02 00:00:00\",\"2021-10-03 00:00:00\",\"2021-10-04 00:00:00\",\"2021-10-05 00:00:00\",\"2021-10-06 00:00:00\",\"2021-10-07 00:00:00\",\"2021-10-08 00:00:00\",\"2021-10-09 00:00:00\",\"2021-10-10 00:00:00\",\"2021-10-11 00:00:00\",\"2021-10-12 00:00:00\",\"2021-10-13 00:00:00\",\"2021-10-14 00:00:00\",\"2021-10-15 00:00:00\",\"2021-10-16 00:00:00\",\"2021-10-17 00:00:00\",\"2021-10-18 00:00:00\",\"2021-10-19 00:00:00\",\"2021-10-20 00:00:00\",\"2021-10-21 00:00:00\",\"2021-10-22 00:00:00\",\"2021-10-23 00:00:00\",\"2021-10-24 00:00:00\",\"2021-10-25 00:00:00\",\"2021-10-26 00:00:00\",\"2021-10-27 00:00:00\",\"2021-10-28 00:00:00\",\"2021-10-29 00:00:00\",\"2021-10-30 00:00:00\",\"2021-10-31 00:00:00\",\"2021-11-01 00:00:00\",\"2021-11-02 00:00:00\",\"2021-11-03 00:00:00\",\"2021-11-04 00:00:00\",\"2021-11-05 00:00:00\",\"2021-11-06 00:00:00\",\"2021-11-07 00:00:00\",\"2021-11-08 00:00:00\",\"2021-11-09 00:00:00\",\"2021-11-10 00:00:00\",\"2021-11-11 00:00:00\",\"2021-11-12 00:00:00\",\"2021-11-13 00:00:00\",\"2021-11-14 00:00:00\",\"2021-11-15 00:00:00\",\"2021-11-16 00:00:00\",\"2021-11-17 00:00:00\",\"2021-11-18 00:00:00\",\"2021-11-19 00:00:00\",\"2021-11-20 00:00:00\",\"2021-11-21 00:00:00\",\"2021-11-22 00:00:00\",\"2021-11-23 00:00:00\",\"2021-11-24 00:00:00\",\"2021-11-25 00:00:00\",\"2021-11-26 00:00:00\",\"2021-11-27 00:00:00\",\"2021-11-28 00:00:00\",\"2021-11-29 00:00:00\",\"2021-11-30 00:00:00\",\"2021-12-01 00:00:00\",\"2021-12-02 00:00:00\",\"2021-12-03 00:00:00\",\"2021-12-04 00:00:00\",\"2021-12-05 00:00:00\",\"2021-12-06 00:00:00\",\"2021-12-07 00:00:00\",\"2021-12-08 00:00:00\",\"2021-12-09 00:00:00\",\"2021-12-10 00:00:00\",\"2021-12-11 00:00:00\",\"2021-12-12 00:00:00\",\"2021-12-13 00:00:00\",\"2021-12-14 00:00:00\",\"2021-12-15 00:00:00\",\"2021-12-16 00:00:00\",\"2021-12-17 00:00:00\",\"2021-12-18 00:00:00\",\"2021-12-19 00:00:00\",\"2021-12-20 00:00:00\",\"2021-12-21 00:00:00\",\"2021-12-22 00:00:00\",\"2021-12-23 00:00:00\",\"2021-12-24 00:00:00\",\"2021-12-25 00:00:00\",\"2021-12-26 00:00:00\",\"2021-12-27 00:00:00\",\"2021-12-28 00:00:00\",\"2021-12-29 00:00:00\",\"2021-12-30 00:00:00\",\"2021-12-31 00:00:00\",\"2022-01-01 00:00:00\",\"2022-01-02 00:00:00\",\"2022-01-03 00:00:00\",\"2022-01-04 00:00:00\",\"2022-01-05 00:00:00\",\"2022-01-06 00:00:00\",\"2022-01-07 00:00:00\",\"2022-01-08 00:00:00\",\"2022-01-09 00:00:00\",\"2022-01-10 00:00:00\",\"2022-01-11 00:00:00\",\"2022-01-12 00:00:00\",\"2022-01-13 00:00:00\",\"2022-01-14 00:00:00\",\"2022-01-15 00:00:00\",\"2022-01-16 00:00:00\",\"2022-01-17 00:00:00\",\"2022-01-18 00:00:00\",\"2022-01-19 00:00:00\",\"2022-01-20 00:00:00\",\"2022-01-21 00:00:00\",\"2022-01-22 00:00:00\",\"2022-01-23 00:00:00\",\"2022-01-24 00:00:00\",\"2022-01-25 00:00:00\",\"2022-01-26 00:00:00\",\"2022-01-27 00:00:00\",\"2022-01-28 00:00:00\",\"2022-01-29 00:00:00\",\"2022-01-30 00:00:00\",\"2022-01-31 00:00:00\",\"2022-02-01 00:00:00\",\"2022-02-02 00:00:00\",\"2022-02-03 00:00:00\",\"2022-02-04 00:00:00\",\"2022-02-05 00:00:00\",\"2022-02-06 00:00:00\",\"2022-02-07 00:00:00\",\"2022-02-08 00:00:00\",\"2022-02-09 00:00:00\",\"2022-02-10 00:00:00\",\"2022-02-11 00:00:00\",\"2022-02-12 00:00:00\",\"2022-02-13 00:00:00\",\"2022-02-14 00:00:00\",\"2022-02-15 00:00:00\",\"2022-02-16 00:00:00\",\"2022-02-17 00:00:00\",\"2022-02-18 00:00:00\",\"2022-02-19 00:00:00\",\"2022-02-20 00:00:00\",\"2022-02-21 00:00:00\",\"2022-02-22 00:00:00\",\"2022-02-23 00:00:00\",\"2022-02-24 00:00:00\",\"2022-02-25 00:00:00\",\"2022-02-26 00:00:00\",\"2022-02-27 00:00:00\",\"2022-02-28 00:00:00\",\"2022-03-01 00:00:00\",\"2022-03-02 00:00:00\",\"2022-03-03 00:00:00\",\"2022-03-04 00:00:00\",\"2022-03-05 00:00:00\",\"2022-03-06 00:00:00\",\"2022-03-07 00:00:00\",\"2022-03-08 00:00:00\",\"2022-03-09 00:00:00\",\"2022-03-10 00:00:00\",\"2022-03-11 00:00:00\",\"2022-03-12 00:00:00\",\"2022-03-13 00:00:00\",\"2022-03-14 00:00:00\",\"2022-03-15 00:00:00\",\"2022-03-16 00:00:00\",\"2022-03-17 00:00:00\",\"2022-03-18 00:00:00\",\"2022-03-19 00:00:00\",\"2022-03-20 00:00:00\",\"2022-03-21 00:00:00\",\"2022-03-22 00:00:00\",\"2022-03-23 00:00:00\",\"2022-03-24 00:00:00\",\"2022-03-25 00:00:00\",\"2022-03-26 00:00:00\",\"2022-03-27 00:00:00\",\"2022-03-28 00:00:00\",\"2022-03-29 00:00:00\",\"2022-03-30 00:00:00\",\"2022-03-31 00:00:00\",\"2022-04-01 00:00:00\",\"2022-04-02 00:00:00\",\"2022-04-03 00:00:00\",\"2022-04-04 00:00:00\",\"2022-04-05 00:00:00\",\"2022-04-06 00:00:00\",\"2022-04-07 00:00:00\",\"2022-04-08 00:00:00\",\"2022-04-09 00:00:00\",\"2022-04-10 00:00:00\",\"2022-04-11 00:00:00\",\"2022-04-12 00:00:00\",\"2022-04-13 00:00:00\",\"2022-04-14 00:00:00\",\"2022-04-15 00:00:00\",\"2022-04-16 00:00:00\",\"2022-04-17 00:00:00\",\"2022-04-18 00:00:00\",\"2022-04-19 00:00:00\",\"2022-04-20 00:00:00\",\"2022-04-21 00:00:00\",\"2022-04-22 00:00:00\",\"2022-04-23 00:00:00\",\"2022-04-24 00:00:00\",\"2022-04-25 00:00:00\",\"2022-04-26 00:00:00\",\"2022-04-27 00:00:00\",\"2022-04-28 00:00:00\",\"2022-04-29 00:00:00\",\"2022-04-30 00:00:00\",\"2022-05-01 00:00:00\",\"2022-05-02 00:00:00\",\"2022-05-03 00:00:00\",\"2022-05-04 00:00:00\",\"2022-05-05 00:00:00\",\"2022-05-06 00:00:00\",\"2022-05-07 00:00:00\",\"2022-05-08 00:00:00\",\"2022-05-09 00:00:00\",\"2022-05-10 00:00:00\",\"2022-05-11 00:00:00\",\"2022-05-12 00:00:00\",\"2022-05-13 00:00:00\",\"2022-05-14 00:00:00\",\"2022-05-15 00:00:00\",\"2022-05-16 00:00:00\",\"2022-05-17 00:00:00\",\"2022-05-18 00:00:00\",\"2022-05-19 00:00:00\",\"2022-05-20 00:00:00\",\"2022-05-21 00:00:00\",\"2022-05-22 00:00:00\",\"2022-05-23 00:00:00\",\"2022-05-24 00:00:00\",\"2022-05-25 00:00:00\",\"2022-05-26 00:00:00\",\"2022-05-27 00:00:00\",\"2022-05-28 00:00:00\",\"2022-05-29 00:00:00\",\"2022-05-30 00:00:00\",\"2022-05-31 00:00:00\",\"2022-06-01 00:00:00\",\"2022-06-02 00:00:00\",\"2022-06-03 00:00:00\",\"2022-06-04 00:00:00\",\"2022-06-05 00:00:00\",\"2022-06-06 00:00:00\",\"2022-06-07 00:00:00\",\"2022-06-08 00:00:00\",\"2022-06-09 00:00:00\",\"2022-06-10 00:00:00\",\"2022-06-11 00:00:00\",\"2022-06-12 00:00:00\",\"2022-06-13 00:00:00\",\"2022-06-14 00:00:00\",\"2022-06-15 00:00:00\",\"2022-06-16 00:00:00\",\"2022-06-17 00:00:00\",\"2022-06-18 00:00:00\",\"2022-06-19 00:00:00\",\"2022-06-20 00:00:00\",\"2022-06-21 00:00:00\",\"2022-06-22 00:00:00\",\"2022-06-23 00:00:00\",\"2022-06-24 00:00:00\",\"2022-06-25 00:00:00\",\"2022-06-26 00:00:00\",\"2022-06-27 00:00:00\",\"2022-06-28 00:00:00\",\"2022-06-29 00:00:00\",\"2022-06-30 00:00:00\",\"2022-07-01 00:00:00\",\"2022-07-02 00:00:00\",\"2022-07-03 00:00:00\",\"2022-07-04 00:00:00\",\"2022-07-05 00:00:00\",\"2022-07-06 00:00:00\",\"2022-07-07 00:00:00\",\"2022-07-08 00:00:00\",\"2022-07-09 00:00:00\",\"2022-07-10 00:00:00\",\"2022-07-11 00:00:00\",\"2022-07-12 00:00:00\",\"2022-07-13 00:00:00\",\"2022-07-14 00:00:00\",\"2022-07-15 00:00:00\",\"2022-07-16 00:00:00\",\"2022-07-17 00:00:00\",\"2022-07-18 00:00:00\",\"2022-07-19 00:00:00\",\"2022-07-20 00:00:00\",\"2022-07-21 00:00:00\",\"2022-07-22 00:00:00\",\"2022-07-23 00:00:00\",\"2022-07-24 00:00:00\",\"2022-07-25 00:00:00\",\"2022-07-26 00:00:00\",\"2022-07-27 00:00:00\",\"2022-07-28 00:00:00\",\"2022-07-29 00:00:00\",\"2022-07-30 00:00:00\",\"2022-07-31 00:00:00\",\"2022-08-01 00:00:00\",\"2022-08-02 00:00:00\",\"2022-08-03 00:00:00\",\"2022-08-04 00:00:00\",\"2022-08-05 00:00:00\",\"2022-08-06 00:00:00\",\"2022-08-07 00:00:00\",\"2022-08-08 00:00:00\",\"2022-08-09 00:00:00\",\"2022-08-10 00:00:00\",\"2022-08-11 00:00:00\",\"2022-08-12 00:00:00\",\"2022-08-13 00:00:00\",\"2022-08-14 00:00:00\",\"2022-08-15 00:00:00\",\"2022-08-16 00:00:00\",\"2022-08-17 00:00:00\",\"2022-08-18 00:00:00\",\"2022-08-19 00:00:00\",\"2022-08-20 00:00:00\",\"2022-08-21 00:00:00\",\"2022-08-22 00:00:00\",\"2022-08-23 00:00:00\",\"2022-08-24 00:00:00\",\"2022-08-25 00:00:00\",\"2022-08-26 00:00:00\",\"2022-08-27 00:00:00\",\"2022-08-28 00:00:00\",\"2022-08-29 00:00:00\",\"2022-08-30 00:00:00\",\"2022-08-31 00:00:00\",\"2022-09-01 00:00:00\",\"2022-09-02 00:00:00\",\"2022-09-03 00:00:00\",\"2022-09-04 00:00:00\",\"2022-09-05 00:00:00\",\"2022-09-06 00:00:00\",\"2022-09-07 00:00:00\",\"2022-09-08 00:00:00\",\"2022-09-09 00:00:00\",\"2022-09-10 00:00:00\",\"2022-09-11 00:00:00\",\"2022-09-12 00:00:00\",\"2022-09-13 00:00:00\",\"2022-09-14 00:00:00\",\"2022-09-15 00:00:00\",\"2022-09-16 00:00:00\",\"2022-09-17 00:00:00\",\"2022-09-18 00:00:00\",\"2022-09-19 00:00:00\",\"2022-09-20 00:00:00\",\"2022-09-21 00:00:00\",\"2022-09-22 00:00:00\",\"2022-09-23 00:00:00\",\"2022-09-24 00:00:00\",\"2022-09-25 00:00:00\",\"2022-09-26 00:00:00\",\"2022-09-27 00:00:00\",\"2022-09-28 00:00:00\",\"2022-09-29 00:00:00\",\"2022-09-30 00:00:00\",\"2022-10-01 00:00:00\",\"2022-10-02 00:00:00\",\"2022-10-03 00:00:00\",\"2022-10-04 00:00:00\",\"2022-10-05 00:00:00\",\"2022-10-06 00:00:00\",\"2022-10-07 00:00:00\",\"2022-10-08 00:00:00\",\"2022-10-09 00:00:00\",\"2022-10-10 00:00:00\",\"2022-10-11 00:00:00\",\"2022-10-12 00:00:00\",\"2022-10-13 00:00:00\",\"2022-10-14 00:00:00\",\"2022-10-15 00:00:00\",\"2022-10-16 00:00:00\",\"2022-10-17 00:00:00\",\"2022-10-18 00:00:00\",\"2022-10-19 00:00:00\",\"2022-10-20 00:00:00\",\"2022-10-21 00:00:00\",\"2022-10-22 00:00:00\",\"2022-10-23 00:00:00\",\"2022-10-24 00:00:00\",\"2022-10-25 00:00:00\",\"2022-10-26 00:00:00\",\"2022-10-27 00:00:00\",\"2022-10-28 00:00:00\",\"2022-10-29 00:00:00\",\"2022-10-30 00:00:00\",\"2022-10-31 00:00:00\",\"2022-11-01 00:00:00\",\"2022-11-02 00:00:00\",\"2022-11-03 00:00:00\",\"2022-11-04 00:00:00\",\"2022-11-05 00:00:00\",\"2022-11-06 00:00:00\",\"2022-11-07 00:00:00\",\"2022-11-08 00:00:00\",\"2022-11-09 00:00:00\",\"2022-11-10 00:00:00\",\"2022-11-11 00:00:00\",\"2022-11-12 00:00:00\",\"2022-11-13 00:00:00\",\"2022-11-14 00:00:00\",\"2022-11-15 00:00:00\",\"2022-11-16 00:00:00\",\"2022-11-17 00:00:00\",\"2022-11-18 00:00:00\",\"2022-11-19 00:00:00\",\"2022-11-20 00:00:00\",\"2022-11-21 00:00:00\",\"2022-11-22 00:00:00\",\"2022-11-23 00:00:00\",\"2022-11-24 00:00:00\",\"2022-11-25 00:00:00\",\"2022-11-26 00:00:00\",\"2022-11-27 00:00:00\",\"2022-11-28 00:00:00\",\"2022-11-29 00:00:00\",\"2022-11-30 00:00:00\",\"2022-12-01 00:00:00\",\"2022-12-02 00:00:00\",\"2022-12-03 00:00:00\",\"2022-12-04 00:00:00\",\"2022-12-05 00:00:00\",\"2022-12-06 00:00:00\",\"2022-12-07 00:00:00\",\"2022-12-08 00:00:00\",\"2022-12-09 00:00:00\",\"2022-12-10 00:00:00\",\"2022-12-11 00:00:00\",\"2022-12-12 00:00:00\",\"2022-12-13 00:00:00\",\"2022-12-14 00:00:00\",\"2022-12-15 00:00:00\",\"2022-12-16 00:00:00\",\"2022-12-17 00:00:00\",\"2022-12-18 00:00:00\",\"2022-12-19 00:00:00\",\"2022-12-20 00:00:00\",\"2022-12-21 00:00:00\",\"2022-12-22 00:00:00\",\"2022-12-23 00:00:00\",\"2022-12-24 00:00:00\",\"2022-12-25 00:00:00\",\"2022-12-26 00:00:00\",\"2022-12-27 00:00:00\",\"2022-12-28 00:00:00\",\"2022-12-29 00:00:00\",\"2022-12-30 00:00:00\",\"2022-12-31 00:00:00\",\"2023-01-01 00:00:00\",\"2023-01-02 00:00:00\",\"2023-01-03 00:00:00\",\"2023-01-04 00:00:00\",\"2023-01-05 00:00:00\",\"2023-01-06 00:00:00\",\"2023-01-07 00:00:00\",\"2023-01-08 00:00:00\",\"2023-01-09 00:00:00\",\"2023-01-10 00:00:00\",\"2023-01-11 00:00:00\",\"2023-01-12 00:00:00\",\"2023-01-13 00:00:00\",\"2023-01-14 00:00:00\",\"2023-01-15 00:00:00\",\"2023-01-16 00:00:00\",\"2023-01-17 00:00:00\",\"2023-01-18 00:00:00\",\"2023-01-19 00:00:00\",\"2023-01-20 00:00:00\",\"2023-01-21 00:00:00\",\"2023-01-22 00:00:00\",\"2023-01-23 00:00:00\",\"2023-01-24 00:00:00\",\"2023-01-25 00:00:00\",\"2023-01-26 00:00:00\",\"2023-01-27 00:00:00\",\"2023-01-28 00:00:00\",\"2023-01-29 00:00:00\",\"2023-01-30 00:00:00\",\"2023-01-31 00:00:00\",\"2023-02-01 00:00:00\",\"2023-02-02 00:00:00\",\"2023-02-03 00:00:00\",\"2023-02-04 00:00:00\",\"2023-02-05 00:00:00\",\"2023-02-06 00:00:00\",\"2023-02-07 00:00:00\",\"2023-02-08 00:00:00\",\"2023-02-09 00:00:00\",\"2023-02-10 00:00:00\",\"2023-02-11 00:00:00\",\"2023-02-12 00:00:00\",\"2023-02-13 00:00:00\",\"2023-02-14 00:00:00\",\"2023-02-15 00:00:00\",\"2023-02-16 00:00:00\",\"2023-02-17 00:00:00\",\"2023-02-18 00:00:00\",\"2023-02-19 00:00:00\",\"2023-02-20 00:00:00\",\"2023-02-21 00:00:00\",\"2023-02-22 00:00:00\",\"2023-02-23 00:00:00\",\"2023-02-24 00:00:00\",\"2023-02-25 00:00:00\",\"2023-02-26 00:00:00\",\"2023-02-27 00:00:00\",\"2023-02-28 00:00:00\",\"2023-03-01 00:00:00\",\"2023-03-02 00:00:00\",\"2023-03-03 00:00:00\",\"2023-03-04 00:00:00\",\"2023-03-05 00:00:00\",\"2023-03-06 00:00:00\",\"2023-03-07 00:00:00\",\"2023-03-08 00:00:00\",\"2023-03-09 00:00:00\",\"2023-03-10 00:00:00\",\"2023-03-11 00:00:00\",\"2023-03-12 00:00:00\",\"2023-03-13 00:00:00\",\"2023-03-14 00:00:00\",\"2023-03-15 00:00:00\",\"2023-03-16 00:00:00\",\"2023-03-17 00:00:00\",\"2023-03-18 00:00:00\",\"2023-03-19 00:00:00\",\"2023-03-20 00:00:00\",\"2023-03-21 00:00:00\",\"2023-03-22 00:00:00\",\"2023-03-23 00:00:00\",\"2023-03-24 00:00:00\",\"2023-03-25 00:00:00\",\"2023-03-26 00:00:00\",\"2023-03-27 00:00:00\",\"2023-03-28 00:00:00\",\"2023-03-29 00:00:00\",\"2023-03-30 00:00:00\",\"2023-03-31 00:00:00\",\"2023-04-01 00:00:00\",\"2023-04-02 00:00:00\",\"2023-04-03 00:00:00\",\"2023-04-04 00:00:00\",\"2023-04-05 00:00:00\",\"2023-04-06 00:00:00\",\"2023-04-07 00:00:00\",\"2023-04-08 00:00:00\",\"2023-04-09 00:00:00\",\"2023-04-10 00:00:00\",\"2023-04-11 00:00:00\",\"2023-04-12 00:00:00\",\"2023-04-13 00:00:00\",\"2023-04-14 00:00:00\",\"2023-04-15 00:00:00\",\"2023-04-16 00:00:00\",\"2023-04-17 00:00:00\",\"2023-04-18 00:00:00\",\"2023-04-19 00:00:00\",\"2023-04-20 00:00:00\",\"2023-04-21 00:00:00\",\"2023-04-22 00:00:00\",\"2023-04-23 00:00:00\",\"2023-04-24 00:00:00\",\"2023-04-25 00:00:00\",\"2023-04-26 00:00:00\",\"2023-04-27 00:00:00\",\"2023-04-28 00:00:00\",\"2023-04-29 00:00:00\",\"2023-04-30 00:00:00\",\"2023-05-01 00:00:00\",\"2023-05-02 00:00:00\",\"2023-05-03 00:00:00\",\"2023-05-04 00:00:00\",\"2023-05-05 00:00:00\",\"2023-05-06 00:00:00\",\"2023-05-07 00:00:00\",\"2023-05-08 00:00:00\",\"2023-05-09 00:00:00\",\"2023-05-10 00:00:00\",\"2023-05-11 00:00:00\",\"2023-05-12 00:00:00\",\"2023-05-13 00:00:00\",\"2023-05-14 00:00:00\",\"2023-05-15 00:00:00\",\"2023-05-16 00:00:00\",\"2023-05-17 00:00:00\",\"2023-05-18 00:00:00\",\"2023-05-19 00:00:00\",\"2023-05-20 00:00:00\",\"2023-05-21 00:00:00\",\"2023-05-22 00:00:00\",\"2023-05-23 00:00:00\",\"2023-05-24 00:00:00\",\"2023-05-25 00:00:00\",\"2023-05-26 00:00:00\",\"2023-05-27 00:00:00\",\"2023-05-28 00:00:00\",\"2023-05-29 00:00:00\",\"2023-05-30 00:00:00\",\"2023-05-31 00:00:00\",\"2023-06-01 00:00:00\",\"2023-06-02 00:00:00\",\"2023-06-03 00:00:00\",\"2023-06-04 00:00:00\",\"2023-06-05 00:00:00\",\"2023-06-06 00:00:00\",\"2023-06-07 00:00:00\",\"2023-06-08 00:00:00\",\"2023-06-09 00:00:00\",\"2023-06-10 00:00:00\",\"2023-06-11 00:00:00\",\"2023-06-12 00:00:00\",\"2023-06-13 00:00:00\",\"2023-06-14 00:00:00\",\"2023-06-15 00:00:00\",\"2023-06-16 00:00:00\",\"2023-06-17 00:00:00\",\"2023-06-18 00:00:00\",\"2023-06-19 00:00:00\",\"2023-06-20 00:00:00\",\"2023-06-21 00:00:00\",\"2023-06-22 00:00:00\",\"2023-06-23 00:00:00\",\"2023-06-24 00:00:00\",\"2023-06-25 00:00:00\",\"2023-06-26 00:00:00\",\"2023-06-27 00:00:00\",\"2023-06-28 00:00:00\",\"2023-06-29 00:00:00\",\"2023-06-30 00:00:00\",\"2023-07-01 00:00:00\",\"2023-07-02 00:00:00\",\"2023-07-03 00:00:00\",\"2023-07-04 00:00:00\",\"2023-07-05 00:00:00\",\"2023-07-06 00:00:00\",\"2023-07-07 00:00:00\",\"2023-07-08 00:00:00\",\"2023-07-09 00:00:00\",\"2023-07-10 00:00:00\",\"2023-07-11 00:00:00\",\"2023-07-12 00:00:00\",\"2023-07-13 00:00:00\",\"2023-07-14 00:00:00\",\"2023-07-15 00:00:00\",\"2023-07-16 00:00:00\",\"2023-07-17 00:00:00\",\"2023-07-18 00:00:00\",\"2023-07-19 00:00:00\",\"2023-07-20 00:00:00\",\"2023-07-21 00:00:00\",\"2023-07-22 00:00:00\",\"2023-07-23 00:00:00\",\"2023-07-24 00:00:00\",\"2023-07-25 00:00:00\",\"2023-07-26 00:00:00\",\"2023-07-27 00:00:00\",\"2023-07-28 00:00:00\",\"2023-07-29 00:00:00\",\"2023-07-30 00:00:00\",\"2023-07-31 00:00:00\",\"2023-08-01 00:00:00\",\"2023-08-02 00:00:00\",\"2023-08-03 00:00:00\",\"2023-08-04 00:00:00\",\"2023-08-05 00:00:00\",\"2023-08-06 00:00:00\",\"2023-08-07 00:00:00\",\"2023-08-08 00:00:00\",\"2023-08-09 00:00:00\",\"2023-08-10 00:00:00\",\"2023-08-11 00:00:00\",\"2023-08-12 00:00:00\",\"2023-08-13 00:00:00\",\"2023-08-14 00:00:00\",\"2023-08-15 00:00:00\",\"2023-08-16 00:00:00\",\"2023-08-17 00:00:00\",\"2023-08-18 00:00:00\",\"2023-08-19 00:00:00\",\"2023-08-20 00:00:00\",\"2023-08-21 00:00:00\",\"2023-08-22 00:00:00\",\"2023-08-23 00:00:00\",\"2023-08-24 00:00:00\",\"2023-08-25 00:00:00\",\"2023-08-26 00:00:00\",\"2023-08-27 00:00:00\",\"2023-08-28 00:00:00\",\"2023-08-29 00:00:00\",\"2023-08-30 00:00:00\",\"2023-08-31 00:00:00\",\"2023-09-01 00:00:00\",\"2023-09-02 00:00:00\",\"2023-09-03 00:00:00\",\"2023-09-04 00:00:00\",\"2023-09-05 00:00:00\",\"2023-09-06 00:00:00\",\"2023-09-07 00:00:00\",\"2023-09-08 00:00:00\",\"2023-09-09 00:00:00\",\"2023-09-10 00:00:00\",\"2023-09-11 00:00:00\",\"2023-09-12 00:00:00\",\"2023-09-13 00:00:00\",\"2023-09-14 00:00:00\",\"2023-09-15 00:00:00\",\"2023-09-16 00:00:00\",\"2023-09-17 00:00:00\",\"2023-09-18 00:00:00\",\"2023-09-19 00:00:00\",\"2023-09-20 00:00:00\",\"2023-09-21 00:00:00\",\"2023-09-22 00:00:00\",\"2023-09-23 00:00:00\",\"2023-09-24 00:00:00\",\"2023-09-25 00:00:00\",\"2023-09-26 00:00:00\",\"2023-09-27 00:00:00\",\"2023-09-28 00:00:00\",\"2023-09-29 00:00:00\",\"2023-09-30 00:00:00\",\"2023-10-01 00:00:00\",\"2023-10-02 00:00:00\",\"2023-10-03 00:00:00\",\"2023-10-04 00:00:00\",\"2023-10-05 00:00:00\",\"2023-10-06 00:00:00\",\"2023-10-07 00:00:00\",\"2023-10-08 00:00:00\",\"2023-10-09 00:00:00\",\"2023-10-10 00:00:00\",\"2023-10-11 00:00:00\",\"2023-10-12 00:00:00\",\"2023-10-13 00:00:00\",\"2023-10-14 00:00:00\",\"2023-10-15 00:00:00\",\"2023-10-16 00:00:00\",\"2023-10-17 00:00:00\"],\"y\":[240872.0,289952.0,318440.0,334684.0,320909.0,316020.0,317607.0,298697.0,291192.0,308606.0,307985.0,273255.0,263038.0,249687.0,262726.0,266711.0,279116.0,276164.0,246957.0,236542.0,226487.0,219524.0,219034.0,231448.0,229337.0,205412.0,193102.0,184411.0,212901.0,203540.0,213778.0,204645.0,176369.0,170452.0,162885.0,157923.0,161502.0,166982.0,160239.0,135011.0,129060.0,124025.0,119436.0,132048.0,128598.0,125912.0,105539.0,105906.0,101263.0,98332.0,100650.0,107440.0,104046.0,87237.0,84363.0,82697.0,80762.0,122588.0,120506.0,114646.0,101778.0,95751.0,88576.0,85054.0,89992.0,93228.0,82251.0,73954.0,71358.0,67006.0,68342.0,75560.0,74404.0,68385.0,59415.0,57197.0,54715.0,52809.0,54611.0,56892.0,53145.0,46400.0,44894.0,51300.0,52334.0,122565.0,107612.0,95955.0,79920.0,73063.0,64726.0,60277.0,59263.0,61493.0,54562.0,47688.0,46535.0,45110.0,43282.0,60365.0,57294.0,51704.0,43652.0,40884.0,41220.0,70379.0,64115.0,65946.0,63057.0,55090.0,53860.0,53302.0,51687.0,79051.0,76826.0,71226.0,60492.0,57846.0,54307.0,53858.0,54965.0,59585.0,56848.0,49599.0,52550.0,50475.0,49539.0,64385.0,63955.0,61070.0,52696.0,47654.0,45516.0,45489.0,93807.0,88027.0,83449.0,77168.0,72039.0,74830.0,73653.0,74903.0,76141.0,75200.0,65359.0,68428.0,68731.0,68812.0,97343.0,95520.0,86085.0,74593.0,70744.0,67649.0,67288.0,63220.0,68826.0,65988.0,54237.0,52914.0,51325.0,50992.0,62100.0,65447.0,63217.0,51343.0,52921.0,54341.0,52630.0,53559.0,94397.0,89874.0,75045.0,67345.0,65191.0,60648.0,59440.0,62572.0,61721.0,45109.0,47566.0,48389.0,48333.0,54136.0,60941.0,62495.0,54202.0,53445.0,51505.0,47471.0,48886.0,52745.0,52206.0,46119.0,44199.0,43668.0,44053.0,45293.0,46045.0,42261.0,36574.0,35072.0,34224.0,34021.0,36315.0,38457.0,35912.0,31351.0,31307.0,30741.0,30306.0,35740.0,37516.0,34115.0,28926.0,28116.0,27912.0,27499.0,36936.0,38254.0,35174.0,29754.0,28964.0,27808.0,28220.0,33718.0,32913.0,29390.0,24018.0,23847.0,23499.0,23229.0,23865.0,25640.0,24194.0,20380.0,20399.0,20337.0,25121.0,37056.0,36674.0,38070.0,33757.0,34417.0,32781.0,32409.0,34915.0,37362.0,35114.0,30674.0,30065.0,28619.0,29139.0,51707.0,48689.0,43383.0,41037.0,35768.0,32665.0,32800.0,49794.0,51871.0,51942.0,45792.0,46130.0,46198.0,41039.0,45899.0,48400.0,49323.0,41555.0,40384.0,40852.0,52616.0,54453.0,59550.0,57132.0,47823.0,48033.0,47078.0,46700.0,52765.0,52482.0,47390.0,37826.0,36307.0,34312.0,32411.0,34483.0,37732.0,35454.0,31133.0,30487.0,30526.0,34023.0,39419.0,41438.0,39985.0,34377.0,33729.0,36256.0,36724.0,44992.0,45036.0,42960.0,38863.0,34851.0,33920.0,33184.0,34594.0,37913.0,36210.0,31047.0,29982.0,29965.0,31366.0,36438.0,39574.0,38389.0,32601.0,32650.0,41827.0,47269.0,51308.0,58116.0,59400.0,60198.0,61740.0,62860.0,64361.0,68446.0,72684.0,72353.0,68556.0,70776.0,68905.0,68367.0,72677.0,74119.0,73941.0,67556.0,66160.0,63641.0,63353.0,65645.0,68872.0,66311.0,61835.0,59349.0,57922.0,58440.0,91108.0,89350.0,85691.0,79987.0,75733.0,72636.0,69724.0,71241.0,72860.0,70863.0,65103.0,63041.0,60333.0,61533.0,62661.0,67588.0,70782.0,67683.0,69370.0,69115.0,68513.0,67765.0,69855.0,68633.0,62744.0,60925.0,62042.0,61097.0,65063.0,70454.0,69449.0,64053.0,60278.0,61301.0,59297.0,51713.0,53849.0,51570.0,47257.0,46424.0,45896.0,45811.0,53664.0,61823.0,62162.0,56060.0,57542.0,58242.0,62302.0,67639.0,78848.0,83542.0,80173.0,82129.0,82813.0,85069.0,93183.0,98197.0,94776.0,83840.0,81430.0,77767.0,76444.0,91009.0,89972.0,87100.0,76348.0,70227.0,66972.0,67785.0,63813.0,67284.0,66643.0,57328.0,58670.0,57492.0,57005.0,62485.0,65806.0,61629.0,54635.0,51093.0,50116.0,49753.0,74824.0,74611.0,69642.0,61468.0,58741.0,54954.0,52861.0,55080.0,62871.0,62713.0,60696.0,57367.0,59258.0,60716.0,60377.0,59648.0,55798.0,52981.0,51549.0,50467.0,48754.0,51610.0,54451.0,43046.0,43390.0,42012.0,41303.0,40245.0,42783.0,44546.0,41777.0,37291.0,35736.0,35209.0,34502.0,39437.0,41376.0,39608.0,35293.0,34247.0,35756.0,37946.0,58004.0,61093.0,60566.0,56260.0,57304.0,55414.0,55188.0,64934.0,67802.0,63152.0,56638.0,55381.0,51106.0,47113.0,51623.0,56421.0,53841.0,48122.0,46816.0,44748.0,43957.0,50208.0,55668.0,58863.0,58515.0,57765.0,58485.0,61686.0,66691.0,69697.0,69511.0,68685.0,64922.0,67925.0,70810.0,71218.0,72595.0,69423.0,63854.0,62381.0,63606.0,101350.0,232598.0,274114.0,284524.0,250113.0,241828.0,233438.0,215939.0,219524.0,237784.0,237494.0,202450.0,194057.0,185431.0,178578.0,185441.0,217164.0,227398.0,206565.0,209476.0,207812.0,204878.0,206373.0,224116.0,225235.0,197388.0,191504.0,190134.0,222799.0,212030.0,221567.0,218278.0,188946.0,181501.0,174021.0,180705.0,169802.0,187052.0,188261.0,168889.0,161456.0,154258.0,145633.0,152605.0,161200.0,158404.0,141340.0,135773.0,131086.0,126145.0,166220.0,164297.0,155780.0,137520.0,132257.0,128078.0,123298.0,125266.0,132794.0,127974.0,112697.0,111745.0,107483.0,149477.0,134799.0,131574.0,123044.0,108458.0,104371.0,102006.0,103372.0,219730.0,205296.0,189899.0,166259.0,154125.0,144309.0,138000.0,142219.0,146795.0,140038.0,126334.0,120934.0,113459.0,111354.0,113225.0,143037.0,113925.0,103450.0,100154.0,96939.0,144420.0,150258.0,142522.0,129522.0,122439.0,114511.0,108037.0,101572.0,100827.0,106077.0,99845.0,90256.0,90161.0,91953.0,135041.0,122598.0,117349.0,109683.0,96574.0,93077.0,88503.0,87985.0,107426.0,99856.0,99479.0,89960.0,88529.0,86541.0,85360.0,92309.0,95152.0,88807.0,78944.0,76964.0,73229.0,71440.0,71026.0,75581.0,69410.0,60969.0,59864.0,57087.0,58805.0,62430.0,65101.0,61098.0,55862.0,52316.0,51162.0,49058.0,50510.0,54589.0,50669.0,47049.0,43113.0,42157.0,40888.0,47953.0,51506.0,48595.0,42854.0,41957.0,41230.0,41464.0,42054.0,44607.0,43117.0,37627.0,37798.0,37230.0,36038.0,38267.0,39912.0,37684.0,34511.0,33880.0,34970.0,33694.0,38952.0,43261.0,44504.0,42297.0,44825.0,48016.0,51165.0,65137.0,67938.0,68179.0,65749.0,66952.0,69637.0,144376.0,129770.0,122135.0,110914.0,97665.0,91520.0,82782.0,78613.0,83667.0,84885.0,80135.0,70867.0,68019.0,99731.0,87716.0,83000.0,83120.0,79638.0,72246.0,71152.0,68671.0,66096.0,70428.0,73208.0,71859.0,65708.0,66229.0,61402.0,61221.0,74289.0,66343.0,63420.0,58431.0,55320.0,52241.0,52250.0,54695.0,55559.0,54676.0,49614.0,47721.0,46555.0,45070.0,53940.0,56600.0,55835.0,50632.0,48113.0,48097.0,46093.0,54409.0,57887.0,56757.0,51281.0,50129.0,50110.0,48884.0,51729.0,62787.0,61913.0,56682.0,49951.0,48534.0,48509.0,54727.0,57934.0,54771.0,47656.0,43321.0,42535.0,40390.0,46454.0,49785.0,47143.0,41081.0,39985.0,39761.0,37895.0,45853.0,50799.0,52034.0,46599.0,47948.0,49319.0,109591.0,117938.0,123163.0,119292.0,105241.0,101466.0,94692.0,87070.0,89718.0,92907.0,82953.0,70188.0,69485.0,65869.0,63921.0,103238.0,97549.0,91577.0,78128.0,73527.0,70317.0,67995.0,74718.0,75147.0,67170.0,59342.0,56912.0,54354.0,51244.0,55236.0,58175.0,57419.0,51505.0,50361.0,49916.0,48149.0,50056.0,53746.0,50302.0,41683.0,40578.0,38646.0,36721.0,39386.0,43203.0,40502.0,34357.0,33714.0,33367.0,33221.0,41087.0,44668.0,43333.0,36226.0,34729.0,35541.0,38567.0,44383.0,51634.0,52681.0,47748.0,48811.0,48371.0,47923.0,54404.0,56350.0,53699.0,47461.0,44994.0,42431.0,37028.0,39963.0,44324.0,43202.0,39052.0,38676.0,37904.0,37084.0,40727.0,44025.0,42490.0,39962.0,38782.0,39987.0,41804.0,42884.0,48495.0,49928.0,48337.0,49515.0,49451.0,47069.0,51796.0,54777.0,55130.0,50738.0,51496.0,51260.0,49467.0,51376.0,56260.0,56758.0,49132.0,48122.0,47875.0,46685.0,49644.0,54203.0,54011.0,46615.0,46321.0,45770.0,44681.0,46022.0,50248.0,50305.0,43922.0,43388.0,43081.0,42229.0,43046.0,46798.0,45857.0,40033.0,39108.0,37373.0,36500.0,35453.0,39443.0,38711.0,33952.0,33196.0,32925.0,29668.0,35241.0,40818.0,42333.0,40717.0,41312.0,37667.0,39562.0,40198.0,42693.0,42202.0,38096.0,37516.0,36552.0,35587.0,36755.0,39377.0,39090.0,33964.0,33240.0,33117.0,32464.0,34552.0,38522.0,37578.0,32208.0,31779.0,32275.0,32293.0,35405.0,40499.0,38917.0,33858.0,33565.0,32646.0,32703.0,34231.0,38304.0,37620.0,31258.0,31180.0,31442.0,30265.0,32222.0,36714.0,37332.0,32996.0,32888.0,32262.0,32944.0,36205.0,37879.0,38677.0,37742.0,34116.0,33618.0,33064.0,36164.0,40668.0,40281.0,33708.0,33278.0,34841.0,36207.0,40117.0,47099.0,47859.0,42232.0,42731.0,42665.0,41063.0,43513.0,44610.0,44216.0,38348.0,36844.0,35079.0,34349.0,35615.0,38943.0,40156.0,36162.0,36475.0,35175.0,34861.0,36618.0,40474.0,38171.0,33438.0,33025.0,32830.0,33828.0,33904.0,36202.0,35416.0,30574.0,30201.0,29672.0,28757.0,30193.0,32565.0,30138.0,29431.0,26830.0,25675.0,25418.0,29429.0,34742.0,35614.0,34320.0,33037.0,32471.0,32279.0,34528.0,37212.0,35772.0,31877.0,30934.0,29554.0,28671.0,29150.0,31153.0,31216.0,26993.0,26261.0,25570.0,25301.0,26518.0,28074.0,26801.0,24149.0,23841.0,22878.0,22972.0,26249.0,29862.0,30424.0,28954.0,29786.0,29664.0,29773.0,32783.0,36081.0,35974.0,34185.0,34114.0,33575.0,33427.0,32760.0,34770.0,34340.0,30786.0,30716.0,30652.0,29932.0,31044.0,32867.0,32777.0,30565.0,30006.0,28005.0,27845.0,28277.0,30366.0,30029.0,27702.0,27594.0,27083.0,26823.0,28383.0,29992.0,29843.0,28043.0,27463.0,27216.0,26671.0,27316.0,29287.0,29478.0,27209.0,26626.0,26522.0,26329.0,29020.0,32968.0,36205.0,34222.0,35394.0,35634.0,35590.0,36053.0,38546.0,38769.0,34365.0,33620.0,32176.0,31448.0,33168.0,35418.0,35603.0,31878.0,30710.0,28777.0,28347.0,29443.0,32026.0,31712.0,28436.0,28159.0,26972.0,26309.0,27528.0,29676.0,28595.0,25007.0,25150.0,24500.0,24333.0,25485.0,28065.0,29106.0,25381.0,24382.0,23620.0,23289.0,26128.0,27707.0,27116.0,23688.0,23065.0,22943.0,24788.0,27756.0,31731.0,32784.0,29439.0,28126.0,28025.0,26987.0,27539.0,30326.0,29659.0,25125.0,24461.0,23464.0,22361.0,24478.0,27419.0,26165.0,22978.0,23148.0,23187.0,22503.0,24734.0,27180.0,26412.0,23136.0,22924.0,22710.0,22146.0,24645.0,27253.0,27032.0,26361.0,25862.0,23978.0,23747.0,25830.0,25053.0,26077.0,22234.0,21981.0,21416.0,21508.0,22528.0,25052.0,23567.0,21120.0,20853.0,20476.0,20384.0,21724.0,23863.0,23200.0,20389.0,20386.0,19736.0,20569.0,22874.0,26433.0,26674.0,24204.0,25031.0,24450.0,24977.0,25597.0,27632.0,26376.0,23687.0,23383.0,22853.0,22923.0,24941.0,27649.0,27051.0,24308.0,24040.0,23006.0,22782.0,24150.0,25973.0,25102.0,22740.0,22260.0,22442.0,23087.0,24557.0,25961.0,26563.0,26623.0,26670.0,27126.0,27312.0,26334.0,28600.0,30490.0,28102.0,28040.0,27328.0,27653.0,28870.0,31132.0,30647.0,26614.0,26866.0,26008.0,24551.0,26781.0,29410.0,29977.0,26921.0,26497.0,26373.0,25330.0,25749.0,28872.0,29592.0,25451.0,24849.0,25055.0,23966.0,24834.0,27047.0,27184.0,21938.0,23157.0,23702.0,24012.0,24111.0,26517.0,27185.0,24048.0,24004.0,23256.0,23114.0,24272.0,25983.0,25961.0,22365.0,22341.0,21194.0,20672.0,21916.0,24187.0,23600.0,21085.0,21293.0,20974.0,19406.0,18363.0,19726.0,19323.0,17572.0,17006.0,16781.0,16728.0,17540.0,18967.0,17934.0,16086.0,16026.0,16012.0,15920.0,17483.0,19230.0,18484.0,16067.0,19495.0,23192.0,25181.0,28237.0,32403.0,33413.0,31641.0,31696.0,30385.0,29835.0,30427.0,31665.0,30646.0,27346.0,27112.0,25965.0,25334.0,25546.0,27406.0,27524.0,25018.0,24655.0,23887.0,23260.0,25342.0,27167.0,26089.0,24235.0,24279.0,23997.0,23953.0,26549.0,27537.0,26144.0,25509.0,24284.0,23813.0,23343.0,24561.0,25086.0,24567.0,22450.0,22071.0,21617.0,22660.0,25032.0,28815.0,29492.0,29298.0,29660.0,27997.0,29922.0,29891.0,33249.0,33375.0,30576.0,30494.0,31841.0,30664.0,30608.0,32109.0,29986.0,29066.0,28937.0,28530.0,26853.0,26230.0,27842.0,26793.0,25195.0,24041.0,24353.0,25218.0,26493.0,27360.0,25870.0,24119.0,23379.0,22745.0,23164.0,24402.0,25593.0,25319.0,24051.0,23139.0,23092.0,22891.0,25400.0,28537.0,27890.0,26103.0,27389.0,27569.0,28841.0,31232.0,32818.0,33205.0,32125.0,32150.0,31263.0,30710.0,31606.0,32625.0,31907.0,30179.0,29891.0,28855.0,28011.0,29609.0,31680.0,31595.0,30252.0,29815.0,29857.0,30288.0,30592.0,32118.0,32523.0,29819.0,29763.0,28559.0,28437.0,27838.0,28948.0,29043.0,26745.0,26721.0,26126.0,25702.0,25941.0,27541.0,27347.0,24867.0,24718.0,24430.0,24323.0,25162.0,26120.0,25985.0,24048.0,24081.0,23301.0,23829.0,26356.0,27973.0,29435.0,28750.0,28975.0,26481.0,25994.0,27119.0,28352.0,28714.0,28255.0,28448.0,27785.0,27203.0,26771.0,28363.0,27695.0,25436.0,25397.0,23135.0,22538.0,23228.0,24333.0,24558.0,22441.0,22492.0,21686.0,20908.0,22351.0,24237.0,23406.0,22047.0,21367.0,20748.0,20619.0,21147.0,22166.0,22699.0,20228.0,19701.0,19718.0,18796.0,19438.0,21306.0,21121.0,18733.0,19395.0,19362.0,19553.0,21754.0,24170.0,23686.0,21532.0,21530.0,21051.0,20602.0,22329.0,24421.0,25438.0,23542.0,22721.0,21452.0,20609.0,20952.0,21897.0,22109.0,19518.0,19074.0,18982.0,18556.0,19436.0,20981.0,20261.0,17954.0,18209.0,17994.0,17973.0,19282.0,20657.0,20009.0,18177.0,18262.0,17687.0,17110.0,18407.0,19609.0,18624.0,17190.0,17162.0,16062.0,16168.0,17406.0,18677.0,17649.0,15917.0,16223.0,16126.0,16110.0,18688.0,21474.0,22111.0,20920.0,21272.0,21493.0,21117.0,22434.0,24931.0,24954.0,22970.0,24381.0,22713.0,22047.0,23976.0,26192.0,26042.0,23728.0,23907.0,24073.0,23229.0,24333.0,25802.0,25201.0,22801.0,28159.0,20798.0,19949.0,20214.0,21813.0,20668.0,19099.0,19111.0,18452.0,17412.0,18318.0,19996.0,19355.0,17714.0,17401.0,17338.0,16994.0,18709.0,19199.0,19410.0,20745.0,21043.0,21998.0,22136.0,23256.0,22720.0,23912.0,25064.0,24893.0,25237.0,25391.0,26066.0,27155.0,27781.0,24911.0,24791.0,24534.0,23477.0,24415.0,26460.0,27071.0,23805.0,23341.0,22404.0,21802.0,22155.0,24027.0,26281.0,24138.0,25235.0,26111.0,26707.0,27855.0,31045.0,31861.0,29520.0,30124.0,29633.0,29623.0,30143.0,32195.0,32371.0,28537.0,26397.0,25820.0,25797.0,26821.0,28486.0,28449.0,25794.0,25036.0,25140.0,25158.0,26531.0,29234.0,29446.0,27528.0,27142.0,27326.0,27107.0,26670.0,29051.0,29007.0,26553.0,26810.0,25785.0,25513.0,26788.0,31039.0,32626.0,31524.0,33394.0,35237.0,36804.0,40814.0,45218.0,46756.0,45754.0,46419.0,47164.0,47262.0,49514.0,52911.0,52620.0,51566.0,50621.0,50894.0,50813.0,51264.0,52616.0,51181.0,49076.0,47938.0,46746.0,45871.0,46108.0,46382.0,45345.0,44782.0,47089.0,43201.0,42082.0,45603.0,45263.0,42618.0,41653.0,40545.0,39107.0,37637.0,39895.0,40292.0,37923.0,35664.0,36036.0,34688.0,32439.0,35876.0,35166.0,35486.0,33155.0,33740.0,29701.0,29343.0,29538.0,29972.0,30150.0,29373.0,27945.0,28472.0,30958.0,32672.0,36623.0,35659.0,33552.0,32390.0,31615.0,30303.0,31737.0,32506.0,31093.0,28726.0,28611.0,28276.0,27947.0,29228.0,29504.0,28335.0,26905.0,26459.0,26432.0,25602.0,27116.0,28339.0,27448.0,26743.0,25386.0,24824.0,23683.0,25929.0,26424.0,26128.0,24832.0,24733.0,25245.0,26572.0,28824.0,30900.0,31081.0,29921.0,30486.0,29708.0,28949.0,30384.0,32413.0,31471.0,30059.0,30536.0,30671.0,29574.0,29518.0,29502.0,29432.0,27882.0,27005.0,25960.0,25533.0,27027.0,28841.0,29294.0,27806.0,28228.0,27758.0,27179.0,28721.0,30465.0,30711.0,29090.0,29518.0,29153.0,29123.0,29211.0,29953.0,30047.0,28334.0,28116.0,26475.0,25471.0,25509.0,26612.0,26474.0,24963.0,24941.0,25269.0,25775.0,27185.0,28964.0,29029.0,27898.0,27412.0,27189.0,26926.0,26749.0,27920.0,28978.0,27797.0,26977.0,26246.0,25421.0,25366.0,25951.0,26404.0,25494.0,25034.0,23342.0,23061.0,22941.0,24145.0,24301.0,23071.0,23090.0,23077.0,22722.0,22991.0,24342.0,24682.0,23419.0,23381.0,22650.0,21819.0,22960.0,24518.0,24515.0,23388.0,22832.0,22340.0,22464.0,23717.0,25482.0,24936.0,23083.0,24217.0,25185.0,25737.0,27531.0,31281.0,32315.0,31408.0,31561.0,31298.0,31525.0,34886.0,38481.0,39301.0,36168.0,35766.0,34271.0,31885.0,31948.0,35386.0,36485.0,33211.0,33184.0,33322.0,33909.0,35237.0,39551.0,40442.0,36720.0,36170.0,34770.0,35065.0,36211.0,39775.0,37860.0,33902.0,31340.0],\"type\":\"scatter\"}],                        {\"barmode\":\"group\",\"template\":{\"data\":{\"barpolar\":[{\"marker\":{\"line\":{\"color\":\"#E5ECF6\",\"width\":0.5},\"pattern\":{\"fillmode\":\"overlay\",\"size\":10,\"solidity\":0.2}},\"type\":\"barpolar\"}],\"bar\":[{\"error_x\":{\"color\":\"#2a3f5f\"},\"error_y\":{\"color\":\"#2a3f5f\"},\"marker\":{\"line\":{\"color\":\"#E5ECF6\",\"width\":0.5},\"pattern\":{\"fillmode\":\"overlay\",\"size\":10,\"solidity\":0.2}},\"type\":\"bar\"}],\"carpet\":[{\"aaxis\":{\"endlinecolor\":\"#2a3f5f\",\"gridcolor\":\"white\",\"linecolor\":\"white\",\"minorgridcolor\":\"white\",\"startlinecolor\":\"#2a3f5f\"},\"baxis\":{\"endlinecolor\":\"#2a3f5f\",\"gridcolor\":\"white\",\"linecolor\":\"white\",\"minorgridcolor\":\"white\",\"startlinecolor\":\"#2a3f5f\"},\"type\":\"carpet\"}],\"choropleth\":[{\"colorbar\":{\"outlinewidth\":0,\"ticks\":\"\"},\"type\":\"choropleth\"}],\"contourcarpet\":[{\"colorbar\":{\"outlinewidth\":0,\"ticks\":\"\"},\"type\":\"contourcarpet\"}],\"contour\":[{\"colorbar\":{\"outlinewidth\":0,\"ticks\":\"\"},\"colorscale\":[[0.0,\"#0d0887\"],[0.1111111111111111,\"#46039f\"],[0.2222222222222222,\"#7201a8\"],[0.3333333333333333,\"#9c179e\"],[0.4444444444444444,\"#bd3786\"],[0.5555555555555556,\"#d8576b\"],[0.6666666666666666,\"#ed7953\"],[0.7777777777777778,\"#fb9f3a\"],[0.8888888888888888,\"#fdca26\"],[1.0,\"#f0f921\"]],\"type\":\"contour\"}],\"heatmapgl\":[{\"colorbar\":{\"outlinewidth\":0,\"ticks\":\"\"},\"colorscale\":[[0.0,\"#0d0887\"],[0.1111111111111111,\"#46039f\"],[0.2222222222222222,\"#7201a8\"],[0.3333333333333333,\"#9c179e\"],[0.4444444444444444,\"#bd3786\"],[0.5555555555555556,\"#d8576b\"],[0.6666666666666666,\"#ed7953\"],[0.7777777777777778,\"#fb9f3a\"],[0.8888888888888888,\"#fdca26\"],[1.0,\"#f0f921\"]],\"type\":\"heatmapgl\"}],\"heatmap\":[{\"colorbar\":{\"outlinewidth\":0,\"ticks\":\"\"},\"colorscale\":[[0.0,\"#0d0887\"],[0.1111111111111111,\"#46039f\"],[0.2222222222222222,\"#7201a8\"],[0.3333333333333333,\"#9c179e\"],[0.4444444444444444,\"#bd3786\"],[0.5555555555555556,\"#d8576b\"],[0.6666666666666666,\"#ed7953\"],[0.7777777777777778,\"#fb9f3a\"],[0.8888888888888888,\"#fdca26\"],[1.0,\"#f0f921\"]],\"type\":\"heatmap\"}],\"histogram2dcontour\":[{\"colorbar\":{\"outlinewidth\":0,\"ticks\":\"\"},\"colorscale\":[[0.0,\"#0d0887\"],[0.1111111111111111,\"#46039f\"],[0.2222222222222222,\"#7201a8\"],[0.3333333333333333,\"#9c179e\"],[0.4444444444444444,\"#bd3786\"],[0.5555555555555556,\"#d8576b\"],[0.6666666666666666,\"#ed7953\"],[0.7777777777777778,\"#fb9f3a\"],[0.8888888888888888,\"#fdca26\"],[1.0,\"#f0f921\"]],\"type\":\"histogram2dcontour\"}],\"histogram2d\":[{\"colorbar\":{\"outlinewidth\":0,\"ticks\":\"\"},\"colorscale\":[[0.0,\"#0d0887\"],[0.1111111111111111,\"#46039f\"],[0.2222222222222222,\"#7201a8\"],[0.3333333333333333,\"#9c179e\"],[0.4444444444444444,\"#bd3786\"],[0.5555555555555556,\"#d8576b\"],[0.6666666666666666,\"#ed7953\"],[0.7777777777777778,\"#fb9f3a\"],[0.8888888888888888,\"#fdca26\"],[1.0,\"#f0f921\"]],\"type\":\"histogram2d\"}],\"histogram\":[{\"marker\":{\"pattern\":{\"fillmode\":\"overlay\",\"size\":10,\"solidity\":0.2}},\"type\":\"histogram\"}],\"mesh3d\":[{\"colorbar\":{\"outlinewidth\":0,\"ticks\":\"\"},\"type\":\"mesh3d\"}],\"parcoords\":[{\"line\":{\"colorbar\":{\"outlinewidth\":0,\"ticks\":\"\"}},\"type\":\"parcoords\"}],\"pie\":[{\"automargin\":true,\"type\":\"pie\"}],\"scatter3d\":[{\"line\":{\"colorbar\":{\"outlinewidth\":0,\"ticks\":\"\"}},\"marker\":{\"colorbar\":{\"outlinewidth\":0,\"ticks\":\"\"}},\"type\":\"scatter3d\"}],\"scattercarpet\":[{\"marker\":{\"colorbar\":{\"outlinewidth\":0,\"ticks\":\"\"}},\"type\":\"scattercarpet\"}],\"scattergeo\":[{\"marker\":{\"colorbar\":{\"outlinewidth\":0,\"ticks\":\"\"}},\"type\":\"scattergeo\"}],\"scattergl\":[{\"marker\":{\"colorbar\":{\"outlinewidth\":0,\"ticks\":\"\"}},\"type\":\"scattergl\"}],\"scattermapbox\":[{\"marker\":{\"colorbar\":{\"outlinewidth\":0,\"ticks\":\"\"}},\"type\":\"scattermapbox\"}],\"scatterpolargl\":[{\"marker\":{\"colorbar\":{\"outlinewidth\":0,\"ticks\":\"\"}},\"type\":\"scatterpolargl\"}],\"scatterpolar\":[{\"marker\":{\"colorbar\":{\"outlinewidth\":0,\"ticks\":\"\"}},\"type\":\"scatterpolar\"}],\"scatter\":[{\"fillpattern\":{\"fillmode\":\"overlay\",\"size\":10,\"solidity\":0.2},\"type\":\"scatter\"}],\"scatterternary\":[{\"marker\":{\"colorbar\":{\"outlinewidth\":0,\"ticks\":\"\"}},\"type\":\"scatterternary\"}],\"surface\":[{\"colorbar\":{\"outlinewidth\":0,\"ticks\":\"\"},\"colorscale\":[[0.0,\"#0d0887\"],[0.1111111111111111,\"#46039f\"],[0.2222222222222222,\"#7201a8\"],[0.3333333333333333,\"#9c179e\"],[0.4444444444444444,\"#bd3786\"],[0.5555555555555556,\"#d8576b\"],[0.6666666666666666,\"#ed7953\"],[0.7777777777777778,\"#fb9f3a\"],[0.8888888888888888,\"#fdca26\"],[1.0,\"#f0f921\"]],\"type\":\"surface\"}],\"table\":[{\"cells\":{\"fill\":{\"color\":\"#EBF0F8\"},\"line\":{\"color\":\"white\"}},\"header\":{\"fill\":{\"color\":\"#C8D4E3\"},\"line\":{\"color\":\"white\"}},\"type\":\"table\"}]},\"layout\":{\"annotationdefaults\":{\"arrowcolor\":\"#2a3f5f\",\"arrowhead\":0,\"arrowwidth\":1},\"autotypenumbers\":\"strict\",\"coloraxis\":{\"colorbar\":{\"outlinewidth\":0,\"ticks\":\"\"}},\"colorscale\":{\"diverging\":[[0,\"#8e0152\"],[0.1,\"#c51b7d\"],[0.2,\"#de77ae\"],[0.3,\"#f1b6da\"],[0.4,\"#fde0ef\"],[0.5,\"#f7f7f7\"],[0.6,\"#e6f5d0\"],[0.7,\"#b8e186\"],[0.8,\"#7fbc41\"],[0.9,\"#4d9221\"],[1,\"#276419\"]],\"sequential\":[[0.0,\"#0d0887\"],[0.1111111111111111,\"#46039f\"],[0.2222222222222222,\"#7201a8\"],[0.3333333333333333,\"#9c179e\"],[0.4444444444444444,\"#bd3786\"],[0.5555555555555556,\"#d8576b\"],[0.6666666666666666,\"#ed7953\"],[0.7777777777777778,\"#fb9f3a\"],[0.8888888888888888,\"#fdca26\"],[1.0,\"#f0f921\"]],\"sequentialminus\":[[0.0,\"#0d0887\"],[0.1111111111111111,\"#46039f\"],[0.2222222222222222,\"#7201a8\"],[0.3333333333333333,\"#9c179e\"],[0.4444444444444444,\"#bd3786\"],[0.5555555555555556,\"#d8576b\"],[0.6666666666666666,\"#ed7953\"],[0.7777777777777778,\"#fb9f3a\"],[0.8888888888888888,\"#fdca26\"],[1.0,\"#f0f921\"]]},\"colorway\":[\"#636efa\",\"#EF553B\",\"#00cc96\",\"#ab63fa\",\"#FFA15A\",\"#19d3f3\",\"#FF6692\",\"#B6E880\",\"#FF97FF\",\"#FECB52\"],\"font\":{\"color\":\"#2a3f5f\"},\"geo\":{\"bgcolor\":\"white\",\"lakecolor\":\"white\",\"landcolor\":\"#E5ECF6\",\"showlakes\":true,\"showland\":true,\"subunitcolor\":\"white\"},\"hoverlabel\":{\"align\":\"left\"},\"hovermode\":\"closest\",\"mapbox\":{\"style\":\"light\"},\"paper_bgcolor\":\"white\",\"plot_bgcolor\":\"#E5ECF6\",\"polar\":{\"angularaxis\":{\"gridcolor\":\"white\",\"linecolor\":\"white\",\"ticks\":\"\"},\"bgcolor\":\"#E5ECF6\",\"radialaxis\":{\"gridcolor\":\"white\",\"linecolor\":\"white\",\"ticks\":\"\"}},\"scene\":{\"xaxis\":{\"backgroundcolor\":\"#E5ECF6\",\"gridcolor\":\"white\",\"gridwidth\":2,\"linecolor\":\"white\",\"showbackground\":true,\"ticks\":\"\",\"zerolinecolor\":\"white\"},\"yaxis\":{\"backgroundcolor\":\"#E5ECF6\",\"gridcolor\":\"white\",\"gridwidth\":2,\"linecolor\":\"white\",\"showbackground\":true,\"ticks\":\"\",\"zerolinecolor\":\"white\"},\"zaxis\":{\"backgroundcolor\":\"#E5ECF6\",\"gridcolor\":\"white\",\"gridwidth\":2,\"linecolor\":\"white\",\"showbackground\":true,\"ticks\":\"\",\"zerolinecolor\":\"white\"}},\"shapedefaults\":{\"line\":{\"color\":\"#2a3f5f\"}},\"ternary\":{\"aaxis\":{\"gridcolor\":\"white\",\"linecolor\":\"white\",\"ticks\":\"\"},\"baxis\":{\"gridcolor\":\"white\",\"linecolor\":\"white\",\"ticks\":\"\"},\"bgcolor\":\"#E5ECF6\",\"caxis\":{\"gridcolor\":\"white\",\"linecolor\":\"white\",\"ticks\":\"\"}},\"title\":{\"x\":0.05},\"xaxis\":{\"automargin\":true,\"gridcolor\":\"white\",\"linecolor\":\"white\",\"ticks\":\"\",\"title\":{\"standoff\":15},\"zerolinecolor\":\"white\",\"zerolinewidth\":2},\"yaxis\":{\"automargin\":true,\"gridcolor\":\"white\",\"linecolor\":\"white\",\"ticks\":\"\",\"title\":{\"standoff\":15},\"zerolinecolor\":\"white\",\"zerolinewidth\":2}}},\"title\":{\"text\":\"Vida de Jugadores de Monster Hunter World\"}},                        {\"responsive\": true}                    ).then(function(){\n",
       "                            \n",
       "var gd = document.getElementById('b62a19fe-36a7-4289-ac56-73dbbb78944b');\n",
       "var x = new MutationObserver(function (mutations, observer) {{\n",
       "        var display = window.getComputedStyle(gd).display;\n",
       "        if (!display || display === 'none') {{\n",
       "            console.log([gd, 'removed!']);\n",
       "            Plotly.purge(gd);\n",
       "            observer.disconnect();\n",
       "        }}\n",
       "}});\n",
       "\n",
       "// Listen for the removal of the full notebook cells\n",
       "var notebookContainer = gd.closest('#notebook-container');\n",
       "if (notebookContainer) {{\n",
       "    x.observe(notebookContainer, {childList: true});\n",
       "}}\n",
       "\n",
       "// Listen for the clearing of the current output cell\n",
       "var outputEl = gd.closest('.output');\n",
       "if (outputEl) {{\n",
       "    x.observe(outputEl, {childList: true});\n",
       "}}\n",
       "\n",
       "                        })                };                });            </script>        </div>"
      ]
     },
     "metadata": {},
     "output_type": "display_data"
    }
   ],
   "source": [
    "layout = dict(plot_bgcolor='black',\n",
    "              xaxis=dict(title='Año',\n",
    "                         range=[0.9, 5.5],\n",
    "                         linecolor='#d9d9d9',\n",
    "                         showgrid=False,\n",
    "                         mirror=True),\n",
    "              yaxis=dict(title='Jugadores',\n",
    "                         range=[95.5, 99.5],\n",
    "                         linecolor='#d9d9d9',\n",
    "                         showgrid=False,\n",
    "                         mirror=True))\n",
    "\n",
    "\n",
    "trace1 = go.Scatter(\n",
    "                    x = jugadores_MHW[\"DateTime\"],\n",
    "                    y = jugadores_MHW[\"Players\"],\n",
    "                    name = 'citations',\n",
    "                    mode= 'lines',\n",
    "                    marker = dict(color = 'rgba(16, 112, 2, 0.8)'))\n",
    "\n",
    "data = [trace1]\n",
    "\n",
    "layout = go.Layout(barmode = \"group\", title=\"Vida de Jugadores de Monster Hunter World\")\n",
    "\n",
    "fig = go.Figure(data = data, layout = layout)\n",
    "\n",
    "\n",
    "iplot(fig)"
   ]
  },
  {
   "cell_type": "code",
   "execution_count": 82,
   "metadata": {},
   "outputs": [
    {
     "data": {
      "text/html": [
       "<div>\n",
       "<style scoped>\n",
       "    .dataframe tbody tr th:only-of-type {\n",
       "        vertical-align: middle;\n",
       "    }\n",
       "\n",
       "    .dataframe tbody tr th {\n",
       "        vertical-align: top;\n",
       "    }\n",
       "\n",
       "    .dataframe thead th {\n",
       "        text-align: right;\n",
       "    }\n",
       "</style>\n",
       "<table border=\"1\" class=\"dataframe\">\n",
       "  <thead>\n",
       "    <tr style=\"text-align: right;\">\n",
       "      <th></th>\n",
       "      <th>DateTime</th>\n",
       "      <th>Players</th>\n",
       "    </tr>\n",
       "  </thead>\n",
       "  <tbody>\n",
       "    <tr>\n",
       "      <th>0</th>\n",
       "      <td>2018-08-09 00:00:00</td>\n",
       "      <td>240872.0</td>\n",
       "    </tr>\n",
       "    <tr>\n",
       "      <th>1</th>\n",
       "      <td>2018-08-10 00:00:00</td>\n",
       "      <td>289952.0</td>\n",
       "    </tr>\n",
       "    <tr>\n",
       "      <th>2</th>\n",
       "      <td>2018-08-11 00:00:00</td>\n",
       "      <td>318440.0</td>\n",
       "    </tr>\n",
       "    <tr>\n",
       "      <th>3</th>\n",
       "      <td>2018-08-12 00:00:00</td>\n",
       "      <td>334684.0</td>\n",
       "    </tr>\n",
       "    <tr>\n",
       "      <th>4</th>\n",
       "      <td>2018-08-13 00:00:00</td>\n",
       "      <td>320909.0</td>\n",
       "    </tr>\n",
       "    <tr>\n",
       "      <th>...</th>\n",
       "      <td>...</td>\n",
       "      <td>...</td>\n",
       "    </tr>\n",
       "    <tr>\n",
       "      <th>1891</th>\n",
       "      <td>2023-10-13 00:00:00</td>\n",
       "      <td>36211.0</td>\n",
       "    </tr>\n",
       "    <tr>\n",
       "      <th>1892</th>\n",
       "      <td>2023-10-14 00:00:00</td>\n",
       "      <td>39775.0</td>\n",
       "    </tr>\n",
       "    <tr>\n",
       "      <th>1893</th>\n",
       "      <td>2023-10-15 00:00:00</td>\n",
       "      <td>37860.0</td>\n",
       "    </tr>\n",
       "    <tr>\n",
       "      <th>1894</th>\n",
       "      <td>2023-10-16 00:00:00</td>\n",
       "      <td>33902.0</td>\n",
       "    </tr>\n",
       "    <tr>\n",
       "      <th>1895</th>\n",
       "      <td>2023-10-17 00:00:00</td>\n",
       "      <td>31340.0</td>\n",
       "    </tr>\n",
       "  </tbody>\n",
       "</table>\n",
       "<p>1896 rows × 2 columns</p>\n",
       "</div>"
      ],
      "text/plain": [
       "                 DateTime   Players\n",
       "0     2018-08-09 00:00:00  240872.0\n",
       "1     2018-08-10 00:00:00  289952.0\n",
       "2     2018-08-11 00:00:00  318440.0\n",
       "3     2018-08-12 00:00:00  334684.0\n",
       "4     2018-08-13 00:00:00  320909.0\n",
       "...                   ...       ...\n",
       "1891  2023-10-13 00:00:00   36211.0\n",
       "1892  2023-10-14 00:00:00   39775.0\n",
       "1893  2023-10-15 00:00:00   37860.0\n",
       "1894  2023-10-16 00:00:00   33902.0\n",
       "1895  2023-10-17 00:00:00   31340.0\n",
       "\n",
       "[1896 rows x 2 columns]"
      ]
     },
     "execution_count": 82,
     "metadata": {},
     "output_type": "execute_result"
    }
   ],
   "source": [
    "jugadores_MHW"
   ]
  },
  {
   "cell_type": "code",
   "execution_count": 83,
   "metadata": {},
   "outputs": [
    {
     "data": {
      "text/html": [
       "<div>\n",
       "<style scoped>\n",
       "    .dataframe tbody tr th:only-of-type {\n",
       "        vertical-align: middle;\n",
       "    }\n",
       "\n",
       "    .dataframe tbody tr th {\n",
       "        vertical-align: top;\n",
       "    }\n",
       "\n",
       "    .dataframe thead th {\n",
       "        text-align: right;\n",
       "    }\n",
       "</style>\n",
       "<table border=\"1\" class=\"dataframe\">\n",
       "  <thead>\n",
       "    <tr style=\"text-align: right;\">\n",
       "      <th></th>\n",
       "      <th>DateTime</th>\n",
       "      <th>Players</th>\n",
       "    </tr>\n",
       "  </thead>\n",
       "  <tbody>\n",
       "    <tr>\n",
       "      <th>17</th>\n",
       "      <td>2018-08-26 00:00:00</td>\n",
       "      <td>276164.0</td>\n",
       "    </tr>\n",
       "    <tr>\n",
       "      <th>520</th>\n",
       "      <td>2020-01-11 00:00:00</td>\n",
       "      <td>274114.0</td>\n",
       "    </tr>\n",
       "    <tr>\n",
       "      <th>521</th>\n",
       "      <td>2020-01-12 00:00:00</td>\n",
       "      <td>284524.0</td>\n",
       "    </tr>\n",
       "    <tr>\n",
       "      <th>522</th>\n",
       "      <td>2020-01-13 00:00:00</td>\n",
       "      <td>250113.0</td>\n",
       "    </tr>\n",
       "  </tbody>\n",
       "</table>\n",
       "</div>"
      ],
      "text/plain": [
       "                DateTime   Players\n",
       "17   2018-08-26 00:00:00  276164.0\n",
       "520  2020-01-11 00:00:00  274114.0\n",
       "521  2020-01-12 00:00:00  284524.0\n",
       "522  2020-01-13 00:00:00  250113.0"
      ]
     },
     "execution_count": 83,
     "metadata": {},
     "output_type": "execute_result"
    }
   ],
   "source": [
    "#vamos a ver ese pico alto, de cuando es:\n",
    "\n",
    "jugadores_MHW[jugadores_MHW[\"Players\"] > 250000].tail(4)\n",
    "\n",
    "#Si buscamos en google, esta subida se debio al DLC de Iceborne, sacado el 09/01/2020 en PC, tambien hablare sobre su contenido."
   ]
  },
  {
   "cell_type": "code",
   "execution_count": 84,
   "metadata": {},
   "outputs": [
    {
     "data": {
      "text/html": [
       "<div>\n",
       "<style scoped>\n",
       "    .dataframe tbody tr th:only-of-type {\n",
       "        vertical-align: middle;\n",
       "    }\n",
       "\n",
       "    .dataframe tbody tr th {\n",
       "        vertical-align: top;\n",
       "    }\n",
       "\n",
       "    .dataframe thead th {\n",
       "        text-align: right;\n",
       "    }\n",
       "</style>\n",
       "<table border=\"1\" class=\"dataframe\">\n",
       "  <thead>\n",
       "    <tr style=\"text-align: right;\">\n",
       "      <th></th>\n",
       "      <th>DateTime</th>\n",
       "      <th>Players</th>\n",
       "    </tr>\n",
       "  </thead>\n",
       "  <tbody>\n",
       "    <tr>\n",
       "      <th>0</th>\n",
       "      <td>2022-02-08 00:00:00</td>\n",
       "      <td>532476</td>\n",
       "    </tr>\n",
       "    <tr>\n",
       "      <th>1</th>\n",
       "      <td>2022-02-09 00:00:00</td>\n",
       "      <td>506946</td>\n",
       "    </tr>\n",
       "    <tr>\n",
       "      <th>2</th>\n",
       "      <td>2022-02-10 00:00:00</td>\n",
       "      <td>507123</td>\n",
       "    </tr>\n",
       "    <tr>\n",
       "      <th>3</th>\n",
       "      <td>2022-02-11 00:00:00</td>\n",
       "      <td>688736</td>\n",
       "    </tr>\n",
       "    <tr>\n",
       "      <th>4</th>\n",
       "      <td>2022-02-12 00:00:00</td>\n",
       "      <td>1325305</td>\n",
       "    </tr>\n",
       "    <tr>\n",
       "      <th>...</th>\n",
       "      <td>...</td>\n",
       "      <td>...</td>\n",
       "    </tr>\n",
       "    <tr>\n",
       "      <th>613</th>\n",
       "      <td>2023-10-14 00:00:00</td>\n",
       "      <td>51541</td>\n",
       "    </tr>\n",
       "    <tr>\n",
       "      <th>614</th>\n",
       "      <td>2023-10-15 00:00:00</td>\n",
       "      <td>48581</td>\n",
       "    </tr>\n",
       "    <tr>\n",
       "      <th>615</th>\n",
       "      <td>2023-10-16 00:00:00</td>\n",
       "      <td>45089</td>\n",
       "    </tr>\n",
       "    <tr>\n",
       "      <th>616</th>\n",
       "      <td>2023-10-17 00:00:00</td>\n",
       "      <td>41800</td>\n",
       "    </tr>\n",
       "    <tr>\n",
       "      <th>617</th>\n",
       "      <td>2023-10-18 00:00:00</td>\n",
       "      <td>52358</td>\n",
       "    </tr>\n",
       "  </tbody>\n",
       "</table>\n",
       "<p>618 rows × 2 columns</p>\n",
       "</div>"
      ],
      "text/plain": [
       "                DateTime  Players\n",
       "0    2022-02-08 00:00:00   532476\n",
       "1    2022-02-09 00:00:00   506946\n",
       "2    2022-02-10 00:00:00   507123\n",
       "3    2022-02-11 00:00:00   688736\n",
       "4    2022-02-12 00:00:00  1325305\n",
       "..                   ...      ...\n",
       "613  2023-10-14 00:00:00    51541\n",
       "614  2023-10-15 00:00:00    48581\n",
       "615  2023-10-16 00:00:00    45089\n",
       "616  2023-10-17 00:00:00    41800\n",
       "617  2023-10-18 00:00:00    52358\n",
       "\n",
       "[618 rows x 2 columns]"
      ]
     },
     "execution_count": 84,
     "metadata": {},
     "output_type": "execute_result"
    }
   ],
   "source": [
    "#Con todo lo anterior analizado, podemos proceder a hablar sobre Lost Ark.\n",
    "#primero importamos y revisamos que este bien.\n",
    "jugadores_LA = pd.read_csv(\"../Datos procesados/Lost Ark vida jugadores.csv\")\n",
    "jugadores_LA = jugadores_LA.drop([\"Unnamed: 0\",\"Average Players\"], axis=1)\n",
    "jugadores_LA[\"Players\"] = jugadores_LA[\"Players\"].astype(int)\n",
    "jugadores_LA"
   ]
  },
  {
   "cell_type": "code",
   "execution_count": 85,
   "metadata": {},
   "outputs": [],
   "source": [
    "\"\"\"#Veamos los jugadores a lo largo del tiempo, mantengo el indice porque me ha venido bien para hacer analisis y buscar partes.\n",
    "jugadores_LA.plot(title=\"Vida de Jugadores de Lost Ark\", ylabel=\"Jugadores (millones)\", xlabel=\"Indice\",grid=\"seaborne-white\",legend=False);\"\"\";"
   ]
  },
  {
   "cell_type": "code",
   "execution_count": 86,
   "metadata": {},
   "outputs": [
    {
     "data": {
      "application/vnd.plotly.v1+json": {
       "config": {
        "linkText": "Export to plot.ly",
        "plotlyServerURL": "https://plot.ly",
        "showLink": false
       },
       "data": [
        {
         "marker": {
          "color": "rgba(16, 112, 2, 0.8)"
         },
         "mode": "lines",
         "name": "citations",
         "type": "scatter",
         "x": [
          "2022-02-08 00:00:00",
          "2022-02-09 00:00:00",
          "2022-02-10 00:00:00",
          "2022-02-11 00:00:00",
          "2022-02-12 00:00:00",
          "2022-02-13 00:00:00",
          "2022-02-14 00:00:00",
          "2022-02-15 00:00:00",
          "2022-02-16 00:00:00",
          "2022-02-17 00:00:00",
          "2022-02-18 00:00:00",
          "2022-02-19 00:00:00",
          "2022-02-20 00:00:00",
          "2022-02-21 00:00:00",
          "2022-02-22 00:00:00",
          "2022-02-23 00:00:00",
          "2022-02-24 00:00:00",
          "2022-02-25 00:00:00",
          "2022-02-26 00:00:00",
          "2022-02-27 00:00:00",
          "2022-02-28 00:00:00",
          "2022-03-01 00:00:00",
          "2022-03-02 00:00:00",
          "2022-03-03 00:00:00",
          "2022-03-04 00:00:00",
          "2022-03-05 00:00:00",
          "2022-03-06 00:00:00",
          "2022-03-07 00:00:00",
          "2022-03-08 00:00:00",
          "2022-03-09 00:00:00",
          "2022-03-10 00:00:00",
          "2022-03-11 00:00:00",
          "2022-03-12 00:00:00",
          "2022-03-13 00:00:00",
          "2022-03-14 00:00:00",
          "2022-03-15 00:00:00",
          "2022-03-16 00:00:00",
          "2022-03-17 00:00:00",
          "2022-03-18 00:00:00",
          "2022-03-19 00:00:00",
          "2022-03-20 00:00:00",
          "2022-03-21 00:00:00",
          "2022-03-22 00:00:00",
          "2022-03-23 00:00:00",
          "2022-03-24 00:00:00",
          "2022-03-25 00:00:00",
          "2022-03-26 00:00:00",
          "2022-03-27 00:00:00",
          "2022-03-28 00:00:00",
          "2022-03-29 00:00:00",
          "2022-03-30 00:00:00",
          "2022-03-31 00:00:00",
          "2022-04-01 00:00:00",
          "2022-04-02 00:00:00",
          "2022-04-03 00:00:00",
          "2022-04-04 00:00:00",
          "2022-04-05 00:00:00",
          "2022-04-06 00:00:00",
          "2022-04-07 00:00:00",
          "2022-04-08 00:00:00",
          "2022-04-09 00:00:00",
          "2022-04-10 00:00:00",
          "2022-04-11 00:00:00",
          "2022-04-12 00:00:00",
          "2022-04-13 00:00:00",
          "2022-04-14 00:00:00",
          "2022-04-15 00:00:00",
          "2022-04-16 00:00:00",
          "2022-04-17 00:00:00",
          "2022-04-18 00:00:00",
          "2022-04-19 00:00:00",
          "2022-04-20 00:00:00",
          "2022-04-21 00:00:00",
          "2022-04-22 00:00:00",
          "2022-04-23 00:00:00",
          "2022-04-24 00:00:00",
          "2022-04-25 00:00:00",
          "2022-04-26 00:00:00",
          "2022-04-27 00:00:00",
          "2022-04-28 00:00:00",
          "2022-04-29 00:00:00",
          "2022-04-30 00:00:00",
          "2022-05-01 00:00:00",
          "2022-05-02 00:00:00",
          "2022-05-03 00:00:00",
          "2022-05-04 00:00:00",
          "2022-05-05 00:00:00",
          "2022-05-06 00:00:00",
          "2022-05-07 00:00:00",
          "2022-05-08 00:00:00",
          "2022-05-09 00:00:00",
          "2022-05-10 00:00:00",
          "2022-05-11 00:00:00",
          "2022-05-12 00:00:00",
          "2022-05-13 00:00:00",
          "2022-05-14 00:00:00",
          "2022-05-15 00:00:00",
          "2022-05-16 00:00:00",
          "2022-05-17 00:00:00",
          "2022-05-18 00:00:00",
          "2022-05-19 00:00:00",
          "2022-05-20 00:00:00",
          "2022-05-21 00:00:00",
          "2022-05-22 00:00:00",
          "2022-05-23 00:00:00",
          "2022-05-24 00:00:00",
          "2022-05-25 00:00:00",
          "2022-05-26 00:00:00",
          "2022-05-27 00:00:00",
          "2022-05-28 00:00:00",
          "2022-05-29 00:00:00",
          "2022-05-30 00:00:00",
          "2022-05-31 00:00:00",
          "2022-06-01 00:00:00",
          "2022-06-02 00:00:00",
          "2022-06-03 00:00:00",
          "2022-06-04 00:00:00",
          "2022-06-05 00:00:00",
          "2022-06-06 00:00:00",
          "2022-06-07 00:00:00",
          "2022-06-08 00:00:00",
          "2022-06-09 00:00:00",
          "2022-06-10 00:00:00",
          "2022-06-11 00:00:00",
          "2022-06-12 00:00:00",
          "2022-06-13 00:00:00",
          "2022-06-14 00:00:00",
          "2022-06-15 00:00:00",
          "2022-06-16 00:00:00",
          "2022-06-17 00:00:00",
          "2022-06-18 00:00:00",
          "2022-06-19 00:00:00",
          "2022-06-20 00:00:00",
          "2022-06-21 00:00:00",
          "2022-06-22 00:00:00",
          "2022-06-23 00:00:00",
          "2022-06-24 00:00:00",
          "2022-06-25 00:00:00",
          "2022-06-26 00:00:00",
          "2022-06-27 00:00:00",
          "2022-06-28 00:00:00",
          "2022-06-29 00:00:00",
          "2022-06-30 00:00:00",
          "2022-07-01 00:00:00",
          "2022-07-02 00:00:00",
          "2022-07-03 00:00:00",
          "2022-07-04 00:00:00",
          "2022-07-05 00:00:00",
          "2022-07-06 00:00:00",
          "2022-07-07 00:00:00",
          "2022-07-08 00:00:00",
          "2022-07-09 00:00:00",
          "2022-07-10 00:00:00",
          "2022-07-11 00:00:00",
          "2022-07-12 00:00:00",
          "2022-07-13 00:00:00",
          "2022-07-14 00:00:00",
          "2022-07-15 00:00:00",
          "2022-07-16 00:00:00",
          "2022-07-17 00:00:00",
          "2022-07-18 00:00:00",
          "2022-07-19 00:00:00",
          "2022-07-20 00:00:00",
          "2022-07-21 00:00:00",
          "2022-07-22 00:00:00",
          "2022-07-23 00:00:00",
          "2022-07-24 00:00:00",
          "2022-07-25 00:00:00",
          "2022-07-26 00:00:00",
          "2022-07-27 00:00:00",
          "2022-07-28 00:00:00",
          "2022-07-29 00:00:00",
          "2022-07-30 00:00:00",
          "2022-07-31 00:00:00",
          "2022-08-01 00:00:00",
          "2022-08-02 00:00:00",
          "2022-08-03 00:00:00",
          "2022-08-04 00:00:00",
          "2022-08-05 00:00:00",
          "2022-08-06 00:00:00",
          "2022-08-07 00:00:00",
          "2022-08-08 00:00:00",
          "2022-08-09 00:00:00",
          "2022-08-10 00:00:00",
          "2022-08-11 00:00:00",
          "2022-08-12 00:00:00",
          "2022-08-13 00:00:00",
          "2022-08-14 00:00:00",
          "2022-08-15 00:00:00",
          "2022-08-16 00:00:00",
          "2022-08-17 00:00:00",
          "2022-08-18 00:00:00",
          "2022-08-19 00:00:00",
          "2022-08-20 00:00:00",
          "2022-08-21 00:00:00",
          "2022-08-22 00:00:00",
          "2022-08-23 00:00:00",
          "2022-08-24 00:00:00",
          "2022-08-25 00:00:00",
          "2022-08-26 00:00:00",
          "2022-08-27 00:00:00",
          "2022-08-28 00:00:00",
          "2022-08-29 00:00:00",
          "2022-08-30 00:00:00",
          "2022-08-31 00:00:00",
          "2022-09-01 00:00:00",
          "2022-09-02 00:00:00",
          "2022-09-03 00:00:00",
          "2022-09-04 00:00:00",
          "2022-09-05 00:00:00",
          "2022-09-06 00:00:00",
          "2022-09-07 00:00:00",
          "2022-09-08 00:00:00",
          "2022-09-09 00:00:00",
          "2022-09-10 00:00:00",
          "2022-09-11 00:00:00",
          "2022-09-12 00:00:00",
          "2022-09-13 00:00:00",
          "2022-09-14 00:00:00",
          "2022-09-15 00:00:00",
          "2022-09-16 00:00:00",
          "2022-09-17 00:00:00",
          "2022-09-18 00:00:00",
          "2022-09-19 00:00:00",
          "2022-09-20 00:00:00",
          "2022-09-21 00:00:00",
          "2022-09-22 00:00:00",
          "2022-09-23 00:00:00",
          "2022-09-24 00:00:00",
          "2022-09-25 00:00:00",
          "2022-09-26 00:00:00",
          "2022-09-27 00:00:00",
          "2022-09-28 00:00:00",
          "2022-09-29 00:00:00",
          "2022-09-30 00:00:00",
          "2022-10-01 00:00:00",
          "2022-10-02 00:00:00",
          "2022-10-03 00:00:00",
          "2022-10-04 00:00:00",
          "2022-10-05 00:00:00",
          "2022-10-06 00:00:00",
          "2022-10-07 00:00:00",
          "2022-10-08 00:00:00",
          "2022-10-09 00:00:00",
          "2022-10-10 00:00:00",
          "2022-10-11 00:00:00",
          "2022-10-12 00:00:00",
          "2022-10-13 00:00:00",
          "2022-10-14 00:00:00",
          "2022-10-15 00:00:00",
          "2022-10-16 00:00:00",
          "2022-10-17 00:00:00",
          "2022-10-18 00:00:00",
          "2022-10-19 00:00:00",
          "2022-10-20 00:00:00",
          "2022-10-21 00:00:00",
          "2022-10-22 00:00:00",
          "2022-10-23 00:00:00",
          "2022-10-24 00:00:00",
          "2022-10-25 00:00:00",
          "2022-10-26 00:00:00",
          "2022-10-27 00:00:00",
          "2022-10-28 00:00:00",
          "2022-10-29 00:00:00",
          "2022-10-30 00:00:00",
          "2022-10-31 00:00:00",
          "2022-11-01 00:00:00",
          "2022-11-02 00:00:00",
          "2022-11-03 00:00:00",
          "2022-11-04 00:00:00",
          "2022-11-05 00:00:00",
          "2022-11-06 00:00:00",
          "2022-11-07 00:00:00",
          "2022-11-08 00:00:00",
          "2022-11-09 00:00:00",
          "2022-11-10 00:00:00",
          "2022-11-11 00:00:00",
          "2022-11-12 00:00:00",
          "2022-11-13 00:00:00",
          "2022-11-14 00:00:00",
          "2022-11-15 00:00:00",
          "2022-11-16 00:00:00",
          "2022-11-17 00:00:00",
          "2022-11-18 00:00:00",
          "2022-11-19 00:00:00",
          "2022-11-20 00:00:00",
          "2022-11-21 00:00:00",
          "2022-11-22 00:00:00",
          "2022-11-23 00:00:00",
          "2022-11-24 00:00:00",
          "2022-11-25 00:00:00",
          "2022-11-26 00:00:00",
          "2022-11-27 00:00:00",
          "2022-11-28 00:00:00",
          "2022-11-29 00:00:00",
          "2022-11-30 00:00:00",
          "2022-12-01 00:00:00",
          "2022-12-02 00:00:00",
          "2022-12-03 00:00:00",
          "2022-12-04 00:00:00",
          "2022-12-05 00:00:00",
          "2022-12-06 00:00:00",
          "2022-12-07 00:00:00",
          "2022-12-08 00:00:00",
          "2022-12-09 00:00:00",
          "2022-12-10 00:00:00",
          "2022-12-11 00:00:00",
          "2022-12-12 00:00:00",
          "2022-12-13 00:00:00",
          "2022-12-14 00:00:00",
          "2022-12-15 00:00:00",
          "2022-12-16 00:00:00",
          "2022-12-17 00:00:00",
          "2022-12-18 00:00:00",
          "2022-12-19 00:00:00",
          "2022-12-20 00:00:00",
          "2022-12-21 00:00:00",
          "2022-12-22 00:00:00",
          "2022-12-23 00:00:00",
          "2022-12-24 00:00:00",
          "2022-12-25 00:00:00",
          "2022-12-26 00:00:00",
          "2022-12-27 00:00:00",
          "2022-12-28 00:00:00",
          "2022-12-29 00:00:00",
          "2022-12-30 00:00:00",
          "2022-12-31 00:00:00",
          "2023-01-01 00:00:00",
          "2023-01-02 00:00:00",
          "2023-01-03 00:00:00",
          "2023-01-04 00:00:00",
          "2023-01-05 00:00:00",
          "2023-01-06 00:00:00",
          "2023-01-07 00:00:00",
          "2023-01-08 00:00:00",
          "2023-01-09 00:00:00",
          "2023-01-10 00:00:00",
          "2023-01-11 00:00:00",
          "2023-01-12 00:00:00",
          "2023-01-13 00:00:00",
          "2023-01-14 00:00:00",
          "2023-01-15 00:00:00",
          "2023-01-16 00:00:00",
          "2023-01-17 00:00:00",
          "2023-01-18 00:00:00",
          "2023-01-19 00:00:00",
          "2023-01-20 00:00:00",
          "2023-01-21 00:00:00",
          "2023-01-22 00:00:00",
          "2023-01-23 00:00:00",
          "2023-01-24 00:00:00",
          "2023-01-25 00:00:00",
          "2023-01-26 00:00:00",
          "2023-01-27 00:00:00",
          "2023-01-28 00:00:00",
          "2023-01-29 00:00:00",
          "2023-01-30 00:00:00",
          "2023-01-31 00:00:00",
          "2023-02-01 00:00:00",
          "2023-02-02 00:00:00",
          "2023-02-03 00:00:00",
          "2023-02-04 00:00:00",
          "2023-02-05 00:00:00",
          "2023-02-06 00:00:00",
          "2023-02-07 00:00:00",
          "2023-02-08 00:00:00",
          "2023-02-09 00:00:00",
          "2023-02-10 00:00:00",
          "2023-02-11 00:00:00",
          "2023-02-12 00:00:00",
          "2023-02-13 00:00:00",
          "2023-02-14 00:00:00",
          "2023-02-15 00:00:00",
          "2023-02-16 00:00:00",
          "2023-02-17 00:00:00",
          "2023-02-18 00:00:00",
          "2023-02-19 00:00:00",
          "2023-02-20 00:00:00",
          "2023-02-21 00:00:00",
          "2023-02-22 00:00:00",
          "2023-02-23 00:00:00",
          "2023-02-24 00:00:00",
          "2023-02-25 00:00:00",
          "2023-02-26 00:00:00",
          "2023-02-27 00:00:00",
          "2023-02-28 00:00:00",
          "2023-03-01 00:00:00",
          "2023-03-02 00:00:00",
          "2023-03-03 00:00:00",
          "2023-03-04 00:00:00",
          "2023-03-05 00:00:00",
          "2023-03-06 00:00:00",
          "2023-03-07 00:00:00",
          "2023-03-08 00:00:00",
          "2023-03-09 00:00:00",
          "2023-03-10 00:00:00",
          "2023-03-11 00:00:00",
          "2023-03-12 00:00:00",
          "2023-03-13 00:00:00",
          "2023-03-14 00:00:00",
          "2023-03-15 00:00:00",
          "2023-03-16 00:00:00",
          "2023-03-17 00:00:00",
          "2023-03-18 00:00:00",
          "2023-03-19 00:00:00",
          "2023-03-20 00:00:00",
          "2023-03-21 00:00:00",
          "2023-03-22 00:00:00",
          "2023-03-23 00:00:00",
          "2023-03-24 00:00:00",
          "2023-03-25 00:00:00",
          "2023-03-26 00:00:00",
          "2023-03-27 00:00:00",
          "2023-03-28 00:00:00",
          "2023-03-29 00:00:00",
          "2023-03-30 00:00:00",
          "2023-03-31 00:00:00",
          "2023-04-01 00:00:00",
          "2023-04-02 00:00:00",
          "2023-04-03 00:00:00",
          "2023-04-04 00:00:00",
          "2023-04-05 00:00:00",
          "2023-04-06 00:00:00",
          "2023-04-07 00:00:00",
          "2023-04-08 00:00:00",
          "2023-04-09 00:00:00",
          "2023-04-10 00:00:00",
          "2023-04-11 00:00:00",
          "2023-04-12 00:00:00",
          "2023-04-13 00:00:00",
          "2023-04-14 00:00:00",
          "2023-04-15 00:00:00",
          "2023-04-16 00:00:00",
          "2023-04-17 00:00:00",
          "2023-04-18 00:00:00",
          "2023-04-19 00:00:00",
          "2023-04-20 00:00:00",
          "2023-04-21 00:00:00",
          "2023-04-22 00:00:00",
          "2023-04-23 00:00:00",
          "2023-04-24 00:00:00",
          "2023-04-25 00:00:00",
          "2023-04-26 00:00:00",
          "2023-04-27 00:00:00",
          "2023-04-28 00:00:00",
          "2023-04-29 00:00:00",
          "2023-04-30 00:00:00",
          "2023-05-01 00:00:00",
          "2023-05-02 00:00:00",
          "2023-05-03 00:00:00",
          "2023-05-04 00:00:00",
          "2023-05-05 00:00:00",
          "2023-05-06 00:00:00",
          "2023-05-07 00:00:00",
          "2023-05-08 00:00:00",
          "2023-05-09 00:00:00",
          "2023-05-10 00:00:00",
          "2023-05-11 00:00:00",
          "2023-05-12 00:00:00",
          "2023-05-13 00:00:00",
          "2023-05-14 00:00:00",
          "2023-05-15 00:00:00",
          "2023-05-16 00:00:00",
          "2023-05-17 00:00:00",
          "2023-05-18 00:00:00",
          "2023-05-19 00:00:00",
          "2023-05-20 00:00:00",
          "2023-05-21 00:00:00",
          "2023-05-22 00:00:00",
          "2023-05-23 00:00:00",
          "2023-05-24 00:00:00",
          "2023-05-25 00:00:00",
          "2023-05-26 00:00:00",
          "2023-05-27 00:00:00",
          "2023-05-28 00:00:00",
          "2023-05-29 00:00:00",
          "2023-05-30 00:00:00",
          "2023-05-31 00:00:00",
          "2023-06-01 00:00:00",
          "2023-06-02 00:00:00",
          "2023-06-03 00:00:00",
          "2023-06-04 00:00:00",
          "2023-06-05 00:00:00",
          "2023-06-06 00:00:00",
          "2023-06-07 00:00:00",
          "2023-06-08 00:00:00",
          "2023-06-09 00:00:00",
          "2023-06-10 00:00:00",
          "2023-06-11 00:00:00",
          "2023-06-12 00:00:00",
          "2023-06-13 00:00:00",
          "2023-06-14 00:00:00",
          "2023-06-15 00:00:00",
          "2023-06-16 00:00:00",
          "2023-06-17 00:00:00",
          "2023-06-18 00:00:00",
          "2023-06-19 00:00:00",
          "2023-06-20 00:00:00",
          "2023-06-21 00:00:00",
          "2023-06-22 00:00:00",
          "2023-06-23 00:00:00",
          "2023-06-24 00:00:00",
          "2023-06-25 00:00:00",
          "2023-06-26 00:00:00",
          "2023-06-27 00:00:00",
          "2023-06-28 00:00:00",
          "2023-06-29 00:00:00",
          "2023-06-30 00:00:00",
          "2023-07-01 00:00:00",
          "2023-07-02 00:00:00",
          "2023-07-03 00:00:00",
          "2023-07-04 00:00:00",
          "2023-07-05 00:00:00",
          "2023-07-06 00:00:00",
          "2023-07-07 00:00:00",
          "2023-07-08 00:00:00",
          "2023-07-09 00:00:00",
          "2023-07-10 00:00:00",
          "2023-07-11 00:00:00",
          "2023-07-12 00:00:00",
          "2023-07-13 00:00:00",
          "2023-07-14 00:00:00",
          "2023-07-15 00:00:00",
          "2023-07-16 00:00:00",
          "2023-07-17 00:00:00",
          "2023-07-18 00:00:00",
          "2023-07-19 00:00:00",
          "2023-07-20 00:00:00",
          "2023-07-21 00:00:00",
          "2023-07-22 00:00:00",
          "2023-07-23 00:00:00",
          "2023-07-24 00:00:00",
          "2023-07-25 00:00:00",
          "2023-07-26 00:00:00",
          "2023-07-27 00:00:00",
          "2023-07-28 00:00:00",
          "2023-07-29 00:00:00",
          "2023-07-30 00:00:00",
          "2023-07-31 00:00:00",
          "2023-08-01 00:00:00",
          "2023-08-02 00:00:00",
          "2023-08-03 00:00:00",
          "2023-08-04 00:00:00",
          "2023-08-05 00:00:00",
          "2023-08-06 00:00:00",
          "2023-08-07 00:00:00",
          "2023-08-08 00:00:00",
          "2023-08-09 00:00:00",
          "2023-08-10 00:00:00",
          "2023-08-11 00:00:00",
          "2023-08-12 00:00:00",
          "2023-08-13 00:00:00",
          "2023-08-14 00:00:00",
          "2023-08-15 00:00:00",
          "2023-08-16 00:00:00",
          "2023-08-17 00:00:00",
          "2023-08-18 00:00:00",
          "2023-08-19 00:00:00",
          "2023-08-20 00:00:00",
          "2023-08-21 00:00:00",
          "2023-08-22 00:00:00",
          "2023-08-23 00:00:00",
          "2023-08-24 00:00:00",
          "2023-08-25 00:00:00",
          "2023-08-26 00:00:00",
          "2023-08-27 00:00:00",
          "2023-08-28 00:00:00",
          "2023-08-29 00:00:00",
          "2023-08-30 00:00:00",
          "2023-08-31 00:00:00",
          "2023-09-01 00:00:00",
          "2023-09-02 00:00:00",
          "2023-09-03 00:00:00",
          "2023-09-04 00:00:00",
          "2023-09-05 00:00:00",
          "2023-09-06 00:00:00",
          "2023-09-07 00:00:00",
          "2023-09-08 00:00:00",
          "2023-09-09 00:00:00",
          "2023-09-10 00:00:00",
          "2023-09-11 00:00:00",
          "2023-09-12 00:00:00",
          "2023-09-13 00:00:00",
          "2023-09-14 00:00:00",
          "2023-09-15 00:00:00",
          "2023-09-16 00:00:00",
          "2023-09-17 00:00:00",
          "2023-09-18 00:00:00",
          "2023-09-19 00:00:00",
          "2023-09-20 00:00:00",
          "2023-09-21 00:00:00",
          "2023-09-22 00:00:00",
          "2023-09-23 00:00:00",
          "2023-09-24 00:00:00",
          "2023-09-25 00:00:00",
          "2023-09-26 00:00:00",
          "2023-09-27 00:00:00",
          "2023-09-28 00:00:00",
          "2023-09-29 00:00:00",
          "2023-09-30 00:00:00",
          "2023-10-01 00:00:00",
          "2023-10-02 00:00:00",
          "2023-10-03 00:00:00",
          "2023-10-04 00:00:00",
          "2023-10-05 00:00:00",
          "2023-10-06 00:00:00",
          "2023-10-07 00:00:00",
          "2023-10-08 00:00:00",
          "2023-10-09 00:00:00",
          "2023-10-10 00:00:00",
          "2023-10-11 00:00:00",
          "2023-10-12 00:00:00",
          "2023-10-13 00:00:00",
          "2023-10-14 00:00:00",
          "2023-10-15 00:00:00",
          "2023-10-16 00:00:00",
          "2023-10-17 00:00:00",
          "2023-10-18 00:00:00"
         ],
         "y": [
          532476,
          506946,
          507123,
          688736,
          1325305,
          1316854,
          1098921,
          1119642,
          1135765,
          1090827,
          1102515,
          1134663,
          1174722,
          1074677,
          993849,
          949460,
          915628,
          881133,
          930509,
          962906,
          856177,
          842508,
          819652,
          815473,
          759648,
          847376,
          908335,
          829633,
          822383,
          805722,
          679494,
          630067,
          646991,
          660051,
          591163,
          511063,
          519268,
          528089,
          486390,
          518719,
          537588,
          483641,
          460199,
          449751,
          413761,
          389102,
          402922,
          420758,
          369916,
          355086,
          336539,
          353933,
          347729,
          375010,
          399715,
          356506,
          359193,
          351755,
          367612,
          374802,
          401124,
          426706,
          405794,
          397493,
          369797,
          416018,
          441972,
          425987,
          462394,
          462085,
          462026,
          458832,
          393305,
          500139,
          536047,
          572602,
          556187,
          566673,
          560956,
          487900,
          499313,
          542609,
          586540,
          568246,
          567373,
          493101,
          573879,
          578536,
          588550,
          637078,
          623896,
          591542,
          574594,
          508050,
          423930,
          481919,
          563381,
          579329,
          583597,
          584612,
          524134,
          441528,
          440460,
          648260,
          646417,
          673024,
          668525,
          615744,
          733251,
          709234,
          704632,
          801364,
          737605,
          715223,
          666383,
          683981,
          708926,
          798621,
          819349,
          829155,
          837419,
          451615,
          800400,
          843598,
          885968,
          880727,
          873694,
          727629,
          605751,
          551016,
          449382,
          273010,
          279843,
          306156,
          301666,
          289060,
          360567,
          293284,
          348754,
          341678,
          283820,
          226472,
          186986,
          173512,
          215308,
          254128,
          274205,
          280685,
          283863,
          292516,
          278280,
          305384,
          313083,
          285210,
          268757,
          268748,
          251334,
          151989,
          170008,
          204940,
          201638,
          201865,
          164256,
          230377,
          242342,
          267406,
          290788,
          288234,
          290423,
          243626,
          296884,
          311828,
          334027,
          352852,
          352344,
          340560,
          281060,
          156805,
          252770,
          151541,
          185135,
          203445,
          220056,
          181785,
          116685,
          121437,
          131118,
          137042,
          133695,
          147840,
          171335,
          225391,
          239071,
          228162,
          248196,
          240933,
          227548,
          187040,
          224258,
          238427,
          252565,
          264904,
          245050,
          216840,
          209736,
          130010,
          110209,
          125197,
          173803,
          179091,
          172439,
          147981,
          118215,
          183977,
          197303,
          212778,
          205722,
          203029,
          194204,
          223872,
          202612,
          217579,
          232767,
          218970,
          211398,
          175455,
          203625,
          145424,
          195236,
          214237,
          204425,
          188514,
          152300,
          226988,
          195928,
          200582,
          206716,
          192136,
          191390,
          162495,
          153099,
          147027,
          167405,
          176212,
          171515,
          162212,
          135049,
          165358,
          179823,
          196018,
          207013,
          201648,
          198287,
          146699,
          181440,
          157168,
          195348,
          214493,
          214585,
          214549,
          186615,
          227894,
          211908,
          234844,
          258778,
          235069,
          228687,
          191313,
          230379,
          236068,
          260886,
          279228,
          276176,
          271388,
          203868,
          228097,
          243494,
          260104,
          276579,
          251788,
          239998,
          178629,
          122044,
          172597,
          211064,
          232299,
          226833,
          229035,
          200148,
          248269,
          264710,
          275134,
          281950,
          277421,
          262338,
          221489,
          285894,
          298719,
          304125,
          322787,
          305982,
          290010,
          253015,
          317013,
          308345,
          305759,
          322463,
          320131,
          299029,
          244244,
          308365,
          315151,
          327346,
          341308,
          330461,
          322547,
          279277,
          335629,
          348047,
          345451,
          347556,
          334034,
          314814,
          281282,
          336994,
          341949,
          331457,
          331516,
          322974,
          301687,
          286256,
          328749,
          328489,
          334099,
          332977,
          323766,
          269398,
          88972,
          127183,
          150696,
          175173,
          183517,
          179028,
          176563,
          156273,
          112308,
          102997,
          130185,
          144410,
          132510,
          130413,
          122272,
          152529,
          161185,
          172031,
          178868,
          176731,
          171371,
          156887,
          187023,
          191552,
          200862,
          206492,
          200511,
          197160,
          173207,
          183282,
          216428,
          224808,
          231994,
          219098,
          200826,
          159130,
          187044,
          188740,
          199536,
          204768,
          195413,
          178936,
          156455,
          204011,
          207915,
          205521,
          208178,
          194010,
          177071,
          183567,
          203538,
          204617,
          212233,
          208858,
          190910,
          172135,
          173706,
          183493,
          164439,
          143495,
          134072,
          127417,
          110921,
          85847,
          101697,
          110326,
          112735,
          109020,
          101833,
          99872,
          81377,
          91792,
          91013,
          94860,
          97926,
          93165,
          90982,
          94420,
          89241,
          87688,
          91496,
          99663,
          94652,
          92570,
          97347,
          104411,
          104273,
          103836,
          103839,
          103872,
          88115,
          69116,
          69726,
          68321,
          75080,
          80183,
          76957,
          69096,
          68078,
          80671,
          82931,
          88160,
          89919,
          90440,
          87691,
          81187,
          93200,
          92193,
          91507,
          93034,
          94562,
          82494,
          87311,
          86696,
          65413,
          84080,
          72893,
          79997,
          80410,
          62316,
          60165,
          64338,
          68409,
          71498,
          63162,
          61218,
          69221,
          70079,
          69000,
          73392,
          74358,
          63609,
          55427,
          58973,
          53944,
          54576,
          54681,
          50136,
          46654,
          42213,
          53176,
          48576,
          43098,
          42111,
          43117,
          38626,
          37125,
          45268,
          45286,
          43836,
          41189,
          42469,
          39367,
          37858,
          51209,
          45315,
          42617,
          42301,
          41533,
          38247,
          37161,
          41961,
          37946,
          36249,
          36809,
          37635,
          33113,
          31237,
          39275,
          35565,
          33577,
          33482,
          34199,
          30977,
          30210,
          36937,
          33591,
          32068,
          32093,
          32925,
          28947,
          28247,
          41897,
          34730,
          34109,
          34146,
          34946,
          30453,
          29068,
          35927,
          31165,
          30129,
          30280,
          30983,
          28057,
          26211,
          33411,
          31127,
          29432,
          29731,
          30808,
          27320,
          26887,
          32982,
          30510,
          28624,
          29373,
          30398,
          26694,
          26086,
          34680,
          32587,
          30831,
          30412,
          30716,
          27470,
          25907,
          47729,
          46169,
          41835,
          41569,
          42180,
          37897,
          37191,
          42703,
          40025,
          40216,
          41283,
          42871,
          36900,
          35880,
          27881,
          40645,
          37734,
          38101,
          38743,
          36229,
          32973,
          40510,
          39115,
          37568,
          38891,
          40124,
          35271,
          35534,
          55818,
          53770,
          50440,
          52038,
          52263,
          45861,
          45153,
          54695,
          49670,
          50602,
          51237,
          51844,
          45824,
          42563,
          53643,
          48328,
          46746,
          49569,
          47194,
          42540,
          40861,
          53225,
          51521,
          48661,
          51135,
          49803,
          49889,
          46346,
          50800,
          55958,
          49585,
          51541,
          48581,
          45089,
          41800,
          52358
         ]
        }
       ],
       "layout": {
        "barmode": "group",
        "template": {
         "data": {
          "bar": [
           {
            "error_x": {
             "color": "#2a3f5f"
            },
            "error_y": {
             "color": "#2a3f5f"
            },
            "marker": {
             "line": {
              "color": "#E5ECF6",
              "width": 0.5
             },
             "pattern": {
              "fillmode": "overlay",
              "size": 10,
              "solidity": 0.2
             }
            },
            "type": "bar"
           }
          ],
          "barpolar": [
           {
            "marker": {
             "line": {
              "color": "#E5ECF6",
              "width": 0.5
             },
             "pattern": {
              "fillmode": "overlay",
              "size": 10,
              "solidity": 0.2
             }
            },
            "type": "barpolar"
           }
          ],
          "carpet": [
           {
            "aaxis": {
             "endlinecolor": "#2a3f5f",
             "gridcolor": "white",
             "linecolor": "white",
             "minorgridcolor": "white",
             "startlinecolor": "#2a3f5f"
            },
            "baxis": {
             "endlinecolor": "#2a3f5f",
             "gridcolor": "white",
             "linecolor": "white",
             "minorgridcolor": "white",
             "startlinecolor": "#2a3f5f"
            },
            "type": "carpet"
           }
          ],
          "choropleth": [
           {
            "colorbar": {
             "outlinewidth": 0,
             "ticks": ""
            },
            "type": "choropleth"
           }
          ],
          "contour": [
           {
            "colorbar": {
             "outlinewidth": 0,
             "ticks": ""
            },
            "colorscale": [
             [
              0,
              "#0d0887"
             ],
             [
              0.1111111111111111,
              "#46039f"
             ],
             [
              0.2222222222222222,
              "#7201a8"
             ],
             [
              0.3333333333333333,
              "#9c179e"
             ],
             [
              0.4444444444444444,
              "#bd3786"
             ],
             [
              0.5555555555555556,
              "#d8576b"
             ],
             [
              0.6666666666666666,
              "#ed7953"
             ],
             [
              0.7777777777777778,
              "#fb9f3a"
             ],
             [
              0.8888888888888888,
              "#fdca26"
             ],
             [
              1,
              "#f0f921"
             ]
            ],
            "type": "contour"
           }
          ],
          "contourcarpet": [
           {
            "colorbar": {
             "outlinewidth": 0,
             "ticks": ""
            },
            "type": "contourcarpet"
           }
          ],
          "heatmap": [
           {
            "colorbar": {
             "outlinewidth": 0,
             "ticks": ""
            },
            "colorscale": [
             [
              0,
              "#0d0887"
             ],
             [
              0.1111111111111111,
              "#46039f"
             ],
             [
              0.2222222222222222,
              "#7201a8"
             ],
             [
              0.3333333333333333,
              "#9c179e"
             ],
             [
              0.4444444444444444,
              "#bd3786"
             ],
             [
              0.5555555555555556,
              "#d8576b"
             ],
             [
              0.6666666666666666,
              "#ed7953"
             ],
             [
              0.7777777777777778,
              "#fb9f3a"
             ],
             [
              0.8888888888888888,
              "#fdca26"
             ],
             [
              1,
              "#f0f921"
             ]
            ],
            "type": "heatmap"
           }
          ],
          "heatmapgl": [
           {
            "colorbar": {
             "outlinewidth": 0,
             "ticks": ""
            },
            "colorscale": [
             [
              0,
              "#0d0887"
             ],
             [
              0.1111111111111111,
              "#46039f"
             ],
             [
              0.2222222222222222,
              "#7201a8"
             ],
             [
              0.3333333333333333,
              "#9c179e"
             ],
             [
              0.4444444444444444,
              "#bd3786"
             ],
             [
              0.5555555555555556,
              "#d8576b"
             ],
             [
              0.6666666666666666,
              "#ed7953"
             ],
             [
              0.7777777777777778,
              "#fb9f3a"
             ],
             [
              0.8888888888888888,
              "#fdca26"
             ],
             [
              1,
              "#f0f921"
             ]
            ],
            "type": "heatmapgl"
           }
          ],
          "histogram": [
           {
            "marker": {
             "pattern": {
              "fillmode": "overlay",
              "size": 10,
              "solidity": 0.2
             }
            },
            "type": "histogram"
           }
          ],
          "histogram2d": [
           {
            "colorbar": {
             "outlinewidth": 0,
             "ticks": ""
            },
            "colorscale": [
             [
              0,
              "#0d0887"
             ],
             [
              0.1111111111111111,
              "#46039f"
             ],
             [
              0.2222222222222222,
              "#7201a8"
             ],
             [
              0.3333333333333333,
              "#9c179e"
             ],
             [
              0.4444444444444444,
              "#bd3786"
             ],
             [
              0.5555555555555556,
              "#d8576b"
             ],
             [
              0.6666666666666666,
              "#ed7953"
             ],
             [
              0.7777777777777778,
              "#fb9f3a"
             ],
             [
              0.8888888888888888,
              "#fdca26"
             ],
             [
              1,
              "#f0f921"
             ]
            ],
            "type": "histogram2d"
           }
          ],
          "histogram2dcontour": [
           {
            "colorbar": {
             "outlinewidth": 0,
             "ticks": ""
            },
            "colorscale": [
             [
              0,
              "#0d0887"
             ],
             [
              0.1111111111111111,
              "#46039f"
             ],
             [
              0.2222222222222222,
              "#7201a8"
             ],
             [
              0.3333333333333333,
              "#9c179e"
             ],
             [
              0.4444444444444444,
              "#bd3786"
             ],
             [
              0.5555555555555556,
              "#d8576b"
             ],
             [
              0.6666666666666666,
              "#ed7953"
             ],
             [
              0.7777777777777778,
              "#fb9f3a"
             ],
             [
              0.8888888888888888,
              "#fdca26"
             ],
             [
              1,
              "#f0f921"
             ]
            ],
            "type": "histogram2dcontour"
           }
          ],
          "mesh3d": [
           {
            "colorbar": {
             "outlinewidth": 0,
             "ticks": ""
            },
            "type": "mesh3d"
           }
          ],
          "parcoords": [
           {
            "line": {
             "colorbar": {
              "outlinewidth": 0,
              "ticks": ""
             }
            },
            "type": "parcoords"
           }
          ],
          "pie": [
           {
            "automargin": true,
            "type": "pie"
           }
          ],
          "scatter": [
           {
            "fillpattern": {
             "fillmode": "overlay",
             "size": 10,
             "solidity": 0.2
            },
            "type": "scatter"
           }
          ],
          "scatter3d": [
           {
            "line": {
             "colorbar": {
              "outlinewidth": 0,
              "ticks": ""
             }
            },
            "marker": {
             "colorbar": {
              "outlinewidth": 0,
              "ticks": ""
             }
            },
            "type": "scatter3d"
           }
          ],
          "scattercarpet": [
           {
            "marker": {
             "colorbar": {
              "outlinewidth": 0,
              "ticks": ""
             }
            },
            "type": "scattercarpet"
           }
          ],
          "scattergeo": [
           {
            "marker": {
             "colorbar": {
              "outlinewidth": 0,
              "ticks": ""
             }
            },
            "type": "scattergeo"
           }
          ],
          "scattergl": [
           {
            "marker": {
             "colorbar": {
              "outlinewidth": 0,
              "ticks": ""
             }
            },
            "type": "scattergl"
           }
          ],
          "scattermapbox": [
           {
            "marker": {
             "colorbar": {
              "outlinewidth": 0,
              "ticks": ""
             }
            },
            "type": "scattermapbox"
           }
          ],
          "scatterpolar": [
           {
            "marker": {
             "colorbar": {
              "outlinewidth": 0,
              "ticks": ""
             }
            },
            "type": "scatterpolar"
           }
          ],
          "scatterpolargl": [
           {
            "marker": {
             "colorbar": {
              "outlinewidth": 0,
              "ticks": ""
             }
            },
            "type": "scatterpolargl"
           }
          ],
          "scatterternary": [
           {
            "marker": {
             "colorbar": {
              "outlinewidth": 0,
              "ticks": ""
             }
            },
            "type": "scatterternary"
           }
          ],
          "surface": [
           {
            "colorbar": {
             "outlinewidth": 0,
             "ticks": ""
            },
            "colorscale": [
             [
              0,
              "#0d0887"
             ],
             [
              0.1111111111111111,
              "#46039f"
             ],
             [
              0.2222222222222222,
              "#7201a8"
             ],
             [
              0.3333333333333333,
              "#9c179e"
             ],
             [
              0.4444444444444444,
              "#bd3786"
             ],
             [
              0.5555555555555556,
              "#d8576b"
             ],
             [
              0.6666666666666666,
              "#ed7953"
             ],
             [
              0.7777777777777778,
              "#fb9f3a"
             ],
             [
              0.8888888888888888,
              "#fdca26"
             ],
             [
              1,
              "#f0f921"
             ]
            ],
            "type": "surface"
           }
          ],
          "table": [
           {
            "cells": {
             "fill": {
              "color": "#EBF0F8"
             },
             "line": {
              "color": "white"
             }
            },
            "header": {
             "fill": {
              "color": "#C8D4E3"
             },
             "line": {
              "color": "white"
             }
            },
            "type": "table"
           }
          ]
         },
         "layout": {
          "annotationdefaults": {
           "arrowcolor": "#2a3f5f",
           "arrowhead": 0,
           "arrowwidth": 1
          },
          "autotypenumbers": "strict",
          "coloraxis": {
           "colorbar": {
            "outlinewidth": 0,
            "ticks": ""
           }
          },
          "colorscale": {
           "diverging": [
            [
             0,
             "#8e0152"
            ],
            [
             0.1,
             "#c51b7d"
            ],
            [
             0.2,
             "#de77ae"
            ],
            [
             0.3,
             "#f1b6da"
            ],
            [
             0.4,
             "#fde0ef"
            ],
            [
             0.5,
             "#f7f7f7"
            ],
            [
             0.6,
             "#e6f5d0"
            ],
            [
             0.7,
             "#b8e186"
            ],
            [
             0.8,
             "#7fbc41"
            ],
            [
             0.9,
             "#4d9221"
            ],
            [
             1,
             "#276419"
            ]
           ],
           "sequential": [
            [
             0,
             "#0d0887"
            ],
            [
             0.1111111111111111,
             "#46039f"
            ],
            [
             0.2222222222222222,
             "#7201a8"
            ],
            [
             0.3333333333333333,
             "#9c179e"
            ],
            [
             0.4444444444444444,
             "#bd3786"
            ],
            [
             0.5555555555555556,
             "#d8576b"
            ],
            [
             0.6666666666666666,
             "#ed7953"
            ],
            [
             0.7777777777777778,
             "#fb9f3a"
            ],
            [
             0.8888888888888888,
             "#fdca26"
            ],
            [
             1,
             "#f0f921"
            ]
           ],
           "sequentialminus": [
            [
             0,
             "#0d0887"
            ],
            [
             0.1111111111111111,
             "#46039f"
            ],
            [
             0.2222222222222222,
             "#7201a8"
            ],
            [
             0.3333333333333333,
             "#9c179e"
            ],
            [
             0.4444444444444444,
             "#bd3786"
            ],
            [
             0.5555555555555556,
             "#d8576b"
            ],
            [
             0.6666666666666666,
             "#ed7953"
            ],
            [
             0.7777777777777778,
             "#fb9f3a"
            ],
            [
             0.8888888888888888,
             "#fdca26"
            ],
            [
             1,
             "#f0f921"
            ]
           ]
          },
          "colorway": [
           "#636efa",
           "#EF553B",
           "#00cc96",
           "#ab63fa",
           "#FFA15A",
           "#19d3f3",
           "#FF6692",
           "#B6E880",
           "#FF97FF",
           "#FECB52"
          ],
          "font": {
           "color": "#2a3f5f"
          },
          "geo": {
           "bgcolor": "white",
           "lakecolor": "white",
           "landcolor": "#E5ECF6",
           "showlakes": true,
           "showland": true,
           "subunitcolor": "white"
          },
          "hoverlabel": {
           "align": "left"
          },
          "hovermode": "closest",
          "mapbox": {
           "style": "light"
          },
          "paper_bgcolor": "white",
          "plot_bgcolor": "#E5ECF6",
          "polar": {
           "angularaxis": {
            "gridcolor": "white",
            "linecolor": "white",
            "ticks": ""
           },
           "bgcolor": "#E5ECF6",
           "radialaxis": {
            "gridcolor": "white",
            "linecolor": "white",
            "ticks": ""
           }
          },
          "scene": {
           "xaxis": {
            "backgroundcolor": "#E5ECF6",
            "gridcolor": "white",
            "gridwidth": 2,
            "linecolor": "white",
            "showbackground": true,
            "ticks": "",
            "zerolinecolor": "white"
           },
           "yaxis": {
            "backgroundcolor": "#E5ECF6",
            "gridcolor": "white",
            "gridwidth": 2,
            "linecolor": "white",
            "showbackground": true,
            "ticks": "",
            "zerolinecolor": "white"
           },
           "zaxis": {
            "backgroundcolor": "#E5ECF6",
            "gridcolor": "white",
            "gridwidth": 2,
            "linecolor": "white",
            "showbackground": true,
            "ticks": "",
            "zerolinecolor": "white"
           }
          },
          "shapedefaults": {
           "line": {
            "color": "#2a3f5f"
           }
          },
          "ternary": {
           "aaxis": {
            "gridcolor": "white",
            "linecolor": "white",
            "ticks": ""
           },
           "baxis": {
            "gridcolor": "white",
            "linecolor": "white",
            "ticks": ""
           },
           "bgcolor": "#E5ECF6",
           "caxis": {
            "gridcolor": "white",
            "linecolor": "white",
            "ticks": ""
           }
          },
          "title": {
           "x": 0.05
          },
          "xaxis": {
           "automargin": true,
           "gridcolor": "white",
           "linecolor": "white",
           "ticks": "",
           "title": {
            "standoff": 15
           },
           "zerolinecolor": "white",
           "zerolinewidth": 2
          },
          "yaxis": {
           "automargin": true,
           "gridcolor": "white",
           "linecolor": "white",
           "ticks": "",
           "title": {
            "standoff": 15
           },
           "zerolinecolor": "white",
           "zerolinewidth": 2
          }
         }
        },
        "title": {
         "text": "Vida de Jugadores de Lost Ark"
        }
       }
      },
      "text/html": [
       "<div>                            <div id=\"1df17a92-f987-4b7a-a6a3-2a84b1063610\" class=\"plotly-graph-div\" style=\"height:525px; width:100%;\"></div>            <script type=\"text/javascript\">                require([\"plotly\"], function(Plotly) {                    window.PLOTLYENV=window.PLOTLYENV || {};                                    if (document.getElementById(\"1df17a92-f987-4b7a-a6a3-2a84b1063610\")) {                    Plotly.newPlot(                        \"1df17a92-f987-4b7a-a6a3-2a84b1063610\",                        [{\"marker\":{\"color\":\"rgba(16, 112, 2, 0.8)\"},\"mode\":\"lines\",\"name\":\"citations\",\"x\":[\"2022-02-08 00:00:00\",\"2022-02-09 00:00:00\",\"2022-02-10 00:00:00\",\"2022-02-11 00:00:00\",\"2022-02-12 00:00:00\",\"2022-02-13 00:00:00\",\"2022-02-14 00:00:00\",\"2022-02-15 00:00:00\",\"2022-02-16 00:00:00\",\"2022-02-17 00:00:00\",\"2022-02-18 00:00:00\",\"2022-02-19 00:00:00\",\"2022-02-20 00:00:00\",\"2022-02-21 00:00:00\",\"2022-02-22 00:00:00\",\"2022-02-23 00:00:00\",\"2022-02-24 00:00:00\",\"2022-02-25 00:00:00\",\"2022-02-26 00:00:00\",\"2022-02-27 00:00:00\",\"2022-02-28 00:00:00\",\"2022-03-01 00:00:00\",\"2022-03-02 00:00:00\",\"2022-03-03 00:00:00\",\"2022-03-04 00:00:00\",\"2022-03-05 00:00:00\",\"2022-03-06 00:00:00\",\"2022-03-07 00:00:00\",\"2022-03-08 00:00:00\",\"2022-03-09 00:00:00\",\"2022-03-10 00:00:00\",\"2022-03-11 00:00:00\",\"2022-03-12 00:00:00\",\"2022-03-13 00:00:00\",\"2022-03-14 00:00:00\",\"2022-03-15 00:00:00\",\"2022-03-16 00:00:00\",\"2022-03-17 00:00:00\",\"2022-03-18 00:00:00\",\"2022-03-19 00:00:00\",\"2022-03-20 00:00:00\",\"2022-03-21 00:00:00\",\"2022-03-22 00:00:00\",\"2022-03-23 00:00:00\",\"2022-03-24 00:00:00\",\"2022-03-25 00:00:00\",\"2022-03-26 00:00:00\",\"2022-03-27 00:00:00\",\"2022-03-28 00:00:00\",\"2022-03-29 00:00:00\",\"2022-03-30 00:00:00\",\"2022-03-31 00:00:00\",\"2022-04-01 00:00:00\",\"2022-04-02 00:00:00\",\"2022-04-03 00:00:00\",\"2022-04-04 00:00:00\",\"2022-04-05 00:00:00\",\"2022-04-06 00:00:00\",\"2022-04-07 00:00:00\",\"2022-04-08 00:00:00\",\"2022-04-09 00:00:00\",\"2022-04-10 00:00:00\",\"2022-04-11 00:00:00\",\"2022-04-12 00:00:00\",\"2022-04-13 00:00:00\",\"2022-04-14 00:00:00\",\"2022-04-15 00:00:00\",\"2022-04-16 00:00:00\",\"2022-04-17 00:00:00\",\"2022-04-18 00:00:00\",\"2022-04-19 00:00:00\",\"2022-04-20 00:00:00\",\"2022-04-21 00:00:00\",\"2022-04-22 00:00:00\",\"2022-04-23 00:00:00\",\"2022-04-24 00:00:00\",\"2022-04-25 00:00:00\",\"2022-04-26 00:00:00\",\"2022-04-27 00:00:00\",\"2022-04-28 00:00:00\",\"2022-04-29 00:00:00\",\"2022-04-30 00:00:00\",\"2022-05-01 00:00:00\",\"2022-05-02 00:00:00\",\"2022-05-03 00:00:00\",\"2022-05-04 00:00:00\",\"2022-05-05 00:00:00\",\"2022-05-06 00:00:00\",\"2022-05-07 00:00:00\",\"2022-05-08 00:00:00\",\"2022-05-09 00:00:00\",\"2022-05-10 00:00:00\",\"2022-05-11 00:00:00\",\"2022-05-12 00:00:00\",\"2022-05-13 00:00:00\",\"2022-05-14 00:00:00\",\"2022-05-15 00:00:00\",\"2022-05-16 00:00:00\",\"2022-05-17 00:00:00\",\"2022-05-18 00:00:00\",\"2022-05-19 00:00:00\",\"2022-05-20 00:00:00\",\"2022-05-21 00:00:00\",\"2022-05-22 00:00:00\",\"2022-05-23 00:00:00\",\"2022-05-24 00:00:00\",\"2022-05-25 00:00:00\",\"2022-05-26 00:00:00\",\"2022-05-27 00:00:00\",\"2022-05-28 00:00:00\",\"2022-05-29 00:00:00\",\"2022-05-30 00:00:00\",\"2022-05-31 00:00:00\",\"2022-06-01 00:00:00\",\"2022-06-02 00:00:00\",\"2022-06-03 00:00:00\",\"2022-06-04 00:00:00\",\"2022-06-05 00:00:00\",\"2022-06-06 00:00:00\",\"2022-06-07 00:00:00\",\"2022-06-08 00:00:00\",\"2022-06-09 00:00:00\",\"2022-06-10 00:00:00\",\"2022-06-11 00:00:00\",\"2022-06-12 00:00:00\",\"2022-06-13 00:00:00\",\"2022-06-14 00:00:00\",\"2022-06-15 00:00:00\",\"2022-06-16 00:00:00\",\"2022-06-17 00:00:00\",\"2022-06-18 00:00:00\",\"2022-06-19 00:00:00\",\"2022-06-20 00:00:00\",\"2022-06-21 00:00:00\",\"2022-06-22 00:00:00\",\"2022-06-23 00:00:00\",\"2022-06-24 00:00:00\",\"2022-06-25 00:00:00\",\"2022-06-26 00:00:00\",\"2022-06-27 00:00:00\",\"2022-06-28 00:00:00\",\"2022-06-29 00:00:00\",\"2022-06-30 00:00:00\",\"2022-07-01 00:00:00\",\"2022-07-02 00:00:00\",\"2022-07-03 00:00:00\",\"2022-07-04 00:00:00\",\"2022-07-05 00:00:00\",\"2022-07-06 00:00:00\",\"2022-07-07 00:00:00\",\"2022-07-08 00:00:00\",\"2022-07-09 00:00:00\",\"2022-07-10 00:00:00\",\"2022-07-11 00:00:00\",\"2022-07-12 00:00:00\",\"2022-07-13 00:00:00\",\"2022-07-14 00:00:00\",\"2022-07-15 00:00:00\",\"2022-07-16 00:00:00\",\"2022-07-17 00:00:00\",\"2022-07-18 00:00:00\",\"2022-07-19 00:00:00\",\"2022-07-20 00:00:00\",\"2022-07-21 00:00:00\",\"2022-07-22 00:00:00\",\"2022-07-23 00:00:00\",\"2022-07-24 00:00:00\",\"2022-07-25 00:00:00\",\"2022-07-26 00:00:00\",\"2022-07-27 00:00:00\",\"2022-07-28 00:00:00\",\"2022-07-29 00:00:00\",\"2022-07-30 00:00:00\",\"2022-07-31 00:00:00\",\"2022-08-01 00:00:00\",\"2022-08-02 00:00:00\",\"2022-08-03 00:00:00\",\"2022-08-04 00:00:00\",\"2022-08-05 00:00:00\",\"2022-08-06 00:00:00\",\"2022-08-07 00:00:00\",\"2022-08-08 00:00:00\",\"2022-08-09 00:00:00\",\"2022-08-10 00:00:00\",\"2022-08-11 00:00:00\",\"2022-08-12 00:00:00\",\"2022-08-13 00:00:00\",\"2022-08-14 00:00:00\",\"2022-08-15 00:00:00\",\"2022-08-16 00:00:00\",\"2022-08-17 00:00:00\",\"2022-08-18 00:00:00\",\"2022-08-19 00:00:00\",\"2022-08-20 00:00:00\",\"2022-08-21 00:00:00\",\"2022-08-22 00:00:00\",\"2022-08-23 00:00:00\",\"2022-08-24 00:00:00\",\"2022-08-25 00:00:00\",\"2022-08-26 00:00:00\",\"2022-08-27 00:00:00\",\"2022-08-28 00:00:00\",\"2022-08-29 00:00:00\",\"2022-08-30 00:00:00\",\"2022-08-31 00:00:00\",\"2022-09-01 00:00:00\",\"2022-09-02 00:00:00\",\"2022-09-03 00:00:00\",\"2022-09-04 00:00:00\",\"2022-09-05 00:00:00\",\"2022-09-06 00:00:00\",\"2022-09-07 00:00:00\",\"2022-09-08 00:00:00\",\"2022-09-09 00:00:00\",\"2022-09-10 00:00:00\",\"2022-09-11 00:00:00\",\"2022-09-12 00:00:00\",\"2022-09-13 00:00:00\",\"2022-09-14 00:00:00\",\"2022-09-15 00:00:00\",\"2022-09-16 00:00:00\",\"2022-09-17 00:00:00\",\"2022-09-18 00:00:00\",\"2022-09-19 00:00:00\",\"2022-09-20 00:00:00\",\"2022-09-21 00:00:00\",\"2022-09-22 00:00:00\",\"2022-09-23 00:00:00\",\"2022-09-24 00:00:00\",\"2022-09-25 00:00:00\",\"2022-09-26 00:00:00\",\"2022-09-27 00:00:00\",\"2022-09-28 00:00:00\",\"2022-09-29 00:00:00\",\"2022-09-30 00:00:00\",\"2022-10-01 00:00:00\",\"2022-10-02 00:00:00\",\"2022-10-03 00:00:00\",\"2022-10-04 00:00:00\",\"2022-10-05 00:00:00\",\"2022-10-06 00:00:00\",\"2022-10-07 00:00:00\",\"2022-10-08 00:00:00\",\"2022-10-09 00:00:00\",\"2022-10-10 00:00:00\",\"2022-10-11 00:00:00\",\"2022-10-12 00:00:00\",\"2022-10-13 00:00:00\",\"2022-10-14 00:00:00\",\"2022-10-15 00:00:00\",\"2022-10-16 00:00:00\",\"2022-10-17 00:00:00\",\"2022-10-18 00:00:00\",\"2022-10-19 00:00:00\",\"2022-10-20 00:00:00\",\"2022-10-21 00:00:00\",\"2022-10-22 00:00:00\",\"2022-10-23 00:00:00\",\"2022-10-24 00:00:00\",\"2022-10-25 00:00:00\",\"2022-10-26 00:00:00\",\"2022-10-27 00:00:00\",\"2022-10-28 00:00:00\",\"2022-10-29 00:00:00\",\"2022-10-30 00:00:00\",\"2022-10-31 00:00:00\",\"2022-11-01 00:00:00\",\"2022-11-02 00:00:00\",\"2022-11-03 00:00:00\",\"2022-11-04 00:00:00\",\"2022-11-05 00:00:00\",\"2022-11-06 00:00:00\",\"2022-11-07 00:00:00\",\"2022-11-08 00:00:00\",\"2022-11-09 00:00:00\",\"2022-11-10 00:00:00\",\"2022-11-11 00:00:00\",\"2022-11-12 00:00:00\",\"2022-11-13 00:00:00\",\"2022-11-14 00:00:00\",\"2022-11-15 00:00:00\",\"2022-11-16 00:00:00\",\"2022-11-17 00:00:00\",\"2022-11-18 00:00:00\",\"2022-11-19 00:00:00\",\"2022-11-20 00:00:00\",\"2022-11-21 00:00:00\",\"2022-11-22 00:00:00\",\"2022-11-23 00:00:00\",\"2022-11-24 00:00:00\",\"2022-11-25 00:00:00\",\"2022-11-26 00:00:00\",\"2022-11-27 00:00:00\",\"2022-11-28 00:00:00\",\"2022-11-29 00:00:00\",\"2022-11-30 00:00:00\",\"2022-12-01 00:00:00\",\"2022-12-02 00:00:00\",\"2022-12-03 00:00:00\",\"2022-12-04 00:00:00\",\"2022-12-05 00:00:00\",\"2022-12-06 00:00:00\",\"2022-12-07 00:00:00\",\"2022-12-08 00:00:00\",\"2022-12-09 00:00:00\",\"2022-12-10 00:00:00\",\"2022-12-11 00:00:00\",\"2022-12-12 00:00:00\",\"2022-12-13 00:00:00\",\"2022-12-14 00:00:00\",\"2022-12-15 00:00:00\",\"2022-12-16 00:00:00\",\"2022-12-17 00:00:00\",\"2022-12-18 00:00:00\",\"2022-12-19 00:00:00\",\"2022-12-20 00:00:00\",\"2022-12-21 00:00:00\",\"2022-12-22 00:00:00\",\"2022-12-23 00:00:00\",\"2022-12-24 00:00:00\",\"2022-12-25 00:00:00\",\"2022-12-26 00:00:00\",\"2022-12-27 00:00:00\",\"2022-12-28 00:00:00\",\"2022-12-29 00:00:00\",\"2022-12-30 00:00:00\",\"2022-12-31 00:00:00\",\"2023-01-01 00:00:00\",\"2023-01-02 00:00:00\",\"2023-01-03 00:00:00\",\"2023-01-04 00:00:00\",\"2023-01-05 00:00:00\",\"2023-01-06 00:00:00\",\"2023-01-07 00:00:00\",\"2023-01-08 00:00:00\",\"2023-01-09 00:00:00\",\"2023-01-10 00:00:00\",\"2023-01-11 00:00:00\",\"2023-01-12 00:00:00\",\"2023-01-13 00:00:00\",\"2023-01-14 00:00:00\",\"2023-01-15 00:00:00\",\"2023-01-16 00:00:00\",\"2023-01-17 00:00:00\",\"2023-01-18 00:00:00\",\"2023-01-19 00:00:00\",\"2023-01-20 00:00:00\",\"2023-01-21 00:00:00\",\"2023-01-22 00:00:00\",\"2023-01-23 00:00:00\",\"2023-01-24 00:00:00\",\"2023-01-25 00:00:00\",\"2023-01-26 00:00:00\",\"2023-01-27 00:00:00\",\"2023-01-28 00:00:00\",\"2023-01-29 00:00:00\",\"2023-01-30 00:00:00\",\"2023-01-31 00:00:00\",\"2023-02-01 00:00:00\",\"2023-02-02 00:00:00\",\"2023-02-03 00:00:00\",\"2023-02-04 00:00:00\",\"2023-02-05 00:00:00\",\"2023-02-06 00:00:00\",\"2023-02-07 00:00:00\",\"2023-02-08 00:00:00\",\"2023-02-09 00:00:00\",\"2023-02-10 00:00:00\",\"2023-02-11 00:00:00\",\"2023-02-12 00:00:00\",\"2023-02-13 00:00:00\",\"2023-02-14 00:00:00\",\"2023-02-15 00:00:00\",\"2023-02-16 00:00:00\",\"2023-02-17 00:00:00\",\"2023-02-18 00:00:00\",\"2023-02-19 00:00:00\",\"2023-02-20 00:00:00\",\"2023-02-21 00:00:00\",\"2023-02-22 00:00:00\",\"2023-02-23 00:00:00\",\"2023-02-24 00:00:00\",\"2023-02-25 00:00:00\",\"2023-02-26 00:00:00\",\"2023-02-27 00:00:00\",\"2023-02-28 00:00:00\",\"2023-03-01 00:00:00\",\"2023-03-02 00:00:00\",\"2023-03-03 00:00:00\",\"2023-03-04 00:00:00\",\"2023-03-05 00:00:00\",\"2023-03-06 00:00:00\",\"2023-03-07 00:00:00\",\"2023-03-08 00:00:00\",\"2023-03-09 00:00:00\",\"2023-03-10 00:00:00\",\"2023-03-11 00:00:00\",\"2023-03-12 00:00:00\",\"2023-03-13 00:00:00\",\"2023-03-14 00:00:00\",\"2023-03-15 00:00:00\",\"2023-03-16 00:00:00\",\"2023-03-17 00:00:00\",\"2023-03-18 00:00:00\",\"2023-03-19 00:00:00\",\"2023-03-20 00:00:00\",\"2023-03-21 00:00:00\",\"2023-03-22 00:00:00\",\"2023-03-23 00:00:00\",\"2023-03-24 00:00:00\",\"2023-03-25 00:00:00\",\"2023-03-26 00:00:00\",\"2023-03-27 00:00:00\",\"2023-03-28 00:00:00\",\"2023-03-29 00:00:00\",\"2023-03-30 00:00:00\",\"2023-03-31 00:00:00\",\"2023-04-01 00:00:00\",\"2023-04-02 00:00:00\",\"2023-04-03 00:00:00\",\"2023-04-04 00:00:00\",\"2023-04-05 00:00:00\",\"2023-04-06 00:00:00\",\"2023-04-07 00:00:00\",\"2023-04-08 00:00:00\",\"2023-04-09 00:00:00\",\"2023-04-10 00:00:00\",\"2023-04-11 00:00:00\",\"2023-04-12 00:00:00\",\"2023-04-13 00:00:00\",\"2023-04-14 00:00:00\",\"2023-04-15 00:00:00\",\"2023-04-16 00:00:00\",\"2023-04-17 00:00:00\",\"2023-04-18 00:00:00\",\"2023-04-19 00:00:00\",\"2023-04-20 00:00:00\",\"2023-04-21 00:00:00\",\"2023-04-22 00:00:00\",\"2023-04-23 00:00:00\",\"2023-04-24 00:00:00\",\"2023-04-25 00:00:00\",\"2023-04-26 00:00:00\",\"2023-04-27 00:00:00\",\"2023-04-28 00:00:00\",\"2023-04-29 00:00:00\",\"2023-04-30 00:00:00\",\"2023-05-01 00:00:00\",\"2023-05-02 00:00:00\",\"2023-05-03 00:00:00\",\"2023-05-04 00:00:00\",\"2023-05-05 00:00:00\",\"2023-05-06 00:00:00\",\"2023-05-07 00:00:00\",\"2023-05-08 00:00:00\",\"2023-05-09 00:00:00\",\"2023-05-10 00:00:00\",\"2023-05-11 00:00:00\",\"2023-05-12 00:00:00\",\"2023-05-13 00:00:00\",\"2023-05-14 00:00:00\",\"2023-05-15 00:00:00\",\"2023-05-16 00:00:00\",\"2023-05-17 00:00:00\",\"2023-05-18 00:00:00\",\"2023-05-19 00:00:00\",\"2023-05-20 00:00:00\",\"2023-05-21 00:00:00\",\"2023-05-22 00:00:00\",\"2023-05-23 00:00:00\",\"2023-05-24 00:00:00\",\"2023-05-25 00:00:00\",\"2023-05-26 00:00:00\",\"2023-05-27 00:00:00\",\"2023-05-28 00:00:00\",\"2023-05-29 00:00:00\",\"2023-05-30 00:00:00\",\"2023-05-31 00:00:00\",\"2023-06-01 00:00:00\",\"2023-06-02 00:00:00\",\"2023-06-03 00:00:00\",\"2023-06-04 00:00:00\",\"2023-06-05 00:00:00\",\"2023-06-06 00:00:00\",\"2023-06-07 00:00:00\",\"2023-06-08 00:00:00\",\"2023-06-09 00:00:00\",\"2023-06-10 00:00:00\",\"2023-06-11 00:00:00\",\"2023-06-12 00:00:00\",\"2023-06-13 00:00:00\",\"2023-06-14 00:00:00\",\"2023-06-15 00:00:00\",\"2023-06-16 00:00:00\",\"2023-06-17 00:00:00\",\"2023-06-18 00:00:00\",\"2023-06-19 00:00:00\",\"2023-06-20 00:00:00\",\"2023-06-21 00:00:00\",\"2023-06-22 00:00:00\",\"2023-06-23 00:00:00\",\"2023-06-24 00:00:00\",\"2023-06-25 00:00:00\",\"2023-06-26 00:00:00\",\"2023-06-27 00:00:00\",\"2023-06-28 00:00:00\",\"2023-06-29 00:00:00\",\"2023-06-30 00:00:00\",\"2023-07-01 00:00:00\",\"2023-07-02 00:00:00\",\"2023-07-03 00:00:00\",\"2023-07-04 00:00:00\",\"2023-07-05 00:00:00\",\"2023-07-06 00:00:00\",\"2023-07-07 00:00:00\",\"2023-07-08 00:00:00\",\"2023-07-09 00:00:00\",\"2023-07-10 00:00:00\",\"2023-07-11 00:00:00\",\"2023-07-12 00:00:00\",\"2023-07-13 00:00:00\",\"2023-07-14 00:00:00\",\"2023-07-15 00:00:00\",\"2023-07-16 00:00:00\",\"2023-07-17 00:00:00\",\"2023-07-18 00:00:00\",\"2023-07-19 00:00:00\",\"2023-07-20 00:00:00\",\"2023-07-21 00:00:00\",\"2023-07-22 00:00:00\",\"2023-07-23 00:00:00\",\"2023-07-24 00:00:00\",\"2023-07-25 00:00:00\",\"2023-07-26 00:00:00\",\"2023-07-27 00:00:00\",\"2023-07-28 00:00:00\",\"2023-07-29 00:00:00\",\"2023-07-30 00:00:00\",\"2023-07-31 00:00:00\",\"2023-08-01 00:00:00\",\"2023-08-02 00:00:00\",\"2023-08-03 00:00:00\",\"2023-08-04 00:00:00\",\"2023-08-05 00:00:00\",\"2023-08-06 00:00:00\",\"2023-08-07 00:00:00\",\"2023-08-08 00:00:00\",\"2023-08-09 00:00:00\",\"2023-08-10 00:00:00\",\"2023-08-11 00:00:00\",\"2023-08-12 00:00:00\",\"2023-08-13 00:00:00\",\"2023-08-14 00:00:00\",\"2023-08-15 00:00:00\",\"2023-08-16 00:00:00\",\"2023-08-17 00:00:00\",\"2023-08-18 00:00:00\",\"2023-08-19 00:00:00\",\"2023-08-20 00:00:00\",\"2023-08-21 00:00:00\",\"2023-08-22 00:00:00\",\"2023-08-23 00:00:00\",\"2023-08-24 00:00:00\",\"2023-08-25 00:00:00\",\"2023-08-26 00:00:00\",\"2023-08-27 00:00:00\",\"2023-08-28 00:00:00\",\"2023-08-29 00:00:00\",\"2023-08-30 00:00:00\",\"2023-08-31 00:00:00\",\"2023-09-01 00:00:00\",\"2023-09-02 00:00:00\",\"2023-09-03 00:00:00\",\"2023-09-04 00:00:00\",\"2023-09-05 00:00:00\",\"2023-09-06 00:00:00\",\"2023-09-07 00:00:00\",\"2023-09-08 00:00:00\",\"2023-09-09 00:00:00\",\"2023-09-10 00:00:00\",\"2023-09-11 00:00:00\",\"2023-09-12 00:00:00\",\"2023-09-13 00:00:00\",\"2023-09-14 00:00:00\",\"2023-09-15 00:00:00\",\"2023-09-16 00:00:00\",\"2023-09-17 00:00:00\",\"2023-09-18 00:00:00\",\"2023-09-19 00:00:00\",\"2023-09-20 00:00:00\",\"2023-09-21 00:00:00\",\"2023-09-22 00:00:00\",\"2023-09-23 00:00:00\",\"2023-09-24 00:00:00\",\"2023-09-25 00:00:00\",\"2023-09-26 00:00:00\",\"2023-09-27 00:00:00\",\"2023-09-28 00:00:00\",\"2023-09-29 00:00:00\",\"2023-09-30 00:00:00\",\"2023-10-01 00:00:00\",\"2023-10-02 00:00:00\",\"2023-10-03 00:00:00\",\"2023-10-04 00:00:00\",\"2023-10-05 00:00:00\",\"2023-10-06 00:00:00\",\"2023-10-07 00:00:00\",\"2023-10-08 00:00:00\",\"2023-10-09 00:00:00\",\"2023-10-10 00:00:00\",\"2023-10-11 00:00:00\",\"2023-10-12 00:00:00\",\"2023-10-13 00:00:00\",\"2023-10-14 00:00:00\",\"2023-10-15 00:00:00\",\"2023-10-16 00:00:00\",\"2023-10-17 00:00:00\",\"2023-10-18 00:00:00\"],\"y\":[532476,506946,507123,688736,1325305,1316854,1098921,1119642,1135765,1090827,1102515,1134663,1174722,1074677,993849,949460,915628,881133,930509,962906,856177,842508,819652,815473,759648,847376,908335,829633,822383,805722,679494,630067,646991,660051,591163,511063,519268,528089,486390,518719,537588,483641,460199,449751,413761,389102,402922,420758,369916,355086,336539,353933,347729,375010,399715,356506,359193,351755,367612,374802,401124,426706,405794,397493,369797,416018,441972,425987,462394,462085,462026,458832,393305,500139,536047,572602,556187,566673,560956,487900,499313,542609,586540,568246,567373,493101,573879,578536,588550,637078,623896,591542,574594,508050,423930,481919,563381,579329,583597,584612,524134,441528,440460,648260,646417,673024,668525,615744,733251,709234,704632,801364,737605,715223,666383,683981,708926,798621,819349,829155,837419,451615,800400,843598,885968,880727,873694,727629,605751,551016,449382,273010,279843,306156,301666,289060,360567,293284,348754,341678,283820,226472,186986,173512,215308,254128,274205,280685,283863,292516,278280,305384,313083,285210,268757,268748,251334,151989,170008,204940,201638,201865,164256,230377,242342,267406,290788,288234,290423,243626,296884,311828,334027,352852,352344,340560,281060,156805,252770,151541,185135,203445,220056,181785,116685,121437,131118,137042,133695,147840,171335,225391,239071,228162,248196,240933,227548,187040,224258,238427,252565,264904,245050,216840,209736,130010,110209,125197,173803,179091,172439,147981,118215,183977,197303,212778,205722,203029,194204,223872,202612,217579,232767,218970,211398,175455,203625,145424,195236,214237,204425,188514,152300,226988,195928,200582,206716,192136,191390,162495,153099,147027,167405,176212,171515,162212,135049,165358,179823,196018,207013,201648,198287,146699,181440,157168,195348,214493,214585,214549,186615,227894,211908,234844,258778,235069,228687,191313,230379,236068,260886,279228,276176,271388,203868,228097,243494,260104,276579,251788,239998,178629,122044,172597,211064,232299,226833,229035,200148,248269,264710,275134,281950,277421,262338,221489,285894,298719,304125,322787,305982,290010,253015,317013,308345,305759,322463,320131,299029,244244,308365,315151,327346,341308,330461,322547,279277,335629,348047,345451,347556,334034,314814,281282,336994,341949,331457,331516,322974,301687,286256,328749,328489,334099,332977,323766,269398,88972,127183,150696,175173,183517,179028,176563,156273,112308,102997,130185,144410,132510,130413,122272,152529,161185,172031,178868,176731,171371,156887,187023,191552,200862,206492,200511,197160,173207,183282,216428,224808,231994,219098,200826,159130,187044,188740,199536,204768,195413,178936,156455,204011,207915,205521,208178,194010,177071,183567,203538,204617,212233,208858,190910,172135,173706,183493,164439,143495,134072,127417,110921,85847,101697,110326,112735,109020,101833,99872,81377,91792,91013,94860,97926,93165,90982,94420,89241,87688,91496,99663,94652,92570,97347,104411,104273,103836,103839,103872,88115,69116,69726,68321,75080,80183,76957,69096,68078,80671,82931,88160,89919,90440,87691,81187,93200,92193,91507,93034,94562,82494,87311,86696,65413,84080,72893,79997,80410,62316,60165,64338,68409,71498,63162,61218,69221,70079,69000,73392,74358,63609,55427,58973,53944,54576,54681,50136,46654,42213,53176,48576,43098,42111,43117,38626,37125,45268,45286,43836,41189,42469,39367,37858,51209,45315,42617,42301,41533,38247,37161,41961,37946,36249,36809,37635,33113,31237,39275,35565,33577,33482,34199,30977,30210,36937,33591,32068,32093,32925,28947,28247,41897,34730,34109,34146,34946,30453,29068,35927,31165,30129,30280,30983,28057,26211,33411,31127,29432,29731,30808,27320,26887,32982,30510,28624,29373,30398,26694,26086,34680,32587,30831,30412,30716,27470,25907,47729,46169,41835,41569,42180,37897,37191,42703,40025,40216,41283,42871,36900,35880,27881,40645,37734,38101,38743,36229,32973,40510,39115,37568,38891,40124,35271,35534,55818,53770,50440,52038,52263,45861,45153,54695,49670,50602,51237,51844,45824,42563,53643,48328,46746,49569,47194,42540,40861,53225,51521,48661,51135,49803,49889,46346,50800,55958,49585,51541,48581,45089,41800,52358],\"type\":\"scatter\"}],                        {\"barmode\":\"group\",\"template\":{\"data\":{\"barpolar\":[{\"marker\":{\"line\":{\"color\":\"#E5ECF6\",\"width\":0.5},\"pattern\":{\"fillmode\":\"overlay\",\"size\":10,\"solidity\":0.2}},\"type\":\"barpolar\"}],\"bar\":[{\"error_x\":{\"color\":\"#2a3f5f\"},\"error_y\":{\"color\":\"#2a3f5f\"},\"marker\":{\"line\":{\"color\":\"#E5ECF6\",\"width\":0.5},\"pattern\":{\"fillmode\":\"overlay\",\"size\":10,\"solidity\":0.2}},\"type\":\"bar\"}],\"carpet\":[{\"aaxis\":{\"endlinecolor\":\"#2a3f5f\",\"gridcolor\":\"white\",\"linecolor\":\"white\",\"minorgridcolor\":\"white\",\"startlinecolor\":\"#2a3f5f\"},\"baxis\":{\"endlinecolor\":\"#2a3f5f\",\"gridcolor\":\"white\",\"linecolor\":\"white\",\"minorgridcolor\":\"white\",\"startlinecolor\":\"#2a3f5f\"},\"type\":\"carpet\"}],\"choropleth\":[{\"colorbar\":{\"outlinewidth\":0,\"ticks\":\"\"},\"type\":\"choropleth\"}],\"contourcarpet\":[{\"colorbar\":{\"outlinewidth\":0,\"ticks\":\"\"},\"type\":\"contourcarpet\"}],\"contour\":[{\"colorbar\":{\"outlinewidth\":0,\"ticks\":\"\"},\"colorscale\":[[0.0,\"#0d0887\"],[0.1111111111111111,\"#46039f\"],[0.2222222222222222,\"#7201a8\"],[0.3333333333333333,\"#9c179e\"],[0.4444444444444444,\"#bd3786\"],[0.5555555555555556,\"#d8576b\"],[0.6666666666666666,\"#ed7953\"],[0.7777777777777778,\"#fb9f3a\"],[0.8888888888888888,\"#fdca26\"],[1.0,\"#f0f921\"]],\"type\":\"contour\"}],\"heatmapgl\":[{\"colorbar\":{\"outlinewidth\":0,\"ticks\":\"\"},\"colorscale\":[[0.0,\"#0d0887\"],[0.1111111111111111,\"#46039f\"],[0.2222222222222222,\"#7201a8\"],[0.3333333333333333,\"#9c179e\"],[0.4444444444444444,\"#bd3786\"],[0.5555555555555556,\"#d8576b\"],[0.6666666666666666,\"#ed7953\"],[0.7777777777777778,\"#fb9f3a\"],[0.8888888888888888,\"#fdca26\"],[1.0,\"#f0f921\"]],\"type\":\"heatmapgl\"}],\"heatmap\":[{\"colorbar\":{\"outlinewidth\":0,\"ticks\":\"\"},\"colorscale\":[[0.0,\"#0d0887\"],[0.1111111111111111,\"#46039f\"],[0.2222222222222222,\"#7201a8\"],[0.3333333333333333,\"#9c179e\"],[0.4444444444444444,\"#bd3786\"],[0.5555555555555556,\"#d8576b\"],[0.6666666666666666,\"#ed7953\"],[0.7777777777777778,\"#fb9f3a\"],[0.8888888888888888,\"#fdca26\"],[1.0,\"#f0f921\"]],\"type\":\"heatmap\"}],\"histogram2dcontour\":[{\"colorbar\":{\"outlinewidth\":0,\"ticks\":\"\"},\"colorscale\":[[0.0,\"#0d0887\"],[0.1111111111111111,\"#46039f\"],[0.2222222222222222,\"#7201a8\"],[0.3333333333333333,\"#9c179e\"],[0.4444444444444444,\"#bd3786\"],[0.5555555555555556,\"#d8576b\"],[0.6666666666666666,\"#ed7953\"],[0.7777777777777778,\"#fb9f3a\"],[0.8888888888888888,\"#fdca26\"],[1.0,\"#f0f921\"]],\"type\":\"histogram2dcontour\"}],\"histogram2d\":[{\"colorbar\":{\"outlinewidth\":0,\"ticks\":\"\"},\"colorscale\":[[0.0,\"#0d0887\"],[0.1111111111111111,\"#46039f\"],[0.2222222222222222,\"#7201a8\"],[0.3333333333333333,\"#9c179e\"],[0.4444444444444444,\"#bd3786\"],[0.5555555555555556,\"#d8576b\"],[0.6666666666666666,\"#ed7953\"],[0.7777777777777778,\"#fb9f3a\"],[0.8888888888888888,\"#fdca26\"],[1.0,\"#f0f921\"]],\"type\":\"histogram2d\"}],\"histogram\":[{\"marker\":{\"pattern\":{\"fillmode\":\"overlay\",\"size\":10,\"solidity\":0.2}},\"type\":\"histogram\"}],\"mesh3d\":[{\"colorbar\":{\"outlinewidth\":0,\"ticks\":\"\"},\"type\":\"mesh3d\"}],\"parcoords\":[{\"line\":{\"colorbar\":{\"outlinewidth\":0,\"ticks\":\"\"}},\"type\":\"parcoords\"}],\"pie\":[{\"automargin\":true,\"type\":\"pie\"}],\"scatter3d\":[{\"line\":{\"colorbar\":{\"outlinewidth\":0,\"ticks\":\"\"}},\"marker\":{\"colorbar\":{\"outlinewidth\":0,\"ticks\":\"\"}},\"type\":\"scatter3d\"}],\"scattercarpet\":[{\"marker\":{\"colorbar\":{\"outlinewidth\":0,\"ticks\":\"\"}},\"type\":\"scattercarpet\"}],\"scattergeo\":[{\"marker\":{\"colorbar\":{\"outlinewidth\":0,\"ticks\":\"\"}},\"type\":\"scattergeo\"}],\"scattergl\":[{\"marker\":{\"colorbar\":{\"outlinewidth\":0,\"ticks\":\"\"}},\"type\":\"scattergl\"}],\"scattermapbox\":[{\"marker\":{\"colorbar\":{\"outlinewidth\":0,\"ticks\":\"\"}},\"type\":\"scattermapbox\"}],\"scatterpolargl\":[{\"marker\":{\"colorbar\":{\"outlinewidth\":0,\"ticks\":\"\"}},\"type\":\"scatterpolargl\"}],\"scatterpolar\":[{\"marker\":{\"colorbar\":{\"outlinewidth\":0,\"ticks\":\"\"}},\"type\":\"scatterpolar\"}],\"scatter\":[{\"fillpattern\":{\"fillmode\":\"overlay\",\"size\":10,\"solidity\":0.2},\"type\":\"scatter\"}],\"scatterternary\":[{\"marker\":{\"colorbar\":{\"outlinewidth\":0,\"ticks\":\"\"}},\"type\":\"scatterternary\"}],\"surface\":[{\"colorbar\":{\"outlinewidth\":0,\"ticks\":\"\"},\"colorscale\":[[0.0,\"#0d0887\"],[0.1111111111111111,\"#46039f\"],[0.2222222222222222,\"#7201a8\"],[0.3333333333333333,\"#9c179e\"],[0.4444444444444444,\"#bd3786\"],[0.5555555555555556,\"#d8576b\"],[0.6666666666666666,\"#ed7953\"],[0.7777777777777778,\"#fb9f3a\"],[0.8888888888888888,\"#fdca26\"],[1.0,\"#f0f921\"]],\"type\":\"surface\"}],\"table\":[{\"cells\":{\"fill\":{\"color\":\"#EBF0F8\"},\"line\":{\"color\":\"white\"}},\"header\":{\"fill\":{\"color\":\"#C8D4E3\"},\"line\":{\"color\":\"white\"}},\"type\":\"table\"}]},\"layout\":{\"annotationdefaults\":{\"arrowcolor\":\"#2a3f5f\",\"arrowhead\":0,\"arrowwidth\":1},\"autotypenumbers\":\"strict\",\"coloraxis\":{\"colorbar\":{\"outlinewidth\":0,\"ticks\":\"\"}},\"colorscale\":{\"diverging\":[[0,\"#8e0152\"],[0.1,\"#c51b7d\"],[0.2,\"#de77ae\"],[0.3,\"#f1b6da\"],[0.4,\"#fde0ef\"],[0.5,\"#f7f7f7\"],[0.6,\"#e6f5d0\"],[0.7,\"#b8e186\"],[0.8,\"#7fbc41\"],[0.9,\"#4d9221\"],[1,\"#276419\"]],\"sequential\":[[0.0,\"#0d0887\"],[0.1111111111111111,\"#46039f\"],[0.2222222222222222,\"#7201a8\"],[0.3333333333333333,\"#9c179e\"],[0.4444444444444444,\"#bd3786\"],[0.5555555555555556,\"#d8576b\"],[0.6666666666666666,\"#ed7953\"],[0.7777777777777778,\"#fb9f3a\"],[0.8888888888888888,\"#fdca26\"],[1.0,\"#f0f921\"]],\"sequentialminus\":[[0.0,\"#0d0887\"],[0.1111111111111111,\"#46039f\"],[0.2222222222222222,\"#7201a8\"],[0.3333333333333333,\"#9c179e\"],[0.4444444444444444,\"#bd3786\"],[0.5555555555555556,\"#d8576b\"],[0.6666666666666666,\"#ed7953\"],[0.7777777777777778,\"#fb9f3a\"],[0.8888888888888888,\"#fdca26\"],[1.0,\"#f0f921\"]]},\"colorway\":[\"#636efa\",\"#EF553B\",\"#00cc96\",\"#ab63fa\",\"#FFA15A\",\"#19d3f3\",\"#FF6692\",\"#B6E880\",\"#FF97FF\",\"#FECB52\"],\"font\":{\"color\":\"#2a3f5f\"},\"geo\":{\"bgcolor\":\"white\",\"lakecolor\":\"white\",\"landcolor\":\"#E5ECF6\",\"showlakes\":true,\"showland\":true,\"subunitcolor\":\"white\"},\"hoverlabel\":{\"align\":\"left\"},\"hovermode\":\"closest\",\"mapbox\":{\"style\":\"light\"},\"paper_bgcolor\":\"white\",\"plot_bgcolor\":\"#E5ECF6\",\"polar\":{\"angularaxis\":{\"gridcolor\":\"white\",\"linecolor\":\"white\",\"ticks\":\"\"},\"bgcolor\":\"#E5ECF6\",\"radialaxis\":{\"gridcolor\":\"white\",\"linecolor\":\"white\",\"ticks\":\"\"}},\"scene\":{\"xaxis\":{\"backgroundcolor\":\"#E5ECF6\",\"gridcolor\":\"white\",\"gridwidth\":2,\"linecolor\":\"white\",\"showbackground\":true,\"ticks\":\"\",\"zerolinecolor\":\"white\"},\"yaxis\":{\"backgroundcolor\":\"#E5ECF6\",\"gridcolor\":\"white\",\"gridwidth\":2,\"linecolor\":\"white\",\"showbackground\":true,\"ticks\":\"\",\"zerolinecolor\":\"white\"},\"zaxis\":{\"backgroundcolor\":\"#E5ECF6\",\"gridcolor\":\"white\",\"gridwidth\":2,\"linecolor\":\"white\",\"showbackground\":true,\"ticks\":\"\",\"zerolinecolor\":\"white\"}},\"shapedefaults\":{\"line\":{\"color\":\"#2a3f5f\"}},\"ternary\":{\"aaxis\":{\"gridcolor\":\"white\",\"linecolor\":\"white\",\"ticks\":\"\"},\"baxis\":{\"gridcolor\":\"white\",\"linecolor\":\"white\",\"ticks\":\"\"},\"bgcolor\":\"#E5ECF6\",\"caxis\":{\"gridcolor\":\"white\",\"linecolor\":\"white\",\"ticks\":\"\"}},\"title\":{\"x\":0.05},\"xaxis\":{\"automargin\":true,\"gridcolor\":\"white\",\"linecolor\":\"white\",\"ticks\":\"\",\"title\":{\"standoff\":15},\"zerolinecolor\":\"white\",\"zerolinewidth\":2},\"yaxis\":{\"automargin\":true,\"gridcolor\":\"white\",\"linecolor\":\"white\",\"ticks\":\"\",\"title\":{\"standoff\":15},\"zerolinecolor\":\"white\",\"zerolinewidth\":2}}},\"title\":{\"text\":\"Vida de Jugadores de Lost Ark\"}},                        {\"responsive\": true}                    ).then(function(){\n",
       "                            \n",
       "var gd = document.getElementById('1df17a92-f987-4b7a-a6a3-2a84b1063610');\n",
       "var x = new MutationObserver(function (mutations, observer) {{\n",
       "        var display = window.getComputedStyle(gd).display;\n",
       "        if (!display || display === 'none') {{\n",
       "            console.log([gd, 'removed!']);\n",
       "            Plotly.purge(gd);\n",
       "            observer.disconnect();\n",
       "        }}\n",
       "}});\n",
       "\n",
       "// Listen for the removal of the full notebook cells\n",
       "var notebookContainer = gd.closest('#notebook-container');\n",
       "if (notebookContainer) {{\n",
       "    x.observe(notebookContainer, {childList: true});\n",
       "}}\n",
       "\n",
       "// Listen for the clearing of the current output cell\n",
       "var outputEl = gd.closest('.output');\n",
       "if (outputEl) {{\n",
       "    x.observe(outputEl, {childList: true});\n",
       "}}\n",
       "\n",
       "                        })                };                });            </script>        </div>"
      ]
     },
     "metadata": {},
     "output_type": "display_data"
    }
   ],
   "source": [
    "layout = dict(plot_bgcolor='black',\n",
    "              xaxis=dict(title='Año',\n",
    "                         range=[0.9, 5.5],\n",
    "                         linecolor='#d9d9d9',\n",
    "                         showgrid=False,\n",
    "                         mirror=True),\n",
    "              yaxis=dict(title='Jugadores',\n",
    "                         range=[95.5, 99.5],\n",
    "                         linecolor='#d9d9d9',\n",
    "                         showgrid=False,\n",
    "                         mirror=True))\n",
    "\n",
    "\n",
    "trace1 = go.Scatter(\n",
    "                    x = jugadores_LA[\"DateTime\"],\n",
    "                    y = jugadores_LA[\"Players\"],\n",
    "                    name = 'citations',\n",
    "                    mode= 'lines',\n",
    "                    marker = dict(color = 'rgba(16, 112, 2, 0.8)'))\n",
    "\n",
    "data = [trace1]\n",
    "\n",
    "layout = go.Layout(barmode = \"group\", title=\"Vida de Jugadores de Lost Ark\")\n",
    "\n",
    "fig2 = go.Figure(data = data, layout = layout)\n",
    "\n",
    "\n",
    "iplot(fig2)"
   ]
  },
  {
   "cell_type": "code",
   "execution_count": 87,
   "metadata": {},
   "outputs": [
    {
     "data": {
      "text/html": [
       "<div>\n",
       "<style scoped>\n",
       "    .dataframe tbody tr th:only-of-type {\n",
       "        vertical-align: middle;\n",
       "    }\n",
       "\n",
       "    .dataframe tbody tr th {\n",
       "        vertical-align: top;\n",
       "    }\n",
       "\n",
       "    .dataframe thead th {\n",
       "        text-align: right;\n",
       "    }\n",
       "</style>\n",
       "<table border=\"1\" class=\"dataframe\">\n",
       "  <thead>\n",
       "    <tr style=\"text-align: right;\">\n",
       "      <th></th>\n",
       "      <th>DateTime</th>\n",
       "      <th>Players</th>\n",
       "    </tr>\n",
       "  </thead>\n",
       "  <tbody>\n",
       "    <tr>\n",
       "      <th>29</th>\n",
       "      <td>2022-03-09 00:00:00</td>\n",
       "      <td>805722</td>\n",
       "    </tr>\n",
       "    <tr>\n",
       "      <th>111</th>\n",
       "      <td>2022-05-30 00:00:00</td>\n",
       "      <td>801364</td>\n",
       "    </tr>\n",
       "    <tr>\n",
       "      <th>118</th>\n",
       "      <td>2022-06-06 00:00:00</td>\n",
       "      <td>819349</td>\n",
       "    </tr>\n",
       "    <tr>\n",
       "      <th>119</th>\n",
       "      <td>2022-06-07 00:00:00</td>\n",
       "      <td>829155</td>\n",
       "    </tr>\n",
       "    <tr>\n",
       "      <th>120</th>\n",
       "      <td>2022-06-08 00:00:00</td>\n",
       "      <td>837419</td>\n",
       "    </tr>\n",
       "    <tr>\n",
       "      <th>122</th>\n",
       "      <td>2022-06-10 00:00:00</td>\n",
       "      <td>800400</td>\n",
       "    </tr>\n",
       "    <tr>\n",
       "      <th>123</th>\n",
       "      <td>2022-06-11 00:00:00</td>\n",
       "      <td>843598</td>\n",
       "    </tr>\n",
       "    <tr>\n",
       "      <th>124</th>\n",
       "      <td>2022-06-12 00:00:00</td>\n",
       "      <td>885968</td>\n",
       "    </tr>\n",
       "    <tr>\n",
       "      <th>125</th>\n",
       "      <td>2022-06-13 00:00:00</td>\n",
       "      <td>880727</td>\n",
       "    </tr>\n",
       "    <tr>\n",
       "      <th>126</th>\n",
       "      <td>2022-06-14 00:00:00</td>\n",
       "      <td>873694</td>\n",
       "    </tr>\n",
       "  </tbody>\n",
       "</table>\n",
       "</div>"
      ],
      "text/plain": [
       "                DateTime  Players\n",
       "29   2022-03-09 00:00:00   805722\n",
       "111  2022-05-30 00:00:00   801364\n",
       "118  2022-06-06 00:00:00   819349\n",
       "119  2022-06-07 00:00:00   829155\n",
       "120  2022-06-08 00:00:00   837419\n",
       "122  2022-06-10 00:00:00   800400\n",
       "123  2022-06-11 00:00:00   843598\n",
       "124  2022-06-12 00:00:00   885968\n",
       "125  2022-06-13 00:00:00   880727\n",
       "126  2022-06-14 00:00:00   873694"
      ]
     },
     "execution_count": 87,
     "metadata": {},
     "output_type": "execute_result"
    }
   ],
   "source": [
    "#Podemos ver que los jugadores bajan a lo largo del tiempo, lo cual es normal, pero hay una bajada enorme...\n",
    "#Buscando en google: pongo literalmente \"Lost Ark Lost Players\"\n",
    "#salta noticia: \"Lost Ark Loses Two Thirds Of Players After Bot Bans\" con fecha del 12 de enero de 2023.\n",
    "#vamos a filtrar por mas de 800k\n",
    "#Usaremos los indexes de la grafica para situarnos.\n",
    "jugadores_LA[jugadores_LA[\"Players\"] > 800000].tail(10)\n",
    "#Usando la fecha me sale nueva informacion, en concreto, el primer ban wave fue el 14 de junio de 2022, y se banearon en teoria, mas 1 millon de bots, en jugadores, fue una perdida de aprox 600K."
   ]
  },
  {
   "cell_type": "code",
   "execution_count": 88,
   "metadata": {},
   "outputs": [
    {
     "data": {
      "text/html": [
       "<div>\n",
       "<style scoped>\n",
       "    .dataframe tbody tr th:only-of-type {\n",
       "        vertical-align: middle;\n",
       "    }\n",
       "\n",
       "    .dataframe tbody tr th {\n",
       "        vertical-align: top;\n",
       "    }\n",
       "\n",
       "    .dataframe thead th {\n",
       "        text-align: right;\n",
       "    }\n",
       "</style>\n",
       "<table border=\"1\" class=\"dataframe\">\n",
       "  <thead>\n",
       "    <tr style=\"text-align: right;\">\n",
       "      <th></th>\n",
       "      <th>DateTime</th>\n",
       "      <th>Players</th>\n",
       "    </tr>\n",
       "  </thead>\n",
       "  <tbody>\n",
       "    <tr>\n",
       "      <th>395</th>\n",
       "      <td>2023-03-10 00:00:00</td>\n",
       "      <td>164439</td>\n",
       "    </tr>\n",
       "    <tr>\n",
       "      <th>396</th>\n",
       "      <td>2023-03-11 00:00:00</td>\n",
       "      <td>143495</td>\n",
       "    </tr>\n",
       "    <tr>\n",
       "      <th>397</th>\n",
       "      <td>2023-03-12 00:00:00</td>\n",
       "      <td>134072</td>\n",
       "    </tr>\n",
       "    <tr>\n",
       "      <th>398</th>\n",
       "      <td>2023-03-13 00:00:00</td>\n",
       "      <td>127417</td>\n",
       "    </tr>\n",
       "    <tr>\n",
       "      <th>399</th>\n",
       "      <td>2023-03-14 00:00:00</td>\n",
       "      <td>110921</td>\n",
       "    </tr>\n",
       "    <tr>\n",
       "      <th>...</th>\n",
       "      <td>...</td>\n",
       "      <td>...</td>\n",
       "    </tr>\n",
       "    <tr>\n",
       "      <th>613</th>\n",
       "      <td>2023-10-14 00:00:00</td>\n",
       "      <td>51541</td>\n",
       "    </tr>\n",
       "    <tr>\n",
       "      <th>614</th>\n",
       "      <td>2023-10-15 00:00:00</td>\n",
       "      <td>48581</td>\n",
       "    </tr>\n",
       "    <tr>\n",
       "      <th>615</th>\n",
       "      <td>2023-10-16 00:00:00</td>\n",
       "      <td>45089</td>\n",
       "    </tr>\n",
       "    <tr>\n",
       "      <th>616</th>\n",
       "      <td>2023-10-17 00:00:00</td>\n",
       "      <td>41800</td>\n",
       "    </tr>\n",
       "    <tr>\n",
       "      <th>617</th>\n",
       "      <td>2023-10-18 00:00:00</td>\n",
       "      <td>52358</td>\n",
       "    </tr>\n",
       "  </tbody>\n",
       "</table>\n",
       "<p>223 rows × 2 columns</p>\n",
       "</div>"
      ],
      "text/plain": [
       "                DateTime  Players\n",
       "395  2023-03-10 00:00:00   164439\n",
       "396  2023-03-11 00:00:00   143495\n",
       "397  2023-03-12 00:00:00   134072\n",
       "398  2023-03-13 00:00:00   127417\n",
       "399  2023-03-14 00:00:00   110921\n",
       "..                   ...      ...\n",
       "613  2023-10-14 00:00:00    51541\n",
       "614  2023-10-15 00:00:00    48581\n",
       "615  2023-10-16 00:00:00    45089\n",
       "616  2023-10-17 00:00:00    41800\n",
       "617  2023-10-18 00:00:00    52358\n",
       "\n",
       "[223 rows x 2 columns]"
      ]
     },
     "execution_count": 88,
     "metadata": {},
     "output_type": "execute_result"
    }
   ],
   "source": [
    "jugadores_LA.iloc[395:]"
   ]
  },
  {
   "cell_type": "code",
   "execution_count": 89,
   "metadata": {},
   "outputs": [],
   "source": [
    "#La segunda es del 01-11, o sea 11 de enero.\n",
    "#Esa caida tan brusca, se debio a que habia un total de 200k bots.\n",
    "#Vemos que luego hay datos del 03-15 y de ahi ya continuan..."
   ]
  },
  {
   "cell_type": "code",
   "execution_count": 90,
   "metadata": {},
   "outputs": [],
   "source": [
    "#Esto es un claro ejemplo de como una mala gestion y el abuso de bots, puede hacer que la comunidad se vaya.\n",
    "#Ademas, el contenido de Lost Ark se fue haciendo mas dificil con el tiempo, eso tambien influyo bastante."
   ]
  },
  {
   "cell_type": "code",
   "execution_count": 91,
   "metadata": {},
   "outputs": [],
   "source": [
    "#Terminemos con Elden Ring\n",
    "\n",
    "jugadores_ER = pd.read_csv(\"../Datos procesados/Elden Ring vida jugadores.csv\")\n",
    "jugadores_ER = jugadores_ER.drop([\"Unnamed: 0\"], axis=1)"
   ]
  },
  {
   "cell_type": "code",
   "execution_count": 92,
   "metadata": {},
   "outputs": [],
   "source": [
    "#De Elden Ring, solo destacar su lanzamiento, tambien un monton de jugadores.\n",
    "#Lo curioso, al ser multijugador, pero sin contenido constante como es un MMO, tiene mas jugadores que lost ark.\n",
    "#Elden Ring solo tuvo varios ajustes de balanceo y demas, pero por lo general, todo buenas decisiones."
   ]
  },
  {
   "cell_type": "code",
   "execution_count": 93,
   "metadata": {},
   "outputs": [
    {
     "data": {
      "application/vnd.plotly.v1+json": {
       "config": {
        "linkText": "Export to plot.ly",
        "plotlyServerURL": "https://plot.ly",
        "showLink": false
       },
       "data": [
        {
         "marker": {
          "color": "rgba(16, 112, 2, 0.8)"
         },
         "mode": "lines",
         "name": "citations",
         "type": "scatter",
         "x": [
          "2022-02-24 00:00:00",
          "2022-02-25 00:00:00",
          "2022-02-26 00:00:00",
          "2022-02-27 00:00:00",
          "2022-02-28 00:00:00",
          "2022-03-01 00:00:00",
          "2022-03-02 00:00:00",
          "2022-03-03 00:00:00",
          "2022-03-04 00:00:00",
          "2022-03-05 00:00:00",
          "2022-03-06 00:00:00",
          "2022-03-07 00:00:00",
          "2022-03-08 00:00:00",
          "2022-03-09 00:00:00",
          "2022-03-10 00:00:00",
          "2022-03-11 00:00:00",
          "2022-03-12 00:00:00",
          "2022-03-13 00:00:00",
          "2022-03-14 00:00:00",
          "2022-03-15 00:00:00",
          "2022-03-16 00:00:00",
          "2022-03-17 00:00:00",
          "2022-03-18 00:00:00",
          "2022-03-19 00:00:00",
          "2022-03-20 00:00:00",
          "2022-03-21 00:00:00",
          "2022-03-22 00:00:00",
          "2022-03-23 00:00:00",
          "2022-03-24 00:00:00",
          "2022-03-25 00:00:00",
          "2022-03-26 00:00:00",
          "2022-03-27 00:00:00",
          "2022-03-28 00:00:00",
          "2022-03-29 00:00:00",
          "2022-03-30 00:00:00",
          "2022-03-31 00:00:00",
          "2022-04-01 00:00:00",
          "2022-04-02 00:00:00",
          "2022-04-03 00:00:00",
          "2022-04-04 00:00:00",
          "2022-04-05 00:00:00",
          "2022-04-06 00:00:00",
          "2022-04-07 00:00:00",
          "2022-04-08 00:00:00",
          "2022-04-09 00:00:00",
          "2022-04-10 00:00:00",
          "2022-04-11 00:00:00",
          "2022-04-12 00:00:00",
          "2022-04-13 00:00:00",
          "2022-04-14 00:00:00",
          "2022-04-15 00:00:00",
          "2022-04-16 00:00:00",
          "2022-04-17 00:00:00",
          "2022-04-18 00:00:00",
          "2022-04-19 00:00:00",
          "2022-04-20 00:00:00",
          "2022-04-21 00:00:00",
          "2022-04-22 00:00:00",
          "2022-04-23 00:00:00",
          "2022-04-24 00:00:00",
          "2022-04-25 00:00:00",
          "2022-04-26 00:00:00",
          "2022-04-27 00:00:00",
          "2022-04-28 00:00:00",
          "2022-04-29 00:00:00",
          "2022-04-30 00:00:00",
          "2022-05-01 00:00:00",
          "2022-05-02 00:00:00",
          "2022-05-03 00:00:00",
          "2022-05-04 00:00:00",
          "2022-05-05 00:00:00",
          "2022-05-06 00:00:00",
          "2022-05-07 00:00:00",
          "2022-05-08 00:00:00",
          "2022-05-09 00:00:00",
          "2022-05-10 00:00:00",
          "2022-05-11 00:00:00",
          "2022-05-12 00:00:00",
          "2022-05-13 00:00:00",
          "2022-05-14 00:00:00",
          "2022-05-15 00:00:00",
          "2022-05-16 00:00:00",
          "2022-05-17 00:00:00",
          "2022-05-18 00:00:00",
          "2022-05-19 00:00:00",
          "2022-05-20 00:00:00",
          "2022-05-21 00:00:00",
          "2022-05-22 00:00:00",
          "2022-05-23 00:00:00",
          "2022-05-24 00:00:00",
          "2022-05-25 00:00:00",
          "2022-05-26 00:00:00",
          "2022-05-27 00:00:00",
          "2022-05-28 00:00:00",
          "2022-05-29 00:00:00",
          "2022-05-30 00:00:00",
          "2022-05-31 00:00:00",
          "2022-06-01 00:00:00",
          "2022-06-02 00:00:00",
          "2022-06-03 00:00:00",
          "2022-06-04 00:00:00",
          "2022-06-05 00:00:00",
          "2022-06-06 00:00:00",
          "2022-06-07 00:00:00",
          "2022-06-08 00:00:00",
          "2022-06-09 00:00:00",
          "2022-06-10 00:00:00",
          "2022-06-11 00:00:00",
          "2022-06-12 00:00:00",
          "2022-06-13 00:00:00",
          "2022-06-14 00:00:00",
          "2022-06-15 00:00:00",
          "2022-06-16 00:00:00",
          "2022-06-17 00:00:00",
          "2022-06-18 00:00:00",
          "2022-06-19 00:00:00",
          "2022-06-20 00:00:00",
          "2022-06-21 00:00:00",
          "2022-06-22 00:00:00",
          "2022-06-23 00:00:00",
          "2022-06-24 00:00:00",
          "2022-06-25 00:00:00",
          "2022-06-26 00:00:00",
          "2022-06-27 00:00:00",
          "2022-06-28 00:00:00",
          "2022-06-29 00:00:00",
          "2022-06-30 00:00:00",
          "2022-07-01 00:00:00",
          "2022-07-02 00:00:00",
          "2022-07-03 00:00:00",
          "2022-07-04 00:00:00",
          "2022-07-05 00:00:00",
          "2022-07-06 00:00:00",
          "2022-07-07 00:00:00",
          "2022-07-08 00:00:00",
          "2022-07-09 00:00:00",
          "2022-07-10 00:00:00",
          "2022-07-11 00:00:00",
          "2022-07-12 00:00:00",
          "2022-07-13 00:00:00",
          "2022-07-14 00:00:00",
          "2022-07-15 00:00:00",
          "2022-07-16 00:00:00",
          "2022-07-17 00:00:00",
          "2022-07-18 00:00:00",
          "2022-07-19 00:00:00",
          "2022-07-20 00:00:00",
          "2022-07-21 00:00:00",
          "2022-07-22 00:00:00",
          "2022-07-23 00:00:00",
          "2022-07-24 00:00:00",
          "2022-07-25 00:00:00",
          "2022-07-26 00:00:00",
          "2022-07-27 00:00:00",
          "2022-07-28 00:00:00",
          "2022-07-29 00:00:00",
          "2022-07-30 00:00:00",
          "2022-07-31 00:00:00",
          "2022-08-01 00:00:00",
          "2022-08-02 00:00:00",
          "2022-08-03 00:00:00",
          "2022-08-04 00:00:00",
          "2022-08-05 00:00:00",
          "2022-08-06 00:00:00",
          "2022-08-07 00:00:00",
          "2022-08-08 00:00:00",
          "2022-08-09 00:00:00",
          "2022-08-10 00:00:00",
          "2022-08-11 00:00:00",
          "2022-08-12 00:00:00",
          "2022-08-13 00:00:00",
          "2022-08-14 00:00:00",
          "2022-08-15 00:00:00",
          "2022-08-16 00:00:00",
          "2022-08-17 00:00:00",
          "2022-08-18 00:00:00",
          "2022-08-19 00:00:00",
          "2022-08-20 00:00:00",
          "2022-08-21 00:00:00",
          "2022-08-22 00:00:00",
          "2022-08-23 00:00:00",
          "2022-08-24 00:00:00",
          "2022-08-25 00:00:00",
          "2022-08-26 00:00:00",
          "2022-08-27 00:00:00",
          "2022-08-28 00:00:00",
          "2022-08-29 00:00:00",
          "2022-08-30 00:00:00",
          "2022-08-31 00:00:00",
          "2022-09-01 00:00:00",
          "2022-09-02 00:00:00",
          "2022-09-03 00:00:00",
          "2022-09-04 00:00:00",
          "2022-09-05 00:00:00",
          "2022-09-06 00:00:00",
          "2022-09-07 00:00:00",
          "2022-09-08 00:00:00",
          "2022-09-09 00:00:00",
          "2022-09-10 00:00:00",
          "2022-09-11 00:00:00",
          "2022-09-12 00:00:00",
          "2022-09-13 00:00:00",
          "2022-09-14 00:00:00",
          "2022-09-15 00:00:00",
          "2022-09-16 00:00:00",
          "2022-09-17 00:00:00",
          "2022-09-18 00:00:00",
          "2022-09-19 00:00:00",
          "2022-09-20 00:00:00",
          "2022-09-21 00:00:00",
          "2022-09-22 00:00:00",
          "2022-09-23 00:00:00",
          "2022-09-24 00:00:00",
          "2022-09-25 00:00:00",
          "2022-09-26 00:00:00",
          "2022-09-27 00:00:00",
          "2022-09-28 00:00:00",
          "2022-09-29 00:00:00",
          "2022-09-30 00:00:00",
          "2022-10-01 00:00:00",
          "2022-10-02 00:00:00",
          "2022-10-03 00:00:00",
          "2022-10-04 00:00:00",
          "2022-10-05 00:00:00",
          "2022-10-06 00:00:00",
          "2022-10-07 00:00:00",
          "2022-10-08 00:00:00",
          "2022-10-09 00:00:00",
          "2022-10-10 00:00:00",
          "2022-10-11 00:00:00",
          "2022-10-12 00:00:00",
          "2022-10-13 00:00:00",
          "2022-10-14 00:00:00",
          "2022-10-15 00:00:00",
          "2022-10-16 00:00:00",
          "2022-10-17 00:00:00",
          "2022-10-18 00:00:00",
          "2022-10-19 00:00:00",
          "2022-10-20 00:00:00",
          "2022-10-21 00:00:00",
          "2022-10-22 00:00:00",
          "2022-10-23 00:00:00",
          "2022-10-24 00:00:00",
          "2022-10-25 00:00:00",
          "2022-10-26 00:00:00",
          "2022-10-27 00:00:00",
          "2022-10-28 00:00:00",
          "2022-10-29 00:00:00",
          "2022-10-30 00:00:00",
          "2022-10-31 00:00:00",
          "2022-11-01 00:00:00",
          "2022-11-02 00:00:00",
          "2022-11-03 00:00:00",
          "2022-11-04 00:00:00",
          "2022-11-05 00:00:00",
          "2022-11-06 00:00:00",
          "2022-11-07 00:00:00",
          "2022-11-08 00:00:00",
          "2022-11-09 00:00:00",
          "2022-11-10 00:00:00",
          "2022-11-11 00:00:00",
          "2022-11-12 00:00:00",
          "2022-11-13 00:00:00",
          "2022-11-14 00:00:00",
          "2022-11-15 00:00:00",
          "2022-11-16 00:00:00",
          "2022-11-17 00:00:00",
          "2022-11-18 00:00:00",
          "2022-11-19 00:00:00",
          "2022-11-20 00:00:00",
          "2022-11-21 00:00:00",
          "2022-11-22 00:00:00",
          "2022-11-23 00:00:00",
          "2022-11-24 00:00:00",
          "2022-11-25 00:00:00",
          "2022-11-26 00:00:00",
          "2022-11-27 00:00:00",
          "2022-11-28 00:00:00",
          "2022-11-29 00:00:00",
          "2022-11-30 00:00:00",
          "2022-12-01 00:00:00",
          "2022-12-02 00:00:00",
          "2022-12-03 00:00:00",
          "2022-12-04 00:00:00",
          "2022-12-05 00:00:00",
          "2022-12-06 00:00:00",
          "2022-12-07 00:00:00",
          "2022-12-08 00:00:00",
          "2022-12-09 00:00:00",
          "2022-12-10 00:00:00",
          "2022-12-11 00:00:00",
          "2022-12-12 00:00:00",
          "2022-12-13 00:00:00",
          "2022-12-14 00:00:00",
          "2022-12-15 00:00:00",
          "2022-12-16 00:00:00",
          "2022-12-17 00:00:00",
          "2022-12-18 00:00:00",
          "2022-12-19 00:00:00",
          "2022-12-20 00:00:00",
          "2022-12-21 00:00:00",
          "2022-12-22 00:00:00",
          "2022-12-23 00:00:00",
          "2022-12-24 00:00:00",
          "2022-12-25 00:00:00",
          "2022-12-26 00:00:00",
          "2022-12-27 00:00:00",
          "2022-12-28 00:00:00",
          "2022-12-29 00:00:00",
          "2022-12-30 00:00:00",
          "2022-12-31 00:00:00",
          "2023-01-01 00:00:00",
          "2023-01-02 00:00:00",
          "2023-01-03 00:00:00",
          "2023-01-04 00:00:00",
          "2023-01-05 00:00:00",
          "2023-01-06 00:00:00",
          "2023-01-07 00:00:00",
          "2023-01-08 00:00:00",
          "2023-01-09 00:00:00",
          "2023-01-10 00:00:00",
          "2023-01-11 00:00:00",
          "2023-01-12 00:00:00",
          "2023-01-13 00:00:00",
          "2023-01-14 00:00:00",
          "2023-01-15 00:00:00",
          "2023-01-16 00:00:00",
          "2023-01-17 00:00:00",
          "2023-01-18 00:00:00",
          "2023-01-19 00:00:00",
          "2023-01-20 00:00:00",
          "2023-01-21 00:00:00",
          "2023-01-22 00:00:00",
          "2023-01-23 00:00:00",
          "2023-01-24 00:00:00",
          "2023-01-25 00:00:00",
          "2023-01-26 00:00:00",
          "2023-01-27 00:00:00",
          "2023-01-28 00:00:00",
          "2023-01-29 00:00:00",
          "2023-01-30 00:00:00",
          "2023-01-31 00:00:00",
          "2023-02-01 00:00:00",
          "2023-02-02 00:00:00",
          "2023-02-03 00:00:00",
          "2023-02-04 00:00:00",
          "2023-02-05 00:00:00",
          "2023-02-06 00:00:00",
          "2023-02-07 00:00:00",
          "2023-02-08 00:00:00",
          "2023-02-09 00:00:00",
          "2023-02-10 00:00:00",
          "2023-02-11 00:00:00",
          "2023-02-12 00:00:00",
          "2023-02-13 00:00:00",
          "2023-02-14 00:00:00",
          "2023-02-15 00:00:00",
          "2023-02-16 00:00:00",
          "2023-02-17 00:00:00",
          "2023-02-18 00:00:00",
          "2023-02-19 00:00:00",
          "2023-02-20 00:00:00",
          "2023-02-21 00:00:00",
          "2023-02-22 00:00:00",
          "2023-02-23 00:00:00",
          "2023-02-24 00:00:00",
          "2023-02-25 00:00:00",
          "2023-02-26 00:00:00",
          "2023-02-27 00:00:00",
          "2023-02-28 00:00:00",
          "2023-03-01 00:00:00",
          "2023-03-02 00:00:00",
          "2023-03-03 00:00:00",
          "2023-03-04 00:00:00",
          "2023-03-05 00:00:00",
          "2023-03-06 00:00:00",
          "2023-03-07 00:00:00",
          "2023-03-08 00:00:00",
          "2023-03-09 00:00:00",
          "2023-03-10 00:00:00",
          "2023-03-11 00:00:00",
          "2023-03-12 00:00:00",
          "2023-03-13 00:00:00",
          "2023-03-14 00:00:00",
          "2023-03-15 00:00:00",
          "2023-03-16 00:00:00",
          "2023-03-17 00:00:00",
          "2023-03-18 00:00:00",
          "2023-03-19 00:00:00",
          "2023-03-20 00:00:00",
          "2023-03-21 00:00:00",
          "2023-03-22 00:00:00",
          "2023-03-23 00:00:00",
          "2023-03-24 00:00:00",
          "2023-03-25 00:00:00",
          "2023-03-26 00:00:00",
          "2023-03-27 00:00:00",
          "2023-03-28 00:00:00",
          "2023-03-29 00:00:00",
          "2023-03-30 00:00:00",
          "2023-03-31 00:00:00",
          "2023-04-01 00:00:00",
          "2023-04-02 00:00:00",
          "2023-04-03 00:00:00",
          "2023-04-04 00:00:00",
          "2023-04-05 00:00:00",
          "2023-04-06 00:00:00",
          "2023-04-07 00:00:00",
          "2023-04-08 00:00:00",
          "2023-04-09 00:00:00",
          "2023-04-10 00:00:00",
          "2023-04-11 00:00:00",
          "2023-04-12 00:00:00",
          "2023-04-13 00:00:00",
          "2023-04-14 00:00:00",
          "2023-04-15 00:00:00",
          "2023-04-16 00:00:00",
          "2023-04-17 00:00:00",
          "2023-04-18 00:00:00",
          "2023-04-19 00:00:00",
          "2023-04-20 00:00:00",
          "2023-04-21 00:00:00",
          "2023-04-22 00:00:00",
          "2023-04-23 00:00:00",
          "2023-04-24 00:00:00",
          "2023-04-25 00:00:00",
          "2023-04-26 00:00:00",
          "2023-04-27 00:00:00",
          "2023-04-28 00:00:00",
          "2023-04-29 00:00:00",
          "2023-04-30 00:00:00",
          "2023-05-01 00:00:00",
          "2023-05-02 00:00:00",
          "2023-05-03 00:00:00",
          "2023-05-04 00:00:00",
          "2023-05-05 00:00:00",
          "2023-05-06 00:00:00",
          "2023-05-07 00:00:00",
          "2023-05-08 00:00:00",
          "2023-05-09 00:00:00",
          "2023-05-10 00:00:00",
          "2023-05-11 00:00:00",
          "2023-05-12 00:00:00",
          "2023-05-13 00:00:00",
          "2023-05-14 00:00:00",
          "2023-05-15 00:00:00",
          "2023-05-16 00:00:00",
          "2023-05-17 00:00:00",
          "2023-05-18 00:00:00",
          "2023-05-19 00:00:00",
          "2023-05-20 00:00:00",
          "2023-05-21 00:00:00",
          "2023-05-22 00:00:00",
          "2023-05-23 00:00:00",
          "2023-05-24 00:00:00",
          "2023-05-25 00:00:00",
          "2023-05-26 00:00:00",
          "2023-05-27 00:00:00",
          "2023-05-28 00:00:00",
          "2023-05-29 00:00:00",
          "2023-05-30 00:00:00",
          "2023-05-31 00:00:00",
          "2023-06-01 00:00:00",
          "2023-06-02 00:00:00",
          "2023-06-03 00:00:00",
          "2023-06-04 00:00:00",
          "2023-06-05 00:00:00",
          "2023-06-06 00:00:00",
          "2023-06-07 00:00:00",
          "2023-06-08 00:00:00",
          "2023-06-09 00:00:00",
          "2023-06-10 00:00:00",
          "2023-06-11 00:00:00",
          "2023-06-12 00:00:00",
          "2023-06-13 00:00:00",
          "2023-06-14 00:00:00",
          "2023-06-15 00:00:00",
          "2023-06-16 00:00:00",
          "2023-06-17 00:00:00",
          "2023-06-18 00:00:00",
          "2023-06-19 00:00:00",
          "2023-06-20 00:00:00",
          "2023-06-21 00:00:00",
          "2023-06-22 00:00:00",
          "2023-06-23 00:00:00",
          "2023-06-24 00:00:00",
          "2023-06-25 00:00:00",
          "2023-06-26 00:00:00",
          "2023-06-27 00:00:00",
          "2023-06-28 00:00:00",
          "2023-06-29 00:00:00",
          "2023-06-30 00:00:00",
          "2023-07-01 00:00:00",
          "2023-07-02 00:00:00",
          "2023-07-03 00:00:00",
          "2023-07-04 00:00:00",
          "2023-07-05 00:00:00",
          "2023-07-06 00:00:00",
          "2023-07-07 00:00:00",
          "2023-07-08 00:00:00",
          "2023-07-09 00:00:00",
          "2023-07-10 00:00:00",
          "2023-07-11 00:00:00",
          "2023-07-12 00:00:00",
          "2023-07-13 00:00:00",
          "2023-07-14 00:00:00",
          "2023-07-15 00:00:00",
          "2023-07-16 00:00:00",
          "2023-07-17 00:00:00",
          "2023-07-18 00:00:00",
          "2023-07-19 00:00:00",
          "2023-07-20 00:00:00",
          "2023-07-21 00:00:00",
          "2023-07-22 00:00:00",
          "2023-07-23 00:00:00",
          "2023-07-24 00:00:00",
          "2023-07-25 00:00:00",
          "2023-07-26 00:00:00",
          "2023-07-27 00:00:00",
          "2023-07-28 00:00:00",
          "2023-07-29 00:00:00",
          "2023-07-30 00:00:00",
          "2023-07-31 00:00:00",
          "2023-08-01 00:00:00",
          "2023-08-02 00:00:00",
          "2023-08-03 00:00:00",
          "2023-08-04 00:00:00",
          "2023-08-05 00:00:00",
          "2023-08-06 00:00:00",
          "2023-08-07 00:00:00",
          "2023-08-08 00:00:00",
          "2023-08-09 00:00:00",
          "2023-08-10 00:00:00",
          "2023-08-11 00:00:00",
          "2023-08-12 00:00:00",
          "2023-08-13 00:00:00",
          "2023-08-14 00:00:00",
          "2023-08-15 00:00:00",
          "2023-08-16 00:00:00",
          "2023-08-17 00:00:00",
          "2023-08-18 00:00:00",
          "2023-08-19 00:00:00",
          "2023-08-20 00:00:00",
          "2023-08-21 00:00:00",
          "2023-08-22 00:00:00",
          "2023-08-23 00:00:00",
          "2023-08-24 00:00:00",
          "2023-08-25 00:00:00",
          "2023-08-26 00:00:00",
          "2023-08-27 00:00:00",
          "2023-08-28 00:00:00",
          "2023-08-29 00:00:00",
          "2023-08-30 00:00:00",
          "2023-08-31 00:00:00",
          "2023-09-01 00:00:00",
          "2023-09-02 00:00:00",
          "2023-09-03 00:00:00",
          "2023-09-04 00:00:00",
          "2023-09-05 00:00:00",
          "2023-09-06 00:00:00",
          "2023-09-07 00:00:00",
          "2023-09-08 00:00:00",
          "2023-09-09 00:00:00",
          "2023-09-10 00:00:00",
          "2023-09-11 00:00:00",
          "2023-09-12 00:00:00",
          "2023-09-13 00:00:00",
          "2023-09-14 00:00:00",
          "2023-09-15 00:00:00",
          "2023-09-16 00:00:00",
          "2023-09-17 00:00:00",
          "2023-09-18 00:00:00",
          "2023-09-19 00:00:00",
          "2023-09-20 00:00:00",
          "2023-09-21 00:00:00",
          "2023-09-22 00:00:00",
          "2023-09-23 00:00:00",
          "2023-09-24 00:00:00",
          "2023-09-25 00:00:00",
          "2023-09-26 00:00:00",
          "2023-09-27 00:00:00",
          "2023-09-28 00:00:00",
          "2023-09-29 00:00:00",
          "2023-09-30 00:00:00",
          "2023-10-01 00:00:00",
          "2023-10-02 00:00:00",
          "2023-10-03 00:00:00",
          "2023-10-04 00:00:00",
          "2023-10-05 00:00:00",
          "2023-10-06 00:00:00",
          "2023-10-07 00:00:00",
          "2023-10-08 00:00:00",
          "2023-10-09 00:00:00",
          "2023-10-10 00:00:00",
          "2023-10-11 00:00:00",
          "2023-10-12 00:00:00",
          "2023-10-13 00:00:00",
          "2023-10-14 00:00:00",
          "2023-10-15 00:00:00",
          "2023-10-16 00:00:00",
          "2023-10-17 00:00:00"
         ],
         "y": [
          559624,
          764835,
          861538,
          891638,
          819143,
          828001,
          823527,
          820921,
          858316,
          953426,
          944190,
          801048,
          779297,
          738122,
          703725,
          730458,
          825277,
          800301,
          635680,
          610847,
          589570,
          587284,
          611562,
          712336,
          694446,
          529881,
          507115,
          464532,
          468107,
          480052,
          563389,
          546667,
          414946,
          399484,
          378861,
          368498,
          375625,
          455103,
          457182,
          339322,
          317968,
          300169,
          287677,
          305294,
          367780,
          349862,
          258031,
          245836,
          234880,
          234557,
          269911,
          282119,
          266656,
          239831,
          198248,
          202328,
          196417,
          205469,
          238625,
          237493,
          172305,
          161863,
          151887,
          147793,
          156014,
          190421,
          193468,
          148370,
          139215,
          126122,
          122864,
          126523,
          158782,
          152245,
          110981,
          107748,
          102381,
          99343,
          106998,
          128222,
          127344,
          92721,
          88789,
          86217,
          83155,
          89290,
          108490,
          106427,
          81727,
          75594,
          73972,
          80599,
          82817,
          101265,
          99061,
          92058,
          73505,
          68870,
          71525,
          74568,
          87387,
          88609,
          73812,
          63803,
          62093,
          59878,
          62770,
          76917,
          77475,
          56575,
          54643,
          52494,
          54636,
          55629,
          66351,
          66906,
          55272,
          51013,
          48571,
          46994,
          49982,
          58560,
          60338,
          45795,
          44689,
          43418,
          42476,
          44977,
          51559,
          52405,
          49052,
          41274,
          40235,
          40219,
          41239,
          49357,
          51228,
          40782,
          39669,
          38827,
          39814,
          40931,
          48232,
          50686,
          39741,
          39266,
          37757,
          38334,
          40316,
          47304,
          49352,
          39401,
          39247,
          38561,
          38246,
          39789,
          46293,
          48106,
          38945,
          37343,
          37321,
          36960,
          39217,
          45096,
          47397,
          38506,
          34276,
          35418,
          35050,
          37830,
          42939,
          45151,
          38884,
          36056,
          35867,
          35167,
          37416,
          43930,
          46138,
          35746,
          35378,
          33021,
          32699,
          34801,
          41241,
          43177,
          34150,
          33560,
          32808,
          32101,
          34813,
          42524,
          44015,
          41589,
          32651,
          32718,
          31775,
          34133,
          42624,
          45475,
          31859,
          31387,
          31548,
          30927,
          33397,
          42458,
          43754,
          33364,
          31054,
          30494,
          30003,
          32171,
          40762,
          41979,
          29959,
          29528,
          29044,
          28096,
          30763,
          38442,
          39830,
          30427,
          28429,
          27373,
          27026,
          28048,
          34805,
          36653,
          27576,
          25667,
          26361,
          23752,
          28885,
          38217,
          39401,
          29579,
          29637,
          29083,
          29196,
          31471,
          38307,
          39319,
          29193,
          28742,
          28001,
          27499,
          29657,
          34934,
          34954,
          28209,
          29025,
          25710,
          25692,
          28158,
          35662,
          36004,
          25244,
          25385,
          25467,
          25160,
          29688,
          35679,
          35817,
          26412,
          27174,
          26755,
          25982,
          27963,
          34946,
          35579,
          26101,
          26744,
          26242,
          27238,
          29925,
          35682,
          36345,
          27038,
          26537,
          26979,
          26701,
          29223,
          36322,
          36774,
          27747,
          32942,
          32676,
          33179,
          37725,
          46193,
          47045,
          37142,
          36105,
          36199,
          35084,
          38188,
          45094,
          46097,
          38366,
          38488,
          38060,
          42476,
          53175,
          62290,
          64159,
          71354,
          73312,
          76364,
          79202,
          82864,
          85651,
          89723,
          91801,
          86631,
          88742,
          88151,
          93457,
          104312,
          106913,
          81045,
          79276,
          77078,
          73768,
          78714,
          95550,
          97376,
          76399,
          70212,
          68175,
          67643,
          69985,
          84579,
          87848,
          65610,
          64303,
          64506,
          63756,
          67368,
          83035,
          85483,
          62487,
          62378,
          61693,
          60643,
          66203,
          80705,
          82173,
          60131,
          57738,
          56027,
          55346,
          59413,
          72846,
          74140,
          56082,
          53496,
          53869,
          53763,
          58848,
          71668,
          71708,
          57887,
          53740,
          53730,
          54134,
          55361,
          67121,
          67335,
          50421,
          55189,
          55050,
          55532,
          60124,
          74131,
          74740,
          53807,
          54145,
          53279,
          51995,
          57180,
          70523,
          71543,
          52172,
          51828,
          51380,
          49925,
          53979,
          65288,
          65715,
          48532,
          47647,
          46180,
          41925,
          49453,
          59695,
          61855,
          46494,
          45767,
          44975,
          44684,
          48691,
          58457,
          59445,
          45291,
          47166,
          45090,
          45717,
          52364,
          55428,
          52760,
          50213,
          42467,
          41017,
          39691,
          43496,
          52158,
          51836,
          38321,
          36923,
          36584,
          36097,
          39789,
          46426,
          48967,
          36830,
          36068,
          32758,
          32122,
          34267,
          41783,
          43676,
          40361,
          31921,
          30916,
          31508,
          33930,
          43178,
          43846,
          34919,
          31837,
          30793,
          30088,
          32558,
          38122,
          38263,
          28691,
          28813,
          28575,
          30038,
          31166,
          36420,
          36887,
          28020,
          27566,
          26774,
          26577,
          29204,
          35042,
          35342,
          33901,
          27495,
          26947,
          26249,
          27818,
          32677,
          33545,
          26296,
          25368,
          24679,
          25851,
          26273,
          30805,
          31366,
          25086,
          24103,
          23868,
          23082,
          25001,
          29745,
          29793,
          24623,
          24203,
          24252,
          24233,
          25453,
          29001,
          30817,
          24927,
          25072,
          24122,
          23957,
          34701,
          44095,
          48446,
          44497,
          46512,
          45109,
          44781,
          47260,
          53546,
          55553,
          48361,
          48747,
          49016,
          49362,
          49961,
          55071,
          56869,
          48717,
          48379,
          46479,
          45382,
          45411,
          50369,
          51603,
          44154,
          43352,
          42581,
          42926,
          44497,
          49819,
          50677,
          43165,
          42618,
          41846,
          41135,
          40451,
          45275,
          46218,
          39367,
          38470,
          37054,
          36260,
          37030,
          41293,
          42458,
          36537,
          36616,
          33649,
          33314,
          34245,
          38415,
          40203,
          33921,
          33804,
          33701,
          33088,
          34156,
          38469,
          39998,
          33619,
          33450,
          32412,
          31322,
          32617,
          37065,
          37504,
          32509,
          30036,
          28779,
          28899,
          30655,
          35489,
          36531,
          28897,
          28315,
          28317,
          27549,
          29593,
          35065,
          36276,
          28025,
          27380,
          26954,
          26641,
          28182,
          34020,
          33765,
          26551,
          25803,
          25405,
          24201,
          24880,
          29925,
          31514,
          24532,
          25344,
          24653,
          24910,
          35366,
          49133,
          56348,
          50167,
          50318,
          50566,
          53336,
          56180,
          66989,
          66860,
          57215,
          56959
         ]
        }
       ],
       "layout": {
        "barmode": "group",
        "template": {
         "data": {
          "bar": [
           {
            "error_x": {
             "color": "#2a3f5f"
            },
            "error_y": {
             "color": "#2a3f5f"
            },
            "marker": {
             "line": {
              "color": "#E5ECF6",
              "width": 0.5
             },
             "pattern": {
              "fillmode": "overlay",
              "size": 10,
              "solidity": 0.2
             }
            },
            "type": "bar"
           }
          ],
          "barpolar": [
           {
            "marker": {
             "line": {
              "color": "#E5ECF6",
              "width": 0.5
             },
             "pattern": {
              "fillmode": "overlay",
              "size": 10,
              "solidity": 0.2
             }
            },
            "type": "barpolar"
           }
          ],
          "carpet": [
           {
            "aaxis": {
             "endlinecolor": "#2a3f5f",
             "gridcolor": "white",
             "linecolor": "white",
             "minorgridcolor": "white",
             "startlinecolor": "#2a3f5f"
            },
            "baxis": {
             "endlinecolor": "#2a3f5f",
             "gridcolor": "white",
             "linecolor": "white",
             "minorgridcolor": "white",
             "startlinecolor": "#2a3f5f"
            },
            "type": "carpet"
           }
          ],
          "choropleth": [
           {
            "colorbar": {
             "outlinewidth": 0,
             "ticks": ""
            },
            "type": "choropleth"
           }
          ],
          "contour": [
           {
            "colorbar": {
             "outlinewidth": 0,
             "ticks": ""
            },
            "colorscale": [
             [
              0,
              "#0d0887"
             ],
             [
              0.1111111111111111,
              "#46039f"
             ],
             [
              0.2222222222222222,
              "#7201a8"
             ],
             [
              0.3333333333333333,
              "#9c179e"
             ],
             [
              0.4444444444444444,
              "#bd3786"
             ],
             [
              0.5555555555555556,
              "#d8576b"
             ],
             [
              0.6666666666666666,
              "#ed7953"
             ],
             [
              0.7777777777777778,
              "#fb9f3a"
             ],
             [
              0.8888888888888888,
              "#fdca26"
             ],
             [
              1,
              "#f0f921"
             ]
            ],
            "type": "contour"
           }
          ],
          "contourcarpet": [
           {
            "colorbar": {
             "outlinewidth": 0,
             "ticks": ""
            },
            "type": "contourcarpet"
           }
          ],
          "heatmap": [
           {
            "colorbar": {
             "outlinewidth": 0,
             "ticks": ""
            },
            "colorscale": [
             [
              0,
              "#0d0887"
             ],
             [
              0.1111111111111111,
              "#46039f"
             ],
             [
              0.2222222222222222,
              "#7201a8"
             ],
             [
              0.3333333333333333,
              "#9c179e"
             ],
             [
              0.4444444444444444,
              "#bd3786"
             ],
             [
              0.5555555555555556,
              "#d8576b"
             ],
             [
              0.6666666666666666,
              "#ed7953"
             ],
             [
              0.7777777777777778,
              "#fb9f3a"
             ],
             [
              0.8888888888888888,
              "#fdca26"
             ],
             [
              1,
              "#f0f921"
             ]
            ],
            "type": "heatmap"
           }
          ],
          "heatmapgl": [
           {
            "colorbar": {
             "outlinewidth": 0,
             "ticks": ""
            },
            "colorscale": [
             [
              0,
              "#0d0887"
             ],
             [
              0.1111111111111111,
              "#46039f"
             ],
             [
              0.2222222222222222,
              "#7201a8"
             ],
             [
              0.3333333333333333,
              "#9c179e"
             ],
             [
              0.4444444444444444,
              "#bd3786"
             ],
             [
              0.5555555555555556,
              "#d8576b"
             ],
             [
              0.6666666666666666,
              "#ed7953"
             ],
             [
              0.7777777777777778,
              "#fb9f3a"
             ],
             [
              0.8888888888888888,
              "#fdca26"
             ],
             [
              1,
              "#f0f921"
             ]
            ],
            "type": "heatmapgl"
           }
          ],
          "histogram": [
           {
            "marker": {
             "pattern": {
              "fillmode": "overlay",
              "size": 10,
              "solidity": 0.2
             }
            },
            "type": "histogram"
           }
          ],
          "histogram2d": [
           {
            "colorbar": {
             "outlinewidth": 0,
             "ticks": ""
            },
            "colorscale": [
             [
              0,
              "#0d0887"
             ],
             [
              0.1111111111111111,
              "#46039f"
             ],
             [
              0.2222222222222222,
              "#7201a8"
             ],
             [
              0.3333333333333333,
              "#9c179e"
             ],
             [
              0.4444444444444444,
              "#bd3786"
             ],
             [
              0.5555555555555556,
              "#d8576b"
             ],
             [
              0.6666666666666666,
              "#ed7953"
             ],
             [
              0.7777777777777778,
              "#fb9f3a"
             ],
             [
              0.8888888888888888,
              "#fdca26"
             ],
             [
              1,
              "#f0f921"
             ]
            ],
            "type": "histogram2d"
           }
          ],
          "histogram2dcontour": [
           {
            "colorbar": {
             "outlinewidth": 0,
             "ticks": ""
            },
            "colorscale": [
             [
              0,
              "#0d0887"
             ],
             [
              0.1111111111111111,
              "#46039f"
             ],
             [
              0.2222222222222222,
              "#7201a8"
             ],
             [
              0.3333333333333333,
              "#9c179e"
             ],
             [
              0.4444444444444444,
              "#bd3786"
             ],
             [
              0.5555555555555556,
              "#d8576b"
             ],
             [
              0.6666666666666666,
              "#ed7953"
             ],
             [
              0.7777777777777778,
              "#fb9f3a"
             ],
             [
              0.8888888888888888,
              "#fdca26"
             ],
             [
              1,
              "#f0f921"
             ]
            ],
            "type": "histogram2dcontour"
           }
          ],
          "mesh3d": [
           {
            "colorbar": {
             "outlinewidth": 0,
             "ticks": ""
            },
            "type": "mesh3d"
           }
          ],
          "parcoords": [
           {
            "line": {
             "colorbar": {
              "outlinewidth": 0,
              "ticks": ""
             }
            },
            "type": "parcoords"
           }
          ],
          "pie": [
           {
            "automargin": true,
            "type": "pie"
           }
          ],
          "scatter": [
           {
            "fillpattern": {
             "fillmode": "overlay",
             "size": 10,
             "solidity": 0.2
            },
            "type": "scatter"
           }
          ],
          "scatter3d": [
           {
            "line": {
             "colorbar": {
              "outlinewidth": 0,
              "ticks": ""
             }
            },
            "marker": {
             "colorbar": {
              "outlinewidth": 0,
              "ticks": ""
             }
            },
            "type": "scatter3d"
           }
          ],
          "scattercarpet": [
           {
            "marker": {
             "colorbar": {
              "outlinewidth": 0,
              "ticks": ""
             }
            },
            "type": "scattercarpet"
           }
          ],
          "scattergeo": [
           {
            "marker": {
             "colorbar": {
              "outlinewidth": 0,
              "ticks": ""
             }
            },
            "type": "scattergeo"
           }
          ],
          "scattergl": [
           {
            "marker": {
             "colorbar": {
              "outlinewidth": 0,
              "ticks": ""
             }
            },
            "type": "scattergl"
           }
          ],
          "scattermapbox": [
           {
            "marker": {
             "colorbar": {
              "outlinewidth": 0,
              "ticks": ""
             }
            },
            "type": "scattermapbox"
           }
          ],
          "scatterpolar": [
           {
            "marker": {
             "colorbar": {
              "outlinewidth": 0,
              "ticks": ""
             }
            },
            "type": "scatterpolar"
           }
          ],
          "scatterpolargl": [
           {
            "marker": {
             "colorbar": {
              "outlinewidth": 0,
              "ticks": ""
             }
            },
            "type": "scatterpolargl"
           }
          ],
          "scatterternary": [
           {
            "marker": {
             "colorbar": {
              "outlinewidth": 0,
              "ticks": ""
             }
            },
            "type": "scatterternary"
           }
          ],
          "surface": [
           {
            "colorbar": {
             "outlinewidth": 0,
             "ticks": ""
            },
            "colorscale": [
             [
              0,
              "#0d0887"
             ],
             [
              0.1111111111111111,
              "#46039f"
             ],
             [
              0.2222222222222222,
              "#7201a8"
             ],
             [
              0.3333333333333333,
              "#9c179e"
             ],
             [
              0.4444444444444444,
              "#bd3786"
             ],
             [
              0.5555555555555556,
              "#d8576b"
             ],
             [
              0.6666666666666666,
              "#ed7953"
             ],
             [
              0.7777777777777778,
              "#fb9f3a"
             ],
             [
              0.8888888888888888,
              "#fdca26"
             ],
             [
              1,
              "#f0f921"
             ]
            ],
            "type": "surface"
           }
          ],
          "table": [
           {
            "cells": {
             "fill": {
              "color": "#EBF0F8"
             },
             "line": {
              "color": "white"
             }
            },
            "header": {
             "fill": {
              "color": "#C8D4E3"
             },
             "line": {
              "color": "white"
             }
            },
            "type": "table"
           }
          ]
         },
         "layout": {
          "annotationdefaults": {
           "arrowcolor": "#2a3f5f",
           "arrowhead": 0,
           "arrowwidth": 1
          },
          "autotypenumbers": "strict",
          "coloraxis": {
           "colorbar": {
            "outlinewidth": 0,
            "ticks": ""
           }
          },
          "colorscale": {
           "diverging": [
            [
             0,
             "#8e0152"
            ],
            [
             0.1,
             "#c51b7d"
            ],
            [
             0.2,
             "#de77ae"
            ],
            [
             0.3,
             "#f1b6da"
            ],
            [
             0.4,
             "#fde0ef"
            ],
            [
             0.5,
             "#f7f7f7"
            ],
            [
             0.6,
             "#e6f5d0"
            ],
            [
             0.7,
             "#b8e186"
            ],
            [
             0.8,
             "#7fbc41"
            ],
            [
             0.9,
             "#4d9221"
            ],
            [
             1,
             "#276419"
            ]
           ],
           "sequential": [
            [
             0,
             "#0d0887"
            ],
            [
             0.1111111111111111,
             "#46039f"
            ],
            [
             0.2222222222222222,
             "#7201a8"
            ],
            [
             0.3333333333333333,
             "#9c179e"
            ],
            [
             0.4444444444444444,
             "#bd3786"
            ],
            [
             0.5555555555555556,
             "#d8576b"
            ],
            [
             0.6666666666666666,
             "#ed7953"
            ],
            [
             0.7777777777777778,
             "#fb9f3a"
            ],
            [
             0.8888888888888888,
             "#fdca26"
            ],
            [
             1,
             "#f0f921"
            ]
           ],
           "sequentialminus": [
            [
             0,
             "#0d0887"
            ],
            [
             0.1111111111111111,
             "#46039f"
            ],
            [
             0.2222222222222222,
             "#7201a8"
            ],
            [
             0.3333333333333333,
             "#9c179e"
            ],
            [
             0.4444444444444444,
             "#bd3786"
            ],
            [
             0.5555555555555556,
             "#d8576b"
            ],
            [
             0.6666666666666666,
             "#ed7953"
            ],
            [
             0.7777777777777778,
             "#fb9f3a"
            ],
            [
             0.8888888888888888,
             "#fdca26"
            ],
            [
             1,
             "#f0f921"
            ]
           ]
          },
          "colorway": [
           "#636efa",
           "#EF553B",
           "#00cc96",
           "#ab63fa",
           "#FFA15A",
           "#19d3f3",
           "#FF6692",
           "#B6E880",
           "#FF97FF",
           "#FECB52"
          ],
          "font": {
           "color": "#2a3f5f"
          },
          "geo": {
           "bgcolor": "white",
           "lakecolor": "white",
           "landcolor": "#E5ECF6",
           "showlakes": true,
           "showland": true,
           "subunitcolor": "white"
          },
          "hoverlabel": {
           "align": "left"
          },
          "hovermode": "closest",
          "mapbox": {
           "style": "light"
          },
          "paper_bgcolor": "white",
          "plot_bgcolor": "#E5ECF6",
          "polar": {
           "angularaxis": {
            "gridcolor": "white",
            "linecolor": "white",
            "ticks": ""
           },
           "bgcolor": "#E5ECF6",
           "radialaxis": {
            "gridcolor": "white",
            "linecolor": "white",
            "ticks": ""
           }
          },
          "scene": {
           "xaxis": {
            "backgroundcolor": "#E5ECF6",
            "gridcolor": "white",
            "gridwidth": 2,
            "linecolor": "white",
            "showbackground": true,
            "ticks": "",
            "zerolinecolor": "white"
           },
           "yaxis": {
            "backgroundcolor": "#E5ECF6",
            "gridcolor": "white",
            "gridwidth": 2,
            "linecolor": "white",
            "showbackground": true,
            "ticks": "",
            "zerolinecolor": "white"
           },
           "zaxis": {
            "backgroundcolor": "#E5ECF6",
            "gridcolor": "white",
            "gridwidth": 2,
            "linecolor": "white",
            "showbackground": true,
            "ticks": "",
            "zerolinecolor": "white"
           }
          },
          "shapedefaults": {
           "line": {
            "color": "#2a3f5f"
           }
          },
          "ternary": {
           "aaxis": {
            "gridcolor": "white",
            "linecolor": "white",
            "ticks": ""
           },
           "baxis": {
            "gridcolor": "white",
            "linecolor": "white",
            "ticks": ""
           },
           "bgcolor": "#E5ECF6",
           "caxis": {
            "gridcolor": "white",
            "linecolor": "white",
            "ticks": ""
           }
          },
          "title": {
           "x": 0.05
          },
          "xaxis": {
           "automargin": true,
           "gridcolor": "white",
           "linecolor": "white",
           "ticks": "",
           "title": {
            "standoff": 15
           },
           "zerolinecolor": "white",
           "zerolinewidth": 2
          },
          "yaxis": {
           "automargin": true,
           "gridcolor": "white",
           "linecolor": "white",
           "ticks": "",
           "title": {
            "standoff": 15
           },
           "zerolinecolor": "white",
           "zerolinewidth": 2
          }
         }
        },
        "title": {
         "text": "Vida de Jugadores de Elden Ring"
        }
       }
      },
      "text/html": [
       "<div>                            <div id=\"1b9c9f9d-bd4d-4061-9f2e-69d27044a908\" class=\"plotly-graph-div\" style=\"height:525px; width:100%;\"></div>            <script type=\"text/javascript\">                require([\"plotly\"], function(Plotly) {                    window.PLOTLYENV=window.PLOTLYENV || {};                                    if (document.getElementById(\"1b9c9f9d-bd4d-4061-9f2e-69d27044a908\")) {                    Plotly.newPlot(                        \"1b9c9f9d-bd4d-4061-9f2e-69d27044a908\",                        [{\"marker\":{\"color\":\"rgba(16, 112, 2, 0.8)\"},\"mode\":\"lines\",\"name\":\"citations\",\"x\":[\"2022-02-24 00:00:00\",\"2022-02-25 00:00:00\",\"2022-02-26 00:00:00\",\"2022-02-27 00:00:00\",\"2022-02-28 00:00:00\",\"2022-03-01 00:00:00\",\"2022-03-02 00:00:00\",\"2022-03-03 00:00:00\",\"2022-03-04 00:00:00\",\"2022-03-05 00:00:00\",\"2022-03-06 00:00:00\",\"2022-03-07 00:00:00\",\"2022-03-08 00:00:00\",\"2022-03-09 00:00:00\",\"2022-03-10 00:00:00\",\"2022-03-11 00:00:00\",\"2022-03-12 00:00:00\",\"2022-03-13 00:00:00\",\"2022-03-14 00:00:00\",\"2022-03-15 00:00:00\",\"2022-03-16 00:00:00\",\"2022-03-17 00:00:00\",\"2022-03-18 00:00:00\",\"2022-03-19 00:00:00\",\"2022-03-20 00:00:00\",\"2022-03-21 00:00:00\",\"2022-03-22 00:00:00\",\"2022-03-23 00:00:00\",\"2022-03-24 00:00:00\",\"2022-03-25 00:00:00\",\"2022-03-26 00:00:00\",\"2022-03-27 00:00:00\",\"2022-03-28 00:00:00\",\"2022-03-29 00:00:00\",\"2022-03-30 00:00:00\",\"2022-03-31 00:00:00\",\"2022-04-01 00:00:00\",\"2022-04-02 00:00:00\",\"2022-04-03 00:00:00\",\"2022-04-04 00:00:00\",\"2022-04-05 00:00:00\",\"2022-04-06 00:00:00\",\"2022-04-07 00:00:00\",\"2022-04-08 00:00:00\",\"2022-04-09 00:00:00\",\"2022-04-10 00:00:00\",\"2022-04-11 00:00:00\",\"2022-04-12 00:00:00\",\"2022-04-13 00:00:00\",\"2022-04-14 00:00:00\",\"2022-04-15 00:00:00\",\"2022-04-16 00:00:00\",\"2022-04-17 00:00:00\",\"2022-04-18 00:00:00\",\"2022-04-19 00:00:00\",\"2022-04-20 00:00:00\",\"2022-04-21 00:00:00\",\"2022-04-22 00:00:00\",\"2022-04-23 00:00:00\",\"2022-04-24 00:00:00\",\"2022-04-25 00:00:00\",\"2022-04-26 00:00:00\",\"2022-04-27 00:00:00\",\"2022-04-28 00:00:00\",\"2022-04-29 00:00:00\",\"2022-04-30 00:00:00\",\"2022-05-01 00:00:00\",\"2022-05-02 00:00:00\",\"2022-05-03 00:00:00\",\"2022-05-04 00:00:00\",\"2022-05-05 00:00:00\",\"2022-05-06 00:00:00\",\"2022-05-07 00:00:00\",\"2022-05-08 00:00:00\",\"2022-05-09 00:00:00\",\"2022-05-10 00:00:00\",\"2022-05-11 00:00:00\",\"2022-05-12 00:00:00\",\"2022-05-13 00:00:00\",\"2022-05-14 00:00:00\",\"2022-05-15 00:00:00\",\"2022-05-16 00:00:00\",\"2022-05-17 00:00:00\",\"2022-05-18 00:00:00\",\"2022-05-19 00:00:00\",\"2022-05-20 00:00:00\",\"2022-05-21 00:00:00\",\"2022-05-22 00:00:00\",\"2022-05-23 00:00:00\",\"2022-05-24 00:00:00\",\"2022-05-25 00:00:00\",\"2022-05-26 00:00:00\",\"2022-05-27 00:00:00\",\"2022-05-28 00:00:00\",\"2022-05-29 00:00:00\",\"2022-05-30 00:00:00\",\"2022-05-31 00:00:00\",\"2022-06-01 00:00:00\",\"2022-06-02 00:00:00\",\"2022-06-03 00:00:00\",\"2022-06-04 00:00:00\",\"2022-06-05 00:00:00\",\"2022-06-06 00:00:00\",\"2022-06-07 00:00:00\",\"2022-06-08 00:00:00\",\"2022-06-09 00:00:00\",\"2022-06-10 00:00:00\",\"2022-06-11 00:00:00\",\"2022-06-12 00:00:00\",\"2022-06-13 00:00:00\",\"2022-06-14 00:00:00\",\"2022-06-15 00:00:00\",\"2022-06-16 00:00:00\",\"2022-06-17 00:00:00\",\"2022-06-18 00:00:00\",\"2022-06-19 00:00:00\",\"2022-06-20 00:00:00\",\"2022-06-21 00:00:00\",\"2022-06-22 00:00:00\",\"2022-06-23 00:00:00\",\"2022-06-24 00:00:00\",\"2022-06-25 00:00:00\",\"2022-06-26 00:00:00\",\"2022-06-27 00:00:00\",\"2022-06-28 00:00:00\",\"2022-06-29 00:00:00\",\"2022-06-30 00:00:00\",\"2022-07-01 00:00:00\",\"2022-07-02 00:00:00\",\"2022-07-03 00:00:00\",\"2022-07-04 00:00:00\",\"2022-07-05 00:00:00\",\"2022-07-06 00:00:00\",\"2022-07-07 00:00:00\",\"2022-07-08 00:00:00\",\"2022-07-09 00:00:00\",\"2022-07-10 00:00:00\",\"2022-07-11 00:00:00\",\"2022-07-12 00:00:00\",\"2022-07-13 00:00:00\",\"2022-07-14 00:00:00\",\"2022-07-15 00:00:00\",\"2022-07-16 00:00:00\",\"2022-07-17 00:00:00\",\"2022-07-18 00:00:00\",\"2022-07-19 00:00:00\",\"2022-07-20 00:00:00\",\"2022-07-21 00:00:00\",\"2022-07-22 00:00:00\",\"2022-07-23 00:00:00\",\"2022-07-24 00:00:00\",\"2022-07-25 00:00:00\",\"2022-07-26 00:00:00\",\"2022-07-27 00:00:00\",\"2022-07-28 00:00:00\",\"2022-07-29 00:00:00\",\"2022-07-30 00:00:00\",\"2022-07-31 00:00:00\",\"2022-08-01 00:00:00\",\"2022-08-02 00:00:00\",\"2022-08-03 00:00:00\",\"2022-08-04 00:00:00\",\"2022-08-05 00:00:00\",\"2022-08-06 00:00:00\",\"2022-08-07 00:00:00\",\"2022-08-08 00:00:00\",\"2022-08-09 00:00:00\",\"2022-08-10 00:00:00\",\"2022-08-11 00:00:00\",\"2022-08-12 00:00:00\",\"2022-08-13 00:00:00\",\"2022-08-14 00:00:00\",\"2022-08-15 00:00:00\",\"2022-08-16 00:00:00\",\"2022-08-17 00:00:00\",\"2022-08-18 00:00:00\",\"2022-08-19 00:00:00\",\"2022-08-20 00:00:00\",\"2022-08-21 00:00:00\",\"2022-08-22 00:00:00\",\"2022-08-23 00:00:00\",\"2022-08-24 00:00:00\",\"2022-08-25 00:00:00\",\"2022-08-26 00:00:00\",\"2022-08-27 00:00:00\",\"2022-08-28 00:00:00\",\"2022-08-29 00:00:00\",\"2022-08-30 00:00:00\",\"2022-08-31 00:00:00\",\"2022-09-01 00:00:00\",\"2022-09-02 00:00:00\",\"2022-09-03 00:00:00\",\"2022-09-04 00:00:00\",\"2022-09-05 00:00:00\",\"2022-09-06 00:00:00\",\"2022-09-07 00:00:00\",\"2022-09-08 00:00:00\",\"2022-09-09 00:00:00\",\"2022-09-10 00:00:00\",\"2022-09-11 00:00:00\",\"2022-09-12 00:00:00\",\"2022-09-13 00:00:00\",\"2022-09-14 00:00:00\",\"2022-09-15 00:00:00\",\"2022-09-16 00:00:00\",\"2022-09-17 00:00:00\",\"2022-09-18 00:00:00\",\"2022-09-19 00:00:00\",\"2022-09-20 00:00:00\",\"2022-09-21 00:00:00\",\"2022-09-22 00:00:00\",\"2022-09-23 00:00:00\",\"2022-09-24 00:00:00\",\"2022-09-25 00:00:00\",\"2022-09-26 00:00:00\",\"2022-09-27 00:00:00\",\"2022-09-28 00:00:00\",\"2022-09-29 00:00:00\",\"2022-09-30 00:00:00\",\"2022-10-01 00:00:00\",\"2022-10-02 00:00:00\",\"2022-10-03 00:00:00\",\"2022-10-04 00:00:00\",\"2022-10-05 00:00:00\",\"2022-10-06 00:00:00\",\"2022-10-07 00:00:00\",\"2022-10-08 00:00:00\",\"2022-10-09 00:00:00\",\"2022-10-10 00:00:00\",\"2022-10-11 00:00:00\",\"2022-10-12 00:00:00\",\"2022-10-13 00:00:00\",\"2022-10-14 00:00:00\",\"2022-10-15 00:00:00\",\"2022-10-16 00:00:00\",\"2022-10-17 00:00:00\",\"2022-10-18 00:00:00\",\"2022-10-19 00:00:00\",\"2022-10-20 00:00:00\",\"2022-10-21 00:00:00\",\"2022-10-22 00:00:00\",\"2022-10-23 00:00:00\",\"2022-10-24 00:00:00\",\"2022-10-25 00:00:00\",\"2022-10-26 00:00:00\",\"2022-10-27 00:00:00\",\"2022-10-28 00:00:00\",\"2022-10-29 00:00:00\",\"2022-10-30 00:00:00\",\"2022-10-31 00:00:00\",\"2022-11-01 00:00:00\",\"2022-11-02 00:00:00\",\"2022-11-03 00:00:00\",\"2022-11-04 00:00:00\",\"2022-11-05 00:00:00\",\"2022-11-06 00:00:00\",\"2022-11-07 00:00:00\",\"2022-11-08 00:00:00\",\"2022-11-09 00:00:00\",\"2022-11-10 00:00:00\",\"2022-11-11 00:00:00\",\"2022-11-12 00:00:00\",\"2022-11-13 00:00:00\",\"2022-11-14 00:00:00\",\"2022-11-15 00:00:00\",\"2022-11-16 00:00:00\",\"2022-11-17 00:00:00\",\"2022-11-18 00:00:00\",\"2022-11-19 00:00:00\",\"2022-11-20 00:00:00\",\"2022-11-21 00:00:00\",\"2022-11-22 00:00:00\",\"2022-11-23 00:00:00\",\"2022-11-24 00:00:00\",\"2022-11-25 00:00:00\",\"2022-11-26 00:00:00\",\"2022-11-27 00:00:00\",\"2022-11-28 00:00:00\",\"2022-11-29 00:00:00\",\"2022-11-30 00:00:00\",\"2022-12-01 00:00:00\",\"2022-12-02 00:00:00\",\"2022-12-03 00:00:00\",\"2022-12-04 00:00:00\",\"2022-12-05 00:00:00\",\"2022-12-06 00:00:00\",\"2022-12-07 00:00:00\",\"2022-12-08 00:00:00\",\"2022-12-09 00:00:00\",\"2022-12-10 00:00:00\",\"2022-12-11 00:00:00\",\"2022-12-12 00:00:00\",\"2022-12-13 00:00:00\",\"2022-12-14 00:00:00\",\"2022-12-15 00:00:00\",\"2022-12-16 00:00:00\",\"2022-12-17 00:00:00\",\"2022-12-18 00:00:00\",\"2022-12-19 00:00:00\",\"2022-12-20 00:00:00\",\"2022-12-21 00:00:00\",\"2022-12-22 00:00:00\",\"2022-12-23 00:00:00\",\"2022-12-24 00:00:00\",\"2022-12-25 00:00:00\",\"2022-12-26 00:00:00\",\"2022-12-27 00:00:00\",\"2022-12-28 00:00:00\",\"2022-12-29 00:00:00\",\"2022-12-30 00:00:00\",\"2022-12-31 00:00:00\",\"2023-01-01 00:00:00\",\"2023-01-02 00:00:00\",\"2023-01-03 00:00:00\",\"2023-01-04 00:00:00\",\"2023-01-05 00:00:00\",\"2023-01-06 00:00:00\",\"2023-01-07 00:00:00\",\"2023-01-08 00:00:00\",\"2023-01-09 00:00:00\",\"2023-01-10 00:00:00\",\"2023-01-11 00:00:00\",\"2023-01-12 00:00:00\",\"2023-01-13 00:00:00\",\"2023-01-14 00:00:00\",\"2023-01-15 00:00:00\",\"2023-01-16 00:00:00\",\"2023-01-17 00:00:00\",\"2023-01-18 00:00:00\",\"2023-01-19 00:00:00\",\"2023-01-20 00:00:00\",\"2023-01-21 00:00:00\",\"2023-01-22 00:00:00\",\"2023-01-23 00:00:00\",\"2023-01-24 00:00:00\",\"2023-01-25 00:00:00\",\"2023-01-26 00:00:00\",\"2023-01-27 00:00:00\",\"2023-01-28 00:00:00\",\"2023-01-29 00:00:00\",\"2023-01-30 00:00:00\",\"2023-01-31 00:00:00\",\"2023-02-01 00:00:00\",\"2023-02-02 00:00:00\",\"2023-02-03 00:00:00\",\"2023-02-04 00:00:00\",\"2023-02-05 00:00:00\",\"2023-02-06 00:00:00\",\"2023-02-07 00:00:00\",\"2023-02-08 00:00:00\",\"2023-02-09 00:00:00\",\"2023-02-10 00:00:00\",\"2023-02-11 00:00:00\",\"2023-02-12 00:00:00\",\"2023-02-13 00:00:00\",\"2023-02-14 00:00:00\",\"2023-02-15 00:00:00\",\"2023-02-16 00:00:00\",\"2023-02-17 00:00:00\",\"2023-02-18 00:00:00\",\"2023-02-19 00:00:00\",\"2023-02-20 00:00:00\",\"2023-02-21 00:00:00\",\"2023-02-22 00:00:00\",\"2023-02-23 00:00:00\",\"2023-02-24 00:00:00\",\"2023-02-25 00:00:00\",\"2023-02-26 00:00:00\",\"2023-02-27 00:00:00\",\"2023-02-28 00:00:00\",\"2023-03-01 00:00:00\",\"2023-03-02 00:00:00\",\"2023-03-03 00:00:00\",\"2023-03-04 00:00:00\",\"2023-03-05 00:00:00\",\"2023-03-06 00:00:00\",\"2023-03-07 00:00:00\",\"2023-03-08 00:00:00\",\"2023-03-09 00:00:00\",\"2023-03-10 00:00:00\",\"2023-03-11 00:00:00\",\"2023-03-12 00:00:00\",\"2023-03-13 00:00:00\",\"2023-03-14 00:00:00\",\"2023-03-15 00:00:00\",\"2023-03-16 00:00:00\",\"2023-03-17 00:00:00\",\"2023-03-18 00:00:00\",\"2023-03-19 00:00:00\",\"2023-03-20 00:00:00\",\"2023-03-21 00:00:00\",\"2023-03-22 00:00:00\",\"2023-03-23 00:00:00\",\"2023-03-24 00:00:00\",\"2023-03-25 00:00:00\",\"2023-03-26 00:00:00\",\"2023-03-27 00:00:00\",\"2023-03-28 00:00:00\",\"2023-03-29 00:00:00\",\"2023-03-30 00:00:00\",\"2023-03-31 00:00:00\",\"2023-04-01 00:00:00\",\"2023-04-02 00:00:00\",\"2023-04-03 00:00:00\",\"2023-04-04 00:00:00\",\"2023-04-05 00:00:00\",\"2023-04-06 00:00:00\",\"2023-04-07 00:00:00\",\"2023-04-08 00:00:00\",\"2023-04-09 00:00:00\",\"2023-04-10 00:00:00\",\"2023-04-11 00:00:00\",\"2023-04-12 00:00:00\",\"2023-04-13 00:00:00\",\"2023-04-14 00:00:00\",\"2023-04-15 00:00:00\",\"2023-04-16 00:00:00\",\"2023-04-17 00:00:00\",\"2023-04-18 00:00:00\",\"2023-04-19 00:00:00\",\"2023-04-20 00:00:00\",\"2023-04-21 00:00:00\",\"2023-04-22 00:00:00\",\"2023-04-23 00:00:00\",\"2023-04-24 00:00:00\",\"2023-04-25 00:00:00\",\"2023-04-26 00:00:00\",\"2023-04-27 00:00:00\",\"2023-04-28 00:00:00\",\"2023-04-29 00:00:00\",\"2023-04-30 00:00:00\",\"2023-05-01 00:00:00\",\"2023-05-02 00:00:00\",\"2023-05-03 00:00:00\",\"2023-05-04 00:00:00\",\"2023-05-05 00:00:00\",\"2023-05-06 00:00:00\",\"2023-05-07 00:00:00\",\"2023-05-08 00:00:00\",\"2023-05-09 00:00:00\",\"2023-05-10 00:00:00\",\"2023-05-11 00:00:00\",\"2023-05-12 00:00:00\",\"2023-05-13 00:00:00\",\"2023-05-14 00:00:00\",\"2023-05-15 00:00:00\",\"2023-05-16 00:00:00\",\"2023-05-17 00:00:00\",\"2023-05-18 00:00:00\",\"2023-05-19 00:00:00\",\"2023-05-20 00:00:00\",\"2023-05-21 00:00:00\",\"2023-05-22 00:00:00\",\"2023-05-23 00:00:00\",\"2023-05-24 00:00:00\",\"2023-05-25 00:00:00\",\"2023-05-26 00:00:00\",\"2023-05-27 00:00:00\",\"2023-05-28 00:00:00\",\"2023-05-29 00:00:00\",\"2023-05-30 00:00:00\",\"2023-05-31 00:00:00\",\"2023-06-01 00:00:00\",\"2023-06-02 00:00:00\",\"2023-06-03 00:00:00\",\"2023-06-04 00:00:00\",\"2023-06-05 00:00:00\",\"2023-06-06 00:00:00\",\"2023-06-07 00:00:00\",\"2023-06-08 00:00:00\",\"2023-06-09 00:00:00\",\"2023-06-10 00:00:00\",\"2023-06-11 00:00:00\",\"2023-06-12 00:00:00\",\"2023-06-13 00:00:00\",\"2023-06-14 00:00:00\",\"2023-06-15 00:00:00\",\"2023-06-16 00:00:00\",\"2023-06-17 00:00:00\",\"2023-06-18 00:00:00\",\"2023-06-19 00:00:00\",\"2023-06-20 00:00:00\",\"2023-06-21 00:00:00\",\"2023-06-22 00:00:00\",\"2023-06-23 00:00:00\",\"2023-06-24 00:00:00\",\"2023-06-25 00:00:00\",\"2023-06-26 00:00:00\",\"2023-06-27 00:00:00\",\"2023-06-28 00:00:00\",\"2023-06-29 00:00:00\",\"2023-06-30 00:00:00\",\"2023-07-01 00:00:00\",\"2023-07-02 00:00:00\",\"2023-07-03 00:00:00\",\"2023-07-04 00:00:00\",\"2023-07-05 00:00:00\",\"2023-07-06 00:00:00\",\"2023-07-07 00:00:00\",\"2023-07-08 00:00:00\",\"2023-07-09 00:00:00\",\"2023-07-10 00:00:00\",\"2023-07-11 00:00:00\",\"2023-07-12 00:00:00\",\"2023-07-13 00:00:00\",\"2023-07-14 00:00:00\",\"2023-07-15 00:00:00\",\"2023-07-16 00:00:00\",\"2023-07-17 00:00:00\",\"2023-07-18 00:00:00\",\"2023-07-19 00:00:00\",\"2023-07-20 00:00:00\",\"2023-07-21 00:00:00\",\"2023-07-22 00:00:00\",\"2023-07-23 00:00:00\",\"2023-07-24 00:00:00\",\"2023-07-25 00:00:00\",\"2023-07-26 00:00:00\",\"2023-07-27 00:00:00\",\"2023-07-28 00:00:00\",\"2023-07-29 00:00:00\",\"2023-07-30 00:00:00\",\"2023-07-31 00:00:00\",\"2023-08-01 00:00:00\",\"2023-08-02 00:00:00\",\"2023-08-03 00:00:00\",\"2023-08-04 00:00:00\",\"2023-08-05 00:00:00\",\"2023-08-06 00:00:00\",\"2023-08-07 00:00:00\",\"2023-08-08 00:00:00\",\"2023-08-09 00:00:00\",\"2023-08-10 00:00:00\",\"2023-08-11 00:00:00\",\"2023-08-12 00:00:00\",\"2023-08-13 00:00:00\",\"2023-08-14 00:00:00\",\"2023-08-15 00:00:00\",\"2023-08-16 00:00:00\",\"2023-08-17 00:00:00\",\"2023-08-18 00:00:00\",\"2023-08-19 00:00:00\",\"2023-08-20 00:00:00\",\"2023-08-21 00:00:00\",\"2023-08-22 00:00:00\",\"2023-08-23 00:00:00\",\"2023-08-24 00:00:00\",\"2023-08-25 00:00:00\",\"2023-08-26 00:00:00\",\"2023-08-27 00:00:00\",\"2023-08-28 00:00:00\",\"2023-08-29 00:00:00\",\"2023-08-30 00:00:00\",\"2023-08-31 00:00:00\",\"2023-09-01 00:00:00\",\"2023-09-02 00:00:00\",\"2023-09-03 00:00:00\",\"2023-09-04 00:00:00\",\"2023-09-05 00:00:00\",\"2023-09-06 00:00:00\",\"2023-09-07 00:00:00\",\"2023-09-08 00:00:00\",\"2023-09-09 00:00:00\",\"2023-09-10 00:00:00\",\"2023-09-11 00:00:00\",\"2023-09-12 00:00:00\",\"2023-09-13 00:00:00\",\"2023-09-14 00:00:00\",\"2023-09-15 00:00:00\",\"2023-09-16 00:00:00\",\"2023-09-17 00:00:00\",\"2023-09-18 00:00:00\",\"2023-09-19 00:00:00\",\"2023-09-20 00:00:00\",\"2023-09-21 00:00:00\",\"2023-09-22 00:00:00\",\"2023-09-23 00:00:00\",\"2023-09-24 00:00:00\",\"2023-09-25 00:00:00\",\"2023-09-26 00:00:00\",\"2023-09-27 00:00:00\",\"2023-09-28 00:00:00\",\"2023-09-29 00:00:00\",\"2023-09-30 00:00:00\",\"2023-10-01 00:00:00\",\"2023-10-02 00:00:00\",\"2023-10-03 00:00:00\",\"2023-10-04 00:00:00\",\"2023-10-05 00:00:00\",\"2023-10-06 00:00:00\",\"2023-10-07 00:00:00\",\"2023-10-08 00:00:00\",\"2023-10-09 00:00:00\",\"2023-10-10 00:00:00\",\"2023-10-11 00:00:00\",\"2023-10-12 00:00:00\",\"2023-10-13 00:00:00\",\"2023-10-14 00:00:00\",\"2023-10-15 00:00:00\",\"2023-10-16 00:00:00\",\"2023-10-17 00:00:00\"],\"y\":[559624,764835,861538,891638,819143,828001,823527,820921,858316,953426,944190,801048,779297,738122,703725,730458,825277,800301,635680,610847,589570,587284,611562,712336,694446,529881,507115,464532,468107,480052,563389,546667,414946,399484,378861,368498,375625,455103,457182,339322,317968,300169,287677,305294,367780,349862,258031,245836,234880,234557,269911,282119,266656,239831,198248,202328,196417,205469,238625,237493,172305,161863,151887,147793,156014,190421,193468,148370,139215,126122,122864,126523,158782,152245,110981,107748,102381,99343,106998,128222,127344,92721,88789,86217,83155,89290,108490,106427,81727,75594,73972,80599,82817,101265,99061,92058,73505,68870,71525,74568,87387,88609,73812,63803,62093,59878,62770,76917,77475,56575,54643,52494,54636,55629,66351,66906,55272,51013,48571,46994,49982,58560,60338,45795,44689,43418,42476,44977,51559,52405,49052,41274,40235,40219,41239,49357,51228,40782,39669,38827,39814,40931,48232,50686,39741,39266,37757,38334,40316,47304,49352,39401,39247,38561,38246,39789,46293,48106,38945,37343,37321,36960,39217,45096,47397,38506,34276,35418,35050,37830,42939,45151,38884,36056,35867,35167,37416,43930,46138,35746,35378,33021,32699,34801,41241,43177,34150,33560,32808,32101,34813,42524,44015,41589,32651,32718,31775,34133,42624,45475,31859,31387,31548,30927,33397,42458,43754,33364,31054,30494,30003,32171,40762,41979,29959,29528,29044,28096,30763,38442,39830,30427,28429,27373,27026,28048,34805,36653,27576,25667,26361,23752,28885,38217,39401,29579,29637,29083,29196,31471,38307,39319,29193,28742,28001,27499,29657,34934,34954,28209,29025,25710,25692,28158,35662,36004,25244,25385,25467,25160,29688,35679,35817,26412,27174,26755,25982,27963,34946,35579,26101,26744,26242,27238,29925,35682,36345,27038,26537,26979,26701,29223,36322,36774,27747,32942,32676,33179,37725,46193,47045,37142,36105,36199,35084,38188,45094,46097,38366,38488,38060,42476,53175,62290,64159,71354,73312,76364,79202,82864,85651,89723,91801,86631,88742,88151,93457,104312,106913,81045,79276,77078,73768,78714,95550,97376,76399,70212,68175,67643,69985,84579,87848,65610,64303,64506,63756,67368,83035,85483,62487,62378,61693,60643,66203,80705,82173,60131,57738,56027,55346,59413,72846,74140,56082,53496,53869,53763,58848,71668,71708,57887,53740,53730,54134,55361,67121,67335,50421,55189,55050,55532,60124,74131,74740,53807,54145,53279,51995,57180,70523,71543,52172,51828,51380,49925,53979,65288,65715,48532,47647,46180,41925,49453,59695,61855,46494,45767,44975,44684,48691,58457,59445,45291,47166,45090,45717,52364,55428,52760,50213,42467,41017,39691,43496,52158,51836,38321,36923,36584,36097,39789,46426,48967,36830,36068,32758,32122,34267,41783,43676,40361,31921,30916,31508,33930,43178,43846,34919,31837,30793,30088,32558,38122,38263,28691,28813,28575,30038,31166,36420,36887,28020,27566,26774,26577,29204,35042,35342,33901,27495,26947,26249,27818,32677,33545,26296,25368,24679,25851,26273,30805,31366,25086,24103,23868,23082,25001,29745,29793,24623,24203,24252,24233,25453,29001,30817,24927,25072,24122,23957,34701,44095,48446,44497,46512,45109,44781,47260,53546,55553,48361,48747,49016,49362,49961,55071,56869,48717,48379,46479,45382,45411,50369,51603,44154,43352,42581,42926,44497,49819,50677,43165,42618,41846,41135,40451,45275,46218,39367,38470,37054,36260,37030,41293,42458,36537,36616,33649,33314,34245,38415,40203,33921,33804,33701,33088,34156,38469,39998,33619,33450,32412,31322,32617,37065,37504,32509,30036,28779,28899,30655,35489,36531,28897,28315,28317,27549,29593,35065,36276,28025,27380,26954,26641,28182,34020,33765,26551,25803,25405,24201,24880,29925,31514,24532,25344,24653,24910,35366,49133,56348,50167,50318,50566,53336,56180,66989,66860,57215,56959],\"type\":\"scatter\"}],                        {\"barmode\":\"group\",\"template\":{\"data\":{\"barpolar\":[{\"marker\":{\"line\":{\"color\":\"#E5ECF6\",\"width\":0.5},\"pattern\":{\"fillmode\":\"overlay\",\"size\":10,\"solidity\":0.2}},\"type\":\"barpolar\"}],\"bar\":[{\"error_x\":{\"color\":\"#2a3f5f\"},\"error_y\":{\"color\":\"#2a3f5f\"},\"marker\":{\"line\":{\"color\":\"#E5ECF6\",\"width\":0.5},\"pattern\":{\"fillmode\":\"overlay\",\"size\":10,\"solidity\":0.2}},\"type\":\"bar\"}],\"carpet\":[{\"aaxis\":{\"endlinecolor\":\"#2a3f5f\",\"gridcolor\":\"white\",\"linecolor\":\"white\",\"minorgridcolor\":\"white\",\"startlinecolor\":\"#2a3f5f\"},\"baxis\":{\"endlinecolor\":\"#2a3f5f\",\"gridcolor\":\"white\",\"linecolor\":\"white\",\"minorgridcolor\":\"white\",\"startlinecolor\":\"#2a3f5f\"},\"type\":\"carpet\"}],\"choropleth\":[{\"colorbar\":{\"outlinewidth\":0,\"ticks\":\"\"},\"type\":\"choropleth\"}],\"contourcarpet\":[{\"colorbar\":{\"outlinewidth\":0,\"ticks\":\"\"},\"type\":\"contourcarpet\"}],\"contour\":[{\"colorbar\":{\"outlinewidth\":0,\"ticks\":\"\"},\"colorscale\":[[0.0,\"#0d0887\"],[0.1111111111111111,\"#46039f\"],[0.2222222222222222,\"#7201a8\"],[0.3333333333333333,\"#9c179e\"],[0.4444444444444444,\"#bd3786\"],[0.5555555555555556,\"#d8576b\"],[0.6666666666666666,\"#ed7953\"],[0.7777777777777778,\"#fb9f3a\"],[0.8888888888888888,\"#fdca26\"],[1.0,\"#f0f921\"]],\"type\":\"contour\"}],\"heatmapgl\":[{\"colorbar\":{\"outlinewidth\":0,\"ticks\":\"\"},\"colorscale\":[[0.0,\"#0d0887\"],[0.1111111111111111,\"#46039f\"],[0.2222222222222222,\"#7201a8\"],[0.3333333333333333,\"#9c179e\"],[0.4444444444444444,\"#bd3786\"],[0.5555555555555556,\"#d8576b\"],[0.6666666666666666,\"#ed7953\"],[0.7777777777777778,\"#fb9f3a\"],[0.8888888888888888,\"#fdca26\"],[1.0,\"#f0f921\"]],\"type\":\"heatmapgl\"}],\"heatmap\":[{\"colorbar\":{\"outlinewidth\":0,\"ticks\":\"\"},\"colorscale\":[[0.0,\"#0d0887\"],[0.1111111111111111,\"#46039f\"],[0.2222222222222222,\"#7201a8\"],[0.3333333333333333,\"#9c179e\"],[0.4444444444444444,\"#bd3786\"],[0.5555555555555556,\"#d8576b\"],[0.6666666666666666,\"#ed7953\"],[0.7777777777777778,\"#fb9f3a\"],[0.8888888888888888,\"#fdca26\"],[1.0,\"#f0f921\"]],\"type\":\"heatmap\"}],\"histogram2dcontour\":[{\"colorbar\":{\"outlinewidth\":0,\"ticks\":\"\"},\"colorscale\":[[0.0,\"#0d0887\"],[0.1111111111111111,\"#46039f\"],[0.2222222222222222,\"#7201a8\"],[0.3333333333333333,\"#9c179e\"],[0.4444444444444444,\"#bd3786\"],[0.5555555555555556,\"#d8576b\"],[0.6666666666666666,\"#ed7953\"],[0.7777777777777778,\"#fb9f3a\"],[0.8888888888888888,\"#fdca26\"],[1.0,\"#f0f921\"]],\"type\":\"histogram2dcontour\"}],\"histogram2d\":[{\"colorbar\":{\"outlinewidth\":0,\"ticks\":\"\"},\"colorscale\":[[0.0,\"#0d0887\"],[0.1111111111111111,\"#46039f\"],[0.2222222222222222,\"#7201a8\"],[0.3333333333333333,\"#9c179e\"],[0.4444444444444444,\"#bd3786\"],[0.5555555555555556,\"#d8576b\"],[0.6666666666666666,\"#ed7953\"],[0.7777777777777778,\"#fb9f3a\"],[0.8888888888888888,\"#fdca26\"],[1.0,\"#f0f921\"]],\"type\":\"histogram2d\"}],\"histogram\":[{\"marker\":{\"pattern\":{\"fillmode\":\"overlay\",\"size\":10,\"solidity\":0.2}},\"type\":\"histogram\"}],\"mesh3d\":[{\"colorbar\":{\"outlinewidth\":0,\"ticks\":\"\"},\"type\":\"mesh3d\"}],\"parcoords\":[{\"line\":{\"colorbar\":{\"outlinewidth\":0,\"ticks\":\"\"}},\"type\":\"parcoords\"}],\"pie\":[{\"automargin\":true,\"type\":\"pie\"}],\"scatter3d\":[{\"line\":{\"colorbar\":{\"outlinewidth\":0,\"ticks\":\"\"}},\"marker\":{\"colorbar\":{\"outlinewidth\":0,\"ticks\":\"\"}},\"type\":\"scatter3d\"}],\"scattercarpet\":[{\"marker\":{\"colorbar\":{\"outlinewidth\":0,\"ticks\":\"\"}},\"type\":\"scattercarpet\"}],\"scattergeo\":[{\"marker\":{\"colorbar\":{\"outlinewidth\":0,\"ticks\":\"\"}},\"type\":\"scattergeo\"}],\"scattergl\":[{\"marker\":{\"colorbar\":{\"outlinewidth\":0,\"ticks\":\"\"}},\"type\":\"scattergl\"}],\"scattermapbox\":[{\"marker\":{\"colorbar\":{\"outlinewidth\":0,\"ticks\":\"\"}},\"type\":\"scattermapbox\"}],\"scatterpolargl\":[{\"marker\":{\"colorbar\":{\"outlinewidth\":0,\"ticks\":\"\"}},\"type\":\"scatterpolargl\"}],\"scatterpolar\":[{\"marker\":{\"colorbar\":{\"outlinewidth\":0,\"ticks\":\"\"}},\"type\":\"scatterpolar\"}],\"scatter\":[{\"fillpattern\":{\"fillmode\":\"overlay\",\"size\":10,\"solidity\":0.2},\"type\":\"scatter\"}],\"scatterternary\":[{\"marker\":{\"colorbar\":{\"outlinewidth\":0,\"ticks\":\"\"}},\"type\":\"scatterternary\"}],\"surface\":[{\"colorbar\":{\"outlinewidth\":0,\"ticks\":\"\"},\"colorscale\":[[0.0,\"#0d0887\"],[0.1111111111111111,\"#46039f\"],[0.2222222222222222,\"#7201a8\"],[0.3333333333333333,\"#9c179e\"],[0.4444444444444444,\"#bd3786\"],[0.5555555555555556,\"#d8576b\"],[0.6666666666666666,\"#ed7953\"],[0.7777777777777778,\"#fb9f3a\"],[0.8888888888888888,\"#fdca26\"],[1.0,\"#f0f921\"]],\"type\":\"surface\"}],\"table\":[{\"cells\":{\"fill\":{\"color\":\"#EBF0F8\"},\"line\":{\"color\":\"white\"}},\"header\":{\"fill\":{\"color\":\"#C8D4E3\"},\"line\":{\"color\":\"white\"}},\"type\":\"table\"}]},\"layout\":{\"annotationdefaults\":{\"arrowcolor\":\"#2a3f5f\",\"arrowhead\":0,\"arrowwidth\":1},\"autotypenumbers\":\"strict\",\"coloraxis\":{\"colorbar\":{\"outlinewidth\":0,\"ticks\":\"\"}},\"colorscale\":{\"diverging\":[[0,\"#8e0152\"],[0.1,\"#c51b7d\"],[0.2,\"#de77ae\"],[0.3,\"#f1b6da\"],[0.4,\"#fde0ef\"],[0.5,\"#f7f7f7\"],[0.6,\"#e6f5d0\"],[0.7,\"#b8e186\"],[0.8,\"#7fbc41\"],[0.9,\"#4d9221\"],[1,\"#276419\"]],\"sequential\":[[0.0,\"#0d0887\"],[0.1111111111111111,\"#46039f\"],[0.2222222222222222,\"#7201a8\"],[0.3333333333333333,\"#9c179e\"],[0.4444444444444444,\"#bd3786\"],[0.5555555555555556,\"#d8576b\"],[0.6666666666666666,\"#ed7953\"],[0.7777777777777778,\"#fb9f3a\"],[0.8888888888888888,\"#fdca26\"],[1.0,\"#f0f921\"]],\"sequentialminus\":[[0.0,\"#0d0887\"],[0.1111111111111111,\"#46039f\"],[0.2222222222222222,\"#7201a8\"],[0.3333333333333333,\"#9c179e\"],[0.4444444444444444,\"#bd3786\"],[0.5555555555555556,\"#d8576b\"],[0.6666666666666666,\"#ed7953\"],[0.7777777777777778,\"#fb9f3a\"],[0.8888888888888888,\"#fdca26\"],[1.0,\"#f0f921\"]]},\"colorway\":[\"#636efa\",\"#EF553B\",\"#00cc96\",\"#ab63fa\",\"#FFA15A\",\"#19d3f3\",\"#FF6692\",\"#B6E880\",\"#FF97FF\",\"#FECB52\"],\"font\":{\"color\":\"#2a3f5f\"},\"geo\":{\"bgcolor\":\"white\",\"lakecolor\":\"white\",\"landcolor\":\"#E5ECF6\",\"showlakes\":true,\"showland\":true,\"subunitcolor\":\"white\"},\"hoverlabel\":{\"align\":\"left\"},\"hovermode\":\"closest\",\"mapbox\":{\"style\":\"light\"},\"paper_bgcolor\":\"white\",\"plot_bgcolor\":\"#E5ECF6\",\"polar\":{\"angularaxis\":{\"gridcolor\":\"white\",\"linecolor\":\"white\",\"ticks\":\"\"},\"bgcolor\":\"#E5ECF6\",\"radialaxis\":{\"gridcolor\":\"white\",\"linecolor\":\"white\",\"ticks\":\"\"}},\"scene\":{\"xaxis\":{\"backgroundcolor\":\"#E5ECF6\",\"gridcolor\":\"white\",\"gridwidth\":2,\"linecolor\":\"white\",\"showbackground\":true,\"ticks\":\"\",\"zerolinecolor\":\"white\"},\"yaxis\":{\"backgroundcolor\":\"#E5ECF6\",\"gridcolor\":\"white\",\"gridwidth\":2,\"linecolor\":\"white\",\"showbackground\":true,\"ticks\":\"\",\"zerolinecolor\":\"white\"},\"zaxis\":{\"backgroundcolor\":\"#E5ECF6\",\"gridcolor\":\"white\",\"gridwidth\":2,\"linecolor\":\"white\",\"showbackground\":true,\"ticks\":\"\",\"zerolinecolor\":\"white\"}},\"shapedefaults\":{\"line\":{\"color\":\"#2a3f5f\"}},\"ternary\":{\"aaxis\":{\"gridcolor\":\"white\",\"linecolor\":\"white\",\"ticks\":\"\"},\"baxis\":{\"gridcolor\":\"white\",\"linecolor\":\"white\",\"ticks\":\"\"},\"bgcolor\":\"#E5ECF6\",\"caxis\":{\"gridcolor\":\"white\",\"linecolor\":\"white\",\"ticks\":\"\"}},\"title\":{\"x\":0.05},\"xaxis\":{\"automargin\":true,\"gridcolor\":\"white\",\"linecolor\":\"white\",\"ticks\":\"\",\"title\":{\"standoff\":15},\"zerolinecolor\":\"white\",\"zerolinewidth\":2},\"yaxis\":{\"automargin\":true,\"gridcolor\":\"white\",\"linecolor\":\"white\",\"ticks\":\"\",\"title\":{\"standoff\":15},\"zerolinecolor\":\"white\",\"zerolinewidth\":2}}},\"title\":{\"text\":\"Vida de Jugadores de Elden Ring\"}},                        {\"responsive\": true}                    ).then(function(){\n",
       "                            \n",
       "var gd = document.getElementById('1b9c9f9d-bd4d-4061-9f2e-69d27044a908');\n",
       "var x = new MutationObserver(function (mutations, observer) {{\n",
       "        var display = window.getComputedStyle(gd).display;\n",
       "        if (!display || display === 'none') {{\n",
       "            console.log([gd, 'removed!']);\n",
       "            Plotly.purge(gd);\n",
       "            observer.disconnect();\n",
       "        }}\n",
       "}});\n",
       "\n",
       "// Listen for the removal of the full notebook cells\n",
       "var notebookContainer = gd.closest('#notebook-container');\n",
       "if (notebookContainer) {{\n",
       "    x.observe(notebookContainer, {childList: true});\n",
       "}}\n",
       "\n",
       "// Listen for the clearing of the current output cell\n",
       "var outputEl = gd.closest('.output');\n",
       "if (outputEl) {{\n",
       "    x.observe(outputEl, {childList: true});\n",
       "}}\n",
       "\n",
       "                        })                };                });            </script>        </div>"
      ]
     },
     "metadata": {},
     "output_type": "display_data"
    }
   ],
   "source": [
    "layout = dict(plot_bgcolor='black',\n",
    "              xaxis=dict(title='Año',\n",
    "                         range=[0.9, 5.5],\n",
    "                         linecolor='#d9d9d9',\n",
    "                         showgrid=False,\n",
    "                         mirror=True),\n",
    "              yaxis=dict(title='Jugadores',\n",
    "                         range=[95.5, 99.5],\n",
    "                         linecolor='#d9d9d9',\n",
    "                         showgrid=False,\n",
    "                         mirror=True))\n",
    "\n",
    "\n",
    "trace1 = go.Scatter(\n",
    "                    x = jugadores_ER[\"DateTime\"],\n",
    "                    y = jugadores_ER[\"Players\"],\n",
    "                    name = 'citations',\n",
    "                    mode= 'lines',\n",
    "                    marker = dict(color = 'rgba(16, 112, 2, 0.8)'))\n",
    "\n",
    "data = [trace1]\n",
    "\n",
    "layout = go.Layout(barmode = \"group\", title=\"Vida de Jugadores de Elden Ring\")\n",
    "\n",
    "fig3 = go.Figure(data = data, layout = layout)\n",
    "\n",
    "\n",
    "iplot(fig3)"
   ]
  },
  {
   "cell_type": "code",
   "execution_count": 94,
   "metadata": {},
   "outputs": [],
   "source": [
    "\"\"\"\n",
    "Segun vemos en las tres graficas, todos los juegos tienden a la baja, lo cual es normal.\n",
    "Monster Hunter World tuvo el DLC Iceborne, lo que provoco la vuelta de muchos jugadores.\n",
    "Lost Ark: pese a que tuvo mucho contenido nuevo, la dificultad de este, mas la mala gestion por parte de Amazon Games, provoco una poca retencion de jugadores.\n",
    "Elden Ring: Juego solo/mulitijugador, lo normal en los juegos, ha tendido a la baja de forma natural y se mantiene actualmente con 58k jugadores aprox.\n",
    "\"\"\";\n"
   ]
  },
  {
   "cell_type": "code",
   "execution_count": 95,
   "metadata": {},
   "outputs": [],
   "source": [
    "#Aqui dejare unos quesitos con los jugadores del ultimo dia de cada juego, para ver cual tiene mas."
   ]
  },
  {
   "cell_type": "code",
   "execution_count": 96,
   "metadata": {},
   "outputs": [
    {
     "data": {
      "text/plain": [
       "1895    31340.0\n",
       "Name: Players, dtype: float64"
      ]
     },
     "metadata": {},
     "output_type": "display_data"
    },
    {
     "data": {
      "text/plain": [
       "617    52358\n",
       "Name: Players, dtype: int32"
      ]
     },
     "metadata": {},
     "output_type": "display_data"
    },
    {
     "data": {
      "text/plain": [
       "600    56959\n",
       "Name: Players, dtype: int64"
      ]
     },
     "metadata": {},
     "output_type": "display_data"
    }
   ],
   "source": [
    "#Aqui saco cual es su ultimo index\n",
    "MHW = jugadores_MHW[\"Players\"].tail(1)\n",
    "LA = jugadores_LA[\"Players\"].tail(1)\n",
    "ER = jugadores_ER[\"Players\"].tail(1)\n",
    "display(MHW,LA,ER)"
   ]
  },
  {
   "cell_type": "code",
   "execution_count": 97,
   "metadata": {},
   "outputs": [],
   "source": [
    "#Sacamos el dato.\n",
    "MHW = jugadores_MHW[\"Players\"].iloc[1895]\n",
    "LA = jugadores_LA[\"Players\"].iloc[617]\n",
    "ER = jugadores_ER[\"Players\"].iloc[600]\n",
    "total = MHW + LA + ER"
   ]
  },
  {
   "cell_type": "code",
   "execution_count": 105,
   "metadata": {},
   "outputs": [],
   "source": [
    "\"\"\"\n",
    "\n",
    "\n",
    "#create pie chart\n",
    "plt.title(f\"Distribucion actual de jugadores ({total})\")\n",
    "plt.pie(data, labels = labels, colors = colors, autopct='%.0f%%', rotatelabels=45)\n",
    "plt.show()\"\"\";"
   ]
  },
  {
   "cell_type": "code",
   "execution_count": 107,
   "metadata": {},
   "outputs": [
    {
     "data": {
      "application/vnd.plotly.v1+json": {
       "config": {
        "linkText": "Export to plot.ly",
        "plotlyServerURL": "https://plot.ly",
        "showLink": false
       },
       "data": [
        {
         "domain": {
          "x": [
           0,
           0.5
          ]
         },
         "hole": 0.3,
         "hoverinfo": "label+percent+name",
         "labels": [
          "MHW",
          "LA",
          "ER"
         ],
         "name": "Number Of Students Rates",
         "type": "pie",
         "values": [
          31340,
          52358,
          56959
         ]
        }
       ],
       "layout": {
        "annotations": [
         {
          "font": {
           "size": 20
          },
          "showarrow": false,
          "text": "Jugadores por juegos",
          "x": 0.13,
          "y": 1.1
         }
        ],
        "template": {
         "data": {
          "bar": [
           {
            "error_x": {
             "color": "#2a3f5f"
            },
            "error_y": {
             "color": "#2a3f5f"
            },
            "marker": {
             "line": {
              "color": "#E5ECF6",
              "width": 0.5
             },
             "pattern": {
              "fillmode": "overlay",
              "size": 10,
              "solidity": 0.2
             }
            },
            "type": "bar"
           }
          ],
          "barpolar": [
           {
            "marker": {
             "line": {
              "color": "#E5ECF6",
              "width": 0.5
             },
             "pattern": {
              "fillmode": "overlay",
              "size": 10,
              "solidity": 0.2
             }
            },
            "type": "barpolar"
           }
          ],
          "carpet": [
           {
            "aaxis": {
             "endlinecolor": "#2a3f5f",
             "gridcolor": "white",
             "linecolor": "white",
             "minorgridcolor": "white",
             "startlinecolor": "#2a3f5f"
            },
            "baxis": {
             "endlinecolor": "#2a3f5f",
             "gridcolor": "white",
             "linecolor": "white",
             "minorgridcolor": "white",
             "startlinecolor": "#2a3f5f"
            },
            "type": "carpet"
           }
          ],
          "choropleth": [
           {
            "colorbar": {
             "outlinewidth": 0,
             "ticks": ""
            },
            "type": "choropleth"
           }
          ],
          "contour": [
           {
            "colorbar": {
             "outlinewidth": 0,
             "ticks": ""
            },
            "colorscale": [
             [
              0,
              "#0d0887"
             ],
             [
              0.1111111111111111,
              "#46039f"
             ],
             [
              0.2222222222222222,
              "#7201a8"
             ],
             [
              0.3333333333333333,
              "#9c179e"
             ],
             [
              0.4444444444444444,
              "#bd3786"
             ],
             [
              0.5555555555555556,
              "#d8576b"
             ],
             [
              0.6666666666666666,
              "#ed7953"
             ],
             [
              0.7777777777777778,
              "#fb9f3a"
             ],
             [
              0.8888888888888888,
              "#fdca26"
             ],
             [
              1,
              "#f0f921"
             ]
            ],
            "type": "contour"
           }
          ],
          "contourcarpet": [
           {
            "colorbar": {
             "outlinewidth": 0,
             "ticks": ""
            },
            "type": "contourcarpet"
           }
          ],
          "heatmap": [
           {
            "colorbar": {
             "outlinewidth": 0,
             "ticks": ""
            },
            "colorscale": [
             [
              0,
              "#0d0887"
             ],
             [
              0.1111111111111111,
              "#46039f"
             ],
             [
              0.2222222222222222,
              "#7201a8"
             ],
             [
              0.3333333333333333,
              "#9c179e"
             ],
             [
              0.4444444444444444,
              "#bd3786"
             ],
             [
              0.5555555555555556,
              "#d8576b"
             ],
             [
              0.6666666666666666,
              "#ed7953"
             ],
             [
              0.7777777777777778,
              "#fb9f3a"
             ],
             [
              0.8888888888888888,
              "#fdca26"
             ],
             [
              1,
              "#f0f921"
             ]
            ],
            "type": "heatmap"
           }
          ],
          "heatmapgl": [
           {
            "colorbar": {
             "outlinewidth": 0,
             "ticks": ""
            },
            "colorscale": [
             [
              0,
              "#0d0887"
             ],
             [
              0.1111111111111111,
              "#46039f"
             ],
             [
              0.2222222222222222,
              "#7201a8"
             ],
             [
              0.3333333333333333,
              "#9c179e"
             ],
             [
              0.4444444444444444,
              "#bd3786"
             ],
             [
              0.5555555555555556,
              "#d8576b"
             ],
             [
              0.6666666666666666,
              "#ed7953"
             ],
             [
              0.7777777777777778,
              "#fb9f3a"
             ],
             [
              0.8888888888888888,
              "#fdca26"
             ],
             [
              1,
              "#f0f921"
             ]
            ],
            "type": "heatmapgl"
           }
          ],
          "histogram": [
           {
            "marker": {
             "pattern": {
              "fillmode": "overlay",
              "size": 10,
              "solidity": 0.2
             }
            },
            "type": "histogram"
           }
          ],
          "histogram2d": [
           {
            "colorbar": {
             "outlinewidth": 0,
             "ticks": ""
            },
            "colorscale": [
             [
              0,
              "#0d0887"
             ],
             [
              0.1111111111111111,
              "#46039f"
             ],
             [
              0.2222222222222222,
              "#7201a8"
             ],
             [
              0.3333333333333333,
              "#9c179e"
             ],
             [
              0.4444444444444444,
              "#bd3786"
             ],
             [
              0.5555555555555556,
              "#d8576b"
             ],
             [
              0.6666666666666666,
              "#ed7953"
             ],
             [
              0.7777777777777778,
              "#fb9f3a"
             ],
             [
              0.8888888888888888,
              "#fdca26"
             ],
             [
              1,
              "#f0f921"
             ]
            ],
            "type": "histogram2d"
           }
          ],
          "histogram2dcontour": [
           {
            "colorbar": {
             "outlinewidth": 0,
             "ticks": ""
            },
            "colorscale": [
             [
              0,
              "#0d0887"
             ],
             [
              0.1111111111111111,
              "#46039f"
             ],
             [
              0.2222222222222222,
              "#7201a8"
             ],
             [
              0.3333333333333333,
              "#9c179e"
             ],
             [
              0.4444444444444444,
              "#bd3786"
             ],
             [
              0.5555555555555556,
              "#d8576b"
             ],
             [
              0.6666666666666666,
              "#ed7953"
             ],
             [
              0.7777777777777778,
              "#fb9f3a"
             ],
             [
              0.8888888888888888,
              "#fdca26"
             ],
             [
              1,
              "#f0f921"
             ]
            ],
            "type": "histogram2dcontour"
           }
          ],
          "mesh3d": [
           {
            "colorbar": {
             "outlinewidth": 0,
             "ticks": ""
            },
            "type": "mesh3d"
           }
          ],
          "parcoords": [
           {
            "line": {
             "colorbar": {
              "outlinewidth": 0,
              "ticks": ""
             }
            },
            "type": "parcoords"
           }
          ],
          "pie": [
           {
            "automargin": true,
            "type": "pie"
           }
          ],
          "scatter": [
           {
            "fillpattern": {
             "fillmode": "overlay",
             "size": 10,
             "solidity": 0.2
            },
            "type": "scatter"
           }
          ],
          "scatter3d": [
           {
            "line": {
             "colorbar": {
              "outlinewidth": 0,
              "ticks": ""
             }
            },
            "marker": {
             "colorbar": {
              "outlinewidth": 0,
              "ticks": ""
             }
            },
            "type": "scatter3d"
           }
          ],
          "scattercarpet": [
           {
            "marker": {
             "colorbar": {
              "outlinewidth": 0,
              "ticks": ""
             }
            },
            "type": "scattercarpet"
           }
          ],
          "scattergeo": [
           {
            "marker": {
             "colorbar": {
              "outlinewidth": 0,
              "ticks": ""
             }
            },
            "type": "scattergeo"
           }
          ],
          "scattergl": [
           {
            "marker": {
             "colorbar": {
              "outlinewidth": 0,
              "ticks": ""
             }
            },
            "type": "scattergl"
           }
          ],
          "scattermapbox": [
           {
            "marker": {
             "colorbar": {
              "outlinewidth": 0,
              "ticks": ""
             }
            },
            "type": "scattermapbox"
           }
          ],
          "scatterpolar": [
           {
            "marker": {
             "colorbar": {
              "outlinewidth": 0,
              "ticks": ""
             }
            },
            "type": "scatterpolar"
           }
          ],
          "scatterpolargl": [
           {
            "marker": {
             "colorbar": {
              "outlinewidth": 0,
              "ticks": ""
             }
            },
            "type": "scatterpolargl"
           }
          ],
          "scatterternary": [
           {
            "marker": {
             "colorbar": {
              "outlinewidth": 0,
              "ticks": ""
             }
            },
            "type": "scatterternary"
           }
          ],
          "surface": [
           {
            "colorbar": {
             "outlinewidth": 0,
             "ticks": ""
            },
            "colorscale": [
             [
              0,
              "#0d0887"
             ],
             [
              0.1111111111111111,
              "#46039f"
             ],
             [
              0.2222222222222222,
              "#7201a8"
             ],
             [
              0.3333333333333333,
              "#9c179e"
             ],
             [
              0.4444444444444444,
              "#bd3786"
             ],
             [
              0.5555555555555556,
              "#d8576b"
             ],
             [
              0.6666666666666666,
              "#ed7953"
             ],
             [
              0.7777777777777778,
              "#fb9f3a"
             ],
             [
              0.8888888888888888,
              "#fdca26"
             ],
             [
              1,
              "#f0f921"
             ]
            ],
            "type": "surface"
           }
          ],
          "table": [
           {
            "cells": {
             "fill": {
              "color": "#EBF0F8"
             },
             "line": {
              "color": "white"
             }
            },
            "header": {
             "fill": {
              "color": "#C8D4E3"
             },
             "line": {
              "color": "white"
             }
            },
            "type": "table"
           }
          ]
         },
         "layout": {
          "annotationdefaults": {
           "arrowcolor": "#2a3f5f",
           "arrowhead": 0,
           "arrowwidth": 1
          },
          "autotypenumbers": "strict",
          "coloraxis": {
           "colorbar": {
            "outlinewidth": 0,
            "ticks": ""
           }
          },
          "colorscale": {
           "diverging": [
            [
             0,
             "#8e0152"
            ],
            [
             0.1,
             "#c51b7d"
            ],
            [
             0.2,
             "#de77ae"
            ],
            [
             0.3,
             "#f1b6da"
            ],
            [
             0.4,
             "#fde0ef"
            ],
            [
             0.5,
             "#f7f7f7"
            ],
            [
             0.6,
             "#e6f5d0"
            ],
            [
             0.7,
             "#b8e186"
            ],
            [
             0.8,
             "#7fbc41"
            ],
            [
             0.9,
             "#4d9221"
            ],
            [
             1,
             "#276419"
            ]
           ],
           "sequential": [
            [
             0,
             "#0d0887"
            ],
            [
             0.1111111111111111,
             "#46039f"
            ],
            [
             0.2222222222222222,
             "#7201a8"
            ],
            [
             0.3333333333333333,
             "#9c179e"
            ],
            [
             0.4444444444444444,
             "#bd3786"
            ],
            [
             0.5555555555555556,
             "#d8576b"
            ],
            [
             0.6666666666666666,
             "#ed7953"
            ],
            [
             0.7777777777777778,
             "#fb9f3a"
            ],
            [
             0.8888888888888888,
             "#fdca26"
            ],
            [
             1,
             "#f0f921"
            ]
           ],
           "sequentialminus": [
            [
             0,
             "#0d0887"
            ],
            [
             0.1111111111111111,
             "#46039f"
            ],
            [
             0.2222222222222222,
             "#7201a8"
            ],
            [
             0.3333333333333333,
             "#9c179e"
            ],
            [
             0.4444444444444444,
             "#bd3786"
            ],
            [
             0.5555555555555556,
             "#d8576b"
            ],
            [
             0.6666666666666666,
             "#ed7953"
            ],
            [
             0.7777777777777778,
             "#fb9f3a"
            ],
            [
             0.8888888888888888,
             "#fdca26"
            ],
            [
             1,
             "#f0f921"
            ]
           ]
          },
          "colorway": [
           "#636efa",
           "#EF553B",
           "#00cc96",
           "#ab63fa",
           "#FFA15A",
           "#19d3f3",
           "#FF6692",
           "#B6E880",
           "#FF97FF",
           "#FECB52"
          ],
          "font": {
           "color": "#2a3f5f"
          },
          "geo": {
           "bgcolor": "white",
           "lakecolor": "white",
           "landcolor": "#E5ECF6",
           "showlakes": true,
           "showland": true,
           "subunitcolor": "white"
          },
          "hoverlabel": {
           "align": "left"
          },
          "hovermode": "closest",
          "mapbox": {
           "style": "light"
          },
          "paper_bgcolor": "white",
          "plot_bgcolor": "#E5ECF6",
          "polar": {
           "angularaxis": {
            "gridcolor": "white",
            "linecolor": "white",
            "ticks": ""
           },
           "bgcolor": "#E5ECF6",
           "radialaxis": {
            "gridcolor": "white",
            "linecolor": "white",
            "ticks": ""
           }
          },
          "scene": {
           "xaxis": {
            "backgroundcolor": "#E5ECF6",
            "gridcolor": "white",
            "gridwidth": 2,
            "linecolor": "white",
            "showbackground": true,
            "ticks": "",
            "zerolinecolor": "white"
           },
           "yaxis": {
            "backgroundcolor": "#E5ECF6",
            "gridcolor": "white",
            "gridwidth": 2,
            "linecolor": "white",
            "showbackground": true,
            "ticks": "",
            "zerolinecolor": "white"
           },
           "zaxis": {
            "backgroundcolor": "#E5ECF6",
            "gridcolor": "white",
            "gridwidth": 2,
            "linecolor": "white",
            "showbackground": true,
            "ticks": "",
            "zerolinecolor": "white"
           }
          },
          "shapedefaults": {
           "line": {
            "color": "#2a3f5f"
           }
          },
          "ternary": {
           "aaxis": {
            "gridcolor": "white",
            "linecolor": "white",
            "ticks": ""
           },
           "baxis": {
            "gridcolor": "white",
            "linecolor": "white",
            "ticks": ""
           },
           "bgcolor": "#E5ECF6",
           "caxis": {
            "gridcolor": "white",
            "linecolor": "white",
            "ticks": ""
           }
          },
          "title": {
           "x": 0.05
          },
          "xaxis": {
           "automargin": true,
           "gridcolor": "white",
           "linecolor": "white",
           "ticks": "",
           "title": {
            "standoff": 15
           },
           "zerolinecolor": "white",
           "zerolinewidth": 2
          },
          "yaxis": {
           "automargin": true,
           "gridcolor": "white",
           "linecolor": "white",
           "ticks": "",
           "title": {
            "standoff": 15
           },
           "zerolinecolor": "white",
           "zerolinewidth": 2
          }
         }
        },
        "title": {
         "text": "Porcentaje de jugadores"
        }
       }
      },
      "text/html": [
       "<div>                            <div id=\"ab03547d-f656-4754-b2e8-5cd6d2a5bfe0\" class=\"plotly-graph-div\" style=\"height:525px; width:100%;\"></div>            <script type=\"text/javascript\">                require([\"plotly\"], function(Plotly) {                    window.PLOTLYENV=window.PLOTLYENV || {};                                    if (document.getElementById(\"ab03547d-f656-4754-b2e8-5cd6d2a5bfe0\")) {                    Plotly.newPlot(                        \"ab03547d-f656-4754-b2e8-5cd6d2a5bfe0\",                        [{\"domain\":{\"x\":[0,0.5]},\"hole\":0.3,\"hoverinfo\":\"label+percent+name\",\"labels\":[\"MHW\",\"LA\",\"ER\"],\"name\":\"Number Of Students Rates\",\"values\":[31340.0,52358,56959],\"type\":\"pie\"}],                        {\"annotations\":[{\"font\":{\"size\":20},\"showarrow\":false,\"text\":\"Jugadores por juegos\",\"x\":0.13,\"y\":1.1}],\"template\":{\"data\":{\"barpolar\":[{\"marker\":{\"line\":{\"color\":\"#E5ECF6\",\"width\":0.5},\"pattern\":{\"fillmode\":\"overlay\",\"size\":10,\"solidity\":0.2}},\"type\":\"barpolar\"}],\"bar\":[{\"error_x\":{\"color\":\"#2a3f5f\"},\"error_y\":{\"color\":\"#2a3f5f\"},\"marker\":{\"line\":{\"color\":\"#E5ECF6\",\"width\":0.5},\"pattern\":{\"fillmode\":\"overlay\",\"size\":10,\"solidity\":0.2}},\"type\":\"bar\"}],\"carpet\":[{\"aaxis\":{\"endlinecolor\":\"#2a3f5f\",\"gridcolor\":\"white\",\"linecolor\":\"white\",\"minorgridcolor\":\"white\",\"startlinecolor\":\"#2a3f5f\"},\"baxis\":{\"endlinecolor\":\"#2a3f5f\",\"gridcolor\":\"white\",\"linecolor\":\"white\",\"minorgridcolor\":\"white\",\"startlinecolor\":\"#2a3f5f\"},\"type\":\"carpet\"}],\"choropleth\":[{\"colorbar\":{\"outlinewidth\":0,\"ticks\":\"\"},\"type\":\"choropleth\"}],\"contourcarpet\":[{\"colorbar\":{\"outlinewidth\":0,\"ticks\":\"\"},\"type\":\"contourcarpet\"}],\"contour\":[{\"colorbar\":{\"outlinewidth\":0,\"ticks\":\"\"},\"colorscale\":[[0.0,\"#0d0887\"],[0.1111111111111111,\"#46039f\"],[0.2222222222222222,\"#7201a8\"],[0.3333333333333333,\"#9c179e\"],[0.4444444444444444,\"#bd3786\"],[0.5555555555555556,\"#d8576b\"],[0.6666666666666666,\"#ed7953\"],[0.7777777777777778,\"#fb9f3a\"],[0.8888888888888888,\"#fdca26\"],[1.0,\"#f0f921\"]],\"type\":\"contour\"}],\"heatmapgl\":[{\"colorbar\":{\"outlinewidth\":0,\"ticks\":\"\"},\"colorscale\":[[0.0,\"#0d0887\"],[0.1111111111111111,\"#46039f\"],[0.2222222222222222,\"#7201a8\"],[0.3333333333333333,\"#9c179e\"],[0.4444444444444444,\"#bd3786\"],[0.5555555555555556,\"#d8576b\"],[0.6666666666666666,\"#ed7953\"],[0.7777777777777778,\"#fb9f3a\"],[0.8888888888888888,\"#fdca26\"],[1.0,\"#f0f921\"]],\"type\":\"heatmapgl\"}],\"heatmap\":[{\"colorbar\":{\"outlinewidth\":0,\"ticks\":\"\"},\"colorscale\":[[0.0,\"#0d0887\"],[0.1111111111111111,\"#46039f\"],[0.2222222222222222,\"#7201a8\"],[0.3333333333333333,\"#9c179e\"],[0.4444444444444444,\"#bd3786\"],[0.5555555555555556,\"#d8576b\"],[0.6666666666666666,\"#ed7953\"],[0.7777777777777778,\"#fb9f3a\"],[0.8888888888888888,\"#fdca26\"],[1.0,\"#f0f921\"]],\"type\":\"heatmap\"}],\"histogram2dcontour\":[{\"colorbar\":{\"outlinewidth\":0,\"ticks\":\"\"},\"colorscale\":[[0.0,\"#0d0887\"],[0.1111111111111111,\"#46039f\"],[0.2222222222222222,\"#7201a8\"],[0.3333333333333333,\"#9c179e\"],[0.4444444444444444,\"#bd3786\"],[0.5555555555555556,\"#d8576b\"],[0.6666666666666666,\"#ed7953\"],[0.7777777777777778,\"#fb9f3a\"],[0.8888888888888888,\"#fdca26\"],[1.0,\"#f0f921\"]],\"type\":\"histogram2dcontour\"}],\"histogram2d\":[{\"colorbar\":{\"outlinewidth\":0,\"ticks\":\"\"},\"colorscale\":[[0.0,\"#0d0887\"],[0.1111111111111111,\"#46039f\"],[0.2222222222222222,\"#7201a8\"],[0.3333333333333333,\"#9c179e\"],[0.4444444444444444,\"#bd3786\"],[0.5555555555555556,\"#d8576b\"],[0.6666666666666666,\"#ed7953\"],[0.7777777777777778,\"#fb9f3a\"],[0.8888888888888888,\"#fdca26\"],[1.0,\"#f0f921\"]],\"type\":\"histogram2d\"}],\"histogram\":[{\"marker\":{\"pattern\":{\"fillmode\":\"overlay\",\"size\":10,\"solidity\":0.2}},\"type\":\"histogram\"}],\"mesh3d\":[{\"colorbar\":{\"outlinewidth\":0,\"ticks\":\"\"},\"type\":\"mesh3d\"}],\"parcoords\":[{\"line\":{\"colorbar\":{\"outlinewidth\":0,\"ticks\":\"\"}},\"type\":\"parcoords\"}],\"pie\":[{\"automargin\":true,\"type\":\"pie\"}],\"scatter3d\":[{\"line\":{\"colorbar\":{\"outlinewidth\":0,\"ticks\":\"\"}},\"marker\":{\"colorbar\":{\"outlinewidth\":0,\"ticks\":\"\"}},\"type\":\"scatter3d\"}],\"scattercarpet\":[{\"marker\":{\"colorbar\":{\"outlinewidth\":0,\"ticks\":\"\"}},\"type\":\"scattercarpet\"}],\"scattergeo\":[{\"marker\":{\"colorbar\":{\"outlinewidth\":0,\"ticks\":\"\"}},\"type\":\"scattergeo\"}],\"scattergl\":[{\"marker\":{\"colorbar\":{\"outlinewidth\":0,\"ticks\":\"\"}},\"type\":\"scattergl\"}],\"scattermapbox\":[{\"marker\":{\"colorbar\":{\"outlinewidth\":0,\"ticks\":\"\"}},\"type\":\"scattermapbox\"}],\"scatterpolargl\":[{\"marker\":{\"colorbar\":{\"outlinewidth\":0,\"ticks\":\"\"}},\"type\":\"scatterpolargl\"}],\"scatterpolar\":[{\"marker\":{\"colorbar\":{\"outlinewidth\":0,\"ticks\":\"\"}},\"type\":\"scatterpolar\"}],\"scatter\":[{\"fillpattern\":{\"fillmode\":\"overlay\",\"size\":10,\"solidity\":0.2},\"type\":\"scatter\"}],\"scatterternary\":[{\"marker\":{\"colorbar\":{\"outlinewidth\":0,\"ticks\":\"\"}},\"type\":\"scatterternary\"}],\"surface\":[{\"colorbar\":{\"outlinewidth\":0,\"ticks\":\"\"},\"colorscale\":[[0.0,\"#0d0887\"],[0.1111111111111111,\"#46039f\"],[0.2222222222222222,\"#7201a8\"],[0.3333333333333333,\"#9c179e\"],[0.4444444444444444,\"#bd3786\"],[0.5555555555555556,\"#d8576b\"],[0.6666666666666666,\"#ed7953\"],[0.7777777777777778,\"#fb9f3a\"],[0.8888888888888888,\"#fdca26\"],[1.0,\"#f0f921\"]],\"type\":\"surface\"}],\"table\":[{\"cells\":{\"fill\":{\"color\":\"#EBF0F8\"},\"line\":{\"color\":\"white\"}},\"header\":{\"fill\":{\"color\":\"#C8D4E3\"},\"line\":{\"color\":\"white\"}},\"type\":\"table\"}]},\"layout\":{\"annotationdefaults\":{\"arrowcolor\":\"#2a3f5f\",\"arrowhead\":0,\"arrowwidth\":1},\"autotypenumbers\":\"strict\",\"coloraxis\":{\"colorbar\":{\"outlinewidth\":0,\"ticks\":\"\"}},\"colorscale\":{\"diverging\":[[0,\"#8e0152\"],[0.1,\"#c51b7d\"],[0.2,\"#de77ae\"],[0.3,\"#f1b6da\"],[0.4,\"#fde0ef\"],[0.5,\"#f7f7f7\"],[0.6,\"#e6f5d0\"],[0.7,\"#b8e186\"],[0.8,\"#7fbc41\"],[0.9,\"#4d9221\"],[1,\"#276419\"]],\"sequential\":[[0.0,\"#0d0887\"],[0.1111111111111111,\"#46039f\"],[0.2222222222222222,\"#7201a8\"],[0.3333333333333333,\"#9c179e\"],[0.4444444444444444,\"#bd3786\"],[0.5555555555555556,\"#d8576b\"],[0.6666666666666666,\"#ed7953\"],[0.7777777777777778,\"#fb9f3a\"],[0.8888888888888888,\"#fdca26\"],[1.0,\"#f0f921\"]],\"sequentialminus\":[[0.0,\"#0d0887\"],[0.1111111111111111,\"#46039f\"],[0.2222222222222222,\"#7201a8\"],[0.3333333333333333,\"#9c179e\"],[0.4444444444444444,\"#bd3786\"],[0.5555555555555556,\"#d8576b\"],[0.6666666666666666,\"#ed7953\"],[0.7777777777777778,\"#fb9f3a\"],[0.8888888888888888,\"#fdca26\"],[1.0,\"#f0f921\"]]},\"colorway\":[\"#636efa\",\"#EF553B\",\"#00cc96\",\"#ab63fa\",\"#FFA15A\",\"#19d3f3\",\"#FF6692\",\"#B6E880\",\"#FF97FF\",\"#FECB52\"],\"font\":{\"color\":\"#2a3f5f\"},\"geo\":{\"bgcolor\":\"white\",\"lakecolor\":\"white\",\"landcolor\":\"#E5ECF6\",\"showlakes\":true,\"showland\":true,\"subunitcolor\":\"white\"},\"hoverlabel\":{\"align\":\"left\"},\"hovermode\":\"closest\",\"mapbox\":{\"style\":\"light\"},\"paper_bgcolor\":\"white\",\"plot_bgcolor\":\"#E5ECF6\",\"polar\":{\"angularaxis\":{\"gridcolor\":\"white\",\"linecolor\":\"white\",\"ticks\":\"\"},\"bgcolor\":\"#E5ECF6\",\"radialaxis\":{\"gridcolor\":\"white\",\"linecolor\":\"white\",\"ticks\":\"\"}},\"scene\":{\"xaxis\":{\"backgroundcolor\":\"#E5ECF6\",\"gridcolor\":\"white\",\"gridwidth\":2,\"linecolor\":\"white\",\"showbackground\":true,\"ticks\":\"\",\"zerolinecolor\":\"white\"},\"yaxis\":{\"backgroundcolor\":\"#E5ECF6\",\"gridcolor\":\"white\",\"gridwidth\":2,\"linecolor\":\"white\",\"showbackground\":true,\"ticks\":\"\",\"zerolinecolor\":\"white\"},\"zaxis\":{\"backgroundcolor\":\"#E5ECF6\",\"gridcolor\":\"white\",\"gridwidth\":2,\"linecolor\":\"white\",\"showbackground\":true,\"ticks\":\"\",\"zerolinecolor\":\"white\"}},\"shapedefaults\":{\"line\":{\"color\":\"#2a3f5f\"}},\"ternary\":{\"aaxis\":{\"gridcolor\":\"white\",\"linecolor\":\"white\",\"ticks\":\"\"},\"baxis\":{\"gridcolor\":\"white\",\"linecolor\":\"white\",\"ticks\":\"\"},\"bgcolor\":\"#E5ECF6\",\"caxis\":{\"gridcolor\":\"white\",\"linecolor\":\"white\",\"ticks\":\"\"}},\"title\":{\"x\":0.05},\"xaxis\":{\"automargin\":true,\"gridcolor\":\"white\",\"linecolor\":\"white\",\"ticks\":\"\",\"title\":{\"standoff\":15},\"zerolinecolor\":\"white\",\"zerolinewidth\":2},\"yaxis\":{\"automargin\":true,\"gridcolor\":\"white\",\"linecolor\":\"white\",\"ticks\":\"\",\"title\":{\"standoff\":15},\"zerolinecolor\":\"white\",\"zerolinewidth\":2}}},\"title\":{\"text\":\"Porcentaje de jugadores\"}},                        {\"responsive\": true}                    ).then(function(){\n",
       "                            \n",
       "var gd = document.getElementById('ab03547d-f656-4754-b2e8-5cd6d2a5bfe0');\n",
       "var x = new MutationObserver(function (mutations, observer) {{\n",
       "        var display = window.getComputedStyle(gd).display;\n",
       "        if (!display || display === 'none') {{\n",
       "            console.log([gd, 'removed!']);\n",
       "            Plotly.purge(gd);\n",
       "            observer.disconnect();\n",
       "        }}\n",
       "}});\n",
       "\n",
       "// Listen for the removal of the full notebook cells\n",
       "var notebookContainer = gd.closest('#notebook-container');\n",
       "if (notebookContainer) {{\n",
       "    x.observe(notebookContainer, {childList: true});\n",
       "}}\n",
       "\n",
       "// Listen for the clearing of the current output cell\n",
       "var outputEl = gd.closest('.output');\n",
       "if (outputEl) {{\n",
       "    x.observe(outputEl, {childList: true});\n",
       "}}\n",
       "\n",
       "                        })                };                });            </script>        </div>"
      ]
     },
     "metadata": {},
     "output_type": "display_data"
    }
   ],
   "source": [
    "# Para la presentacion, pondre la leyenda al lado, queda un poco raro no lo voy a negar hehe\n",
    "#Hora de los quesitos, dejo de decir \"quesitos\" que me entra hambre.\n",
    "colors = sns.color_palette('pastel')[0:5]\n",
    "\n",
    "data = [MHW, LA, ER]\n",
    "labels = ['MHW', 'LA', 'ER']\n",
    "\n",
    "fig = {\n",
    "  \"data\": [\n",
    "    {\n",
    "      \"values\": data,\n",
    "      \"labels\": labels,\n",
    "      \"domain\": {\"x\": [0, .5]},\n",
    "      \"name\": \"Number Of Students Rates\",\n",
    "      \"hoverinfo\":\"label+percent+name\",\n",
    "      \"hole\": 0.3,\n",
    "      \"type\": \"pie\"\n",
    "    },],\n",
    "  \"layout\": {\n",
    "        \"title\":\"Porcentaje de jugadores\",\n",
    "        \"annotations\": [\n",
    "            { \"font\": { \"size\": 20},\n",
    "              \"showarrow\": False,\n",
    "              \"text\": \"Jugadores por juegos\",\n",
    "                \"x\": 0.13,\n",
    "                \"y\": 1.1\n",
    "            },\n",
    "        ]\n",
    "    }\n",
    "}\n",
    "iplot(fig)"
   ]
  },
  {
   "cell_type": "code",
   "execution_count": 100,
   "metadata": {},
   "outputs": [],
   "source": [
    "#Sigue siendo realmente curioso que un juego como Elden Ring, tenga mas jugadores que un MMO con contenido constante, lo dicho, lo que pasa con malas decisiones, y con buenas."
   ]
  },
  {
   "cell_type": "code",
   "execution_count": 101,
   "metadata": {},
   "outputs": [],
   "source": [
    "#por ultimo, las estadisticias segun steamDB del Monster Hunter World, sacadas a traves de web scrapping con Selenium\n",
    "#La ruta al archivo es proyecto analisis de datos\\codigo\\STEAMDB"
   ]
  },
  {
   "cell_type": "code",
   "execution_count": 102,
   "metadata": {},
   "outputs": [],
   "source": [
    "stats = pd.read_csv(\"../Datos procesados/stats MHW SteamDB.csv\")\n",
    "stats = stats.drop([\"Unnamed: 0\"], axis=1)"
   ]
  },
  {
   "cell_type": "code",
   "execution_count": 103,
   "metadata": {},
   "outputs": [
    {
     "data": {
      "text/html": [
       "<div>\n",
       "<style scoped>\n",
       "    .dataframe tbody tr th:only-of-type {\n",
       "        vertical-align: middle;\n",
       "    }\n",
       "\n",
       "    .dataframe tbody tr th {\n",
       "        vertical-align: top;\n",
       "    }\n",
       "\n",
       "    .dataframe thead th {\n",
       "        text-align: right;\n",
       "    }\n",
       "</style>\n",
       "<table border=\"1\" class=\"dataframe\">\n",
       "  <thead>\n",
       "    <tr style=\"text-align: right;\">\n",
       "      <th></th>\n",
       "      <th>stats</th>\n",
       "    </tr>\n",
       "  </thead>\n",
       "  <tbody>\n",
       "    <tr>\n",
       "      <th>0</th>\n",
       "      <td>24,748 players live on Steam</td>\n",
       "    </tr>\n",
       "    <tr>\n",
       "      <th>1</th>\n",
       "      <td>35,022 24-hour peak</td>\n",
       "    </tr>\n",
       "    <tr>\n",
       "      <th>2</th>\n",
       "      <td>334,684 all-time peak 5 years ago</td>\n",
       "    </tr>\n",
       "    <tr>\n",
       "      <th>3</th>\n",
       "      <td>637 viewers right now</td>\n",
       "    </tr>\n",
       "    <tr>\n",
       "      <th>4</th>\n",
       "      <td>3,691 24-hour peak</td>\n",
       "    </tr>\n",
       "    <tr>\n",
       "      <th>5</th>\n",
       "      <td>169,921 all-time peak 6 years ago</td>\n",
       "    </tr>\n",
       "    <tr>\n",
       "      <th>6</th>\n",
       "      <td>813,299 followers</td>\n",
       "    </tr>\n",
       "    <tr>\n",
       "      <th>7</th>\n",
       "      <td>#106 in top sellers</td>\n",
       "    </tr>\n",
       "    <tr>\n",
       "      <th>8</th>\n",
       "      <td>340,488 positive reviews</td>\n",
       "    </tr>\n",
       "    <tr>\n",
       "      <th>9</th>\n",
       "      <td>52,915 negative reviews</td>\n",
       "    </tr>\n",
       "    <tr>\n",
       "      <th>10</th>\n",
       "      <td>86.55% positive reviews</td>\n",
       "    </tr>\n",
       "  </tbody>\n",
       "</table>\n",
       "</div>"
      ],
      "text/plain": [
       "                                stats\n",
       "0        24,748 players live on Steam\n",
       "1                 35,022 24-hour peak\n",
       "2   334,684 all-time peak 5 years ago\n",
       "3               637 viewers right now\n",
       "4                  3,691 24-hour peak\n",
       "5   169,921 all-time peak 6 years ago\n",
       "6                   813,299 followers\n",
       "7                 #106 in top sellers\n",
       "8            340,488 positive reviews\n",
       "9             52,915 negative reviews\n",
       "10            86.55% positive reviews"
      ]
     },
     "execution_count": 103,
     "metadata": {},
     "output_type": "execute_result"
    }
   ],
   "source": [
    "#Esto es solo informacion extra, nada que añadir.\n",
    "stats"
   ]
  },
  {
   "cell_type": "code",
   "execution_count": 104,
   "metadata": {},
   "outputs": [],
   "source": [
    "\"\"\"\n",
    "CONCLUSION FINAL:\n",
    "\n",
    "Hipotesis principal: Se cumple que, si el juego se adapta bien, puede ser un exito absoluto, todo esta explicado mas arriba.\n",
    "Hipotesis 2: Lost Ark lo demuestra, esto estara explicado en la presentacion, pero Lost Ark es mas sexualizado y vende mas por sus personajes.\n",
    "Hipotesis 3: El caso de la caida de Monster Hunter Frontier lo demuestra, un juego hardcore que cerro por falta de jugadores.\n",
    "Hipotesis 4: La comunidad no pidio mucho del contenido que vino con Monster Hunter, el caso del Alatreon demuestra que, aunque no sea lo que la comunidad pide, esta reaccionara e incluso se alegrara (algunos almenos)\n",
    "Hipotesis 5: simplemente mencionare el caso de No Mans's sky, solo lo mencionare para corroborar este punto\n",
    "\n",
    "Un juego Hardcore JAMAS progresara bien en el tiempo, el contenido puede ser bien recivido como algo opcional, pero mantener contenido dificil puede provocar la perdida de los que no quieren acostumbrarse a ese contenido.\n",
    "la gente por lo general, quiere contenido que se pueda completar bien y que ademas, puedan sentir su propia mejoria y un avance en cuestion de contenido.\n",
    "Ademas, mucha gente juega despues del trabajo, o para relajarse, no todos quieren CONTENIDOULTRAHARDCORE y blablabla\n",
    "Muchos quieren desconectar, relajarse, sentirse bien tras completar un pequeño desafio y lo mas importante de todo. Divertirse.\n",
    "\n",
    "Hasta aqui la memoria de este proyecto, revisar presentacion por si algun punto ha quedado mal explicado, mas que nada, las imagenes.\n",
    "\"\"\";"
   ]
  }
 ],
 "metadata": {
  "kernelspec": {
   "display_name": "Python 3",
   "language": "python",
   "name": "python3"
  },
  "language_info": {
   "codemirror_mode": {
    "name": "ipython",
    "version": 3
   },
   "file_extension": ".py",
   "mimetype": "text/x-python",
   "name": "python",
   "nbconvert_exporter": "python",
   "pygments_lexer": "ipython3",
   "version": "3.11.3"
  }
 },
 "nbformat": 4,
 "nbformat_minor": 2
}
