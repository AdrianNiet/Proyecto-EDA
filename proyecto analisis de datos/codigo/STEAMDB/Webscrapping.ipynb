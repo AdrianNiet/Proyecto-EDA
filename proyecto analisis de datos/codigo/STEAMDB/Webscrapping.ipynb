{
 "cells": [
  {
   "cell_type": "code",
   "execution_count": 257,
   "metadata": {},
   "outputs": [],
   "source": [
    "from selenium import webdriver\n",
    "from selenium.webdriver.chrome.service import Service\n",
    "from selenium.webdriver.common.by import By\n",
    "import re\n",
    "import time\n",
    "import pandas as pd"
   ]
  },
  {
   "cell_type": "code",
   "execution_count": null,
   "metadata": {},
   "outputs": [],
   "source": [
    "#El objetivo de esta parte es basicamente hacer un web scrapping with Selenium.\n",
    "#Mas que nada por tocarlo y ver si puedo sacarlo, soup no funciona para steamDB ya que ellos no quieren.\n",
    "#Haciendo esto, la verdad, selenium es bastante facil de usar una vez accedes a la pagina."
   ]
  },
  {
   "cell_type": "code",
   "execution_count": 258,
   "metadata": {},
   "outputs": [],
   "source": [
    "service = Service(executable_path='./chromedriver.exe')\n",
    "options = webdriver.ChromeOptions()"
   ]
  },
  {
   "cell_type": "code",
   "execution_count": 259,
   "metadata": {},
   "outputs": [],
   "source": [
    "driver = webdriver.Chrome(service=service, options=options)"
   ]
  },
  {
   "cell_type": "code",
   "execution_count": 260,
   "metadata": {},
   "outputs": [],
   "source": [
    "driver.get(\"http://www.google.es\")"
   ]
  },
  {
   "cell_type": "code",
   "execution_count": 261,
   "metadata": {},
   "outputs": [],
   "source": [
    "loadMore = driver.find_element(By.XPATH, '/html/body/div[2]/div[3]/div[3]/span/div/div/div/div[3]/div[1]/button[1]/div')"
   ]
  },
  {
   "cell_type": "code",
   "execution_count": 262,
   "metadata": {},
   "outputs": [],
   "source": [
    "loadMore.click()"
   ]
  },
  {
   "cell_type": "code",
   "execution_count": 263,
   "metadata": {},
   "outputs": [],
   "source": [
    "#aqui ya accedemos a la pagina de Monster Hunter world, de donde sacaremos datos.\n",
    "search_box = driver.find_element(By.XPATH, \"/html/body/div[1]/div[3]/form/div[1]/div[1]/div[1]/div/div[2]/textarea\")\n",
    "url = 'https://steamdb.info/app/582010/charts/'\n",
    "driver.get(url)"
   ]
  },
  {
   "cell_type": "code",
   "execution_count": 301,
   "metadata": {},
   "outputs": [],
   "source": [
    "#Usando la ruta como la tengo, cojo \"toda la cajita\" de datos, una de twitch, jugadores actuales, etc.\n",
    "players = driver.find_element(By.XPATH, \"/html/body/div[4]/div[2]/div[2]/div/div[2]/div[4]/div[5]/div[1]/ul\").text.split(\"\\n\")\n",
    "twitch = driver.find_element(By.XPATH, \"/html/body/div[4]/div[2]/div[2]/div/div[2]/div[4]/div[5]/div[2]/ul\").text.split(\"\\n\")\n",
    "stats = driver.find_element(By.XPATH, \"/html/body/div[4]/div[2]/div[2]/div/div[2]/div[4]/div[5]/div[3]/ul\").text.split(\"\\n\")"
   ]
  },
  {
   "cell_type": "code",
   "execution_count": 322,
   "metadata": {},
   "outputs": [
    {
     "data": {
      "text/plain": [
       "['813,299 followers',\n",
       " '#106 in top sellers',\n",
       " '340,488 positive reviews',\n",
       " '52,915 negative reviews',\n",
       " '86.55% positive reviews']"
      ]
     },
     "execution_count": 322,
     "metadata": {},
     "output_type": "execute_result"
    }
   ],
   "source": [
    "#aqui un ejemplo de lo que queda.\n",
    "stats"
   ]
  },
  {
   "cell_type": "code",
   "execution_count": 306,
   "metadata": {},
   "outputs": [],
   "source": [
    "#cada lista sera una dataframe, que combinaremos despues.\n",
    "df1 = pd.DataFrame(players,columns=[\"stats\"])\n",
    "df2 = pd.DataFrame(twitch,columns=[\"stats\"])\n",
    "df3 = pd.DataFrame(stats,columns=[\"stats\"])"
   ]
  },
  {
   "cell_type": "code",
   "execution_count": 320,
   "metadata": {},
   "outputs": [
    {
     "data": {
      "text/html": [
       "<div>\n",
       "<style scoped>\n",
       "    .dataframe tbody tr th:only-of-type {\n",
       "        vertical-align: middle;\n",
       "    }\n",
       "\n",
       "    .dataframe tbody tr th {\n",
       "        vertical-align: top;\n",
       "    }\n",
       "\n",
       "    .dataframe thead th {\n",
       "        text-align: right;\n",
       "    }\n",
       "</style>\n",
       "<table border=\"1\" class=\"dataframe\">\n",
       "  <thead>\n",
       "    <tr style=\"text-align: right;\">\n",
       "      <th></th>\n",
       "      <th>stats</th>\n",
       "    </tr>\n",
       "  </thead>\n",
       "  <tbody>\n",
       "    <tr>\n",
       "      <th>0</th>\n",
       "      <td>24,748 players live on Steam</td>\n",
       "    </tr>\n",
       "    <tr>\n",
       "      <th>1</th>\n",
       "      <td>35,022 24-hour peak</td>\n",
       "    </tr>\n",
       "    <tr>\n",
       "      <th>2</th>\n",
       "      <td>334,684 all-time peak 5 years ago</td>\n",
       "    </tr>\n",
       "    <tr>\n",
       "      <th>3</th>\n",
       "      <td>637 viewers right now</td>\n",
       "    </tr>\n",
       "    <tr>\n",
       "      <th>4</th>\n",
       "      <td>3,691 24-hour peak</td>\n",
       "    </tr>\n",
       "    <tr>\n",
       "      <th>5</th>\n",
       "      <td>169,921 all-time peak 6 years ago</td>\n",
       "    </tr>\n",
       "    <tr>\n",
       "      <th>6</th>\n",
       "      <td>813,299 followers</td>\n",
       "    </tr>\n",
       "    <tr>\n",
       "      <th>7</th>\n",
       "      <td>#106 in top sellers</td>\n",
       "    </tr>\n",
       "    <tr>\n",
       "      <th>8</th>\n",
       "      <td>340,488 positive reviews</td>\n",
       "    </tr>\n",
       "    <tr>\n",
       "      <th>9</th>\n",
       "      <td>52,915 negative reviews</td>\n",
       "    </tr>\n",
       "    <tr>\n",
       "      <th>10</th>\n",
       "      <td>86.55% positive reviews</td>\n",
       "    </tr>\n",
       "  </tbody>\n",
       "</table>\n",
       "</div>"
      ],
      "text/plain": [
       "                                stats\n",
       "0        24,748 players live on Steam\n",
       "1                 35,022 24-hour peak\n",
       "2   334,684 all-time peak 5 years ago\n",
       "3               637 viewers right now\n",
       "4                  3,691 24-hour peak\n",
       "5   169,921 all-time peak 6 years ago\n",
       "6                   813,299 followers\n",
       "7                 #106 in top sellers\n",
       "8            340,488 positive reviews\n",
       "9             52,915 negative reviews\n",
       "10            86.55% positive reviews"
      ]
     },
     "execution_count": 320,
     "metadata": {},
     "output_type": "execute_result"
    }
   ],
   "source": [
    "#combinamos, reseteamos index y borramos el anterior, para que quede bien ordenado.\n",
    "df4 = pd.concat([df1,df2,df3], join=\"outer\")\n",
    "df4 = df4.reset_index()\n",
    "df4  = df4.drop([\"index\"],axis=1)\n",
    "df4"
   ]
  },
  {
   "cell_type": "code",
   "execution_count": 321,
   "metadata": {},
   "outputs": [],
   "source": [
    "#la guardo junto al resto\n",
    "df4.to_csv(\"../../Datos procesados/stats MHW SteamDB.csv\")"
   ]
  }
 ],
 "metadata": {
  "kernelspec": {
   "display_name": "Python 3",
   "language": "python",
   "name": "python3"
  },
  "language_info": {
   "codemirror_mode": {
    "name": "ipython",
    "version": 3
   },
   "file_extension": ".py",
   "mimetype": "text/x-python",
   "name": "python",
   "nbconvert_exporter": "python",
   "pygments_lexer": "ipython3",
   "version": "3.11.5"
  }
 },
 "nbformat": 4,
 "nbformat_minor": 2
}
