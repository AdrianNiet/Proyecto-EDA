{
 "cells": [
  {
   "cell_type": "code",
   "execution_count": 1,
   "metadata": {},
   "outputs": [],
   "source": [
    "from selenium import webdriver\n",
    "from selenium.webdriver.chrome.service import Service\n",
    "from selenium.webdriver.common.by import By\n",
    "import re\n",
    "import time\n",
    "import pandas as pd"
   ]
  },
  {
   "cell_type": "code",
   "execution_count": 2,
   "metadata": {},
   "outputs": [],
   "source": [
    "#El objetivo de esta parte es basicamente hacer un web scrapping with Selenium.\n",
    "#Mas que nada por tocarlo y ver si puedo sacarlo, soup no funciona para steamDB ya que ellos no quieren.\n",
    "#Haciendo esto, la verdad, selenium es bastante facil de usar una vez accedes a la pagina."
   ]
  },
  {
   "cell_type": "code",
   "execution_count": 3,
   "metadata": {},
   "outputs": [],
   "source": [
    "service = Service(executable_path='./chromedriver.exe')\n",
    "options = webdriver.ChromeOptions()"
   ]
  },
  {
   "cell_type": "code",
   "execution_count": 5,
   "metadata": {},
   "outputs": [
    {
     "ename": "ValueError",
     "evalue": "I/O operation on closed file",
     "output_type": "error",
     "traceback": [
      "\u001b[1;31m---------------------------------------------------------------------------\u001b[0m",
      "\u001b[1;31mValueError\u001b[0m                                Traceback (most recent call last)",
      "\u001b[1;32mc:\\Users\\adria\\Desktop\\data-analisys-main\\proyecto analisis de datos\\codigo\\STEAMDB\\Webscrapping.ipynb Cell 4\u001b[0m line \u001b[0;36m1\n\u001b[1;32m----> <a href='vscode-notebook-cell:/c%3A/Users/adria/Desktop/data-analisys-main/proyecto%20analisis%20de%20datos/codigo/STEAMDB/Webscrapping.ipynb#W3sZmlsZQ%3D%3D?line=0'>1</a>\u001b[0m driver \u001b[39m=\u001b[39m webdriver\u001b[39m.\u001b[39;49mChrome(service\u001b[39m=\u001b[39;49mservice, options\u001b[39m=\u001b[39;49moptions)\n",
      "File \u001b[1;32mc:\\Users\\adria\\AppData\\Local\\Programs\\Python\\Python311\\Lib\\site-packages\\selenium\\webdriver\\chrome\\webdriver.py:45\u001b[0m, in \u001b[0;36mWebDriver.__init__\u001b[1;34m(self, options, service, keep_alive)\u001b[0m\n\u001b[0;32m     42\u001b[0m service \u001b[39m=\u001b[39m service \u001b[39mif\u001b[39;00m service \u001b[39melse\u001b[39;00m Service()\n\u001b[0;32m     43\u001b[0m options \u001b[39m=\u001b[39m options \u001b[39mif\u001b[39;00m options \u001b[39melse\u001b[39;00m Options()\n\u001b[1;32m---> 45\u001b[0m \u001b[39msuper\u001b[39;49m()\u001b[39m.\u001b[39;49m\u001b[39m__init__\u001b[39;49m(\n\u001b[0;32m     46\u001b[0m     DesiredCapabilities\u001b[39m.\u001b[39;49mCHROME[\u001b[39m\"\u001b[39;49m\u001b[39mbrowserName\u001b[39;49m\u001b[39m\"\u001b[39;49m],\n\u001b[0;32m     47\u001b[0m     \u001b[39m\"\u001b[39;49m\u001b[39mgoog\u001b[39;49m\u001b[39m\"\u001b[39;49m,\n\u001b[0;32m     48\u001b[0m     options,\n\u001b[0;32m     49\u001b[0m     service,\n\u001b[0;32m     50\u001b[0m     keep_alive,\n\u001b[0;32m     51\u001b[0m )\n",
      "File \u001b[1;32mc:\\Users\\adria\\AppData\\Local\\Programs\\Python\\Python311\\Lib\\site-packages\\selenium\\webdriver\\chromium\\webdriver.py:53\u001b[0m, in \u001b[0;36mChromiumDriver.__init__\u001b[1;34m(self, browser_name, vendor_prefix, options, service, keep_alive)\u001b[0m\n\u001b[0;32m     49\u001b[0m \u001b[39mself\u001b[39m\u001b[39m.\u001b[39mservice \u001b[39m=\u001b[39m service\n\u001b[0;32m     51\u001b[0m \u001b[39mself\u001b[39m\u001b[39m.\u001b[39mservice\u001b[39m.\u001b[39mpath \u001b[39m=\u001b[39m DriverFinder\u001b[39m.\u001b[39mget_path(\u001b[39mself\u001b[39m\u001b[39m.\u001b[39mservice, options)\n\u001b[1;32m---> 53\u001b[0m \u001b[39mself\u001b[39;49m\u001b[39m.\u001b[39;49mservice\u001b[39m.\u001b[39;49mstart()\n\u001b[0;32m     55\u001b[0m \u001b[39mtry\u001b[39;00m:\n\u001b[0;32m     56\u001b[0m     \u001b[39msuper\u001b[39m()\u001b[39m.\u001b[39m\u001b[39m__init__\u001b[39m(\n\u001b[0;32m     57\u001b[0m         command_executor\u001b[39m=\u001b[39mChromiumRemoteConnection(\n\u001b[0;32m     58\u001b[0m             remote_server_addr\u001b[39m=\u001b[39m\u001b[39mself\u001b[39m\u001b[39m.\u001b[39mservice\u001b[39m.\u001b[39mservice_url,\n\u001b[1;32m   (...)\u001b[0m\n\u001b[0;32m     64\u001b[0m         options\u001b[39m=\u001b[39moptions,\n\u001b[0;32m     65\u001b[0m     )\n",
      "File \u001b[1;32mc:\\Users\\adria\\AppData\\Local\\Programs\\Python\\Python311\\Lib\\site-packages\\selenium\\webdriver\\common\\service.py:98\u001b[0m, in \u001b[0;36mService.start\u001b[1;34m(self)\u001b[0m\n\u001b[0;32m     91\u001b[0m \u001b[39mdef\u001b[39;00m \u001b[39mstart\u001b[39m(\u001b[39mself\u001b[39m) \u001b[39m-\u001b[39m\u001b[39m>\u001b[39m \u001b[39mNone\u001b[39;00m:\n\u001b[0;32m     92\u001b[0m \u001b[39m    \u001b[39m\u001b[39m\"\"\"Starts the Service.\u001b[39;00m\n\u001b[0;32m     93\u001b[0m \n\u001b[0;32m     94\u001b[0m \u001b[39m    :Exceptions:\u001b[39;00m\n\u001b[0;32m     95\u001b[0m \u001b[39m     - WebDriverException : Raised either when it can't start the service\u001b[39;00m\n\u001b[0;32m     96\u001b[0m \u001b[39m       or when it can't connect to the service\u001b[39;00m\n\u001b[0;32m     97\u001b[0m \u001b[39m    \"\"\"\u001b[39;00m\n\u001b[1;32m---> 98\u001b[0m     \u001b[39mself\u001b[39;49m\u001b[39m.\u001b[39;49m_start_process(\u001b[39mself\u001b[39;49m\u001b[39m.\u001b[39;49m_path)\n\u001b[0;32m    100\u001b[0m     count \u001b[39m=\u001b[39m \u001b[39m0\u001b[39m\n\u001b[0;32m    101\u001b[0m     \u001b[39mwhile\u001b[39;00m \u001b[39mTrue\u001b[39;00m:\n",
      "File \u001b[1;32mc:\\Users\\adria\\AppData\\Local\\Programs\\Python\\Python311\\Lib\\site-packages\\selenium\\webdriver\\common\\service.py:204\u001b[0m, in \u001b[0;36mService._start_process\u001b[1;34m(self, path)\u001b[0m\n\u001b[0;32m    201\u001b[0m         start_info\u001b[39m.\u001b[39mdwFlags \u001b[39m=\u001b[39m subprocess\u001b[39m.\u001b[39mCREATE_NEW_CONSOLE \u001b[39m|\u001b[39m subprocess\u001b[39m.\u001b[39mSTARTF_USESHOWWINDOW\n\u001b[0;32m    202\u001b[0m         start_info\u001b[39m.\u001b[39mwShowWindow \u001b[39m=\u001b[39m subprocess\u001b[39m.\u001b[39mSW_HIDE\n\u001b[1;32m--> 204\u001b[0m     \u001b[39mself\u001b[39m\u001b[39m.\u001b[39mprocess \u001b[39m=\u001b[39m subprocess\u001b[39m.\u001b[39;49mPopen(\n\u001b[0;32m    205\u001b[0m         cmd,\n\u001b[0;32m    206\u001b[0m         env\u001b[39m=\u001b[39;49m\u001b[39mself\u001b[39;49m\u001b[39m.\u001b[39;49menv,\n\u001b[0;32m    207\u001b[0m         close_fds\u001b[39m=\u001b[39;49mclose_file_descriptors,\n\u001b[0;32m    208\u001b[0m         stdout\u001b[39m=\u001b[39;49m\u001b[39mself\u001b[39;49m\u001b[39m.\u001b[39;49mlog_output,\n\u001b[0;32m    209\u001b[0m         stderr\u001b[39m=\u001b[39;49m\u001b[39mself\u001b[39;49m\u001b[39m.\u001b[39;49mlog_output,\n\u001b[0;32m    210\u001b[0m         stdin\u001b[39m=\u001b[39;49mPIPE,\n\u001b[0;32m    211\u001b[0m         creationflags\u001b[39m=\u001b[39;49m\u001b[39mself\u001b[39;49m\u001b[39m.\u001b[39;49mcreation_flags,\n\u001b[0;32m    212\u001b[0m         startupinfo\u001b[39m=\u001b[39;49mstart_info,\n\u001b[0;32m    213\u001b[0m         \u001b[39m*\u001b[39;49m\u001b[39m*\u001b[39;49m\u001b[39mself\u001b[39;49m\u001b[39m.\u001b[39;49mpopen_kw,\n\u001b[0;32m    214\u001b[0m     )\n\u001b[0;32m    215\u001b[0m     logger\u001b[39m.\u001b[39mdebug(\u001b[39m\"\u001b[39m\u001b[39mStarted executable: `\u001b[39m\u001b[39m%s\u001b[39;00m\u001b[39m` in a child process with pid: \u001b[39m\u001b[39m%s\u001b[39;00m\u001b[39m\"\u001b[39m, \u001b[39mself\u001b[39m\u001b[39m.\u001b[39m_path, \u001b[39mself\u001b[39m\u001b[39m.\u001b[39mprocess\u001b[39m.\u001b[39mpid)\n\u001b[0;32m    216\u001b[0m \u001b[39mexcept\u001b[39;00m \u001b[39mTypeError\u001b[39;00m:\n",
      "File \u001b[1;32mc:\\Users\\adria\\AppData\\Local\\Programs\\Python\\Python311\\Lib\\subprocess.py:892\u001b[0m, in \u001b[0;36mPopen.__init__\u001b[1;34m(self, args, bufsize, executable, stdin, stdout, stderr, preexec_fn, close_fds, shell, cwd, env, universal_newlines, startupinfo, creationflags, restore_signals, start_new_session, pass_fds, user, group, extra_groups, encoding, errors, text, umask, pipesize, process_group)\u001b[0m\n\u001b[0;32m    871\u001b[0m     \u001b[39mraise\u001b[39;00m SubprocessError(\u001b[39m'\u001b[39m\u001b[39mCannot disambiguate when both text \u001b[39m\u001b[39m'\u001b[39m\n\u001b[0;32m    872\u001b[0m                           \u001b[39m'\u001b[39m\u001b[39mand universal_newlines are supplied but \u001b[39m\u001b[39m'\u001b[39m\n\u001b[0;32m    873\u001b[0m                           \u001b[39m'\u001b[39m\u001b[39mdifferent. Pass one or the other.\u001b[39m\u001b[39m'\u001b[39m)\n\u001b[0;32m    875\u001b[0m \u001b[39m# Input and output objects. The general principle is like\u001b[39;00m\n\u001b[0;32m    876\u001b[0m \u001b[39m# this:\u001b[39;00m\n\u001b[0;32m    877\u001b[0m \u001b[39m#\u001b[39;00m\n\u001b[1;32m   (...)\u001b[0m\n\u001b[0;32m    887\u001b[0m \u001b[39m# are -1 when not using PIPEs. The child objects are -1\u001b[39;00m\n\u001b[0;32m    888\u001b[0m \u001b[39m# when not redirecting.\u001b[39;00m\n\u001b[0;32m    890\u001b[0m (p2cread, p2cwrite,\n\u001b[0;32m    891\u001b[0m  c2pread, c2pwrite,\n\u001b[1;32m--> 892\u001b[0m  errread, errwrite) \u001b[39m=\u001b[39m \u001b[39mself\u001b[39;49m\u001b[39m.\u001b[39;49m_get_handles(stdin, stdout, stderr)\n\u001b[0;32m    894\u001b[0m \u001b[39m# We wrap OS handles *before* launching the child, otherwise a\u001b[39;00m\n\u001b[0;32m    895\u001b[0m \u001b[39m# quickly terminating child could make our fds unwrappable\u001b[39;00m\n\u001b[0;32m    896\u001b[0m \u001b[39m# (see #8458).\u001b[39;00m\n\u001b[0;32m    898\u001b[0m \u001b[39mif\u001b[39;00m _mswindows:\n",
      "File \u001b[1;32mc:\\Users\\adria\\AppData\\Local\\Programs\\Python\\Python311\\Lib\\subprocess.py:1357\u001b[0m, in \u001b[0;36mPopen._get_handles\u001b[1;34m(self, stdin, stdout, stderr)\u001b[0m\n\u001b[0;32m   1354\u001b[0m     c2pwrite \u001b[39m=\u001b[39m msvcrt\u001b[39m.\u001b[39mget_osfhandle(stdout)\n\u001b[0;32m   1355\u001b[0m \u001b[39melse\u001b[39;00m:\n\u001b[0;32m   1356\u001b[0m     \u001b[39m# Assuming file-like object\u001b[39;00m\n\u001b[1;32m-> 1357\u001b[0m     c2pwrite \u001b[39m=\u001b[39m msvcrt\u001b[39m.\u001b[39mget_osfhandle(stdout\u001b[39m.\u001b[39;49mfileno())\n\u001b[0;32m   1358\u001b[0m c2pwrite \u001b[39m=\u001b[39m \u001b[39mself\u001b[39m\u001b[39m.\u001b[39m_make_inheritable(c2pwrite)\n\u001b[0;32m   1360\u001b[0m \u001b[39mif\u001b[39;00m stderr \u001b[39mis\u001b[39;00m \u001b[39mNone\u001b[39;00m:\n",
      "\u001b[1;31mValueError\u001b[0m: I/O operation on closed file"
     ]
    }
   ],
   "source": [
    "driver = webdriver.Chrome(service=service, options=options)"
   ]
  },
  {
   "cell_type": "code",
   "execution_count": null,
   "metadata": {},
   "outputs": [],
   "source": [
    "driver.get(\"http://www.google.es\")"
   ]
  },
  {
   "cell_type": "code",
   "execution_count": null,
   "metadata": {},
   "outputs": [],
   "source": [
    "loadMore = driver.find_element(By.XPATH, '/html/body/div[2]/div[3]/div[3]/span/div/div/div/div[3]/div[1]/button[1]/div')"
   ]
  },
  {
   "cell_type": "code",
   "execution_count": null,
   "metadata": {},
   "outputs": [],
   "source": [
    "loadMore.click()"
   ]
  },
  {
   "cell_type": "code",
   "execution_count": null,
   "metadata": {},
   "outputs": [],
   "source": [
    "#aqui ya accedemos a la pagina de Monster Hunter world, de donde sacaremos datos.\n",
    "search_box = driver.find_element(By.XPATH, \"/html/body/div[1]/div[3]/form/div[1]/div[1]/div[1]/div/div[2]/textarea\")\n",
    "url = 'https://steamdb.info/app/1245620/charts/'\n",
    "driver.get(url)"
   ]
  },
  {
   "cell_type": "code",
   "execution_count": null,
   "metadata": {},
   "outputs": [],
   "source": [
    "#Usando la ruta como la tengo, cojo \"toda la cajita\" de datos, una de twitch, jugadores actuales, etc.\n",
    "players = driver.find_element(By.XPATH, \"/html/body/div[4]/div[2]/div[2]/div/div[2]/div[4]/div[5]/div[1]/ul\").text.split(\"\\n\")\n",
    "twitch = driver.find_element(By.XPATH, \"/html/body/div[4]/div[2]/div[2]/div/div[2]/div[4]/div[5]/div[2]/ul\").text.split(\"\\n\")\n",
    "stats = driver.find_element(By.XPATH, \"/html/body/div[4]/div[2]/div[2]/div/div[2]/div[4]/div[5]/div[3]/ul\").text.split(\"\\n\")"
   ]
  },
  {
   "cell_type": "code",
   "execution_count": null,
   "metadata": {},
   "outputs": [
    {
     "data": {
      "text/plain": [
       "['813,299 followers',\n",
       " '#106 in top sellers',\n",
       " '340,488 positive reviews',\n",
       " '52,915 negative reviews',\n",
       " '86.55% positive reviews']"
      ]
     },
     "execution_count": 322,
     "metadata": {},
     "output_type": "execute_result"
    }
   ],
   "source": [
    "#aqui un ejemplo de lo que queda.\n",
    "stats"
   ]
  },
  {
   "cell_type": "code",
   "execution_count": null,
   "metadata": {},
   "outputs": [],
   "source": [
    "#cada lista sera una dataframe, que combinaremos despues.\n",
    "df1 = pd.DataFrame(players,columns=[\"stats\"])\n",
    "df2 = pd.DataFrame(twitch,columns=[\"stats\"])\n",
    "df3 = pd.DataFrame(stats,columns=[\"stats\"])"
   ]
  },
  {
   "cell_type": "code",
   "execution_count": null,
   "metadata": {},
   "outputs": [
    {
     "data": {
      "text/html": [
       "<div>\n",
       "<style scoped>\n",
       "    .dataframe tbody tr th:only-of-type {\n",
       "        vertical-align: middle;\n",
       "    }\n",
       "\n",
       "    .dataframe tbody tr th {\n",
       "        vertical-align: top;\n",
       "    }\n",
       "\n",
       "    .dataframe thead th {\n",
       "        text-align: right;\n",
       "    }\n",
       "</style>\n",
       "<table border=\"1\" class=\"dataframe\">\n",
       "  <thead>\n",
       "    <tr style=\"text-align: right;\">\n",
       "      <th></th>\n",
       "      <th>stats</th>\n",
       "    </tr>\n",
       "  </thead>\n",
       "  <tbody>\n",
       "    <tr>\n",
       "      <th>0</th>\n",
       "      <td>24,748 players live on Steam</td>\n",
       "    </tr>\n",
       "    <tr>\n",
       "      <th>1</th>\n",
       "      <td>35,022 24-hour peak</td>\n",
       "    </tr>\n",
       "    <tr>\n",
       "      <th>2</th>\n",
       "      <td>334,684 all-time peak 5 years ago</td>\n",
       "    </tr>\n",
       "    <tr>\n",
       "      <th>3</th>\n",
       "      <td>637 viewers right now</td>\n",
       "    </tr>\n",
       "    <tr>\n",
       "      <th>4</th>\n",
       "      <td>3,691 24-hour peak</td>\n",
       "    </tr>\n",
       "    <tr>\n",
       "      <th>5</th>\n",
       "      <td>169,921 all-time peak 6 years ago</td>\n",
       "    </tr>\n",
       "    <tr>\n",
       "      <th>6</th>\n",
       "      <td>813,299 followers</td>\n",
       "    </tr>\n",
       "    <tr>\n",
       "      <th>7</th>\n",
       "      <td>#106 in top sellers</td>\n",
       "    </tr>\n",
       "    <tr>\n",
       "      <th>8</th>\n",
       "      <td>340,488 positive reviews</td>\n",
       "    </tr>\n",
       "    <tr>\n",
       "      <th>9</th>\n",
       "      <td>52,915 negative reviews</td>\n",
       "    </tr>\n",
       "    <tr>\n",
       "      <th>10</th>\n",
       "      <td>86.55% positive reviews</td>\n",
       "    </tr>\n",
       "  </tbody>\n",
       "</table>\n",
       "</div>"
      ],
      "text/plain": [
       "                                stats\n",
       "0        24,748 players live on Steam\n",
       "1                 35,022 24-hour peak\n",
       "2   334,684 all-time peak 5 years ago\n",
       "3               637 viewers right now\n",
       "4                  3,691 24-hour peak\n",
       "5   169,921 all-time peak 6 years ago\n",
       "6                   813,299 followers\n",
       "7                 #106 in top sellers\n",
       "8            340,488 positive reviews\n",
       "9             52,915 negative reviews\n",
       "10            86.55% positive reviews"
      ]
     },
     "execution_count": 320,
     "metadata": {},
     "output_type": "execute_result"
    }
   ],
   "source": [
    "#combinamos, reseteamos index y borramos el anterior, para que quede bien ordenado.\n",
    "df4 = pd.concat([df1,df2,df3], join=\"outer\")\n",
    "df4 = df4.reset_index()\n",
    "df4  = df4.drop([\"index\"],axis=1)\n",
    "df4"
   ]
  },
  {
   "cell_type": "code",
   "execution_count": null,
   "metadata": {},
   "outputs": [],
   "source": [
    "#la guardo junto al resto\n",
    "df4.to_csv(\"../../Datos procesados/stats MHW SteamDB.csv\")"
   ]
  }
 ],
 "metadata": {
  "kernelspec": {
   "display_name": "Python 3",
   "language": "python",
   "name": "python3"
  },
  "language_info": {
   "codemirror_mode": {
    "name": "ipython",
    "version": 3
   },
   "file_extension": ".py",
   "mimetype": "text/x-python",
   "name": "python",
   "nbconvert_exporter": "python",
   "pygments_lexer": "ipython3",
   "version": "3.11.3"
  }
 },
 "nbformat": 4,
 "nbformat_minor": 2
}
